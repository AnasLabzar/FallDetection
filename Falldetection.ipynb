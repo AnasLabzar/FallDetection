{
 "cells": [
  {
   "cell_type": "code",
   "execution_count": 1,
   "metadata": {
    "collapsed": false
   },
   "outputs": [
    {
     "name": "stderr",
     "output_type": "stream",
     "text": [
      "/Users/luca/anaconda/lib/python2.7/site-packages/sklearn/cross_validation.py:44: DeprecationWarning: This module was deprecated in version 0.18 in favor of the model_selection module into which all the refactored classes and functions are moved. Also note that the interface of the new CV iterators are different from that of this module. This module will be removed in 0.20.\n",
      "  \"This module will be removed in 0.20.\", DeprecationWarning)\n"
     ]
    }
   ],
   "source": [
    "from __future__ import division\n",
    "\n",
    "import os\n",
    "import pandas as pd\n",
    "import numpy as np\n",
    "import seaborn as sns\n",
    "import matplotlib.pyplot as plt\n",
    "%matplotlib inline\n",
    "\n",
    "import sklearn\n",
    "import xgboost as xgb\n",
    "from xgboost.sklearn import XGBClassifier #this is the SKlearn wrapper\n",
    "from sklearn import neighbors, linear_model\n",
    "from sklearn.ensemble import RandomForestClassifier, AdaBoostClassifier, GradientBoostingClassifier, ExtraTreesClassifier\n",
    "from sklearn.model_selection import KFold, StratifiedKFold, cross_val_score\n",
    "from sklearn.model_selection import GridSearchCV\n",
    "from sklearn import metrics\n",
    "from sklearn.linear_model import ElasticNetCV\n",
    "from sklearn.metrics import roc_curve, auc\n",
    "\n",
    "import scipy.io as sio"
   ]
  },
  {
   "cell_type": "code",
   "execution_count": 2,
   "metadata": {
    "collapsed": false
   },
   "outputs": [],
   "source": [
    "Healthy = pd.read_csv('./Data/Healthy1.csv',header=None)\n",
    "Amp = pd.read_csv('./Data/Amp1.csv',header=None)"
   ]
  },
  {
   "cell_type": "code",
   "execution_count": 3,
   "metadata": {
    "collapsed": false
   },
   "outputs": [],
   "source": [
    "Healthy = Healthy.rename(index=int, columns={0:'SubjID',1:'Loc',2:'Subjtype',3:'Falltype'})\n",
    "Amp = Amp.rename(index=int, columns={0:'SubjID',1:'Loc',2:'Subjtype',3:'Falltype'})"
   ]
  },
  {
   "cell_type": "code",
   "execution_count": 4,
   "metadata": {
    "collapsed": false
   },
   "outputs": [
    {
     "data": {
      "text/html": [
       "<div>\n",
       "<table border=\"1\" class=\"dataframe\">\n",
       "  <thead>\n",
       "    <tr style=\"text-align: right;\">\n",
       "      <th></th>\n",
       "      <th>SubjID</th>\n",
       "      <th>Loc</th>\n",
       "      <th>Subjtype</th>\n",
       "      <th>Falltype</th>\n",
       "      <th>4</th>\n",
       "      <th>5</th>\n",
       "      <th>6</th>\n",
       "      <th>7</th>\n",
       "      <th>8</th>\n",
       "      <th>9</th>\n",
       "      <th>...</th>\n",
       "      <th>1205</th>\n",
       "      <th>1206</th>\n",
       "      <th>1207</th>\n",
       "      <th>1208</th>\n",
       "      <th>1209</th>\n",
       "      <th>1210</th>\n",
       "      <th>1211</th>\n",
       "      <th>1212</th>\n",
       "      <th>1213</th>\n",
       "      <th>1214</th>\n",
       "    </tr>\n",
       "  </thead>\n",
       "  <tbody>\n",
       "    <tr>\n",
       "      <th>0</th>\n",
       "      <td>1</td>\n",
       "      <td>1</td>\n",
       "      <td>1</td>\n",
       "      <td>3</td>\n",
       "      <td>0.132230</td>\n",
       "      <td>0.074660</td>\n",
       "      <td>-0.11889</td>\n",
       "      <td>0.012579</td>\n",
       "      <td>0.049360</td>\n",
       "      <td>0.051680</td>\n",
       "      <td>...</td>\n",
       "      <td>2.2354</td>\n",
       "      <td>4.9977</td>\n",
       "      <td>0.72193</td>\n",
       "      <td>0.78766</td>\n",
       "      <td>0.053909</td>\n",
       "      <td>0.085895</td>\n",
       "      <td>0.071485</td>\n",
       "      <td>0.090722</td>\n",
       "      <td>0.046334</td>\n",
       "      <td>0.127110</td>\n",
       "    </tr>\n",
       "    <tr>\n",
       "      <th>1</th>\n",
       "      <td>1</td>\n",
       "      <td>1</td>\n",
       "      <td>1</td>\n",
       "      <td>3</td>\n",
       "      <td>-0.077828</td>\n",
       "      <td>0.070436</td>\n",
       "      <td>-0.21730</td>\n",
       "      <td>-0.028075</td>\n",
       "      <td>0.042425</td>\n",
       "      <td>0.076308</td>\n",
       "      <td>...</td>\n",
       "      <td>2.2354</td>\n",
       "      <td>4.9974</td>\n",
       "      <td>0.72193</td>\n",
       "      <td>0.80493</td>\n",
       "      <td>0.055249</td>\n",
       "      <td>0.092283</td>\n",
       "      <td>0.096109</td>\n",
       "      <td>0.103440</td>\n",
       "      <td>0.095055</td>\n",
       "      <td>0.080526</td>\n",
       "    </tr>\n",
       "    <tr>\n",
       "      <th>2</th>\n",
       "      <td>1</td>\n",
       "      <td>1</td>\n",
       "      <td>1</td>\n",
       "      <td>3</td>\n",
       "      <td>-0.006114</td>\n",
       "      <td>0.034498</td>\n",
       "      <td>-0.20617</td>\n",
       "      <td>-0.025551</td>\n",
       "      <td>0.034052</td>\n",
       "      <td>0.071821</td>\n",
       "      <td>...</td>\n",
       "      <td>2.2313</td>\n",
       "      <td>4.9824</td>\n",
       "      <td>1.37100</td>\n",
       "      <td>0.81752</td>\n",
       "      <td>0.055180</td>\n",
       "      <td>0.096682</td>\n",
       "      <td>0.093441</td>\n",
       "      <td>0.077564</td>\n",
       "      <td>0.101470</td>\n",
       "      <td>0.067335</td>\n",
       "    </tr>\n",
       "    <tr>\n",
       "      <th>3</th>\n",
       "      <td>1</td>\n",
       "      <td>1</td>\n",
       "      <td>1</td>\n",
       "      <td>4</td>\n",
       "      <td>-0.154480</td>\n",
       "      <td>0.024149</td>\n",
       "      <td>0.31641</td>\n",
       "      <td>-0.031890</td>\n",
       "      <td>0.042762</td>\n",
       "      <td>0.069643</td>\n",
       "      <td>...</td>\n",
       "      <td>2.2358</td>\n",
       "      <td>4.9990</td>\n",
       "      <td>0.72193</td>\n",
       "      <td>0.51662</td>\n",
       "      <td>0.039205</td>\n",
       "      <td>0.099017</td>\n",
       "      <td>0.071918</td>\n",
       "      <td>0.094359</td>\n",
       "      <td>0.072023</td>\n",
       "      <td>0.086206</td>\n",
       "    </tr>\n",
       "    <tr>\n",
       "      <th>4</th>\n",
       "      <td>1</td>\n",
       "      <td>1</td>\n",
       "      <td>1</td>\n",
       "      <td>4</td>\n",
       "      <td>-0.163620</td>\n",
       "      <td>0.023899</td>\n",
       "      <td>0.32266</td>\n",
       "      <td>-0.042376</td>\n",
       "      <td>0.007777</td>\n",
       "      <td>0.056139</td>\n",
       "      <td>...</td>\n",
       "      <td>2.2360</td>\n",
       "      <td>4.9997</td>\n",
       "      <td>0.72193</td>\n",
       "      <td>0.68568</td>\n",
       "      <td>0.048051</td>\n",
       "      <td>0.093172</td>\n",
       "      <td>0.083448</td>\n",
       "      <td>0.118910</td>\n",
       "      <td>0.063367</td>\n",
       "      <td>0.049815</td>\n",
       "    </tr>\n",
       "  </tbody>\n",
       "</table>\n",
       "<p>5 rows × 1215 columns</p>\n",
       "</div>"
      ],
      "text/plain": [
       "   SubjID  Loc  Subjtype  Falltype         4         5        6         7  \\\n",
       "0       1    1         1         3  0.132230  0.074660 -0.11889  0.012579   \n",
       "1       1    1         1         3 -0.077828  0.070436 -0.21730 -0.028075   \n",
       "2       1    1         1         3 -0.006114  0.034498 -0.20617 -0.025551   \n",
       "3       1    1         1         4 -0.154480  0.024149  0.31641 -0.031890   \n",
       "4       1    1         1         4 -0.163620  0.023899  0.32266 -0.042376   \n",
       "\n",
       "          8         9    ...       1205    1206     1207     1208      1209  \\\n",
       "0  0.049360  0.051680    ...     2.2354  4.9977  0.72193  0.78766  0.053909   \n",
       "1  0.042425  0.076308    ...     2.2354  4.9974  0.72193  0.80493  0.055249   \n",
       "2  0.034052  0.071821    ...     2.2313  4.9824  1.37100  0.81752  0.055180   \n",
       "3  0.042762  0.069643    ...     2.2358  4.9990  0.72193  0.51662  0.039205   \n",
       "4  0.007777  0.056139    ...     2.2360  4.9997  0.72193  0.68568  0.048051   \n",
       "\n",
       "       1210      1211      1212      1213      1214  \n",
       "0  0.085895  0.071485  0.090722  0.046334  0.127110  \n",
       "1  0.092283  0.096109  0.103440  0.095055  0.080526  \n",
       "2  0.096682  0.093441  0.077564  0.101470  0.067335  \n",
       "3  0.099017  0.071918  0.094359  0.072023  0.086206  \n",
       "4  0.093172  0.083448  0.118910  0.063367  0.049815  \n",
       "\n",
       "[5 rows x 1215 columns]"
      ]
     },
     "execution_count": 4,
     "metadata": {},
     "output_type": "execute_result"
    }
   ],
   "source": [
    "#Subjtype: 0 = Amputee, 1 = Healthy , 2 = Healthy outdoor\n",
    "Healthy.head(5)"
   ]
  },
  {
   "cell_type": "code",
   "execution_count": 5,
   "metadata": {
    "collapsed": false
   },
   "outputs": [
    {
     "name": "stdout",
     "output_type": "stream",
     "text": [
      "948\n",
      "495\n"
     ]
    }
   ],
   "source": [
    "print len(Healthy)\n",
    "print len(Amp)"
   ]
  },
  {
   "cell_type": "code",
   "execution_count": 9,
   "metadata": {
    "collapsed": false
   },
   "outputs": [
    {
     "name": "stdout",
     "output_type": "stream",
     "text": [
      "N subjects Healthy: 10\n",
      "N subjects Amp: 7\n",
      "[1 2]\n",
      "[0]\n"
     ]
    }
   ],
   "source": [
    "print ('N subjects Healthy: %s'%(len(Healthy.SubjID.unique())))\n",
    "print ('N subjects Amp: %s'%(len(Amp.SubjID.unique())))\n",
    "print Healthy.Subjtype.unique()\n",
    "print Amp.Subjtype.unique()"
   ]
  },
  {
   "cell_type": "code",
   "execution_count": 10,
   "metadata": {
    "collapsed": false
   },
   "outputs": [
    {
     "name": "stdout",
     "output_type": "stream",
     "text": [
      "Nfalls = 633\n",
      "Nactivities = 315\n"
     ]
    }
   ],
   "source": [
    "#Healthy\n",
    "print ('Nfalls = %s')%(len(Healthy[Healthy.Falltype<9]))\n",
    "print ('Nactivities = %s')%(len(Healthy[Healthy.Falltype==9]))"
   ]
  },
  {
   "cell_type": "code",
   "execution_count": 11,
   "metadata": {
    "collapsed": false
   },
   "outputs": [
    {
     "name": "stdout",
     "output_type": "stream",
     "text": [
      "Nfalls = 188\n",
      "Nactivities = 307\n"
     ]
    }
   ],
   "source": [
    "#Amp\n",
    "print ('Nfalls = %s')%(len(Amp[Amp.Falltype<9]))\n",
    "print ('Nactivities = %s')%(len(Amp[Amp.Falltype==9]))"
   ]
  },
  {
   "cell_type": "code",
   "execution_count": 12,
   "metadata": {
    "collapsed": false
   },
   "outputs": [
    {
     "data": {
      "text/html": [
       "<div>\n",
       "<table border=\"1\" class=\"dataframe\">\n",
       "  <thead>\n",
       "    <tr style=\"text-align: right;\">\n",
       "      <th></th>\n",
       "      <th>SubjID</th>\n",
       "      <th>Loc</th>\n",
       "      <th>Subjtype</th>\n",
       "      <th>Falltype</th>\n",
       "    </tr>\n",
       "  </thead>\n",
       "  <tbody>\n",
       "    <tr>\n",
       "      <th>1</th>\n",
       "      <td>1</td>\n",
       "      <td>1</td>\n",
       "      <td>1</td>\n",
       "      <td>3</td>\n",
       "    </tr>\n",
       "    <tr>\n",
       "      <th>2</th>\n",
       "      <td>1</td>\n",
       "      <td>1</td>\n",
       "      <td>1</td>\n",
       "      <td>3</td>\n",
       "    </tr>\n",
       "    <tr>\n",
       "      <th>3</th>\n",
       "      <td>1</td>\n",
       "      <td>1</td>\n",
       "      <td>1</td>\n",
       "      <td>4</td>\n",
       "    </tr>\n",
       "    <tr>\n",
       "      <th>4</th>\n",
       "      <td>1</td>\n",
       "      <td>1</td>\n",
       "      <td>1</td>\n",
       "      <td>4</td>\n",
       "    </tr>\n",
       "  </tbody>\n",
       "</table>\n",
       "</div>"
      ],
      "text/plain": [
       "   SubjID  Loc  Subjtype  Falltype\n",
       "1       1    1         1         3\n",
       "2       1    1         1         3\n",
       "3       1    1         1         4\n",
       "4       1    1         1         4"
      ]
     },
     "execution_count": 12,
     "metadata": {},
     "output_type": "execute_result"
    }
   ],
   "source": [
    "#selecting cols by index\n",
    "Healthy.iloc[1:5, 0:4]"
   ]
  },
  {
   "cell_type": "markdown",
   "metadata": {},
   "source": [
    "### Train on healthy and test on amputees"
   ]
  },
  {
   "cell_type": "code",
   "execution_count": 13,
   "metadata": {
    "collapsed": true
   },
   "outputs": [],
   "source": [
    "#transform to binary class\n",
    "Xtr = Healthy.iloc[:,4:].as_matrix()\n",
    "ytr = Healthy.Falltype.as_matrix()\n",
    "Xte = Amp.iloc[:,4:].as_matrix()\n",
    "yte = Amp.Falltype.as_matrix()\n",
    "ytr[ytr < 9] = 1\n",
    "ytr[ytr == 9] = 0\n",
    "yte[yte < 9] = 1\n",
    "yte[yte == 9] = 0"
   ]
  },
  {
   "cell_type": "code",
   "execution_count": 14,
   "metadata": {
    "collapsed": false
   },
   "outputs": [
    {
     "name": "stdout",
     "output_type": "stream",
     "text": [
      "(948, 1211)\n",
      "[0 1]\n",
      "(495, 1211)\n",
      "[0 1]\n"
     ]
    }
   ],
   "source": [
    "print Xtr.shape\n",
    "print np.unique(ytr)\n",
    "print Xte.shape\n",
    "print np.unique(yte)"
   ]
  },
  {
   "cell_type": "code",
   "execution_count": 15,
   "metadata": {
    "collapsed": false
   },
   "outputs": [
    {
     "data": {
      "text/plain": [
       "RandomForestClassifier(bootstrap=True, class_weight=None, criterion='gini',\n",
       "            max_depth=None, max_features='auto', max_leaf_nodes=None,\n",
       "            min_impurity_split=1e-07, min_samples_leaf=1,\n",
       "            min_samples_split=2, min_weight_fraction_leaf=0.0,\n",
       "            n_estimators=50, n_jobs=1, oob_score=False, random_state=10,\n",
       "            verbose=0, warm_start=False)"
      ]
     },
     "execution_count": 15,
     "metadata": {},
     "output_type": "execute_result"
    }
   ],
   "source": [
    "forest = RandomForestClassifier(n_estimators=50,random_state=10)\n",
    "forest.fit(Xtr,ytr)"
   ]
  },
  {
   "cell_type": "code",
   "execution_count": 16,
   "metadata": {
    "collapsed": false
   },
   "outputs": [
    {
     "name": "stdout",
     "output_type": "stream",
     "text": [
      "[ 0.          0.00019033  0.00010712 ...,  0.00016624  0.00025722  0.        ]\n",
      "[ 0.          0.00093251  0.00067254 ...,  0.00116369  0.00180052  0.        ]\n"
     ]
    }
   ],
   "source": [
    "importance = forest.feature_importances_\n",
    "print(importance)\n",
    "indices = np.argsort(importance)\n",
    "importance_std = np.std([tree.feature_importances_ for tree in forest.estimators_],axis=0)\n",
    "print(importance_std)"
   ]
  },
  {
   "cell_type": "code",
   "execution_count": 17,
   "metadata": {
    "collapsed": true
   },
   "outputs": [],
   "source": [
    "importance_norm = importance/np.max(importance)"
   ]
  },
  {
   "cell_type": "code",
   "execution_count": 18,
   "metadata": {
    "collapsed": false
   },
   "outputs": [
    {
     "data": {
      "text/plain": [
       "<matplotlib.figure.Figure at 0x10fa75d10>"
      ]
     },
     "execution_count": 18,
     "metadata": {},
     "output_type": "execute_result"
    },
    {
     "data": {
      "image/png": "[encoded data removed]",
      "text/plain": [
       "<matplotlib.figure.Figure at 0x1148d1f10>"
      ]
     },
     "metadata": {},
     "output_type": "display_data"
    },
    {
     "data": {
      "text/plain": [
       "<matplotlib.figure.Figure at 0x10fa75d10>"
      ]
     },
     "metadata": {},
     "output_type": "display_data"
    }
   ],
   "source": [
    "#using Seaborn\n",
    "ax = sns.barplot(x=indices,y=importance_norm[indices])\n",
    "sns.set_context(\"paper\")\n",
    "plt.figure(figsize=(8,6))"
   ]
  },
  {
   "cell_type": "code",
   "execution_count": 19,
   "metadata": {
    "collapsed": false
   },
   "outputs": [
    {
     "data": {
      "text/plain": [
       "<matplotlib.figure.Figure at 0x111c7dd10>"
      ]
     },
     "execution_count": 19,
     "metadata": {},
     "output_type": "execute_result"
    },
    {
     "data": {
      "image/png": "[encoded data removed]",
      "text/plain": [
       "<matplotlib.figure.Figure at 0x122711dd0>"
      ]
     },
     "metadata": {},
     "output_type": "display_data"
    },
    {
     "data": {
      "text/plain": [
       "<matplotlib.figure.Figure at 0x111c7dd10>"
      ]
     },
     "metadata": {},
     "output_type": "display_data"
    }
   ],
   "source": [
    "ax = sns.boxplot(importance_norm)\n",
    "plt.figure(figsize=(8,6))"
   ]
  },
  {
   "cell_type": "code",
   "execution_count": 20,
   "metadata": {
    "collapsed": false
   },
   "outputs": [
    {
     "name": "stdout",
     "output_type": "stream",
     "text": [
      "[ 0.00468037]\n"
     ]
    }
   ],
   "source": [
    "qc = np.percentile(importance_norm,[75])\n",
    "print 1.5*qc"
   ]
  },
  {
   "cell_type": "code",
   "execution_count": 21,
   "metadata": {
    "collapsed": false
   },
   "outputs": [
    {
     "name": "stdout",
     "output_type": "stream",
     "text": [
      "39\n",
      "[ 134  137  184  294  300  302  387  569  599  731  732  734  737  738  739\n",
      "  740  742  785  786  894  898  900  905  906  907  946  948 1031 1046 1071\n",
      " 1072 1095 1121 1144 1145 1146 1190 1195 1200]\n"
     ]
    }
   ],
   "source": [
    "#indmax = np.argwhere(importance_norm >= 1.5*qc)\n",
    "indmax = np.argwhere(importance_norm >= 0.1)\n",
    "indmax = indmax.reshape(-1)\n",
    "print len(indmax)\n",
    "print indmax"
   ]
  },
  {
   "cell_type": "code",
   "execution_count": 22,
   "metadata": {
    "collapsed": false
   },
   "outputs": [
    {
     "data": {
      "text/plain": [
       "RandomForestClassifier(bootstrap=True, class_weight=None, criterion='gini',\n",
       "            max_depth=None, max_features='auto', max_leaf_nodes=None,\n",
       "            min_impurity_split=1e-07, min_samples_leaf=1,\n",
       "            min_samples_split=2, min_weight_fraction_leaf=0.0,\n",
       "            n_estimators=50, n_jobs=1, oob_score=False, random_state=10,\n",
       "            verbose=0, warm_start=False)"
      ]
     },
     "execution_count": 22,
     "metadata": {},
     "output_type": "execute_result"
    }
   ],
   "source": [
    "forest = RandomForestClassifier(n_estimators=50,random_state=10,warm_start=False)\n",
    "forest.fit(Xtr[:,indmax],ytr)"
   ]
  },
  {
   "cell_type": "code",
   "execution_count": 23,
   "metadata": {
    "collapsed": false
   },
   "outputs": [],
   "source": [
    "ypred = forest.predict(Xte[:,indmax])\n",
    "yscore = forest.predict_proba(Xte[:,indmax])\n",
    "yscore = yscore[:,1]"
   ]
  },
  {
   "cell_type": "code",
   "execution_count": 24,
   "metadata": {
    "collapsed": false
   },
   "outputs": [
    {
     "name": "stdout",
     "output_type": "stream",
     "text": [
      "Acc = 0.982\n",
      "AUC = 0.997\n"
     ]
    }
   ],
   "source": [
    "acc = np.sum(ypred==yte)/len(ypred)\n",
    "print('Acc = %.3f')%acc\n",
    "fpr, tpr, thresholds = metrics.roc_curve(yte, yscore, pos_label=1)\n",
    "roc_auc = auc(fpr, tpr)\n",
    "print('AUC = %.3f'%roc_auc)"
   ]
  },
  {
   "cell_type": "code",
   "execution_count": 27,
   "metadata": {
    "collapsed": false
   },
   "outputs": [
    {
     "data": {
      "text/plain": [
       "<matplotlib.legend.Legend at 0x122155e50>"
      ]
     },
     "execution_count": 27,
     "metadata": {},
     "output_type": "execute_result"
    },
    {
     "data": {
      "image/png": "[encoded data removed]",
      "text/plain": [
       "<matplotlib.figure.Figure at 0x1223b5810>"
      ]
     },
     "metadata": {},
     "output_type": "display_data"
    }
   ],
   "source": [
    "plt.figure(figsize=(8,6))\n",
    "lw = 2\n",
    "plt.plot(fpr, tpr, color='darkorange',\n",
    "         lw=lw, label='ROC curve (area = %0.3f)' % roc_auc)\n",
    "plt.plot([0, 1], [0, 1], color='navy', lw=lw, linestyle='--')\n",
    "plt.xlim([0.0, 1.0])\n",
    "plt.ylim([0.0, 1.05])\n",
    "plt.xlabel('False Positive Rate')\n",
    "plt.ylabel('True Positive Rate')\n",
    "plt.title('Healthy Amputee - Random forest')\n",
    "plt.legend(loc=\"lower right\")"
   ]
  },
  {
   "cell_type": "code",
   "execution_count": null,
   "metadata": {
    "collapsed": false
   },
   "outputs": [],
   "source": [
    "glmnetCV = ElasticNetCV(l1_ratio=[.1,.5,.7,.9,.95,.99,1],cv=5,random_state=10,verbose=1,normalize=False)\n",
    "glmnetCV.fit(Xtr,ytr)"
   ]
  },
  {
   "cell_type": "markdown",
   "metadata": {},
   "source": [
    "## CV on Healthy"
   ]
  },
  {
   "cell_type": "code",
   "execution_count": 28,
   "metadata": {
    "collapsed": true
   },
   "outputs": [],
   "source": [
    "from sklearn.model_selection import LeaveOneGroupOut"
   ]
  },
  {
   "cell_type": "code",
   "execution_count": 29,
   "metadata": {
    "collapsed": true
   },
   "outputs": [],
   "source": [
    "Healthy = pd.read_csv('./Data/Healthy1.csv',header=None)\n",
    "Amp = pd.read_csv('./Data/Amp1.csv',header=None)\n",
    "Healthy = Healthy.rename(index=int, columns={0:'SubjID',1:'Loc',2:'Subjtype',3:'Falltype'})\n",
    "Amp = Amp.rename(index=int, columns={0:'SubjID',1:'Loc',2:'Subjtype',3:'Falltype'})"
   ]
  },
  {
   "cell_type": "code",
   "execution_count": 30,
   "metadata": {
    "collapsed": false
   },
   "outputs": [
    {
     "name": "stdout",
     "output_type": "stream",
     "text": [
      "[ 1  2  3  4  5  6  7  8  9 10]\n",
      "[ 1  2  4  5  6  7  8  9 10]\n"
     ]
    }
   ],
   "source": [
    "#indoor falls \n",
    "print np.sort(Healthy[Healthy.Subjtype == 1].SubjID.unique())\n",
    "print np.sort(Healthy[Healthy.Subjtype == 2].SubjID.unique())"
   ]
  },
  {
   "cell_type": "code",
   "execution_count": 31,
   "metadata": {
    "collapsed": true
   },
   "outputs": [],
   "source": [
    "#train on indoor test on outdoor\n",
    "#Subjtype: 0 = Amputee, 1 = Healthy , 2 = Healthy outdoor\n",
    "Xin = Healthy[Healthy.Subjtype == 1]\n",
    "Xout = Healthy[Healthy.Subjtype == 2]"
   ]
  },
  {
   "cell_type": "code",
   "execution_count": 32,
   "metadata": {
    "collapsed": false
   },
   "outputs": [
    {
     "data": {
      "text/html": [
       "<div>\n",
       "<table border=\"1\" class=\"dataframe\">\n",
       "  <thead>\n",
       "    <tr style=\"text-align: right;\">\n",
       "      <th></th>\n",
       "      <th>SubjID</th>\n",
       "      <th>Loc</th>\n",
       "      <th>Subjtype</th>\n",
       "      <th>Falltype</th>\n",
       "      <th>4</th>\n",
       "      <th>5</th>\n",
       "      <th>6</th>\n",
       "      <th>7</th>\n",
       "      <th>8</th>\n",
       "      <th>9</th>\n",
       "      <th>...</th>\n",
       "      <th>1205</th>\n",
       "      <th>1206</th>\n",
       "      <th>1207</th>\n",
       "      <th>1208</th>\n",
       "      <th>1209</th>\n",
       "      <th>1210</th>\n",
       "      <th>1211</th>\n",
       "      <th>1212</th>\n",
       "      <th>1213</th>\n",
       "      <th>1214</th>\n",
       "    </tr>\n",
       "  </thead>\n",
       "  <tbody>\n",
       "    <tr>\n",
       "      <th>0</th>\n",
       "      <td>1</td>\n",
       "      <td>1</td>\n",
       "      <td>1</td>\n",
       "      <td>3</td>\n",
       "      <td>0.132230</td>\n",
       "      <td>0.074660</td>\n",
       "      <td>-0.11889</td>\n",
       "      <td>0.012579</td>\n",
       "      <td>0.049360</td>\n",
       "      <td>0.051680</td>\n",
       "      <td>...</td>\n",
       "      <td>2.2354</td>\n",
       "      <td>4.9977</td>\n",
       "      <td>0.72193</td>\n",
       "      <td>0.78766</td>\n",
       "      <td>0.053909</td>\n",
       "      <td>0.085895</td>\n",
       "      <td>0.071485</td>\n",
       "      <td>0.090722</td>\n",
       "      <td>0.046334</td>\n",
       "      <td>0.127110</td>\n",
       "    </tr>\n",
       "    <tr>\n",
       "      <th>1</th>\n",
       "      <td>1</td>\n",
       "      <td>1</td>\n",
       "      <td>1</td>\n",
       "      <td>3</td>\n",
       "      <td>-0.077828</td>\n",
       "      <td>0.070436</td>\n",
       "      <td>-0.21730</td>\n",
       "      <td>-0.028075</td>\n",
       "      <td>0.042425</td>\n",
       "      <td>0.076308</td>\n",
       "      <td>...</td>\n",
       "      <td>2.2354</td>\n",
       "      <td>4.9974</td>\n",
       "      <td>0.72193</td>\n",
       "      <td>0.80493</td>\n",
       "      <td>0.055249</td>\n",
       "      <td>0.092283</td>\n",
       "      <td>0.096109</td>\n",
       "      <td>0.103440</td>\n",
       "      <td>0.095055</td>\n",
       "      <td>0.080526</td>\n",
       "    </tr>\n",
       "    <tr>\n",
       "      <th>2</th>\n",
       "      <td>1</td>\n",
       "      <td>1</td>\n",
       "      <td>1</td>\n",
       "      <td>3</td>\n",
       "      <td>-0.006114</td>\n",
       "      <td>0.034498</td>\n",
       "      <td>-0.20617</td>\n",
       "      <td>-0.025551</td>\n",
       "      <td>0.034052</td>\n",
       "      <td>0.071821</td>\n",
       "      <td>...</td>\n",
       "      <td>2.2313</td>\n",
       "      <td>4.9824</td>\n",
       "      <td>1.37100</td>\n",
       "      <td>0.81752</td>\n",
       "      <td>0.055180</td>\n",
       "      <td>0.096682</td>\n",
       "      <td>0.093441</td>\n",
       "      <td>0.077564</td>\n",
       "      <td>0.101470</td>\n",
       "      <td>0.067335</td>\n",
       "    </tr>\n",
       "    <tr>\n",
       "      <th>3</th>\n",
       "      <td>1</td>\n",
       "      <td>1</td>\n",
       "      <td>1</td>\n",
       "      <td>4</td>\n",
       "      <td>-0.154480</td>\n",
       "      <td>0.024149</td>\n",
       "      <td>0.31641</td>\n",
       "      <td>-0.031890</td>\n",
       "      <td>0.042762</td>\n",
       "      <td>0.069643</td>\n",
       "      <td>...</td>\n",
       "      <td>2.2358</td>\n",
       "      <td>4.9990</td>\n",
       "      <td>0.72193</td>\n",
       "      <td>0.51662</td>\n",
       "      <td>0.039205</td>\n",
       "      <td>0.099017</td>\n",
       "      <td>0.071918</td>\n",
       "      <td>0.094359</td>\n",
       "      <td>0.072023</td>\n",
       "      <td>0.086206</td>\n",
       "    </tr>\n",
       "    <tr>\n",
       "      <th>4</th>\n",
       "      <td>1</td>\n",
       "      <td>1</td>\n",
       "      <td>1</td>\n",
       "      <td>4</td>\n",
       "      <td>-0.163620</td>\n",
       "      <td>0.023899</td>\n",
       "      <td>0.32266</td>\n",
       "      <td>-0.042376</td>\n",
       "      <td>0.007777</td>\n",
       "      <td>0.056139</td>\n",
       "      <td>...</td>\n",
       "      <td>2.2360</td>\n",
       "      <td>4.9997</td>\n",
       "      <td>0.72193</td>\n",
       "      <td>0.68568</td>\n",
       "      <td>0.048051</td>\n",
       "      <td>0.093172</td>\n",
       "      <td>0.083448</td>\n",
       "      <td>0.118910</td>\n",
       "      <td>0.063367</td>\n",
       "      <td>0.049815</td>\n",
       "    </tr>\n",
       "  </tbody>\n",
       "</table>\n",
       "<p>5 rows × 1215 columns</p>\n",
       "</div>"
      ],
      "text/plain": [
       "   SubjID  Loc  Subjtype  Falltype         4         5        6         7  \\\n",
       "0       1    1         1         3  0.132230  0.074660 -0.11889  0.012579   \n",
       "1       1    1         1         3 -0.077828  0.070436 -0.21730 -0.028075   \n",
       "2       1    1         1         3 -0.006114  0.034498 -0.20617 -0.025551   \n",
       "3       1    1         1         4 -0.154480  0.024149  0.31641 -0.031890   \n",
       "4       1    1         1         4 -0.163620  0.023899  0.32266 -0.042376   \n",
       "\n",
       "          8         9    ...       1205    1206     1207     1208      1209  \\\n",
       "0  0.049360  0.051680    ...     2.2354  4.9977  0.72193  0.78766  0.053909   \n",
       "1  0.042425  0.076308    ...     2.2354  4.9974  0.72193  0.80493  0.055249   \n",
       "2  0.034052  0.071821    ...     2.2313  4.9824  1.37100  0.81752  0.055180   \n",
       "3  0.042762  0.069643    ...     2.2358  4.9990  0.72193  0.51662  0.039205   \n",
       "4  0.007777  0.056139    ...     2.2360  4.9997  0.72193  0.68568  0.048051   \n",
       "\n",
       "       1210      1211      1212      1213      1214  \n",
       "0  0.085895  0.071485  0.090722  0.046334  0.127110  \n",
       "1  0.092283  0.096109  0.103440  0.095055  0.080526  \n",
       "2  0.096682  0.093441  0.077564  0.101470  0.067335  \n",
       "3  0.099017  0.071918  0.094359  0.072023  0.086206  \n",
       "4  0.093172  0.083448  0.118910  0.063367  0.049815  \n",
       "\n",
       "[5 rows x 1215 columns]"
      ]
     },
     "execution_count": 32,
     "metadata": {},
     "output_type": "execute_result"
    }
   ],
   "source": [
    "Xin.head(5)"
   ]
  },
  {
   "cell_type": "code",
   "execution_count": 33,
   "metadata": {
    "collapsed": false
   },
   "outputs": [
    {
     "name": "stdout",
     "output_type": "stream",
     "text": [
      "653\n",
      "295\n",
      "[1 2 3 4 9]\n",
      "[1 2 3 4]\n"
     ]
    }
   ],
   "source": [
    "print(len(Xin))\n",
    "print(len(Xout))\n",
    "print(np.sort(Xin.Falltype.unique()))\n",
    "print(np.sort(Xout.Falltype.unique()))"
   ]
  },
  {
   "cell_type": "code",
   "execution_count": 34,
   "metadata": {
    "collapsed": true
   },
   "outputs": [],
   "source": [
    "#LOSO on indoor\n",
    "X = Xin.iloc[:,4:].as_matrix()\n",
    "y = Xin.Falltype.as_matrix()\n",
    "y[y < 9] = 1\n",
    "y[y == 9] = 0"
   ]
  },
  {
   "cell_type": "code",
   "execution_count": 35,
   "metadata": {
    "collapsed": false
   },
   "outputs": [
    {
     "name": "stdout",
     "output_type": "stream",
     "text": [
      "(653, 1211)\n",
      "(653,)\n"
     ]
    }
   ],
   "source": [
    "print X.shape\n",
    "print y.shape"
   ]
  },
  {
   "cell_type": "code",
   "execution_count": 36,
   "metadata": {
    "collapsed": false
   },
   "outputs": [
    {
     "name": "stdout",
     "output_type": "stream",
     "text": [
      "(653,)\n",
      "[ 1  2  3  4  5  6  7  8  9 10]\n"
     ]
    }
   ],
   "source": [
    "groups = Xin.SubjID.as_matrix()\n",
    "print groups.shape\n",
    "print np.unique(groups)"
   ]
  },
  {
   "cell_type": "code",
   "execution_count": 37,
   "metadata": {
    "collapsed": false
   },
   "outputs": [
    {
     "data": {
      "text/plain": [
       "10"
      ]
     },
     "execution_count": 37,
     "metadata": {},
     "output_type": "execute_result"
    }
   ],
   "source": [
    "subj = LeaveOneGroupOut()\n",
    "subj.get_n_splits(X,y,groups)"
   ]
  },
  {
   "cell_type": "code",
   "execution_count": 38,
   "metadata": {
    "collapsed": false
   },
   "outputs": [
    {
     "data": {
      "text/plain": [
       "(653, 1211)"
      ]
     },
     "execution_count": 38,
     "metadata": {},
     "output_type": "execute_result"
    }
   ],
   "source": [
    "X.shape"
   ]
  },
  {
   "cell_type": "code",
   "execution_count": 39,
   "metadata": {
    "collapsed": false
   },
   "outputs": [
    {
     "data": {
      "text/plain": [
       "array([ 134,  137,  184,  294,  300,  302,  387,  569,  599,  731,  732,\n",
       "        734,  737,  738,  739,  740,  742,  785,  786,  894,  898,  900,\n",
       "        905,  906,  907,  946,  948, 1031, 1046, 1071, 1072, 1095, 1121,\n",
       "       1144, 1145, 1146, 1190, 1195, 1200])"
      ]
     },
     "execution_count": 39,
     "metadata": {},
     "output_type": "execute_result"
    }
   ],
   "source": [
    "indmax #602 gyro features + 602 accelerometer"
   ]
  },
  {
   "cell_type": "code",
   "execution_count": 40,
   "metadata": {
    "collapsed": false
   },
   "outputs": [
    {
     "name": "stdout",
     "output_type": "stream",
     "text": [
      "(595, 39)\n",
      "(605, 39)\n",
      "(570, 39)\n",
      "(603, 39)\n",
      "(605, 39)\n",
      "(583, 39)\n",
      "(594, 39)\n",
      "(596, 39)\n",
      "(544, 39)\n",
      "(582, 39)\n"
     ]
    }
   ],
   "source": [
    "for train_index, test_index in subj.split(X, y, groups):\n",
    "    Xtr = X[train_index]\n",
    "    Xtr = Xtr[:,indmax]\n",
    "    print Xtr.shape"
   ]
  },
  {
   "cell_type": "code",
   "execution_count": 41,
   "metadata": {
    "collapsed": false
   },
   "outputs": [
    {
     "name": "stdout",
     "output_type": "stream",
     "text": [
      "(653, 1211)\n",
      "(653,)\n"
     ]
    }
   ],
   "source": [
    "print X.shape\n",
    "print y.shape"
   ]
  },
  {
   "cell_type": "code",
   "execution_count": 45,
   "metadata": {
    "collapsed": false
   },
   "outputs": [
    {
     "name": "stdout",
     "output_type": "stream",
     "text": [
      "AUC = 1.0000\n",
      "AUC = 1.0000\n",
      "AUC = 0.9935\n",
      "AUC = 1.0000\n",
      "AUC = 1.0000\n",
      "AUC = 1.0000\n",
      "AUC = 1.0000\n",
      "AUC = 1.0000\n",
      "AUC = 0.9819\n",
      "AUC = 0.9976\n"
     ]
    },
    {
     "data": {
      "text/plain": [
       "<matplotlib.legend.Legend at 0x1223b58d0>"
      ]
     },
     "execution_count": 45,
     "metadata": {},
     "output_type": "execute_result"
    },
    {
     "data": {
      "image/png": "[encoded data removed]",
      "text/plain": [
       "<matplotlib.figure.Figure at 0x116b45990>"
      ]
     },
     "metadata": {},
     "output_type": "display_data"
    }
   ],
   "source": [
    "AUC_all = []\n",
    "\n",
    "plt.figure(figsize=(8,6))\n",
    "\n",
    "for train_index, test_index in subj.split(X, y, groups):\n",
    "    \n",
    "    Xtr, Xte = X[train_index], X[test_index]\n",
    "    ytr, yte = y[train_index], y[test_index]\n",
    "    \n",
    "    #selct features\n",
    "    #Xtr, Xte = Xtr[:,indmax], Xte[:,indmax]\n",
    "    \n",
    "    forest = RandomForestClassifier(n_estimators=50,random_state=10,warm_start=False)    \n",
    "    forest.fit(Xtr,ytr)\n",
    "    ypred = forest.predict(Xte)\n",
    "    yscore = forest.predict_proba(Xte)\n",
    "    yscore = yscore[:,1]\n",
    "    acc = np.sum(ypred==yte)/len(ypred)\n",
    "    #print('Acc = %.4f')%acc\n",
    "    fpr, tpr, thresholds = metrics.roc_curve(yte, yscore, pos_label=1)\n",
    "    roc_auc = auc(fpr, tpr)\n",
    "    print('AUC = %.4f'%roc_auc)    \n",
    "    AUC_all.append(roc_auc)  \n",
    "    \n",
    "    lw = 2\n",
    "    plt.plot(fpr, tpr, color='darkorange',\n",
    "             lw=lw, label='ROC curve (area = %0.3f)' % roc_auc)\n",
    "    plt.plot([0, 1], [0, 1], color='navy', lw=lw, linestyle='--')\n",
    "\n",
    "plt.xlim([0.0, 1.0])\n",
    "plt.ylim([0.0, 1.05])\n",
    "plt.xlabel('False Positive Rate')\n",
    "plt.ylabel('True Positive Rate')\n",
    "plt.title('Healthy - Random forest')\n",
    "plt.legend(loc=\"lower right\")"
   ]
  },
  {
   "cell_type": "code",
   "execution_count": 46,
   "metadata": {
    "collapsed": false
   },
   "outputs": [
    {
     "name": "stdout",
     "output_type": "stream",
     "text": [
      "mean AUC = 0.997 (+/- 0.011)\n"
     ]
    }
   ],
   "source": [
    "print('mean AUC = %.3f (+/- %0.3f)')%(np.mean(AUC_all),2*np.std(AUC_all))\n"
   ]
  },
  {
   "cell_type": "code",
   "execution_count": 44,
   "metadata": {
    "collapsed": false
   },
   "outputs": [
    {
     "name": "stdout",
     "output_type": "stream",
     "text": [
      "mean AUC (w feature sel) = 0.996 (+/- 0.015)\n"
     ]
    }
   ],
   "source": [
    "print('mean AUC (w feature sel) = %.3f (+/- %0.3f)')%(np.mean(AUC_all),2*np.std(AUC_all))\n"
   ]
  },
  {
   "cell_type": "markdown",
   "metadata": {},
   "source": [
    "## Use jittered data"
   ]
  },
  {
   "cell_type": "code",
   "execution_count": 62,
   "metadata": {
    "collapsed": true
   },
   "outputs": [],
   "source": [
    "Healthy = pd.read_csv('./Data/Healthy10.csv',header=None)\n",
    "Healthy = Healthy.rename(index=int, columns={0:'SubjID',1:'Loc',2:'Subjtype',3:'Falltype'})\n",
    "Amp = pd.read_csv('./Data/Amp10.csv',header=None)\n",
    "Amp = Amp.rename(index=int, columns={0:'SubjID',1:'Loc',2:'Subjtype',3:'Falltype'})"
   ]
  },
  {
   "cell_type": "code",
   "execution_count": 63,
   "metadata": {
    "collapsed": false
   },
   "outputs": [
    {
     "data": {
      "text/html": [
       "<div>\n",
       "<table border=\"1\" class=\"dataframe\">\n",
       "  <thead>\n",
       "    <tr style=\"text-align: right;\">\n",
       "      <th></th>\n",
       "      <th>SubjID</th>\n",
       "      <th>Loc</th>\n",
       "      <th>Subjtype</th>\n",
       "      <th>Falltype</th>\n",
       "      <th>4</th>\n",
       "      <th>5</th>\n",
       "      <th>6</th>\n",
       "      <th>7</th>\n",
       "      <th>8</th>\n",
       "      <th>9</th>\n",
       "      <th>...</th>\n",
       "      <th>1205</th>\n",
       "      <th>1206</th>\n",
       "      <th>1207</th>\n",
       "      <th>1208</th>\n",
       "      <th>1209</th>\n",
       "      <th>1210</th>\n",
       "      <th>1211</th>\n",
       "      <th>1212</th>\n",
       "      <th>1213</th>\n",
       "      <th>1214</th>\n",
       "    </tr>\n",
       "  </thead>\n",
       "  <tbody>\n",
       "    <tr>\n",
       "      <th>0</th>\n",
       "      <td>1</td>\n",
       "      <td>1</td>\n",
       "      <td>1</td>\n",
       "      <td>3</td>\n",
       "      <td>-0.135490</td>\n",
       "      <td>0.023986</td>\n",
       "      <td>-0.22209</td>\n",
       "      <td>-0.034934</td>\n",
       "      <td>0.026296</td>\n",
       "      <td>0.061168</td>\n",
       "      <td>...</td>\n",
       "      <td>1.3975</td>\n",
       "      <td>1.0539</td>\n",
       "      <td>1.371</td>\n",
       "      <td>0.57013</td>\n",
       "      <td>0.042151</td>\n",
       "      <td>0.040205</td>\n",
       "      <td>0.036391</td>\n",
       "      <td>0.082633</td>\n",
       "      <td>0.057698</td>\n",
       "      <td>0.14273</td>\n",
       "    </tr>\n",
       "    <tr>\n",
       "      <th>1</th>\n",
       "      <td>1</td>\n",
       "      <td>1</td>\n",
       "      <td>1</td>\n",
       "      <td>3</td>\n",
       "      <td>-0.116930</td>\n",
       "      <td>0.041788</td>\n",
       "      <td>-0.25966</td>\n",
       "      <td>-0.036706</td>\n",
       "      <td>0.028857</td>\n",
       "      <td>0.069082</td>\n",
       "      <td>...</td>\n",
       "      <td>1.0056</td>\n",
       "      <td>-1.0666</td>\n",
       "      <td>1.371</td>\n",
       "      <td>0.59226</td>\n",
       "      <td>0.044890</td>\n",
       "      <td>0.055954</td>\n",
       "      <td>0.064699</td>\n",
       "      <td>0.077030</td>\n",
       "      <td>0.105940</td>\n",
       "      <td>0.13080</td>\n",
       "    </tr>\n",
       "    <tr>\n",
       "      <th>2</th>\n",
       "      <td>1</td>\n",
       "      <td>1</td>\n",
       "      <td>1</td>\n",
       "      <td>3</td>\n",
       "      <td>-0.095297</td>\n",
       "      <td>-0.009186</td>\n",
       "      <td>-0.26274</td>\n",
       "      <td>-0.031153</td>\n",
       "      <td>0.019380</td>\n",
       "      <td>0.071339</td>\n",
       "      <td>...</td>\n",
       "      <td>1.5987</td>\n",
       "      <td>2.0886</td>\n",
       "      <td>1.371</td>\n",
       "      <td>0.76639</td>\n",
       "      <td>0.050949</td>\n",
       "      <td>0.099145</td>\n",
       "      <td>0.054502</td>\n",
       "      <td>0.070348</td>\n",
       "      <td>0.107280</td>\n",
       "      <td>0.14524</td>\n",
       "    </tr>\n",
       "  </tbody>\n",
       "</table>\n",
       "<p>3 rows × 1215 columns</p>\n",
       "</div>"
      ],
      "text/plain": [
       "   SubjID  Loc  Subjtype  Falltype         4         5        6         7  \\\n",
       "0       1    1         1         3 -0.135490  0.023986 -0.22209 -0.034934   \n",
       "1       1    1         1         3 -0.116930  0.041788 -0.25966 -0.036706   \n",
       "2       1    1         1         3 -0.095297 -0.009186 -0.26274 -0.031153   \n",
       "\n",
       "          8         9   ...       1205    1206   1207     1208      1209  \\\n",
       "0  0.026296  0.061168   ...     1.3975  1.0539  1.371  0.57013  0.042151   \n",
       "1  0.028857  0.069082   ...     1.0056 -1.0666  1.371  0.59226  0.044890   \n",
       "2  0.019380  0.071339   ...     1.5987  2.0886  1.371  0.76639  0.050949   \n",
       "\n",
       "       1210      1211      1212      1213     1214  \n",
       "0  0.040205  0.036391  0.082633  0.057698  0.14273  \n",
       "1  0.055954  0.064699  0.077030  0.105940  0.13080  \n",
       "2  0.099145  0.054502  0.070348  0.107280  0.14524  \n",
       "\n",
       "[3 rows x 1215 columns]"
      ]
     },
     "execution_count": 63,
     "metadata": {},
     "output_type": "execute_result"
    }
   ],
   "source": [
    "Healthy.head(3)"
   ]
  },
  {
   "cell_type": "code",
   "execution_count": 64,
   "metadata": {
    "collapsed": false
   },
   "outputs": [
    {
     "name": "stdout",
     "output_type": "stream",
     "text": [
      "N falls = 6337\n",
      "N act = 315\n",
      "Total = 6652\n"
     ]
    }
   ],
   "source": [
    "print ('N falls = %s'%(len(Healthy[Healthy.Falltype < 9])))\n",
    "print ('N act = %s'%(len(Healthy[Healthy.Falltype == 9]))) #act\n",
    "print ('Total = %s'%len(Healthy))"
   ]
  },
  {
   "cell_type": "code",
   "execution_count": 65,
   "metadata": {
    "collapsed": false
   },
   "outputs": [
    {
     "name": "stdout",
     "output_type": "stream",
     "text": [
      "1873\n",
      "307\n",
      "2180\n"
     ]
    }
   ],
   "source": [
    "print len(Amp[Amp.Falltype < 9])\n",
    "print len(Amp[Amp.Falltype == 9]) #act\n",
    "print len(Amp)"
   ]
  },
  {
   "cell_type": "markdown",
   "metadata": {},
   "source": [
    "### CV on Healthy"
   ]
  },
  {
   "cell_type": "code",
   "execution_count": 55,
   "metadata": {
    "collapsed": false
   },
   "outputs": [
    {
     "name": "stdout",
     "output_type": "stream",
     "text": [
      "(6672,)\n",
      "[ 1  2  3  4  5  6  7  8  9 10]\n"
     ]
    },
    {
     "data": {
      "text/plain": [
       "10"
      ]
     },
     "execution_count": 55,
     "metadata": {},
     "output_type": "execute_result"
    }
   ],
   "source": [
    "X = Healthy.iloc[:,4:].as_matrix()\n",
    "y = Healthy.Falltype.as_matrix()\n",
    "y[y < 9] = 1\n",
    "y[y == 9] = 0\n",
    "groups = Healthy.SubjID.as_matrix()\n",
    "print groups.shape\n",
    "print np.unique(groups)\n",
    "subj = LeaveOneGroupOut()\n",
    "subj.get_n_splits(X,y,groups)"
   ]
  },
  {
   "cell_type": "code",
   "execution_count": 56,
   "metadata": {
    "collapsed": false
   },
   "outputs": [
    {
     "data": {
      "text/plain": [
       "(6672, 1211)"
      ]
     },
     "execution_count": 56,
     "metadata": {},
     "output_type": "execute_result"
    }
   ],
   "source": [
    "X.shape"
   ]
  },
  {
   "cell_type": "code",
   "execution_count": 58,
   "metadata": {
    "collapsed": false
   },
   "outputs": [
    {
     "name": "stdout",
     "output_type": "stream",
     "text": [
      "AUC = 0.9997\n",
      "AUC = 0.9904\n",
      "AUC = 0.9772\n",
      "AUC = 1.0000\n",
      "AUC = 1.0000\n",
      "AUC = 0.9987\n",
      "AUC = 1.0000\n",
      "AUC = 1.0000\n",
      "AUC = 0.9862\n",
      "AUC = 0.9984\n"
     ]
    },
    {
     "data": {
      "text/plain": [
       "<matplotlib.legend.Legend at 0x11c5822d0>"
      ]
     },
     "execution_count": 58,
     "metadata": {},
     "output_type": "execute_result"
    },
    {
     "data": {
      "image/png": "[encoded data removed]",
      "text/plain": [
       "<matplotlib.figure.Figure at 0x11c443490>"
      ]
     },
     "metadata": {},
     "output_type": "display_data"
    }
   ],
   "source": [
    "AUC_all = []; ytrue_all = []; ypred_all = []; fpidx = []\n",
    "tridx = []; teidx = []\n",
    "\n",
    "plt.figure(figsize=(8,6))\n",
    "\n",
    "for train_index, test_index in subj.split(X, y, groups):\n",
    "    \n",
    "    Xtr, Xte = X[train_index], X[test_index]\n",
    "    ytr, yte = y[train_index], y[test_index]\n",
    "    \n",
    "    tridx.append(train_index)\n",
    "    teidx.append(test_index)\n",
    "    #selct features\n",
    "    #Xtr, Xte = Xtr[:,indmax], Xte[:,indmax]\n",
    "    \n",
    "    forest = RandomForestClassifier(n_estimators=50,random_state=10,warm_start=False)    \n",
    "    forest.fit(Xtr,ytr)\n",
    "    ypred = forest.predict(Xte)\n",
    "    ypred_all.append(ypred)\n",
    "    ytrue_all.append(yte)    \n",
    "    yscore = forest.predict_proba(Xte)\n",
    "    yscore = yscore[:,1]\n",
    "    acc = np.sum(ypred==yte)/len(ypred)\n",
    "    fpidx.append(np.where((ypred == 1) & (yte == 0)))\n",
    "    #print('Acc = %.4f')%acc\n",
    "    \n",
    "    fpr, tpr, thresholds = metrics.roc_curve(yte, yscore, pos_label=1)\n",
    "    roc_auc = auc(fpr, tpr)\n",
    "    print('AUC = %.4f'%roc_auc)    \n",
    "    AUC_all.append(roc_auc)  \n",
    "    \n",
    "    lw = 2\n",
    "    plt.plot(fpr, tpr, color='darkorange',\n",
    "             lw=lw, label='ROC curve (area = %0.3f)' % roc_auc)\n",
    "    plt.plot([0, 1], [0, 1], color='navy', lw=lw, linestyle='--')\n",
    "\n",
    "plt.xlim([0.0, 1.0])\n",
    "plt.ylim([0.0, 1.05])\n",
    "plt.xlabel('False Positive Rate')\n",
    "plt.ylabel('True Positive Rate')\n",
    "plt.title('Healthy - Random forest')\n",
    "plt.legend(loc=\"lower right\")"
   ]
  },
  {
   "cell_type": "code",
   "execution_count": 59,
   "metadata": {
    "collapsed": false
   },
   "outputs": [
    {
     "name": "stdout",
     "output_type": "stream",
     "text": [
      "mean AUC = 0.995 (+/- 0.015)\n"
     ]
    }
   ],
   "source": [
    "print('mean AUC = %.3f (+/- %0.3f)')%(np.mean(AUC_all),2*np.std(AUC_all))"
   ]
  },
  {
   "cell_type": "code",
   "execution_count": 60,
   "metadata": {
    "collapsed": true
   },
   "outputs": [],
   "source": [
    "def plot_confusion_matrix(cm, title='Confusion matrix', cmap=plt.cm.Blues):\n",
    "    plt.imshow(cm, interpolation='nearest', cmap=cmap)\n",
    "    plt.title(title)\n",
    "    plt.colorbar()\n",
    "    tick_marks = np.arange(2)\n",
    "    plt.xticks(tick_marks, ['Non-Fall','Fall'], rotation=45)\n",
    "    plt.yticks(tick_marks, ['Non-Fall','Fall'])\n",
    "    plt.tight_layout()\n",
    "    plt.ylabel('True label')\n",
    "    plt.xlabel('Predicted label')\n"
   ]
  },
  {
   "cell_type": "code",
   "execution_count": 61,
   "metadata": {
    "collapsed": false
   },
   "outputs": [
    {
     "name": "stdout",
     "output_type": "stream",
     "text": [
      "[[ 10   2]\n",
      " [  0 720]]\n",
      "[[ 0.83333333  0.16666667]\n",
      " [ 0.          1.        ]]\n"
     ]
    },
    {
     "data": {
      "image/png": "[encoded data removed]",
      "text/plain": [
       "<matplotlib.figure.Figure at 0x122328610>"
      ]
     },
     "metadata": {},
     "output_type": "display_data"
    }
   ],
   "source": [
    "from sklearn.metrics import confusion_matrix\n",
    "cmat = confusion_matrix(ytrue_all[4],ypred_all[4])\n",
    "print cmat\n",
    "totals = cmat.sum(axis=1)\n",
    "totals = totals.T\n",
    "totals = np.expand_dims(totals,axis=1)\n",
    "totals = np.tile(totals,(1,2))\n",
    "cmat_norm = cmat/totals\n",
    "print cmat_norm\n",
    "plot_confusion_matrix(cmat_norm)"
   ]
  },
  {
   "cell_type": "code",
   "execution_count": null,
   "metadata": {
    "collapsed": false
   },
   "outputs": [],
   "source": [
    "teidx[4].shape"
   ]
  },
  {
   "cell_type": "code",
   "execution_count": null,
   "metadata": {
    "collapsed": false
   },
   "outputs": [],
   "source": [
    "len(fpidx[4][0])"
   ]
  },
  {
   "cell_type": "code",
   "execution_count": null,
   "metadata": {
    "collapsed": false
   },
   "outputs": [],
   "source": [
    "fpidx[4][0]"
   ]
  },
  {
   "cell_type": "code",
   "execution_count": null,
   "metadata": {
    "collapsed": false
   },
   "outputs": [],
   "source": [
    "for idx in fpidx[4]:\n",
    "    fpidx4 = teidx[4][idx]"
   ]
  },
  {
   "cell_type": "code",
   "execution_count": null,
   "metadata": {
    "collapsed": false
   },
   "outputs": [],
   "source": [
    "fpidx4"
   ]
  },
  {
   "cell_type": "markdown",
   "metadata": {},
   "source": [
    "### Amputees\n",
    "**Note: SubjID 2 does not have activities**"
   ]
  },
  {
   "cell_type": "code",
   "execution_count": null,
   "metadata": {
    "collapsed": false
   },
   "outputs": [],
   "source": [
    "Amp[Amp.SubjID ==2].Falltype.unique()"
   ]
  },
  {
   "cell_type": "code",
   "execution_count": null,
   "metadata": {
    "collapsed": false
   },
   "outputs": [],
   "source": [
    "Amp = Amp[Amp.SubjID != 2] #drop subj 2"
   ]
  },
  {
   "cell_type": "code",
   "execution_count": null,
   "metadata": {
    "collapsed": false
   },
   "outputs": [],
   "source": [
    "X = Amp.iloc[:,4:].as_matrix()\n",
    "y = Amp.Falltype.as_matrix()\n",
    "y[y < 9] = 1\n",
    "y[y == 9] = 0\n",
    "groups = Amp.SubjID.as_matrix()\n",
    "print groups.shape\n",
    "print np.unique(groups)\n",
    "subj = LeaveOneGroupOut()\n",
    "subj.get_n_splits(X,y,groups)"
   ]
  },
  {
   "cell_type": "code",
   "execution_count": null,
   "metadata": {
    "collapsed": false
   },
   "outputs": [],
   "source": [
    "AUC_all = []\n",
    "\n",
    "plt.figure(figsize=(8,6))\n",
    "\n",
    "for train_index, test_index in subj.split(X, y, groups):\n",
    "    \n",
    "    Xtr, Xte = X[train_index], X[test_index]\n",
    "    ytr, yte = y[train_index], y[test_index]\n",
    "    \n",
    "    #selct features\n",
    "    #Xtr, Xte = Xtr[:,indmax], Xte[:,indmax]\n",
    "    \n",
    "    forest = RandomForestClassifier(n_estimators=50,random_state=10,warm_start=False)    \n",
    "    forest.fit(Xtr,ytr)\n",
    "    ypred = forest.predict(Xte)\n",
    "    yscore = forest.predict_proba(Xte)\n",
    "    yscore = yscore[:,1]\n",
    "    acc = np.sum(ypred==yte)/len(ypred)\n",
    "    #print('Acc = %.4f')%acc\n",
    "    fpr, tpr, thresholds = metrics.roc_curve(yte, yscore, pos_label=1)\n",
    "    roc_auc = auc(fpr, tpr)\n",
    "    print('AUC = %.4f'%roc_auc)    \n",
    "    AUC_all.append(roc_auc)  \n",
    "    \n",
    "    lw = 2\n",
    "    plt.plot(fpr, tpr, color='darkorange',\n",
    "             lw=lw, label='ROC curve (area = %0.3f)' % roc_auc)\n",
    "    plt.plot([0, 1], [0, 1], color='navy', lw=lw, linestyle='--')\n",
    "\n",
    "plt.xlim([0.0, 1.0])\n",
    "plt.ylim([0.0, 1.05])\n",
    "plt.xlabel('False Positive Rate')\n",
    "plt.ylabel('True Positive Rate')\n",
    "plt.title('Amputees - Random forest')\n",
    "plt.legend(loc=\"lower right\")"
   ]
  },
  {
   "cell_type": "code",
   "execution_count": null,
   "metadata": {
    "collapsed": true
   },
   "outputs": [],
   "source": [
    "# try xgboost\n",
    "xgb1 = XGBClassifier(\n",
    " learning_rate =0.1,\n",
    " n_estimators=1000,\n",
    " max_depth=5,\n",
    " min_child_weight=1,\n",
    " gamma=0,\n",
    " subsample=1,\n",
    " colsample_bytree=1,\n",
    " objective= 'binary:logistic',\n",
    " nthread=4,\n",
    " scale_pos_weight=1,\n",
    " seed=10)"
   ]
  },
  {
   "cell_type": "code",
   "execution_count": null,
   "metadata": {
    "collapsed": false
   },
   "outputs": [],
   "source": [
    "#LOSO CV\n",
    "AUC_all = []\n",
    "\n",
    "plt.figure(figsize=(8,6))\n",
    "\n",
    "for train_index, test_index in subj.split(X, y, groups):\n",
    "    \n",
    "    Xtr, Xte = X[train_index], X[test_index]\n",
    "    ytr, yte = y[train_index], y[test_index]\n",
    "    \n",
    "    #selct features\n",
    "    Xtr, Xte = Xtr[:,indmax], Xte[:,indmax]\n",
    "\n",
    "    xgb1.fit(Xtr,ytr)\n",
    "    ypred = xgb1.predict(Xte)\n",
    "    yscore = xgb1.predict_proba(Xte)\n",
    "    yscore = yscore[:,1]\n",
    "    acc = np.sum(ypred==yte)/len(ypred)\n",
    "#    print('Acc = %.4f')%acc\n",
    "    fpr, tpr, thresholds = metrics.roc_curve(yte, yscore, pos_label=1)\n",
    "    roc_auc = auc(fpr, tpr)\n",
    "    print('AUC = %.4f'%roc_auc)    \n",
    "    AUC_all.append(roc_auc)  \n",
    "    \n",
    "    lw = 2\n",
    "    plt.plot(fpr, tpr, color='darkorange',\n",
    "             lw=lw, label='ROC curve (area = %0.3f)' % roc_auc)\n",
    "    plt.plot([0, 1], [0, 1], color='navy', lw=lw, linestyle='--')\n",
    "\n",
    "plt.xlim([0.0, 1.0])\n",
    "plt.ylim([0.0, 1.05])\n",
    "plt.xlabel('False Positive Rate')\n",
    "plt.ylabel('True Positive Rate')\n",
    "plt.title('Healthy - XGboost forest')\n",
    "plt.legend(loc=\"lower right\")"
   ]
  },
  {
   "cell_type": "code",
   "execution_count": null,
   "metadata": {
    "collapsed": false
   },
   "outputs": [],
   "source": [
    "print('mean AUC = %.3f (+/- %0.3f)')%(np.mean(AUC_all),2*np.std(AUC_all))"
   ]
  },
  {
   "cell_type": "markdown",
   "metadata": {},
   "source": [
    "See here on XGBoost params\n",
    "http://xgboost.readthedocs.io/en/latest/parameter.html#general-parameters\n",
    "\n",
    "as well as here\n",
    "https://www.analyticsvidhya.com/blog/2016/03/complete-guide-parameter-tuning-xgboost-with-codes-python/"
   ]
  },
  {
   "cell_type": "code",
   "execution_count": null,
   "metadata": {
    "collapsed": false
   },
   "outputs": [],
   "source": [
    "xgb1.get_params()"
   ]
  },
  {
   "cell_type": "code",
   "execution_count": null,
   "metadata": {
    "collapsed": false
   },
   "outputs": [],
   "source": [
    "xgb1.fit(Xtr,ytr,eval_metric='auc')"
   ]
  },
  {
   "cell_type": "code",
   "execution_count": null,
   "metadata": {
    "collapsed": true
   },
   "outputs": [],
   "source": [
    "pred = xgb1.predict(Xte)"
   ]
  },
  {
   "cell_type": "code",
   "execution_count": null,
   "metadata": {
    "collapsed": true
   },
   "outputs": [],
   "source": [
    "pred_prob = xgb1.predict_proba(Xte)"
   ]
  },
  {
   "cell_type": "code",
   "execution_count": null,
   "metadata": {
    "collapsed": false
   },
   "outputs": [],
   "source": [
    "pred_prob.shape"
   ]
  },
  {
   "cell_type": "code",
   "execution_count": null,
   "metadata": {
    "collapsed": false
   },
   "outputs": [],
   "source": [
    "X = Xin.drop(['SubjID','Loc','Subjtype'],axis=1)\n",
    "X.head(3)"
   ]
  },
  {
   "cell_type": "code",
   "execution_count": null,
   "metadata": {
    "collapsed": true
   },
   "outputs": [],
   "source": [
    "xgtrain = xgb.DMatrix(X,label='Falltype')\n",
    "xgtest = xgb.DMatrix(Xte,label='Falltype')"
   ]
  },
  {
   "cell_type": "code",
   "execution_count": null,
   "metadata": {
    "collapsed": false
   },
   "outputs": [],
   "source": [
    "print xgtrain.num_col()\n",
    "print xgtrain.num_row()\n",
    "print xgtest.num_col()\n",
    "print xgtest.num_row()"
   ]
  },
  {
   "cell_type": "markdown",
   "metadata": {},
   "source": [
    "Look at the clips"
   ]
  },
  {
   "cell_type": "code",
   "execution_count": null,
   "metadata": {
    "collapsed": true
   },
   "outputs": [],
   "source": [
    "labels = sio.loadmat('./Data/accHealthy10.mat')"
   ]
  },
  {
   "cell_type": "code",
   "execution_count": null,
   "metadata": {
    "collapsed": false
   },
   "outputs": [],
   "source": [
    "acc = labels['acc']"
   ]
  },
  {
   "cell_type": "code",
   "execution_count": null,
   "metadata": {
    "collapsed": false
   },
   "outputs": [],
   "source": [
    "acc.shape"
   ]
  },
  {
   "cell_type": "code",
   "execution_count": null,
   "metadata": {
    "collapsed": false
   },
   "outputs": [],
   "source": [
    "i"
   ]
  },
  {
   "cell_type": "code",
   "execution_count": null,
   "metadata": {
    "collapsed": false
   },
   "outputs": [],
   "source": [
    "i = np.random.permutation(fpidx4)\n",
    "i = i[0]\n",
    "a = acc[i][0][:,1:]\n",
    "plt.plot(a)"
   ]
  },
  {
   "cell_type": "code",
   "execution_count": null,
   "metadata": {
    "collapsed": false
   },
   "outputs": [],
   "source": [
    "np.where(Healthy.Falltype == 0)"
   ]
  },
  {
   "cell_type": "code",
   "execution_count": null,
   "metadata": {
    "collapsed": true
   },
   "outputs": [],
   "source": [
    "acc"
   ]
  }
 ],
 "metadata": {
  "kernelspec": {
   "display_name": "Python 2",
   "language": "python",
   "name": "python2"
  },
  "language_info": {
   "codemirror_mode": {
    "name": "ipython",
    "version": 2
   },
   "file_extension": ".py",
   "mimetype": "text/x-python",
   "name": "python",
   "nbconvert_exporter": "python",
   "pygments_lexer": "ipython2",
   "version": "2.7.11"
  }
 },
 "nbformat": 4,
 "nbformat_minor": 0
}
