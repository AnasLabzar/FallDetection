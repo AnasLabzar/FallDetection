{
 "cells": [
  {
   "cell_type": "code",
   "execution_count": 177,
   "metadata": {
    "collapsed": false
   },
   "outputs": [],
   "source": [
    "from __future__ import division\n",
    "\n",
    "import os\n",
    "import pandas as pd\n",
    "import numpy as np\n",
    "import seaborn as sns\n",
    "import matplotlib.pyplot as plt\n",
    "%matplotlib inline\n",
    "\n",
    "import sklearn\n",
    "import xgboost as xgb\n",
    "from xgboost.sklearn import XGBClassifier #this is the SKlearn wrapper\n",
    "from sklearn import neighbors, linear_model\n",
    "from sklearn.ensemble import RandomForestClassifier, AdaBoostClassifier, GradientBoostingClassifier, ExtraTreesClassifier\n",
    "from sklearn.model_selection import KFold, StratifiedKFold, cross_val_score\n",
    "from sklearn.model_selection import GridSearchCV\n",
    "from sklearn import metrics\n",
    "from sklearn.linear_model import ElasticNetCV\n",
    "from sklearn.metrics import roc_curve, auc"
   ]
  },
  {
   "cell_type": "code",
   "execution_count": 112,
   "metadata": {
    "collapsed": false
   },
   "outputs": [],
   "source": [
    "Healthy = pd.read_csv('./Data/Healthy1.csv',header=None)\n",
    "Amp = pd.read_csv('./Data/Amp1.csv',header=None)"
   ]
  },
  {
   "cell_type": "code",
   "execution_count": 113,
   "metadata": {
    "collapsed": false
   },
   "outputs": [],
   "source": [
    "Healthy = Healthy.rename(index=int, columns={0:'SubjID',1:'Loc',2:'Subjtype',3:'Falltype'})\n",
    "Amp = Amp.rename(index=int, columns={0:'SubjID',1:'Loc',2:'Subjtype',3:'Falltype'})"
   ]
  },
  {
   "cell_type": "code",
   "execution_count": 114,
   "metadata": {
    "collapsed": false
   },
   "outputs": [
    {
     "data": {
      "text/html": [
       "<div>\n",
       "<table border=\"1\" class=\"dataframe\">\n",
       "  <thead>\n",
       "    <tr style=\"text-align: right;\">\n",
       "      <th></th>\n",
       "      <th>SubjID</th>\n",
       "      <th>Loc</th>\n",
       "      <th>Subjtype</th>\n",
       "      <th>Falltype</th>\n",
       "      <th>4</th>\n",
       "      <th>5</th>\n",
       "      <th>6</th>\n",
       "      <th>7</th>\n",
       "      <th>8</th>\n",
       "      <th>9</th>\n",
       "      <th>...</th>\n",
       "      <th>1205</th>\n",
       "      <th>1206</th>\n",
       "      <th>1207</th>\n",
       "      <th>1208</th>\n",
       "      <th>1209</th>\n",
       "      <th>1210</th>\n",
       "      <th>1211</th>\n",
       "      <th>1212</th>\n",
       "      <th>1213</th>\n",
       "      <th>1214</th>\n",
       "    </tr>\n",
       "  </thead>\n",
       "  <tbody>\n",
       "    <tr>\n",
       "      <th>0</th>\n",
       "      <td>1</td>\n",
       "      <td>1</td>\n",
       "      <td>1</td>\n",
       "      <td>3</td>\n",
       "      <td>0.132230</td>\n",
       "      <td>0.074660</td>\n",
       "      <td>-0.11889</td>\n",
       "      <td>0.012579</td>\n",
       "      <td>0.049360</td>\n",
       "      <td>0.051680</td>\n",
       "      <td>...</td>\n",
       "      <td>2.2354</td>\n",
       "      <td>4.9977</td>\n",
       "      <td>0.72193</td>\n",
       "      <td>0.78766</td>\n",
       "      <td>0.053909</td>\n",
       "      <td>0.085895</td>\n",
       "      <td>0.071485</td>\n",
       "      <td>0.090722</td>\n",
       "      <td>0.046334</td>\n",
       "      <td>0.127110</td>\n",
       "    </tr>\n",
       "    <tr>\n",
       "      <th>1</th>\n",
       "      <td>1</td>\n",
       "      <td>1</td>\n",
       "      <td>1</td>\n",
       "      <td>3</td>\n",
       "      <td>-0.077828</td>\n",
       "      <td>0.070436</td>\n",
       "      <td>-0.21730</td>\n",
       "      <td>-0.028075</td>\n",
       "      <td>0.042425</td>\n",
       "      <td>0.076308</td>\n",
       "      <td>...</td>\n",
       "      <td>2.2354</td>\n",
       "      <td>4.9974</td>\n",
       "      <td>0.72193</td>\n",
       "      <td>0.80493</td>\n",
       "      <td>0.055249</td>\n",
       "      <td>0.092283</td>\n",
       "      <td>0.096109</td>\n",
       "      <td>0.103440</td>\n",
       "      <td>0.095055</td>\n",
       "      <td>0.080526</td>\n",
       "    </tr>\n",
       "    <tr>\n",
       "      <th>2</th>\n",
       "      <td>1</td>\n",
       "      <td>1</td>\n",
       "      <td>1</td>\n",
       "      <td>3</td>\n",
       "      <td>-0.006114</td>\n",
       "      <td>0.034498</td>\n",
       "      <td>-0.20617</td>\n",
       "      <td>-0.025551</td>\n",
       "      <td>0.034052</td>\n",
       "      <td>0.071821</td>\n",
       "      <td>...</td>\n",
       "      <td>2.2313</td>\n",
       "      <td>4.9824</td>\n",
       "      <td>1.37100</td>\n",
       "      <td>0.81752</td>\n",
       "      <td>0.055180</td>\n",
       "      <td>0.096682</td>\n",
       "      <td>0.093441</td>\n",
       "      <td>0.077564</td>\n",
       "      <td>0.101470</td>\n",
       "      <td>0.067335</td>\n",
       "    </tr>\n",
       "    <tr>\n",
       "      <th>3</th>\n",
       "      <td>1</td>\n",
       "      <td>1</td>\n",
       "      <td>1</td>\n",
       "      <td>4</td>\n",
       "      <td>-0.154480</td>\n",
       "      <td>0.024149</td>\n",
       "      <td>0.31641</td>\n",
       "      <td>-0.031890</td>\n",
       "      <td>0.042762</td>\n",
       "      <td>0.069643</td>\n",
       "      <td>...</td>\n",
       "      <td>2.2358</td>\n",
       "      <td>4.9990</td>\n",
       "      <td>0.72193</td>\n",
       "      <td>0.51662</td>\n",
       "      <td>0.039205</td>\n",
       "      <td>0.099017</td>\n",
       "      <td>0.071918</td>\n",
       "      <td>0.094359</td>\n",
       "      <td>0.072023</td>\n",
       "      <td>0.086206</td>\n",
       "    </tr>\n",
       "    <tr>\n",
       "      <th>4</th>\n",
       "      <td>1</td>\n",
       "      <td>1</td>\n",
       "      <td>1</td>\n",
       "      <td>4</td>\n",
       "      <td>-0.163620</td>\n",
       "      <td>0.023899</td>\n",
       "      <td>0.32266</td>\n",
       "      <td>-0.042376</td>\n",
       "      <td>0.007777</td>\n",
       "      <td>0.056139</td>\n",
       "      <td>...</td>\n",
       "      <td>2.2360</td>\n",
       "      <td>4.9997</td>\n",
       "      <td>0.72193</td>\n",
       "      <td>0.68568</td>\n",
       "      <td>0.048051</td>\n",
       "      <td>0.093172</td>\n",
       "      <td>0.083448</td>\n",
       "      <td>0.118910</td>\n",
       "      <td>0.063367</td>\n",
       "      <td>0.049815</td>\n",
       "    </tr>\n",
       "  </tbody>\n",
       "</table>\n",
       "<p>5 rows × 1215 columns</p>\n",
       "</div>"
      ],
      "text/plain": [
       "   SubjID  Loc  Subjtype  Falltype         4         5        6         7  \\\n",
       "0       1    1         1         3  0.132230  0.074660 -0.11889  0.012579   \n",
       "1       1    1         1         3 -0.077828  0.070436 -0.21730 -0.028075   \n",
       "2       1    1         1         3 -0.006114  0.034498 -0.20617 -0.025551   \n",
       "3       1    1         1         4 -0.154480  0.024149  0.31641 -0.031890   \n",
       "4       1    1         1         4 -0.163620  0.023899  0.32266 -0.042376   \n",
       "\n",
       "          8         9    ...       1205    1206     1207     1208      1209  \\\n",
       "0  0.049360  0.051680    ...     2.2354  4.9977  0.72193  0.78766  0.053909   \n",
       "1  0.042425  0.076308    ...     2.2354  4.9974  0.72193  0.80493  0.055249   \n",
       "2  0.034052  0.071821    ...     2.2313  4.9824  1.37100  0.81752  0.055180   \n",
       "3  0.042762  0.069643    ...     2.2358  4.9990  0.72193  0.51662  0.039205   \n",
       "4  0.007777  0.056139    ...     2.2360  4.9997  0.72193  0.68568  0.048051   \n",
       "\n",
       "       1210      1211      1212      1213      1214  \n",
       "0  0.085895  0.071485  0.090722  0.046334  0.127110  \n",
       "1  0.092283  0.096109  0.103440  0.095055  0.080526  \n",
       "2  0.096682  0.093441  0.077564  0.101470  0.067335  \n",
       "3  0.099017  0.071918  0.094359  0.072023  0.086206  \n",
       "4  0.093172  0.083448  0.118910  0.063367  0.049815  \n",
       "\n",
       "[5 rows x 1215 columns]"
      ]
     },
     "execution_count": 114,
     "metadata": {},
     "output_type": "execute_result"
    }
   ],
   "source": [
    "Healthy.head(5)"
   ]
  },
  {
   "cell_type": "code",
   "execution_count": 115,
   "metadata": {
    "collapsed": false
   },
   "outputs": [
    {
     "name": "stdout",
     "output_type": "stream",
     "text": [
      "1114\n",
      "495\n"
     ]
    }
   ],
   "source": [
    "print len(Healthy)\n",
    "print len(Amp)"
   ]
  },
  {
   "cell_type": "code",
   "execution_count": 116,
   "metadata": {
    "collapsed": false
   },
   "outputs": [
    {
     "name": "stdout",
     "output_type": "stream",
     "text": [
      "10\n",
      "7\n",
      "[1]\n",
      "[0]\n"
     ]
    }
   ],
   "source": [
    "print len(Healthy.SubjID.unique())\n",
    "print len(Amp.SubjID.unique())\n",
    "print Healthy.Subjtype.unique()\n",
    "print Amp.Subjtype.unique()"
   ]
  },
  {
   "cell_type": "code",
   "execution_count": 117,
   "metadata": {
    "collapsed": false
   },
   "outputs": [
    {
     "name": "stdout",
     "output_type": "stream",
     "text": [
      "Nfalls = 628\n",
      "Nactivities = 486\n"
     ]
    }
   ],
   "source": [
    "#Healthy\n",
    "print ('Nfalls = %s')%(len(Healthy[Healthy.Falltype<9]))\n",
    "print ('Nactivities = %s')%(len(Healthy[Healthy.Falltype==9]))"
   ]
  },
  {
   "cell_type": "code",
   "execution_count": 118,
   "metadata": {
    "collapsed": false
   },
   "outputs": [
    {
     "name": "stdout",
     "output_type": "stream",
     "text": [
      "Nfalls = 188\n",
      "Nactivities = 307\n"
     ]
    }
   ],
   "source": [
    "#Amp\n",
    "print ('Nfalls = %s')%(len(Amp[Amp.Falltype<9]))\n",
    "print ('Nactivities = %s')%(len(Amp[Amp.Falltype==9]))"
   ]
  },
  {
   "cell_type": "code",
   "execution_count": 119,
   "metadata": {
    "collapsed": true
   },
   "outputs": [],
   "source": [
    "#transform to binary class\n",
    "#Healthy.Falltype.apply(lambda x: x<9 ) "
   ]
  },
  {
   "cell_type": "code",
   "execution_count": 120,
   "metadata": {
    "collapsed": false
   },
   "outputs": [
    {
     "data": {
      "text/html": [
       "<div>\n",
       "<table border=\"1\" class=\"dataframe\">\n",
       "  <thead>\n",
       "    <tr style=\"text-align: right;\">\n",
       "      <th></th>\n",
       "      <th>SubjID</th>\n",
       "      <th>Loc</th>\n",
       "      <th>Subjtype</th>\n",
       "      <th>Falltype</th>\n",
       "    </tr>\n",
       "  </thead>\n",
       "  <tbody>\n",
       "    <tr>\n",
       "      <th>1</th>\n",
       "      <td>1</td>\n",
       "      <td>1</td>\n",
       "      <td>1</td>\n",
       "      <td>3</td>\n",
       "    </tr>\n",
       "    <tr>\n",
       "      <th>2</th>\n",
       "      <td>1</td>\n",
       "      <td>1</td>\n",
       "      <td>1</td>\n",
       "      <td>3</td>\n",
       "    </tr>\n",
       "    <tr>\n",
       "      <th>3</th>\n",
       "      <td>1</td>\n",
       "      <td>1</td>\n",
       "      <td>1</td>\n",
       "      <td>4</td>\n",
       "    </tr>\n",
       "    <tr>\n",
       "      <th>4</th>\n",
       "      <td>1</td>\n",
       "      <td>1</td>\n",
       "      <td>1</td>\n",
       "      <td>4</td>\n",
       "    </tr>\n",
       "  </tbody>\n",
       "</table>\n",
       "</div>"
      ],
      "text/plain": [
       "   SubjID  Loc  Subjtype  Falltype\n",
       "1       1    1         1         3\n",
       "2       1    1         1         3\n",
       "3       1    1         1         4\n",
       "4       1    1         1         4"
      ]
     },
     "execution_count": 120,
     "metadata": {},
     "output_type": "execute_result"
    }
   ],
   "source": [
    "#selecting cols by index\n",
    "Healthy.iloc[1:5, 0:4]"
   ]
  },
  {
   "cell_type": "markdown",
   "metadata": {},
   "source": [
    "### Train on healthy and test on amputees"
   ]
  },
  {
   "cell_type": "code",
   "execution_count": 121,
   "metadata": {
    "collapsed": true
   },
   "outputs": [],
   "source": [
    "#transform to binary class\n",
    "Xtr = Healthy.iloc[:,5:].as_matrix()\n",
    "ytr = Healthy.Falltype.as_matrix()\n",
    "Xte = Amp.iloc[:,5:].as_matrix()\n",
    "yte = Amp.Falltype.as_matrix()"
   ]
  },
  {
   "cell_type": "code",
   "execution_count": 122,
   "metadata": {
    "collapsed": false
   },
   "outputs": [],
   "source": [
    "ytr[ytr < 9] = 1\n",
    "ytr[ytr == 9] = 0\n",
    "yte[yte < 9] = 1\n",
    "yte[yte == 9] = 0"
   ]
  },
  {
   "cell_type": "code",
   "execution_count": 123,
   "metadata": {
    "collapsed": false
   },
   "outputs": [
    {
     "name": "stdout",
     "output_type": "stream",
     "text": [
      "(1114, 1210)\n",
      "[0 1]\n",
      "(495, 1210)\n",
      "[0 1]\n"
     ]
    }
   ],
   "source": [
    "print Xtr.shape\n",
    "print np.unique(ytr)\n",
    "print Xte.shape\n",
    "print np.unique(yte)"
   ]
  },
  {
   "cell_type": "code",
   "execution_count": 124,
   "metadata": {
    "collapsed": false
   },
   "outputs": [
    {
     "data": {
      "text/plain": [
       "RandomForestClassifier(bootstrap=True, class_weight=None, criterion='gini',\n",
       "            max_depth=None, max_features='auto', max_leaf_nodes=None,\n",
       "            min_impurity_split=1e-07, min_samples_leaf=1,\n",
       "            min_samples_split=2, min_weight_fraction_leaf=0.0,\n",
       "            n_estimators=50, n_jobs=1, oob_score=False, random_state=10,\n",
       "            verbose=0, warm_start=False)"
      ]
     },
     "execution_count": 124,
     "metadata": {},
     "output_type": "execute_result"
    }
   ],
   "source": [
    "forest = RandomForestClassifier(n_estimators=50,random_state=10)\n",
    "forest.fit(Xtr,ytr)"
   ]
  },
  {
   "cell_type": "code",
   "execution_count": 125,
   "metadata": {
    "collapsed": false
   },
   "outputs": [
    {
     "name": "stdout",
     "output_type": "stream",
     "text": [
      "[ 0.00024631  0.          0.00010011 ...,  0.00019244  0.00021533\n",
      "  0.00013573]\n",
      "[ 0.00134585  0.          0.00051167 ...,  0.00097597  0.00101868\n",
      "  0.00095013]\n"
     ]
    }
   ],
   "source": [
    "importance = forest.feature_importances_\n",
    "print(importance)\n",
    "indices = np.argsort(importance)\n",
    "importance_std = np.std([tree.feature_importances_ for tree in forest.estimators_],axis=0)\n",
    "print(importance_std)"
   ]
  },
  {
   "cell_type": "code",
   "execution_count": 127,
   "metadata": {
    "collapsed": true
   },
   "outputs": [],
   "source": [
    "importance_norm = importance/np.max(importance)"
   ]
  },
  {
   "cell_type": "code",
   "execution_count": 129,
   "metadata": {
    "collapsed": false
   },
   "outputs": [
    {
     "data": {
      "text/plain": [
       "<matplotlib.figure.Figure at 0x132520c10>"
      ]
     },
     "execution_count": 129,
     "metadata": {},
     "output_type": "execute_result"
    },
    {
     "data": {
      "image/png": "[encoded data removed]",
      "text/plain": [
       "<matplotlib.figure.Figure at 0x13052c810>"
      ]
     },
     "metadata": {},
     "output_type": "display_data"
    },
    {
     "data": {
      "text/plain": [
       "<matplotlib.figure.Figure at 0x132520c10>"
      ]
     },
     "metadata": {},
     "output_type": "display_data"
    }
   ],
   "source": [
    "#using Seaborn\n",
    "ax = sns.barplot(x=indices,y=importance_norm[indices])\n",
    "sns.set_context(\"paper\")\n",
    "plt.figure(figsize=(8,6))"
   ]
  },
  {
   "cell_type": "code",
   "execution_count": 130,
   "metadata": {
    "collapsed": false
   },
   "outputs": [
    {
     "data": {
      "text/plain": [
       "<matplotlib.figure.Figure at 0x123cf5a90>"
      ]
     },
     "execution_count": 130,
     "metadata": {},
     "output_type": "execute_result"
    },
    {
     "data": {
      "image/png": "[encoded data removed]",
      "text/plain": [
       "<matplotlib.figure.Figure at 0x122e73f50>"
      ]
     },
     "metadata": {},
     "output_type": "display_data"
    },
    {
     "data": {
      "text/plain": [
       "<matplotlib.figure.Figure at 0x123cf5a90>"
      ]
     },
     "metadata": {},
     "output_type": "display_data"
    }
   ],
   "source": [
    "ax = sns.boxplot(importance_norm)\n",
    "plt.figure(figsize=(8,6))"
   ]
  },
  {
   "cell_type": "code",
   "execution_count": 154,
   "metadata": {
    "collapsed": false
   },
   "outputs": [
    {
     "data": {
      "text/plain": [
       "47"
      ]
     },
     "execution_count": 154,
     "metadata": {},
     "output_type": "execute_result"
    }
   ],
   "source": [
    "qc = np.percentile(importance_norm,[75])\n",
    "#indmax = np.argwhere(importance_norm >= 1.5*qc)\n",
    "indmax = np.argwhere(importance_norm >= 0.1)\n",
    "indmax = indmax.reshape(-1)\n",
    "len(indmax)"
   ]
  },
  {
   "cell_type": "code",
   "execution_count": 155,
   "metadata": {
    "collapsed": false
   },
   "outputs": [
    {
     "data": {
      "text/plain": [
       "RandomForestClassifier(bootstrap=True, class_weight=None, criterion='gini',\n",
       "            max_depth=None, max_features='auto', max_leaf_nodes=None,\n",
       "            min_impurity_split=1e-07, min_samples_leaf=1,\n",
       "            min_samples_split=2, min_weight_fraction_leaf=0.0,\n",
       "            n_estimators=50, n_jobs=1, oob_score=False, random_state=10,\n",
       "            verbose=0, warm_start=False)"
      ]
     },
     "execution_count": 155,
     "metadata": {},
     "output_type": "execute_result"
    }
   ],
   "source": [
    "forest = RandomForestClassifier(n_estimators=50,random_state=10,warm_start=False)\n",
    "forest.fit(Xtr[:,indmax],ytr)"
   ]
  },
  {
   "cell_type": "code",
   "execution_count": 167,
   "metadata": {
    "collapsed": false
   },
   "outputs": [],
   "source": [
    "ypred = forest.predict(Xte[:,indmax])\n",
    "yscore = forest.predict_proba(Xte[:,indmax])\n",
    "yscore = yscore[:,1]"
   ]
  },
  {
   "cell_type": "code",
   "execution_count": 168,
   "metadata": {
    "collapsed": false
   },
   "outputs": [
    {
     "name": "stdout",
     "output_type": "stream",
     "text": [
      "0.965656565657\n"
     ]
    }
   ],
   "source": [
    "acc = np.sum(ypred==yte)/len(ypred)\n",
    "print acc"
   ]
  },
  {
   "cell_type": "code",
   "execution_count": 179,
   "metadata": {
    "collapsed": false
   },
   "outputs": [
    {
     "name": "stdout",
     "output_type": "stream",
     "text": [
      "AUC = 0.996274863123\n"
     ]
    }
   ],
   "source": [
    "fpr, tpr, thresholds = metrics.roc_curve(yte, yscore, pos_label=1)\n",
    "roc_auc = auc(fpr, tpr)\n",
    "print('AUC = %s'%roc_auc)"
   ]
  },
  {
   "cell_type": "code",
   "execution_count": 183,
   "metadata": {
    "collapsed": false
   },
   "outputs": [
    {
     "data": {
      "text/plain": [
       "<matplotlib.legend.Legend at 0x130223790>"
      ]
     },
     "execution_count": 183,
     "metadata": {},
     "output_type": "execute_result"
    },
    {
     "data": {
      "image/png": "[encoded data removed]",
      "text/plain": [
       "<matplotlib.figure.Figure at 0x12f474810>"
      ]
     },
     "metadata": {},
     "output_type": "display_data"
    }
   ],
   "source": [
    "plt.figure(figsize=(8,6))\n",
    "lw = 2\n",
    "plt.plot(fpr, tpr, color='darkorange',\n",
    "         lw=lw, label='ROC curve (area = %0.3f)' % roc_auc)\n",
    "plt.plot([0, 1], [0, 1], color='navy', lw=lw, linestyle='--')\n",
    "plt.xlim([0.0, 1.0])\n",
    "plt.ylim([0.0, 1.05])\n",
    "plt.xlabel('False Positive Rate')\n",
    "plt.ylabel('True Positive Rate')\n",
    "plt.title('Healthy Amputee - Random forest')\n",
    "plt.legend(loc=\"lower right\")"
   ]
  },
  {
   "cell_type": "code",
   "execution_count": 57,
   "metadata": {
    "collapsed": true
   },
   "outputs": [],
   "source": [
    "glmnetCV = ElasticNetCV(l1_ratio=[.1,.5,.7,.9,.95,.99,1],cv=5,random_state=10,verbose=1,normalize=False)"
   ]
  },
  {
   "cell_type": "code",
   "execution_count": null,
   "metadata": {
    "collapsed": false
   },
   "outputs": [],
   "source": [
    "glmnetCV.fit(Xtr,ytr)"
   ]
  },
  {
   "cell_type": "code",
   "execution_count": null,
   "metadata": {
    "collapsed": true
   },
   "outputs": [],
   "source": []
  }
 ],
 "metadata": {
  "kernelspec": {
   "display_name": "Python 2",
   "language": "python",
   "name": "python2"
  },
  "language_info": {
   "codemirror_mode": {
    "name": "ipython",
    "version": 2
   },
   "file_extension": ".py",
   "mimetype": "text/x-python",
   "name": "python",
   "nbconvert_exporter": "python",
   "pygments_lexer": "ipython2",
   "version": "2.7.11"
  }
 },
 "nbformat": 4,
 "nbformat_minor": 0
}
