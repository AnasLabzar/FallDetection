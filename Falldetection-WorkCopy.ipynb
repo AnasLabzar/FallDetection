{
 "cells": [
  {
   "cell_type": "code",
   "execution_count": 1079,
   "metadata": {
    "collapsed": false
   },
   "outputs": [],
   "source": [
    "from __future__ import division\n",
    "\n",
    "import os\n",
    "import math\n",
    "import pandas as pd\n",
    "import numpy as np\n",
    "import seaborn as sns\n",
    "import matplotlib.pyplot as plt\n",
    "%matplotlib inline\n",
    "\n",
    "import sklearn\n",
    "#import xgboost as xgb\n",
    "#from xgboost.sklearn import XGBClassifier #this is the SKlearn wrapper\n",
    "from sklearn import neighbors, linear_model\n",
    "from sklearn.ensemble import RandomForestClassifier, AdaBoostClassifier, GradientBoostingClassifier, ExtraTreesClassifier\n",
    "from sklearn.model_selection import KFold, StratifiedKFold, cross_val_score\n",
    "from sklearn.model_selection import GridSearchCV\n",
    "from sklearn import metrics\n",
    "from sklearn.linear_model import ElasticNetCV\n",
    "from sklearn.metrics import roc_curve, auc\n",
    "\n",
    "import scipy.io as sio\n",
    "import scipy.stats as stats"
   ]
  },
  {
   "cell_type": "markdown",
   "metadata": {},
   "source": [
    "### Helper fcns"
   ]
  },
  {
   "cell_type": "code",
   "execution_count": 1080,
   "metadata": {
    "collapsed": false
   },
   "outputs": [],
   "source": [
    "from sklearn.metrics import confusion_matrix\n",
    "\n",
    "def plot_confusion_matrix(cm, title='Confusion matrix', cmap=plt.cm.Blues, norm=True):\n",
    "\n",
    "    if norm:\n",
    "        totals = cmat.sum(axis=1)\n",
    "        totals = totals.T\n",
    "        totals = np.expand_dims(totals,axis=1)\n",
    "        totals = np.tile(totals,(1,2))\n",
    "        cmat_norm = cmat/totals\n",
    "        print(cmat_norm)\n",
    "        cm = cmat_norm\n",
    "\n",
    "    plt.imshow(cm, interpolation='nearest', cmap=cmap)\n",
    "    plt.title(title)\n",
    "    plt.colorbar()\n",
    "    tick_marks = np.arange(2)\n",
    "    plt.xticks(tick_marks, ['Non-Fall','Fall'], rotation=45)\n",
    "    plt.yticks(tick_marks, ['Non-Fall','Fall'])\n",
    "    plt.tight_layout()\n",
    "    plt.ylabel('True label')\n",
    "    plt.xlabel('Predicted label')"
   ]
  },
  {
   "cell_type": "code",
   "execution_count": 1081,
   "metadata": {
    "collapsed": false
   },
   "outputs": [],
   "source": [
    "def LOSOCV(X,y,data):\n",
    "\n",
    "    AUC_all=[]; fpr_all=[]; tpr_all=[]; Sens_all=[]; Spec_all=[]\n",
    "    thr = np.linspace(0,1,21)\n",
    "    thr = thr[::-1]\n",
    "\n",
    "    plt.figure(figsize=(8,6))\n",
    "\n",
    "    TTPR_all, TFPR_all = [], []\n",
    "    \n",
    "    for train_index, test_index in subj.split(X, y, groups):\n",
    "        Dtr = data.iloc[train_index]\n",
    "        Dte = data.iloc[test_index]\n",
    "        \n",
    "        SensT, SpecT = ThresholdClass(Dtr,Dte)\n",
    "        TTPR_all.append(SensT)\n",
    "        TFPR_all.append(1-SpecT)\n",
    "        \n",
    "        Xtr, Xte = X[train_index], X[test_index]\n",
    "        ytr, yte = y[train_index], y[test_index]\n",
    "        \n",
    "        #selct features\n",
    "        Xtr, Xte = Xtr[:,indmax], Xte[:,indmax]\n",
    "\n",
    "        forest = RandomForestClassifier(n_estimators=50,random_state=10,warm_start=False,class_weight=None)    \n",
    "        forest.fit(Xtr,ytr)\n",
    "        ypred = forest.predict(Xte)\n",
    "        yscore = forest.predict_proba(Xte)\n",
    "        yscore = yscore[:,1]\n",
    "\n",
    "        #acc = np.sum(ypred==yte)/len(ypred)\n",
    "        #print('Acc = %.4f')%acc\n",
    "\n",
    "    #    fpr, tpr, thresholds = metrics.roc_curve(yte, yscore, pos_label=1,drop_intermediate=False\n",
    "        #compute ROC at fixed fpr (to plot error bars)\n",
    "        fpr=np.linspace(0,1,101); tpr=[]\n",
    "        nscores = np.sort(np.column_stack((yscore[yte==0],yte[yte==0])),axis=0)\n",
    "        neg_counts = sum(yte==0)\n",
    "        for f in fpr:\n",
    "            ind = neg_counts-int(neg_counts*f)-1\n",
    "            t = (nscores[ind])[0]\n",
    "            if f==1:\n",
    "                t = 0\n",
    "            tpr_t = sum(yscore[yte==1]>t) / sum(yte==1)\n",
    "            tpr.append(tpr_t) \n",
    "\n",
    "        fpr = np.asarray(fpr); tpr = np.asarray(tpr)\n",
    "        roc_auc = auc(fpr, tpr)\n",
    "        \n",
    "        #compute Sens and Spec\n",
    "        #Sens = sum((ypred==1) & (yte==1)) / sum(yte==1); Spec = 1-sum((ypred==1) & (yte==0)) / sum(yte==0)\n",
    "        ind = np.argmax(tpr-fpr)\n",
    "        Sens = tpr[ind]\n",
    "        Spec = 1-fpr[ind]\n",
    "        \n",
    "        print('AUC = %.4f, Sens = %.4f, Spec = %.4f'%(roc_auc,Sens,Spec))    \n",
    "        AUC_all.append(roc_auc)\n",
    "        tpr_all.append(tpr); fpr_all=fpr;\n",
    "        Sens_all.append(Sens); Spec_all.append(Spec)\n",
    "\n",
    "        #plot each individual ROC\n",
    "    #     lw = 2\n",
    "    #     plt.plot(fpr, tpr, color='darkorange',\n",
    "    #              lw=lw, label='ROC curve (area = %0.3f)' % roc_auc)\n",
    "    #     plt.plot([0, 1], [0, 1], color='navy', lw=lw, linestyle='--')\n",
    "\n",
    "    # plt.xlim([-0.05, 1.0])\n",
    "    # plt.ylim([0.0, 1.05])\n",
    "    # plt.xlabel('False Positive Rate')\n",
    "    # plt.ylabel('True Positive Rate')\n",
    "    # plt.title('Healthy-Healthy')\n",
    "    #plt.legend(loc=\"lower right\")\n",
    "\n",
    "    #summary results\n",
    "    print(('mean AUC = %.3f (+/- %0.3f)')%(np.mean(AUC_all),2*np.std(AUC_all)))\n",
    "    print(('mean Sens = %.3f (+/- %0.3f)')%(np.mean(Sens_all),2*np.std(Sens_all)))\n",
    "    print(('mean Spec = %.3f (+/- %0.3f)')%(np.mean(Spec_all),2*np.std(Spec_all)))\n",
    "\n",
    "    return AUC_all, fpr_all, tpr_all, Sens_all, Spec_all, TTPR_all, TFPR_all"
   ]
  },
  {
   "cell_type": "code",
   "execution_count": 1082,
   "metadata": {
    "collapsed": false
   },
   "outputs": [],
   "source": [
    "#Dtr and D are the corresponding train and test dataframes\n",
    "\n",
    "def EvaluateBySubject(Dtr,D):\n",
    "\n",
    "    AUC_all=[]; fpr_all=[]; tpr_all=[]; Sens_all=[]; Spec_all=[]; t_all=[]\n",
    "    TTPR_all, TFPR_all = [], []\n",
    "    TOpt_all, T90_all = [], []\n",
    "    thr = np.linspace(0,1,21)\n",
    "    thr = thr[::-1]\n",
    "\n",
    "    #train and test data as numpy arrays\n",
    "    Xtr = Dtr.iloc[:,4:].as_matrix()\n",
    "    ytr = Dtr.Falltype.as_matrix()\n",
    "    X = D.iloc[:,4:].as_matrix()\n",
    "    y = D.Falltype.as_matrix()\n",
    "\n",
    "    #select train features and train on the population in Xtr\n",
    "    Xtr = Xtr[:,indmax]\n",
    "    forest = RandomForestClassifier(n_estimators=50,random_state=10,warm_start=False,class_weight=None)    \n",
    "    forest.fit(Xtr,ytr)\n",
    "    \n",
    "    #split by subject for testing on X,y\n",
    "    groups = D.SubjID.as_matrix()\n",
    "    subj = LeaveOneGroupOut()\n",
    "    subj.get_n_splits(X,y,groups)\n",
    "    \n",
    "    for train_index, test_index in subj.split(X, y, groups):\n",
    "        \n",
    "        Dte = D.iloc[test_index]\n",
    "            \n",
    "        SensT, SpecT = ThresholdClass(Dtr,Dte)\n",
    "        TTPR_all.append(SensT)\n",
    "        TFPR_all.append(1-SpecT)\n",
    "        \n",
    "        Xte = X[test_index]\n",
    "        yte = y[test_index]\n",
    "        \n",
    "        #selct test features\n",
    "        Xte = Xte[:,indmax]\n",
    "\n",
    "        ypred = forest.predict(Xte)\n",
    "        yscore = forest.predict_proba(Xte)\n",
    "        yscore = yscore[:,1]\n",
    "\n",
    "#         print(np.percentile(yscore[yte==1],[5, 10, 15, 20]))\n",
    "        \n",
    "        #acc = np.sum(ypred==yte)/len(ypred)\n",
    "        #print('Acc = %.4f')%acc\n",
    "\n",
    "    #    fpr, tpr, thresholds = metrics.roc_curve(yte, yscore, pos_label=1,drop_intermediate=False\n",
    "        #compute ROC at fixed fpr (to plot error bars)\n",
    "        fpr=np.linspace(0,1,101); tpr=[]\n",
    "        nscores = np.sort(np.column_stack((yscore[yte==0],yte[yte==0])),axis=0)\n",
    "        neg_counts = sum(yte==0)\n",
    "        for f in fpr:\n",
    "            ind = neg_counts-int(neg_counts*f)-1\n",
    "            t = (nscores[ind])[0]\n",
    "            if f==1:\n",
    "                t = 0\n",
    "            t_all.append(t)\n",
    "            tpr_t = sum(yscore[yte==1]>t) / sum(yte==1)\n",
    "            tpr.append(tpr_t) \n",
    "\n",
    "        fpr = np.asarray(fpr); tpr = np.asarray(tpr)\n",
    "        roc_auc = auc(fpr, tpr)\n",
    "        \n",
    "        #compute Sens and Spec\n",
    "        #Sens = sum((ypred==1) & (yte==1)) / sum(yte==1); Spec = 1-sum((ypred==1) & (yte==0)) / sum(yte==0)\n",
    "        ind = np.argmax(tpr-fpr,axis=0)\n",
    "        Sens = tpr[ind]\n",
    "        Spec = 1-fpr[ind]\n",
    "        \n",
    "        ## Thresholds\n",
    "        TOpt_all.append(t_all[ind])\n",
    "        T90_all.append(t_all[np.argmin(abs(tpr-.90))])\n",
    "        \n",
    "        TOpt = np.mean(TOpt_all)\n",
    "        T90 = np.mean(T90_all)\n",
    "        \n",
    "        print('AUC = %.4f, Sens = %.4f, Spec = %.4f'%(roc_auc,Sens,Spec))    \n",
    "        AUC_all.append(roc_auc)\n",
    "        tpr_all.append(tpr); fpr_all=fpr;\n",
    "        Sens_all.append(Sens); Spec_all.append(Spec)\n",
    "\n",
    "    #summary results\n",
    "    print(('mean AUC = %.3f (+/- %0.3f)')%(np.mean(AUC_all),2*np.std(AUC_all)))\n",
    "    print(('mean Sens = %.3f (+/- %0.3f)')%(np.mean(Sens_all),2*np.std(Sens_all)))\n",
    "    print(('mean Spec = %.3f (+/- %0.3f)')%(np.mean(Spec_all),2*np.std(Spec_all)))\n",
    "\n",
    "    return AUC_all, fpr_all, tpr_all, Sens_all, Spec_all, TTPR_all, TFPR_all, TOpt, T90"
   ]
  },
  {
   "cell_type": "code",
   "execution_count": 1083,
   "metadata": {
    "collapsed": true
   },
   "outputs": [],
   "source": [
    "def HomeDataEval(Dtr,D,Threshold):\n",
    "\n",
    "    AUC_all=[]; fpr_all=[]; tpr_all=[]; Sens_all=[]; Spec_all=[]; t_all=[]\n",
    "    TTPR_all, TSpec_all = [], []\n",
    "    FPCount_all, TFPCount_all = [], []\n",
    "    thr = np.linspace(0,1,21)\n",
    "    thr = thr[::-1]\n",
    "\n",
    "    #train and test data as numpy arrays\n",
    "    Xtr = Dtr.iloc[:,4:].as_matrix()\n",
    "    ytr = Dtr.Falltype.as_matrix()\n",
    "    X = D.iloc[:,4:].as_matrix()\n",
    "    y = D.Falltype.as_matrix()\n",
    "\n",
    "    #select train features and train on the population in Xtr\n",
    "    Xtr = Xtr[:,indmax]\n",
    "    forest = RandomForestClassifier(n_estimators=50,random_state=10,warm_start=False,class_weight=None)    \n",
    "    forest.fit(Xtr,ytr)\n",
    "    \n",
    "    #split by subject for testing on X,y\n",
    "    groups = D.SubjID.as_matrix()\n",
    "    subj = LeaveOneGroupOut()\n",
    "    subj.get_n_splits(X,y,groups)\n",
    "    \n",
    "    for train_index, test_index in subj.split(X, y, groups):\n",
    "        \n",
    "        Dte = D.iloc[test_index]\n",
    "            \n",
    "        _, SpecT = ThresholdClass(Dtr,Dte)\n",
    "        TSpec_all.append(SpecT)\n",
    "        \n",
    "        Xte = X[test_index]\n",
    "        yte = y[test_index]\n",
    "        \n",
    "        #selct test features\n",
    "        Xte = Xte[:,indmax]\n",
    "\n",
    "        ypred = forest.predict(Xte)\n",
    "        yscore = forest.predict_proba(Xte)\n",
    "        yscore = yscore[:,1]\n",
    "        \n",
    "        #compute Sens and Spec\n",
    "        Sens = sum((yscore>Threshold) & (yte==1)) / sum(yte==1); Spec = 1-sum((yscore>Threshold) & (yte==0)) / sum(yte==0)\n",
    "        \n",
    "        Spec_all.append(Spec)\n",
    "\n",
    "    return Spec_all, TSpec_all"
   ]
  },
  {
   "cell_type": "code",
   "execution_count": 1084,
   "metadata": {
    "collapsed": false
   },
   "outputs": [],
   "source": [
    "current_palette = sns.color_palette()\n",
    "\n",
    "def plot_roc(tpr_all,fpr,roc_auc,ax=None,plotname=None,col=None):\n",
    "    #plot mean ROC across subjects (need to add shaded conf interval)\n",
    "    tprmu = np.mean(np.asarray(tpr_all),axis=0)\n",
    "    tpr=np.asarray(tpr_all)\n",
    "    fpr=np.reshape(fpr,(1,-1))\n",
    "    tprmu=np.reshape(tprmu,(1,-1))\n",
    "    label=pd.Series(data = ['%s - AUC = %0.3f' % (plotname,roc_auc)]*len(fpr))\n",
    "    if ax == None:\n",
    "        ax = sns.tsplot(data=tpr,time=fpr,ci=95,condition=label,legend=True,color=col,lw=3)\n",
    "    else:\n",
    "        sns.tsplot(data=tpr,time=fpr,ci=95,condition=label, legend=True,ax=ax,color=col,lw=3)\n",
    "             \n",
    "    lw = 3\n",
    "    ax.plot([0, 1], [0, 1], color='navy', lw=lw, linestyle='--')\n",
    "    ax.set_xlim([-0.05, 1.0])\n",
    "    ax.set_ylim([0.0, 1.05])\n",
    "    ax.set_xlabel('False Positive Rate')\n",
    "    ax.set_ylabel('True Positive Rate')\n",
    "    ax.legend(loc='lower right')\n",
    "    \n",
    "    return ax"
   ]
  },
  {
   "cell_type": "code",
   "execution_count": 1085,
   "metadata": {
    "collapsed": false
   },
   "outputs": [],
   "source": [
    "def ThresholdClass(TrainData,TestData):\n",
    "    \"\"\"Inputs: Dataframe containing AccMax and AccMin accelerations for both train and test data\n",
    "    Outputs: dataframe of classification of test data as fall (True) or non-fall (False)\"\"\"\n",
    "    Max = TrainData.AccMax\n",
    "    Min = TrainData.AccMin\n",
    "    UFT = Max[TrainData.Falltype==1].min(axis=0)\n",
    "    LFT = Min[TrainData.Falltype==1].max(axis=0)\n",
    "    \n",
    "    ThresPred = (TestData.AccMax>UFT) & (TestData.AccMin<LFT)\n",
    "    Sens = len(ThresPred[(ThresPred==True) & (TestData.Falltype==1)])/len(ThresPred[TestData.Falltype==1])\n",
    "    Spec = len(ThresPred[(ThresPred==False) & (TestData.Falltype==0)])/len(ThresPred[TestData.Falltype==0])\n",
    "    \n",
    "    return Sens, Spec\n",
    "\n",
    "    "
   ]
  },
  {
   "cell_type": "markdown",
   "metadata": {},
   "source": [
    "### Load the data"
   ]
  },
  {
   "cell_type": "code",
   "execution_count": 1086,
   "metadata": {
    "collapsed": false
   },
   "outputs": [],
   "source": [
    "Healthy = pd.read_csv('./Data/Healthy10.csv',header=None)\n",
    "Amp = pd.read_csv('./Data/Amp10.csv',header=None)\n",
    "Healthy = Healthy.rename(index=int, columns={0:'SubjID',1:'Loc',2:'Subjtype',3:'Falltype'})\n",
    "Amp = Amp.rename(index=int, columns={0:'SubjID',1:'Loc',2:'Subjtype',3:'Falltype'})"
   ]
  },
  {
   "cell_type": "code",
   "execution_count": 1087,
   "metadata": {
    "collapsed": false
   },
   "outputs": [
    {
     "data": {
      "text/html": [
       "<div>\n",
       "<table border=\"1\" class=\"dataframe\">\n",
       "  <thead>\n",
       "    <tr style=\"text-align: right;\">\n",
       "      <th></th>\n",
       "      <th>SubjID</th>\n",
       "      <th>Loc</th>\n",
       "      <th>Subjtype</th>\n",
       "      <th>Falltype</th>\n",
       "      <th>4</th>\n",
       "      <th>5</th>\n",
       "      <th>6</th>\n",
       "      <th>7</th>\n",
       "      <th>8</th>\n",
       "      <th>9</th>\n",
       "      <th>...</th>\n",
       "      <th>1205</th>\n",
       "      <th>1206</th>\n",
       "      <th>1207</th>\n",
       "      <th>1208</th>\n",
       "      <th>1209</th>\n",
       "      <th>1210</th>\n",
       "      <th>1211</th>\n",
       "      <th>1212</th>\n",
       "      <th>1213</th>\n",
       "      <th>1214</th>\n",
       "    </tr>\n",
       "  </thead>\n",
       "  <tbody>\n",
       "    <tr>\n",
       "      <th>0</th>\n",
       "      <td>1</td>\n",
       "      <td>1</td>\n",
       "      <td>1</td>\n",
       "      <td>3</td>\n",
       "      <td>-0.135490</td>\n",
       "      <td>0.023986</td>\n",
       "      <td>-0.22209</td>\n",
       "      <td>-0.034934</td>\n",
       "      <td>0.026296</td>\n",
       "      <td>0.061168</td>\n",
       "      <td>...</td>\n",
       "      <td>1.3975</td>\n",
       "      <td>1.0539</td>\n",
       "      <td>1.371</td>\n",
       "      <td>0.57013</td>\n",
       "      <td>0.042151</td>\n",
       "      <td>0.040205</td>\n",
       "      <td>0.036391</td>\n",
       "      <td>0.082633</td>\n",
       "      <td>0.057698</td>\n",
       "      <td>0.142730</td>\n",
       "    </tr>\n",
       "    <tr>\n",
       "      <th>1</th>\n",
       "      <td>1</td>\n",
       "      <td>1</td>\n",
       "      <td>1</td>\n",
       "      <td>3</td>\n",
       "      <td>-0.116930</td>\n",
       "      <td>0.041788</td>\n",
       "      <td>-0.25966</td>\n",
       "      <td>-0.036706</td>\n",
       "      <td>0.028857</td>\n",
       "      <td>0.069082</td>\n",
       "      <td>...</td>\n",
       "      <td>1.0056</td>\n",
       "      <td>-1.0666</td>\n",
       "      <td>1.371</td>\n",
       "      <td>0.59226</td>\n",
       "      <td>0.044890</td>\n",
       "      <td>0.055954</td>\n",
       "      <td>0.064699</td>\n",
       "      <td>0.077030</td>\n",
       "      <td>0.105940</td>\n",
       "      <td>0.130800</td>\n",
       "    </tr>\n",
       "    <tr>\n",
       "      <th>2</th>\n",
       "      <td>1</td>\n",
       "      <td>1</td>\n",
       "      <td>1</td>\n",
       "      <td>3</td>\n",
       "      <td>-0.095297</td>\n",
       "      <td>-0.009186</td>\n",
       "      <td>-0.26274</td>\n",
       "      <td>-0.031153</td>\n",
       "      <td>0.019380</td>\n",
       "      <td>0.071339</td>\n",
       "      <td>...</td>\n",
       "      <td>1.5987</td>\n",
       "      <td>2.0886</td>\n",
       "      <td>1.371</td>\n",
       "      <td>0.76639</td>\n",
       "      <td>0.050949</td>\n",
       "      <td>0.099145</td>\n",
       "      <td>0.054502</td>\n",
       "      <td>0.070348</td>\n",
       "      <td>0.107280</td>\n",
       "      <td>0.145240</td>\n",
       "    </tr>\n",
       "    <tr>\n",
       "      <th>3</th>\n",
       "      <td>1</td>\n",
       "      <td>1</td>\n",
       "      <td>1</td>\n",
       "      <td>4</td>\n",
       "      <td>-0.131590</td>\n",
       "      <td>0.012601</td>\n",
       "      <td>0.36066</td>\n",
       "      <td>-0.030360</td>\n",
       "      <td>0.038864</td>\n",
       "      <td>0.070713</td>\n",
       "      <td>...</td>\n",
       "      <td>2.0909</td>\n",
       "      <td>4.4104</td>\n",
       "      <td>1.371</td>\n",
       "      <td>0.51069</td>\n",
       "      <td>0.035452</td>\n",
       "      <td>0.046974</td>\n",
       "      <td>0.043586</td>\n",
       "      <td>0.073470</td>\n",
       "      <td>0.071604</td>\n",
       "      <td>0.098844</td>\n",
       "    </tr>\n",
       "    <tr>\n",
       "      <th>4</th>\n",
       "      <td>1</td>\n",
       "      <td>1</td>\n",
       "      <td>1</td>\n",
       "      <td>4</td>\n",
       "      <td>-0.174220</td>\n",
       "      <td>0.002581</td>\n",
       "      <td>0.33938</td>\n",
       "      <td>-0.049466</td>\n",
       "      <td>0.017201</td>\n",
       "      <td>0.068173</td>\n",
       "      <td>...</td>\n",
       "      <td>2.0293</td>\n",
       "      <td>4.1421</td>\n",
       "      <td>1.371</td>\n",
       "      <td>0.50332</td>\n",
       "      <td>0.045742</td>\n",
       "      <td>0.077608</td>\n",
       "      <td>0.067755</td>\n",
       "      <td>0.079449</td>\n",
       "      <td>0.131450</td>\n",
       "      <td>0.085266</td>\n",
       "    </tr>\n",
       "  </tbody>\n",
       "</table>\n",
       "<p>5 rows × 1215 columns</p>\n",
       "</div>"
      ],
      "text/plain": [
       "   SubjID  Loc  Subjtype  Falltype         4         5        6         7  \\\n",
       "0       1    1         1         3 -0.135490  0.023986 -0.22209 -0.034934   \n",
       "1       1    1         1         3 -0.116930  0.041788 -0.25966 -0.036706   \n",
       "2       1    1         1         3 -0.095297 -0.009186 -0.26274 -0.031153   \n",
       "3       1    1         1         4 -0.131590  0.012601  0.36066 -0.030360   \n",
       "4       1    1         1         4 -0.174220  0.002581  0.33938 -0.049466   \n",
       "\n",
       "          8         9    ...       1205    1206   1207     1208      1209  \\\n",
       "0  0.026296  0.061168    ...     1.3975  1.0539  1.371  0.57013  0.042151   \n",
       "1  0.028857  0.069082    ...     1.0056 -1.0666  1.371  0.59226  0.044890   \n",
       "2  0.019380  0.071339    ...     1.5987  2.0886  1.371  0.76639  0.050949   \n",
       "3  0.038864  0.070713    ...     2.0909  4.4104  1.371  0.51069  0.035452   \n",
       "4  0.017201  0.068173    ...     2.0293  4.1421  1.371  0.50332  0.045742   \n",
       "\n",
       "       1210      1211      1212      1213      1214  \n",
       "0  0.040205  0.036391  0.082633  0.057698  0.142730  \n",
       "1  0.055954  0.064699  0.077030  0.105940  0.130800  \n",
       "2  0.099145  0.054502  0.070348  0.107280  0.145240  \n",
       "3  0.046974  0.043586  0.073470  0.071604  0.098844  \n",
       "4  0.077608  0.067755  0.079449  0.131450  0.085266  \n",
       "\n",
       "[5 rows x 1215 columns]"
      ]
     },
     "execution_count": 1087,
     "metadata": {},
     "output_type": "execute_result"
    }
   ],
   "source": [
    "#Subjtype: 0 = Amputee, 1 = Healthy , 2 = Healthy outdoor\n",
    "Healthy.head(5)"
   ]
  },
  {
   "cell_type": "code",
   "execution_count": 1088,
   "metadata": {
    "collapsed": false,
    "scrolled": true
   },
   "outputs": [
    {
     "name": "stdout",
     "output_type": "stream",
     "text": [
      "4890\n",
      "2184\n"
     ]
    }
   ],
   "source": [
    "print(len(Healthy))\n",
    "print(len(Amp))"
   ]
  },
  {
   "cell_type": "code",
   "execution_count": 1089,
   "metadata": {
    "collapsed": false
   },
   "outputs": [
    {
     "name": "stdout",
     "output_type": "stream",
     "text": [
      "N subjects Healthy: 10\n",
      "N subjects Amp: 7\n",
      "[1]\n",
      "[0]\n"
     ]
    }
   ],
   "source": [
    "print(('N subjects Healthy: %s'%(len(Healthy.SubjID.unique()))))\n",
    "print(('N subjects Amp: %s'%(len(Amp.SubjID.unique()))))\n",
    "print(Healthy.Subjtype.unique())\n",
    "print(Amp.Subjtype.unique())"
   ]
  },
  {
   "cell_type": "code",
   "execution_count": 1090,
   "metadata": {
    "collapsed": false
   },
   "outputs": [
    {
     "name": "stdout",
     "output_type": "stream",
     "text": [
      "Nfalls = 4575\n",
      "Nactivities = 315\n"
     ]
    }
   ],
   "source": [
    "#Healthy\n",
    "print(('Nfalls = %s')%(len(Healthy[Healthy.Falltype<9])))\n",
    "print(('Nactivities = %s')%(len(Healthy[Healthy.Falltype==9])))"
   ]
  },
  {
   "cell_type": "code",
   "execution_count": 1091,
   "metadata": {
    "collapsed": false
   },
   "outputs": [
    {
     "name": "stdout",
     "output_type": "stream",
     "text": [
      "Nfalls = 1877\n",
      "Nactivities = 307\n"
     ]
    }
   ],
   "source": [
    "#Amp\n",
    "print(('Nfalls = %s')%(len(Amp[Amp.Falltype<9])))\n",
    "print(('Nactivities = %s')%(len(Amp[Amp.Falltype==9])))"
   ]
  },
  {
   "cell_type": "code",
   "execution_count": 1092,
   "metadata": {
    "collapsed": false
   },
   "outputs": [
    {
     "data": {
      "text/html": [
       "<div>\n",
       "<table border=\"1\" class=\"dataframe\">\n",
       "  <thead>\n",
       "    <tr style=\"text-align: right;\">\n",
       "      <th></th>\n",
       "      <th>SubjID</th>\n",
       "      <th>Loc</th>\n",
       "      <th>Subjtype</th>\n",
       "      <th>Falltype</th>\n",
       "    </tr>\n",
       "  </thead>\n",
       "  <tbody>\n",
       "    <tr>\n",
       "      <th>1</th>\n",
       "      <td>1</td>\n",
       "      <td>1</td>\n",
       "      <td>1</td>\n",
       "      <td>3</td>\n",
       "    </tr>\n",
       "    <tr>\n",
       "      <th>2</th>\n",
       "      <td>1</td>\n",
       "      <td>1</td>\n",
       "      <td>1</td>\n",
       "      <td>3</td>\n",
       "    </tr>\n",
       "    <tr>\n",
       "      <th>3</th>\n",
       "      <td>1</td>\n",
       "      <td>1</td>\n",
       "      <td>1</td>\n",
       "      <td>4</td>\n",
       "    </tr>\n",
       "    <tr>\n",
       "      <th>4</th>\n",
       "      <td>1</td>\n",
       "      <td>1</td>\n",
       "      <td>1</td>\n",
       "      <td>4</td>\n",
       "    </tr>\n",
       "  </tbody>\n",
       "</table>\n",
       "</div>"
      ],
      "text/plain": [
       "   SubjID  Loc  Subjtype  Falltype\n",
       "1       1    1         1         3\n",
       "2       1    1         1         3\n",
       "3       1    1         1         4\n",
       "4       1    1         1         4"
      ]
     },
     "execution_count": 1092,
     "metadata": {},
     "output_type": "execute_result"
    }
   ],
   "source": [
    "#selecting cols by index\n",
    "Healthy.iloc[1:5, 0:4]"
   ]
  },
  {
   "cell_type": "markdown",
   "metadata": {},
   "source": [
    "# Train on healthy and test on amputees"
   ]
  },
  {
   "cell_type": "code",
   "execution_count": 1093,
   "metadata": {
    "collapsed": true
   },
   "outputs": [],
   "source": [
    "#transform to binary class\n",
    "Xtr = Healthy.iloc[:,4:].as_matrix()\n",
    "ytr = Healthy.Falltype.as_matrix()\n",
    "Xte = Amp.iloc[:,4:].as_matrix()\n",
    "yte = Amp.Falltype.as_matrix()\n",
    "ytr[ytr < 9] = 1\n",
    "ytr[ytr == 9] = 0\n",
    "yte[yte < 9] = 1\n",
    "yte[yte == 9] = 0"
   ]
  },
  {
   "cell_type": "code",
   "execution_count": 1094,
   "metadata": {
    "collapsed": false
   },
   "outputs": [
    {
     "name": "stdout",
     "output_type": "stream",
     "text": [
      "(4890, 1211)\n",
      "[0 1]\n",
      "(2184, 1211)\n",
      "[0 1]\n"
     ]
    }
   ],
   "source": [
    "print(Xtr.shape)\n",
    "print(np.unique(ytr))\n",
    "print(Xte.shape)\n",
    "print(np.unique(yte))"
   ]
  },
  {
   "cell_type": "code",
   "execution_count": 1095,
   "metadata": {
    "collapsed": false
   },
   "outputs": [
    {
     "data": {
      "text/plain": [
       "RandomForestClassifier(bootstrap=True, class_weight=None, criterion='gini',\n",
       "            max_depth=None, max_features='auto', max_leaf_nodes=None,\n",
       "            min_impurity_split=1e-07, min_samples_leaf=1,\n",
       "            min_samples_split=2, min_weight_fraction_leaf=0.0,\n",
       "            n_estimators=50, n_jobs=1, oob_score=False, random_state=10,\n",
       "            verbose=0, warm_start=False)"
      ]
     },
     "execution_count": 1095,
     "metadata": {},
     "output_type": "execute_result"
    }
   ],
   "source": [
    "forest = RandomForestClassifier(n_estimators=50,random_state=10)\n",
    "forest.fit(Xtr,ytr)"
   ]
  },
  {
   "cell_type": "code",
   "execution_count": 1096,
   "metadata": {
    "collapsed": false
   },
   "outputs": [
    {
     "name": "stdout",
     "output_type": "stream",
     "text": [
      "[  7.84592319e-05   1.42374638e-04   1.42221890e-04 ...,   1.29468126e-06\n",
      "   3.87604949e-04   1.70145129e-04]\n",
      "[  5.49214623e-04   8.87375169e-04   6.96872789e-04 ...,   6.42328644e-06\n",
      "   1.49728194e-03   1.19101590e-03]\n"
     ]
    }
   ],
   "source": [
    "importance = forest.feature_importances_\n",
    "print(importance)\n",
    "indices = np.argsort(importance)\n",
    "importance_std = np.std([tree.feature_importances_ for tree in forest.estimators_],axis=0)\n",
    "print(importance_std)"
   ]
  },
  {
   "cell_type": "code",
   "execution_count": 1097,
   "metadata": {
    "collapsed": true
   },
   "outputs": [],
   "source": [
    "importance_norm = importance/np.max(importance)"
   ]
  },
  {
   "cell_type": "code",
   "execution_count": 1098,
   "metadata": {
    "collapsed": false
   },
   "outputs": [
    {
     "data": {
      "text/plain": [
       "<matplotlib.figure.Figure at 0x16d49dd8>"
      ]
     },
     "execution_count": 1098,
     "metadata": {},
     "output_type": "execute_result"
    },
    {
     "data": {
      "image/png": "[encoded data removed]",
      "text/plain": [
       "<matplotlib.figure.Figure at 0xc862eb8>"
      ]
     },
     "metadata": {},
     "output_type": "display_data"
    },
    {
     "data": {
      "text/plain": [
       "<matplotlib.figure.Figure at 0x16d49dd8>"
      ]
     },
     "metadata": {},
     "output_type": "display_data"
    }
   ],
   "source": [
    "#using Seaborn\n",
    "sns.set_context(\"notebook\")\n",
    "ax = sns.barplot(x=indices,y=importance_norm[indices])\n",
    "plt.figure(figsize=(8,6))"
   ]
  },
  {
   "cell_type": "code",
   "execution_count": 1099,
   "metadata": {
    "collapsed": false
   },
   "outputs": [
    {
     "data": {
      "text/plain": [
       "<matplotlib.figure.Figure at 0x15e3e3c8>"
      ]
     },
     "execution_count": 1099,
     "metadata": {},
     "output_type": "execute_result"
    },
    {
     "data": {
      "image/png": "[encoded data removed]",
      "text/plain": [
       "<matplotlib.figure.Figure at 0x15e3e4e0>"
      ]
     },
     "metadata": {},
     "output_type": "display_data"
    },
    {
     "data": {
      "text/plain": [
       "<matplotlib.figure.Figure at 0x15e3e3c8>"
      ]
     },
     "metadata": {},
     "output_type": "display_data"
    }
   ],
   "source": [
    "ax = sns.boxplot(importance_norm)\n",
    "plt.figure(figsize=(8,6))"
   ]
  },
  {
   "cell_type": "code",
   "execution_count": 1100,
   "metadata": {
    "collapsed": false
   },
   "outputs": [
    {
     "name": "stdout",
     "output_type": "stream",
     "text": [
      "[ 0.01101271]\n"
     ]
    }
   ],
   "source": [
    "qc = np.percentile(importance_norm,[75])\n",
    "print(1.5*qc)"
   ]
  },
  {
   "cell_type": "code",
   "execution_count": 1101,
   "metadata": {
    "collapsed": false
   },
   "outputs": [
    {
     "name": "stdout",
     "output_type": "stream",
     "text": [
      "57\n",
      "[  12  183  184  338  344  386  387  388  423  492  520  569  570  599  780\n",
      "  785  786  787  940  944  945  946  948  955  956  957  966  971  972  986\n",
      "  988  989  990  996 1011 1018 1034 1045 1046 1047 1048 1070 1071 1072 1096\n",
      " 1120 1121 1122 1144 1146 1147 1190 1191 1194 1195 1200 1204]\n"
     ]
    }
   ],
   "source": [
    "# indmax = np.argwhere(importance_norm >= 1.5*qc)\n",
    "indmax = np.argwhere(importance_norm >= 0.1)\n",
    "indmax = indmax.reshape(-1)\n",
    "print(len(indmax))\n",
    "print(indmax)"
   ]
  },
  {
   "cell_type": "code",
   "execution_count": 1102,
   "metadata": {
    "collapsed": false
   },
   "outputs": [
    {
     "data": {
      "text/plain": [
       "RandomForestClassifier(bootstrap=True, class_weight=None, criterion='gini',\n",
       "            max_depth=None, max_features='auto', max_leaf_nodes=None,\n",
       "            min_impurity_split=1e-07, min_samples_leaf=1,\n",
       "            min_samples_split=2, min_weight_fraction_leaf=0.0,\n",
       "            n_estimators=50, n_jobs=1, oob_score=False, random_state=10,\n",
       "            verbose=0, warm_start=False)"
      ]
     },
     "execution_count": 1102,
     "metadata": {},
     "output_type": "execute_result"
    }
   ],
   "source": [
    "forest = RandomForestClassifier(n_estimators=50,random_state=10,warm_start=False,class_weight=None)\n",
    "forest.fit(Xtr[:,indmax],ytr)"
   ]
  },
  {
   "cell_type": "code",
   "execution_count": 1103,
   "metadata": {
    "collapsed": false
   },
   "outputs": [],
   "source": [
    "ypred = forest.predict(Xte[:,indmax])\n",
    "yscore = forest.predict_proba(Xte[:,indmax])\n",
    "yscore = yscore[:,1]"
   ]
  },
  {
   "cell_type": "code",
   "execution_count": 1104,
   "metadata": {
    "collapsed": false
   },
   "outputs": [
    {
     "name": "stdout",
     "output_type": "stream",
     "text": [
      "AUC = 0.989\n"
     ]
    }
   ],
   "source": [
    "#acc = np.sum(ypred==yte)/len(ypred)\n",
    "#print('Acc = %.3f')%acc\n",
    "fprHA, tprHA, thresholdsHA = metrics.roc_curve(yte, yscore, pos_label=1)\n",
    "roc_aucHA = auc(fprHA, tprHA)\n",
    "print('AUC = %.3f'%roc_aucHA)"
   ]
  },
  {
   "cell_type": "code",
   "execution_count": 1105,
   "metadata": {
    "collapsed": false
   },
   "outputs": [
    {
     "data": {
      "image/png": "[encoded data removed]",
      "text/plain": [
       "<matplotlib.figure.Figure at 0x15ef5dd8>"
      ]
     },
     "metadata": {},
     "output_type": "display_data"
    }
   ],
   "source": [
    "plt.figure(figsize=(8,6))\n",
    "lw = 4\n",
    "plt.plot(fprHA, tprHA, color='darkorange',\n",
    "         lw=lw, label='ROC curve (area = %0.3f)' % roc_aucHA)\n",
    "plt.plot([0, 1], [0, 1], color='navy', lw=lw, linestyle='--')\n",
    "plt.xlim([0.0, 1.0])\n",
    "plt.ylim([0.0, 1.05])\n",
    "plt.xlabel('False Positive Rate')\n",
    "plt.ylabel('True Positive Rate')\n",
    "plt.title('Healthy - Amputee ROC')\n",
    "plt.legend(loc=\"lower right\")\n",
    "sns.set_context('poster')"
   ]
  },
  {
   "cell_type": "markdown",
   "metadata": {},
   "source": [
    "### Threshold Method"
   ]
  },
  {
   "cell_type": "code",
   "execution_count": 1106,
   "metadata": {
    "collapsed": false
   },
   "outputs": [],
   "source": [
    "Healthy = Healthy.rename(index=int,columns={950:'AccMax',951:'AccMin'})\n",
    "Amp = Amp.rename(index=int,columns={950:'AccMax',951:'AccMin'})\n",
    "[Sens, Spec] = ThresholdClass(Healthy,Amp)"
   ]
  },
  {
   "cell_type": "code",
   "execution_count": 1107,
   "metadata": {
    "collapsed": false
   },
   "outputs": [
    {
     "name": "stdout",
     "output_type": "stream",
     "text": [
      "1.0\n",
      "0.18892508143322476\n"
     ]
    }
   ],
   "source": [
    "print (Sens)\n",
    "print (Spec)"
   ]
  },
  {
   "cell_type": "markdown",
   "metadata": {},
   "source": [
    "# LOSO CV on Healthy"
   ]
  },
  {
   "cell_type": "code",
   "execution_count": 1108,
   "metadata": {
    "collapsed": true
   },
   "outputs": [],
   "source": [
    "Healthy = pd.read_csv('./Data/Healthy10.csv',header=None)\n",
    "Healthy = Healthy.rename(index=int, columns={0:'SubjID',1:'Loc',2:'Subjtype',3:'Falltype',950:'AccMax',951:'AccMin'})"
   ]
  },
  {
   "cell_type": "code",
   "execution_count": 1109,
   "metadata": {
    "collapsed": true
   },
   "outputs": [],
   "source": [
    "from sklearn.model_selection import LeaveOneGroupOut"
   ]
  },
  {
   "cell_type": "code",
   "execution_count": 1110,
   "metadata": {
    "collapsed": false
   },
   "outputs": [
    {
     "name": "stdout",
     "output_type": "stream",
     "text": [
      "[ 1  2  3  4  5  6  7  8  9 10]\n",
      "[]\n"
     ]
    }
   ],
   "source": [
    "#Subjects with indoor and outdoor falls\n",
    "print(np.sort(Healthy[Healthy.Subjtype == 1].SubjID.unique()))\n",
    "print(np.sort(Healthy[Healthy.Subjtype == 2].SubjID.unique()))"
   ]
  },
  {
   "cell_type": "code",
   "execution_count": 1111,
   "metadata": {
    "collapsed": false
   },
   "outputs": [
    {
     "data": {
      "text/plain": [
       "array([ 1,  2,  4,  5,  6,  7,  8,  9, 10], dtype=int64)"
      ]
     },
     "execution_count": 1111,
     "metadata": {},
     "output_type": "execute_result"
    }
   ],
   "source": [
    "#drop subject 3 \n",
    "Healthy = Healthy[Healthy.SubjID!=3]\n",
    "Healthy.SubjID.unique()"
   ]
  },
  {
   "cell_type": "code",
   "execution_count": 1112,
   "metadata": {
    "collapsed": false
   },
   "outputs": [
    {
     "data": {
      "text/plain": [
       "(4474, 1215)"
      ]
     },
     "execution_count": 1112,
     "metadata": {},
     "output_type": "execute_result"
    }
   ],
   "source": [
    "Healthy.shape"
   ]
  },
  {
   "cell_type": "code",
   "execution_count": 1113,
   "metadata": {
    "collapsed": true
   },
   "outputs": [],
   "source": [
    "#binarize labels\n",
    "X = Healthy.iloc[:,4:].as_matrix()\n",
    "y = Healthy.Falltype.as_matrix()\n",
    "y[y < 9] = 1\n",
    "y[y == 9] = 0"
   ]
  },
  {
   "cell_type": "code",
   "execution_count": 1114,
   "metadata": {
    "collapsed": false
   },
   "outputs": [
    {
     "data": {
      "text/plain": [
       "array([0, 1], dtype=int64)"
      ]
     },
     "execution_count": 1114,
     "metadata": {},
     "output_type": "execute_result"
    }
   ],
   "source": [
    "np.unique(y)"
   ]
  },
  {
   "cell_type": "code",
   "execution_count": 1115,
   "metadata": {
    "collapsed": false
   },
   "outputs": [
    {
     "name": "stdout",
     "output_type": "stream",
     "text": [
      "(4474, 1211)\n",
      "(4474,)\n"
     ]
    }
   ],
   "source": [
    "print(X.shape)\n",
    "print(y.shape)"
   ]
  },
  {
   "cell_type": "code",
   "execution_count": 1116,
   "metadata": {
    "collapsed": false
   },
   "outputs": [
    {
     "name": "stdout",
     "output_type": "stream",
     "text": [
      "(4474,)\n",
      "[ 1  2  4  5  6  7  8  9 10]\n"
     ]
    }
   ],
   "source": [
    "groups = Healthy.SubjID.as_matrix()\n",
    "print(groups.shape)\n",
    "print(np.unique(groups))"
   ]
  },
  {
   "cell_type": "code",
   "execution_count": 1117,
   "metadata": {
    "collapsed": false
   },
   "outputs": [
    {
     "data": {
      "text/plain": [
       "9"
      ]
     },
     "execution_count": 1117,
     "metadata": {},
     "output_type": "execute_result"
    }
   ],
   "source": [
    "subj = LeaveOneGroupOut()\n",
    "subj.get_n_splits(X,y,groups)"
   ]
  },
  {
   "cell_type": "code",
   "execution_count": 1118,
   "metadata": {
    "collapsed": false
   },
   "outputs": [
    {
     "data": {
      "text/plain": [
       "array([  12,  183,  184,  338,  344,  386,  387,  388,  423,  492,  520,\n",
       "        569,  570,  599,  780,  785,  786,  787,  940,  944,  945,  946,\n",
       "        948,  955,  956,  957,  966,  971,  972,  986,  988,  989,  990,\n",
       "        996, 1011, 1018, 1034, 1045, 1046, 1047, 1048, 1070, 1071, 1072,\n",
       "       1096, 1120, 1121, 1122, 1144, 1146, 1147, 1190, 1191, 1194, 1195,\n",
       "       1200, 1204], dtype=int64)"
      ]
     },
     "execution_count": 1118,
     "metadata": {},
     "output_type": "execute_result"
    }
   ],
   "source": [
    "indmax #602 gyro features + 602 accelerometer"
   ]
  },
  {
   "cell_type": "code",
   "execution_count": 1119,
   "metadata": {
    "collapsed": true
   },
   "outputs": [],
   "source": [
    "## Use Magnitude Features Only\n",
    "indmax = np.linspace(336,355,20)\n",
    "indmax = np.hstack([indmax,np.linspace(336,355,20)+602])\n",
    "indmax = indmax.astype(int)"
   ]
  },
  {
   "cell_type": "code",
   "execution_count": 1120,
   "metadata": {
    "collapsed": false
   },
   "outputs": [
    {
     "name": "stdout",
     "output_type": "stream",
     "text": [
      "(4107, 40) (367, 40) (4107,)\n",
      "(3787, 40) (687, 40) (3787,)\n",
      "(3918, 40) (556, 40) (3918,)\n",
      "(4102, 40) (372, 40) (4102,)\n",
      "(3740, 40) (734, 40) (3740,)\n",
      "(4127, 40) (347, 40) (4127,)\n",
      "(3852, 40) (622, 40) (3852,)\n",
      "(4051, 40) (423, 40) (4051,)\n",
      "(4108, 40) (366, 40) (4108,)\n"
     ]
    }
   ],
   "source": [
    "#sanity check\n",
    "for train_index, test_index in subj.split(X, y, groups):\n",
    "    Xtr,Xte = X[train_index],X[test_index]\n",
    "    ytr = y[train_index]\n",
    "    Xtr,Xte = Xtr[:,indmax],Xte[:,indmax]\n",
    "    print(Xtr.shape,Xte.shape,ytr.shape)"
   ]
  },
  {
   "cell_type": "code",
   "execution_count": 1121,
   "metadata": {
    "collapsed": false
   },
   "outputs": [
    {
     "name": "stdout",
     "output_type": "stream",
     "text": [
      "(4474, 1215)\n",
      "(4474, 1211)\n"
     ]
    }
   ],
   "source": [
    "print(Healthy.shape)\n",
    "print(X.shape)"
   ]
  },
  {
   "cell_type": "code",
   "execution_count": 1122,
   "metadata": {
    "collapsed": false
   },
   "outputs": [
    {
     "name": "stdout",
     "output_type": "stream",
     "text": [
      "AUC = 0.9984, Sens = 0.9650, Spec = 1.0000\n",
      "AUC = 0.9771, Sens = 0.8899, Spec = 1.0000\n",
      "AUC = 1.0000, Sens = 1.0000, Spec = 1.0000\n",
      "AUC = 1.0000, Sens = 1.0000, Spec = 1.0000\n",
      "AUC = 0.9978, Sens = 0.9928, Spec = 1.0000\n",
      "AUC = 1.0000, Sens = 1.0000, Spec = 1.0000\n",
      "AUC = 0.9995, Sens = 0.9848, Spec = 1.0000\n",
      "AUC = 0.9588, Sens = 0.9400, Spec = 0.9700\n",
      "AUC = 0.9918, Sens = 0.9970, Spec = 0.9400\n",
      "mean AUC = 0.992 (+/- 0.027)\n",
      "mean Sens = 0.974 (+/- 0.071)\n",
      "mean Spec = 0.990 (+/- 0.040)\n"
     ]
    },
    {
     "data": {
      "text/plain": [
       "<matplotlib.figure.Figure at 0x1630e7b8>"
      ]
     },
     "metadata": {},
     "output_type": "display_data"
    }
   ],
   "source": [
    "AUC_all_HH, fpr_all_HH, tpr_all_HH, Sens_all_HH, Spec_all_HH, TTPR_all_HH, TFPR_all_HH = LOSOCV(X,y,Healthy)"
   ]
  },
  {
   "cell_type": "code",
   "execution_count": 1123,
   "metadata": {
    "collapsed": false
   },
   "outputs": [],
   "source": [
    "TTPR_all_HH = np.asarray(TTPR_all_HH)\n",
    "TFPR_all_HH = np.asarray(TFPR_all_HH)\n",
    "\n",
    "tprmuHH = np.mean(TTPR_all_HH)\n",
    "tprerrHH = np.std(TTPR_all_HH)/math.sqrt(len(TTPR_all_HH))*1.96\n",
    "fprmuHH = np.mean(TFPR_all_HH)\n",
    "fprerrHH = np.std(TFPR_all_HH)/math.sqrt(len(TFPR_all_HH))*1.96"
   ]
  },
  {
   "cell_type": "code",
   "execution_count": 1124,
   "metadata": {
    "collapsed": false
   },
   "outputs": [
    {
     "data": {
      "text/plain": [
       "<matplotlib.text.Text at 0xd48bac8>"
      ]
     },
     "execution_count": 1124,
     "metadata": {},
     "output_type": "execute_result"
    },
    {
     "data": {
      "image/png": "[encoded data removed]",
      "text/plain": [
       "<matplotlib.figure.Figure at 0x149128d0>"
      ]
     },
     "metadata": {},
     "output_type": "display_data"
    }
   ],
   "source": [
    "sns.set_context('notebook')\n",
    "AX = None\n",
    "AX = plot_roc(tpr_all_HH,fpr_all_HH,np.mean(AUC_all_HH))\n",
    "AX.errorbar(fprmuHH,tprmuHH,xerr = fprerrHH,yerr = tprerrHH, ecolor = 'r',marker='.',mec='r',mfc='r',ms=15,lw=4)\n",
    "AX.set_title('Healthy-Healthy')"
   ]
  },
  {
   "cell_type": "code",
   "execution_count": 1125,
   "metadata": {
    "collapsed": true
   },
   "outputs": [],
   "source": [
    "HX = X\n",
    "Hy = y"
   ]
  },
  {
   "cell_type": "markdown",
   "metadata": {},
   "source": [
    "# LOSO CV on Amputees"
   ]
  },
  {
   "cell_type": "markdown",
   "metadata": {},
   "source": [
    "**Note: SubjID 2 does not have activities**"
   ]
  },
  {
   "cell_type": "code",
   "execution_count": 1126,
   "metadata": {
    "collapsed": false
   },
   "outputs": [],
   "source": [
    "Amp = pd.read_csv('./Data/Amp10.csv',header=None)\n",
    "Amp = Amp.rename(index=int, columns={0:'SubjID',1:'Loc',2:'Subjtype',3:'Falltype', 950:'AccMax',951:'AccMin'})"
   ]
  },
  {
   "cell_type": "code",
   "execution_count": 1127,
   "metadata": {
    "collapsed": false
   },
   "outputs": [
    {
     "data": {
      "text/plain": [
       "array([4, 3, 2, 1], dtype=int64)"
      ]
     },
     "execution_count": 1127,
     "metadata": {},
     "output_type": "execute_result"
    }
   ],
   "source": [
    "Amp[Amp.SubjID ==2].Falltype.unique()"
   ]
  },
  {
   "cell_type": "code",
   "execution_count": 1128,
   "metadata": {
    "collapsed": false
   },
   "outputs": [],
   "source": [
    "Amp = Amp[Amp.SubjID != 2] #drop subj 2"
   ]
  },
  {
   "cell_type": "code",
   "execution_count": 1129,
   "metadata": {
    "collapsed": false
   },
   "outputs": [
    {
     "name": "stdout",
     "output_type": "stream",
     "text": [
      "(1844,)\n",
      "[1 3 4 5 6 7]\n"
     ]
    },
    {
     "data": {
      "text/plain": [
       "6"
      ]
     },
     "execution_count": 1129,
     "metadata": {},
     "output_type": "execute_result"
    }
   ],
   "source": [
    "X = Amp.iloc[:,4:].as_matrix()\n",
    "y = Amp.Falltype.as_matrix()\n",
    "y[y < 9] = 1\n",
    "y[y == 9] = 0\n",
    "groups = Amp.SubjID.as_matrix()\n",
    "print(groups.shape)\n",
    "print(np.sort(np.unique(groups)))\n",
    "subj = LeaveOneGroupOut()\n",
    "subj.get_n_splits(X,y,groups)"
   ]
  },
  {
   "cell_type": "code",
   "execution_count": 1130,
   "metadata": {
    "collapsed": false
   },
   "outputs": [
    {
     "name": "stdout",
     "output_type": "stream",
     "text": [
      "(1582, 40) (262, 40) (1582,)\n",
      "(1435, 40) (409, 40) (1435,)\n",
      "(1450, 40) (394, 40) (1450,)\n",
      "(1573, 40) (271, 40) (1573,)\n",
      "(1732, 40) (112, 40) (1732,)\n",
      "(1448, 40) (396, 40) (1448,)\n"
     ]
    }
   ],
   "source": [
    "#sanity check\n",
    "for train_index, test_index in subj.split(X, y, groups):\n",
    "    Xtr,Xte = X[train_index],X[test_index]\n",
    "    ytr = y[train_index]\n",
    "    Xtr,Xte = Xtr[:,indmax],Xte[:,indmax]\n",
    "    print(Xtr.shape,Xte.shape,ytr.shape)"
   ]
  },
  {
   "cell_type": "code",
   "execution_count": 1131,
   "metadata": {
    "collapsed": false
   },
   "outputs": [
    {
     "name": "stdout",
     "output_type": "stream",
     "text": [
      "AUC = 0.9888, Sens = 1.0000, Spec = 0.9200\n",
      "AUC = 0.9969, Sens = 1.0000, Spec = 0.9600\n",
      "AUC = 0.9999, Sens = 0.9943, Spec = 1.0000\n",
      "AUC = 0.9837, Sens = 0.9442, Spec = 0.9400\n",
      "AUC = 0.9829, Sens = 0.9714, Spec = 0.9500\n",
      "AUC = 0.9980, Sens = 0.9819, Spec = 0.9800\n",
      "mean AUC = 0.992 (+/- 0.014)\n",
      "mean Sens = 0.982 (+/- 0.040)\n",
      "mean Spec = 0.958 (+/- 0.052)\n"
     ]
    },
    {
     "data": {
      "text/plain": [
       "<matplotlib.figure.Figure at 0x16933c50>"
      ]
     },
     "metadata": {},
     "output_type": "display_data"
    }
   ],
   "source": [
    "AUC_all_AA, fpr_all_AA, tpr_all_AA, Sens_all_AA, Spec_all_AA, TTPR_allAA, TFPR_allAA = LOSOCV(X,y,Amp)"
   ]
  },
  {
   "cell_type": "code",
   "execution_count": 1132,
   "metadata": {
    "collapsed": false,
    "scrolled": true
   },
   "outputs": [
    {
     "data": {
      "text/plain": [
       "<matplotlib.text.Text at 0xd415c18>"
      ]
     },
     "execution_count": 1132,
     "metadata": {},
     "output_type": "execute_result"
    },
    {
     "data": {
      "image/png": "[encoded data removed]",
      "text/plain": [
       "<matplotlib.figure.Figure at 0x16005358>"
      ]
     },
     "metadata": {},
     "output_type": "display_data"
    }
   ],
   "source": [
    "TTPR_allAA = np.asarray(TTPR_allAA)\n",
    "TFPR_allAA = np.asarray(TFPR_allAA)\n",
    "\n",
    "tprmuAA = np.mean(TTPR_allAA)\n",
    "tprerrAA = np.std(TTPR_allAA)/math.sqrt(len(TTPR_allAA))*1.96\n",
    "fprmuAA = np.mean(TFPR_allAA)\n",
    "fprerrAA = np.std(TFPR_allAA)/math.sqrt(len(TFPR_allAA))*1.96\n",
    "\n",
    "AX = plot_roc(tpr_all_AA,fpr_all_AA,np.mean(AUC_all_AA))\n",
    "AX.errorbar(fprmuAA,tprmuAA,xerr = fprerrAA,yerr = tprerrAA, ecolor = 'r',marker='.',mec='r',mfc='r',ms=15,lw=2)\n",
    "AX.set_title('Amputee-Amputee')"
   ]
  },
  {
   "cell_type": "markdown",
   "metadata": {},
   "source": [
    "# Healthy to Amputee w/ folds "
   ]
  },
  {
   "cell_type": "code",
   "execution_count": 1133,
   "metadata": {
    "collapsed": false
   },
   "outputs": [
    {
     "name": "stdout",
     "output_type": "stream",
     "text": [
      "AUC = 0.9946, Sens = 1.0000, Spec = 0.9200\n",
      "AUC = 0.9819, Sens = 0.9827, Spec = 0.9500\n",
      "AUC = 1.0000, Sens = 1.0000, Spec = 1.0000\n",
      "AUC = 0.9773, Sens = 0.9256, Spec = 0.9200\n",
      "AUC = 0.9659, Sens = 0.9571, Spec = 0.8800\n",
      "AUC = 1.0000, Sens = 1.0000, Spec = 1.0000\n",
      "mean AUC = 0.987 (+/- 0.025)\n",
      "mean Sens = 0.978 (+/- 0.056)\n",
      "mean Spec = 0.945 (+/- 0.088)\n"
     ]
    }
   ],
   "source": [
    "AUC_all_HA, fpr_all_HA, tpr_all_HA, Sens_all_HA, Spec_all_HA, TTPR_allHA, TFPR_allHA, TOpt, T90 = EvaluateBySubject(Healthy,Amp)"
   ]
  },
  {
   "cell_type": "code",
   "execution_count": 1134,
   "metadata": {
    "collapsed": false
   },
   "outputs": [
    {
     "data": {
      "text/plain": [
       "0.49666666666666676"
      ]
     },
     "execution_count": 1134,
     "metadata": {},
     "output_type": "execute_result"
    }
   ],
   "source": [
    "TOpt"
   ]
  },
  {
   "cell_type": "code",
   "execution_count": 1135,
   "metadata": {
    "collapsed": false
   },
   "outputs": [
    {
     "data": {
      "text/plain": [
       "(0.1, 1.1)"
      ]
     },
     "execution_count": 1135,
     "metadata": {},
     "output_type": "execute_result"
    },
    {
     "data": {
      "image/png": "[encoded data removed]",
      "text/plain": [
       "<matplotlib.figure.Figure at 0x164461d0>"
      ]
     },
     "metadata": {},
     "output_type": "display_data"
    }
   ],
   "source": [
    "TTPR_allHA = np.asarray(TTPR_allHA)\n",
    "TFPR_allHA = np.asarray(TFPR_allHA)\n",
    "\n",
    "tprmuHA = np.mean(TTPR_allHA)\n",
    "tprerrHA = np.std(TTPR_allHA)/math.sqrt(len(TTPR_allHA))*1.96\n",
    "fprmuHA = np.mean(TFPR_allHA)\n",
    "fprerrHA = np.std(TFPR_allHA)/math.sqrt(len(TFPR_allHA))*1.96\n",
    "\n",
    "plt.figure(figsize=(8,6))\n",
    "AX = plot_roc(tpr_all_HA,fpr_all_HA,np.mean(AUC_all_HA))\n",
    "AX.errorbar(fprmuHA,tprmuHA,xerr = fprerrHA,yerr = tprerrHA, ecolor = 'r',marker='.',mec='r',mfc='r',ms=15,lw=2)\n",
    "AX.set_title('Healthy-Amputee')\n",
    "plt.ylim([0.1,1.1])"
   ]
  },
  {
   "cell_type": "code",
   "execution_count": 1136,
   "metadata": {
    "collapsed": false
   },
   "outputs": [
    {
     "name": "stdout",
     "output_type": "stream",
     "text": [
      "HA vs. AA 0.242\n",
      "HH vs. HA 0.523\n"
     ]
    }
   ],
   "source": [
    "[t_value, p_value] = stats.ttest_rel(AUC_all_HA,AUC_all_AA)\n",
    "print('HA vs. AA %0.3f'%(p_value))\n",
    "\n",
    "[t_value, p_value] = stats.ttest_ind(AUC_all_HH,AUC_all_HA)\n",
    "print('HH vs. HA %0.3f'%(p_value))"
   ]
  },
  {
   "cell_type": "code",
   "execution_count": 1137,
   "metadata": {
    "collapsed": false
   },
   "outputs": [],
   "source": [
    "dataroc= [[tpr_all_HH,fpr_all_HH,AUC_all_HH,fprmuHH,tprmuHH,fprerrHH,tprerrHH],\n",
    "          [tpr_all_HA,fpr_all_HA,AUC_all_HA,fprmuHA,tprmuHA,fprerrHA,tprerrHA],\n",
    "          [tpr_all_AA,fpr_all_AA,AUC_all_AA,fprmuAA,tprmuAA,fprerrAA,tprerrAA]]"
   ]
  },
  {
   "cell_type": "code",
   "execution_count": 1138,
   "metadata": {
    "collapsed": false,
    "scrolled": true
   },
   "outputs": [
    {
     "data": {
      "text/plain": [
       "<matplotlib.legend.Legend at 0xca29b38>"
      ]
     },
     "execution_count": 1138,
     "metadata": {},
     "output_type": "execute_result"
    },
    {
     "data": {
      "image/png": "[encoded data removed]",
      "text/plain": [
       "<matplotlib.figure.Figure at 0xca29fd0>"
      ]
     },
     "metadata": {},
     "output_type": "display_data"
    }
   ],
   "source": [
    "AX.errorbar(fprmuAA,tprmuAA,xerr = fprerrAA,yerr = tprerrAA, ecolor = 'r',marker='.',mec='r',mfc='r',ms=15,lw=2)\n",
    "\n",
    "\n",
    "population = ['Healthy-Healthy','Healthy-Amputee','Amputee-Amputee']\n",
    "fig = plt.figure(figsize=(8,6))\n",
    "ax1=None\n",
    "sns.set_context('talk')\n",
    "for index,value in enumerate(population):\n",
    "    ax1 = plot_roc(dataroc[index][0],dataroc[index][1],np.mean(dataroc[index][2]),plotname=value,\n",
    "                   col=current_palette[index],ax=ax1)\n",
    "    \n",
    "    ax1.errorbar(dataroc[index][3],dataroc[index][4],xerr = dataroc[index][5],yerr = dataroc[index][6], \n",
    "                 ecolor = current_palette[index],\n",
    "                 marker='.',mec=current_palette[index],mfc=current_palette[index],ms=20,lw=3,\n",
    "                 color = current_palette[index],\n",
    "                 label='%s Thresholding' %(value))\n",
    "    \n",
    "ax1.legend(loc='lower right',fontsize = 14)"
   ]
  },
  {
   "cell_type": "code",
   "execution_count": 1139,
   "metadata": {
    "collapsed": true
   },
   "outputs": [],
   "source": [
    "fig = ax1.get_figure()\n",
    "fig.savefig('./Figs/Fig2.jpg')"
   ]
  },
  {
   "cell_type": "code",
   "execution_count": 1140,
   "metadata": {
    "collapsed": false
   },
   "outputs": [
    {
     "data": {
      "text/plain": [
       "([], [])"
      ]
     },
     "execution_count": 1140,
     "metadata": {},
     "output_type": "execute_result"
    }
   ],
   "source": [
    "ax.get_legend_handles_labels()"
   ]
  },
  {
   "cell_type": "markdown",
   "metadata": {},
   "source": [
    "# Location Analysis"
   ]
  },
  {
   "cell_type": "markdown",
   "metadata": {},
   "source": [
    "## Train on all locs (Healthy) and test on each location (Waist, Pocket and Hand) for amputees"
   ]
  },
  {
   "cell_type": "code",
   "execution_count": 1141,
   "metadata": {
    "collapsed": false
   },
   "outputs": [
    {
     "name": "stdout",
     "output_type": "stream",
     "text": [
      "AUC = 1.0000, Sens = 1.0000, Spec = 1.0000\n",
      "AUC = 1.0000, Sens = 1.0000, Spec = 1.0000\n",
      "AUC = 1.0000, Sens = 1.0000, Spec = 1.0000\n",
      "AUC = 0.9493, Sens = 1.0000, Spec = 0.8900\n",
      "AUC = 0.9756, Sens = 0.9571, Spec = 0.9400\n",
      "AUC = 1.0000, Sens = 1.0000, Spec = 1.0000\n",
      "mean AUC = 0.987 (+/- 0.039)\n",
      "mean Sens = 0.993 (+/- 0.032)\n",
      "mean Spec = 0.972 (+/- 0.085)\n",
      "AUC = 1.0000, Sens = 1.0000, Spec = 1.0000\n",
      "AUC = 1.0000, Sens = 1.0000, Spec = 1.0000\n",
      "AUC = 0.9879, Sens = 0.9444, Spec = 1.0000\n",
      "AUC = 1.0000, Sens = 1.0000, Spec = 1.0000\n",
      "mean AUC = 0.997 (+/- 0.010)\n",
      "mean Sens = 0.986 (+/- 0.048)\n",
      "mean Spec = 1.000 (+/- 0.000)\n",
      "AUC = 0.9925, Sens = 0.9286, Spec = 1.0000\n",
      "AUC = 0.9089, Sens = 0.9823, Spec = 0.8500\n",
      "AUC = 1.0000, Sens = 1.0000, Spec = 1.0000\n",
      "AUC = 0.9978, Sens = 0.9500, Spec = 1.0000\n",
      "AUC = 1.0000, Sens = 1.0000, Spec = 1.0000\n",
      "mean AUC = 0.980 (+/- 0.071)\n",
      "mean Sens = 0.972 (+/- 0.057)\n",
      "mean Spec = 0.970 (+/- 0.120)\n"
     ]
    },
    {
     "data": {
      "text/plain": [
       "<matplotlib.legend.Legend at 0xe9c9f60>"
      ]
     },
     "execution_count": 1141,
     "metadata": {},
     "output_type": "execute_result"
    },
    {
     "data": {
      "image/png": "[encoded data removed]",
      "text/plain": [
       "<matplotlib.figure.Figure at 0xdbc9160>"
      ]
     },
     "metadata": {},
     "output_type": "display_data"
    }
   ],
   "source": [
    "sns.set_context('talk')\n",
    "locs = [1,2,3]\n",
    "fig = plt.figure(figsize=(8,6))\n",
    "ax1=None\n",
    "\n",
    "#remove subjects with no falls for some locations\n",
    "Amp = Amp[(Amp.SubjID!=1)|(Amp.Loc!=2)]\n",
    "Amp = Amp[(Amp.SubjID!=6)|((Amp.Loc!=2)&(Amp.Loc!=3))]\n",
    "\n",
    "locAUC=[]\n",
    "\n",
    "for l,name in zip(locs,['Waist','Pocket','Hand']):\n",
    "    \n",
    "    #filter amputees data (test data)\n",
    "    Ampdata = Amp[Amp.Loc==l]\n",
    "    \n",
    "    AUC_all_HA, fpr_all_HA, tpr_all_HA, Sens_all_HA, Spec_all_HA, TTPR_allHA, TFPR_allHA, _, _ = EvaluateBySubject(Healthy,Ampdata)\n",
    "\n",
    "    locAUC.append(AUC_all_HA)\n",
    "    \n",
    "    TTPR_allHA = np.asarray(TTPR_allHA)\n",
    "    TFPR_allHA = np.asarray(TFPR_allHA)\n",
    "\n",
    "    tprmu = np.mean(TTPR_allHA)\n",
    "    tprerr = np.std(TTPR_allHA)/math.sqrt(len(TTPR_allHA))*1.96\n",
    "    fprmu = np.mean(TFPR_allHA)\n",
    "    fprerr = np.std(TFPR_allHA)/math.sqrt(len(TFPR_allHA))*1.96\n",
    "    \n",
    "#     ax1 = fig.add_subplot(2,2,l) #uncomment this line to generate subplots\n",
    "    ax1 = plot_roc(tpr_all_HA,fpr_all_HA,np.mean(AUC_all_HA),ax1,plotname=name,col=current_palette[l-1])\n",
    "    ax1.errorbar(fprmu,tprmu,xerr = fprerr,yerr = tprerr, ecolor = current_palette[l-1],\n",
    "                 marker='.',mec=current_palette[l-1],mfc=current_palette[l-1],ms=20,lw=3,color = current_palette[l-1],\n",
    "                 label='%s Thresholding' %(name))\n",
    "\n",
    "ax1.set_title('Results by location')\n",
    "ax1.legend(loc=4,fontsize = 14)"
   ]
  },
  {
   "cell_type": "code",
   "execution_count": 1142,
   "metadata": {
    "collapsed": false
   },
   "outputs": [
    {
     "name": "stdout",
     "output_type": "stream",
     "text": [
      "Waist vs. Pocket 0.337\n",
      "Waist vs. Hand 0.712\n",
      "Pocket vs. Hand 0.393\n"
     ]
    }
   ],
   "source": [
    "[t_value, p_value] = stats.ttest_ind(locAUC[0],locAUC[1],equal_var=False)\n",
    "print('Waist vs. Pocket %0.3f'%(p_value))\n",
    "\n",
    "[t_value, p_value] = stats.ttest_ind(locAUC[0],locAUC[2],equal_var=False)\n",
    "print('Waist vs. Hand %0.3f'%(p_value))\n",
    "\n",
    "[t_value, p_value] = stats.ttest_ind(locAUC[1],locAUC[2],equal_var=False)\n",
    "print('Pocket vs. Hand %0.3f'%(p_value))"
   ]
  },
  {
   "cell_type": "code",
   "execution_count": 1143,
   "metadata": {
    "collapsed": true
   },
   "outputs": [],
   "source": [
    "fig = ax1.get_figure()\n",
    "fig.savefig('./Figs/Fig3.jpg')\n",
    "fig.savefig('./Figs/Fig3.tif')"
   ]
  },
  {
   "cell_type": "markdown",
   "metadata": {},
   "source": [
    "# Home data analysis"
   ]
  },
  {
   "cell_type": "code",
   "execution_count": 1144,
   "metadata": {
    "collapsed": false
   },
   "outputs": [],
   "source": [
    "Amp = pd.read_csv('./Data/Amp10.csv',header=None)\n",
    "Amp = Amp.rename(index=int, columns={0:'SubjID',1:'Loc',2:'Subjtype',3:'Falltype',950:'AccMax',951:'AccMin'})\n",
    "Homedata = pd.read_csv('./Data/HomeData.csv',header=None)\n",
    "Homedata = Homedata.rename(index=int, columns={0:'SubjID',1:'Loc',2:'Subjtype',3:'Falltype',950:'AccMax',951:'AccMin'})\n",
    "Homedata.Falltype = 0\n",
    "Amp.loc[Amp.Falltype<9,'Falltype'] = 1\n",
    "Amp.loc[Amp.Falltype==9,'Falltype'] = 0"
   ]
  },
  {
   "cell_type": "code",
   "execution_count": 1145,
   "metadata": {
    "collapsed": false
   },
   "outputs": [],
   "source": [
    "homesubj = Homedata.SubjID.unique()"
   ]
  },
  {
   "cell_type": "code",
   "execution_count": 1146,
   "metadata": {
    "collapsed": false
   },
   "outputs": [
    {
     "data": {
      "text/plain": [
       "array([1, 6, 7], dtype=int64)"
      ]
     },
     "execution_count": 1146,
     "metadata": {},
     "output_type": "execute_result"
    }
   ],
   "source": [
    "homesubj"
   ]
  },
  {
   "cell_type": "code",
   "execution_count": 1147,
   "metadata": {
    "collapsed": false
   },
   "outputs": [],
   "source": [
    "for s in homesubj:\n",
    "    Homedata = pd.concat([Amp[(Amp.SubjID==s) & (Amp.Falltype==1)],Homedata],axis=0)"
   ]
  },
  {
   "cell_type": "code",
   "execution_count": 1148,
   "metadata": {
    "collapsed": false
   },
   "outputs": [
    {
     "data": {
      "text/plain": [
       "(3092, 1215)"
      ]
     },
     "execution_count": 1148,
     "metadata": {},
     "output_type": "execute_result"
    }
   ],
   "source": [
    "Homedata.shape"
   ]
  },
  {
   "cell_type": "code",
   "execution_count": 1149,
   "metadata": {
    "collapsed": false
   },
   "outputs": [
    {
     "data": {
      "text/html": [
       "<div>\n",
       "<table border=\"1\" class=\"dataframe\">\n",
       "  <thead>\n",
       "    <tr style=\"text-align: right;\">\n",
       "      <th></th>\n",
       "      <th>SubjID</th>\n",
       "      <th>Loc</th>\n",
       "      <th>Subjtype</th>\n",
       "      <th>Falltype</th>\n",
       "      <th>4</th>\n",
       "      <th>5</th>\n",
       "      <th>6</th>\n",
       "      <th>7</th>\n",
       "      <th>8</th>\n",
       "      <th>9</th>\n",
       "      <th>...</th>\n",
       "      <th>1205</th>\n",
       "      <th>1206</th>\n",
       "      <th>1207</th>\n",
       "      <th>1208</th>\n",
       "      <th>1209</th>\n",
       "      <th>1210</th>\n",
       "      <th>1211</th>\n",
       "      <th>1212</th>\n",
       "      <th>1213</th>\n",
       "      <th>1214</th>\n",
       "    </tr>\n",
       "  </thead>\n",
       "  <tbody>\n",
       "    <tr>\n",
       "      <th>130</th>\n",
       "      <td>7</td>\n",
       "      <td>1</td>\n",
       "      <td>0</td>\n",
       "      <td>1</td>\n",
       "      <td>0.345590</td>\n",
       "      <td>0.092185</td>\n",
       "      <td>-0.069031</td>\n",
       "      <td>-0.051326</td>\n",
       "      <td>-0.057101</td>\n",
       "      <td>0.005613</td>\n",
       "      <td>...</td>\n",
       "      <td>1.77230</td>\n",
       "      <td>2.94680</td>\n",
       "      <td>1.92190</td>\n",
       "      <td>-0.116210</td>\n",
       "      <td>0.70733</td>\n",
       "      <td>0.31827</td>\n",
       "      <td>0.62481</td>\n",
       "      <td>0.42696</td>\n",
       "      <td>3.05100</td>\n",
       "      <td>1.535000</td>\n",
       "    </tr>\n",
       "    <tr>\n",
       "      <th>131</th>\n",
       "      <td>7</td>\n",
       "      <td>1</td>\n",
       "      <td>0</td>\n",
       "      <td>1</td>\n",
       "      <td>0.439750</td>\n",
       "      <td>0.181280</td>\n",
       "      <td>-0.054606</td>\n",
       "      <td>-0.041979</td>\n",
       "      <td>-0.060627</td>\n",
       "      <td>0.007145</td>\n",
       "      <td>...</td>\n",
       "      <td>1.16320</td>\n",
       "      <td>-0.19768</td>\n",
       "      <td>1.37100</td>\n",
       "      <td>-0.277380</td>\n",
       "      <td>12.89900</td>\n",
       "      <td>3.81690</td>\n",
       "      <td>4.37390</td>\n",
       "      <td>4.07860</td>\n",
       "      <td>57.64400</td>\n",
       "      <td>4.230600</td>\n",
       "    </tr>\n",
       "    <tr>\n",
       "      <th>132</th>\n",
       "      <td>7</td>\n",
       "      <td>1</td>\n",
       "      <td>0</td>\n",
       "      <td>1</td>\n",
       "      <td>0.413320</td>\n",
       "      <td>0.192410</td>\n",
       "      <td>-0.090221</td>\n",
       "      <td>-0.044696</td>\n",
       "      <td>-0.053649</td>\n",
       "      <td>0.003373</td>\n",
       "      <td>...</td>\n",
       "      <td>1.27380</td>\n",
       "      <td>0.39833</td>\n",
       "      <td>1.37100</td>\n",
       "      <td>-0.002321</td>\n",
       "      <td>2.05760</td>\n",
       "      <td>1.14970</td>\n",
       "      <td>0.37798</td>\n",
       "      <td>0.40947</td>\n",
       "      <td>9.70990</td>\n",
       "      <td>1.837200</td>\n",
       "    </tr>\n",
       "    <tr>\n",
       "      <th>133</th>\n",
       "      <td>7</td>\n",
       "      <td>1</td>\n",
       "      <td>0</td>\n",
       "      <td>1</td>\n",
       "      <td>-0.562280</td>\n",
       "      <td>-0.340100</td>\n",
       "      <td>0.125410</td>\n",
       "      <td>-0.060538</td>\n",
       "      <td>-0.064292</td>\n",
       "      <td>0.004161</td>\n",
       "      <td>...</td>\n",
       "      <td>2.16830</td>\n",
       "      <td>4.73490</td>\n",
       "      <td>1.37100</td>\n",
       "      <td>-0.483590</td>\n",
       "      <td>0.37400</td>\n",
       "      <td>0.22128</td>\n",
       "      <td>0.63142</td>\n",
       "      <td>0.50891</td>\n",
       "      <td>0.86526</td>\n",
       "      <td>1.203000</td>\n",
       "    </tr>\n",
       "    <tr>\n",
       "      <th>134</th>\n",
       "      <td>7</td>\n",
       "      <td>1</td>\n",
       "      <td>0</td>\n",
       "      <td>1</td>\n",
       "      <td>-0.543680</td>\n",
       "      <td>-0.284050</td>\n",
       "      <td>0.045471</td>\n",
       "      <td>-0.057022</td>\n",
       "      <td>-0.064169</td>\n",
       "      <td>0.003641</td>\n",
       "      <td>...</td>\n",
       "      <td>0.82146</td>\n",
       "      <td>-2.10400</td>\n",
       "      <td>1.37100</td>\n",
       "      <td>-0.758480</td>\n",
       "      <td>0.50380</td>\n",
       "      <td>0.66709</td>\n",
       "      <td>0.80257</td>\n",
       "      <td>0.64374</td>\n",
       "      <td>0.63470</td>\n",
       "      <td>1.709200</td>\n",
       "    </tr>\n",
       "    <tr>\n",
       "      <th>135</th>\n",
       "      <td>7</td>\n",
       "      <td>1</td>\n",
       "      <td>0</td>\n",
       "      <td>1</td>\n",
       "      <td>-0.567450</td>\n",
       "      <td>-0.292140</td>\n",
       "      <td>0.291380</td>\n",
       "      <td>-0.054128</td>\n",
       "      <td>-0.064433</td>\n",
       "      <td>0.005678</td>\n",
       "      <td>...</td>\n",
       "      <td>1.87880</td>\n",
       "      <td>3.73610</td>\n",
       "      <td>1.92190</td>\n",
       "      <td>-0.422980</td>\n",
       "      <td>0.36443</td>\n",
       "      <td>0.61864</td>\n",
       "      <td>0.32795</td>\n",
       "      <td>0.42600</td>\n",
       "      <td>0.68353</td>\n",
       "      <td>0.986880</td>\n",
       "    </tr>\n",
       "    <tr>\n",
       "      <th>136</th>\n",
       "      <td>7</td>\n",
       "      <td>1</td>\n",
       "      <td>0</td>\n",
       "      <td>1</td>\n",
       "      <td>0.306510</td>\n",
       "      <td>-0.064877</td>\n",
       "      <td>0.228910</td>\n",
       "      <td>0.028107</td>\n",
       "      <td>-0.088593</td>\n",
       "      <td>0.010071</td>\n",
       "      <td>...</td>\n",
       "      <td>2.23090</td>\n",
       "      <td>4.98160</td>\n",
       "      <td>0.72193</td>\n",
       "      <td>-0.088850</td>\n",
       "      <td>0.71635</td>\n",
       "      <td>0.58196</td>\n",
       "      <td>0.44670</td>\n",
       "      <td>0.46523</td>\n",
       "      <td>3.05740</td>\n",
       "      <td>1.679300</td>\n",
       "    </tr>\n",
       "    <tr>\n",
       "      <th>137</th>\n",
       "      <td>7</td>\n",
       "      <td>1</td>\n",
       "      <td>0</td>\n",
       "      <td>1</td>\n",
       "      <td>-0.652580</td>\n",
       "      <td>0.013163</td>\n",
       "      <td>0.183830</td>\n",
       "      <td>-0.122030</td>\n",
       "      <td>-0.083137</td>\n",
       "      <td>-0.038932</td>\n",
       "      <td>...</td>\n",
       "      <td>1.60650</td>\n",
       "      <td>2.13290</td>\n",
       "      <td>1.37100</td>\n",
       "      <td>0.093467</td>\n",
       "      <td>0.29251</td>\n",
       "      <td>0.22057</td>\n",
       "      <td>0.28801</td>\n",
       "      <td>0.46647</td>\n",
       "      <td>0.31134</td>\n",
       "      <td>1.052000</td>\n",
       "    </tr>\n",
       "    <tr>\n",
       "      <th>138</th>\n",
       "      <td>7</td>\n",
       "      <td>1</td>\n",
       "      <td>0</td>\n",
       "      <td>1</td>\n",
       "      <td>-0.656690</td>\n",
       "      <td>-0.099764</td>\n",
       "      <td>0.063733</td>\n",
       "      <td>-0.220180</td>\n",
       "      <td>-0.121070</td>\n",
       "      <td>0.009766</td>\n",
       "      <td>...</td>\n",
       "      <td>1.94890</td>\n",
       "      <td>3.80860</td>\n",
       "      <td>1.92190</td>\n",
       "      <td>-0.471950</td>\n",
       "      <td>0.56907</td>\n",
       "      <td>0.61973</td>\n",
       "      <td>0.52809</td>\n",
       "      <td>0.46083</td>\n",
       "      <td>2.18930</td>\n",
       "      <td>1.293600</td>\n",
       "    </tr>\n",
       "    <tr>\n",
       "      <th>139</th>\n",
       "      <td>7</td>\n",
       "      <td>1</td>\n",
       "      <td>0</td>\n",
       "      <td>1</td>\n",
       "      <td>0.126920</td>\n",
       "      <td>0.069122</td>\n",
       "      <td>0.307330</td>\n",
       "      <td>-0.028488</td>\n",
       "      <td>-0.069977</td>\n",
       "      <td>0.065876</td>\n",
       "      <td>...</td>\n",
       "      <td>1.32330</td>\n",
       "      <td>0.68939</td>\n",
       "      <td>1.37100</td>\n",
       "      <td>-0.510830</td>\n",
       "      <td>0.41629</td>\n",
       "      <td>0.35613</td>\n",
       "      <td>0.63344</td>\n",
       "      <td>0.65215</td>\n",
       "      <td>0.96821</td>\n",
       "      <td>1.131900</td>\n",
       "    </tr>\n",
       "    <tr>\n",
       "      <th>140</th>\n",
       "      <td>7</td>\n",
       "      <td>1</td>\n",
       "      <td>0</td>\n",
       "      <td>1</td>\n",
       "      <td>-0.023446</td>\n",
       "      <td>0.182870</td>\n",
       "      <td>0.320270</td>\n",
       "      <td>0.067087</td>\n",
       "      <td>-0.072579</td>\n",
       "      <td>0.077719</td>\n",
       "      <td>...</td>\n",
       "      <td>2.17700</td>\n",
       "      <td>4.77070</td>\n",
       "      <td>1.37100</td>\n",
       "      <td>-0.470380</td>\n",
       "      <td>0.32488</td>\n",
       "      <td>0.43502</td>\n",
       "      <td>0.46403</td>\n",
       "      <td>0.57654</td>\n",
       "      <td>0.59698</td>\n",
       "      <td>0.858630</td>\n",
       "    </tr>\n",
       "    <tr>\n",
       "      <th>141</th>\n",
       "      <td>7</td>\n",
       "      <td>1</td>\n",
       "      <td>0</td>\n",
       "      <td>1</td>\n",
       "      <td>-0.026255</td>\n",
       "      <td>0.208310</td>\n",
       "      <td>0.372850</td>\n",
       "      <td>0.045223</td>\n",
       "      <td>0.080719</td>\n",
       "      <td>0.051267</td>\n",
       "      <td>...</td>\n",
       "      <td>2.12960</td>\n",
       "      <td>4.58150</td>\n",
       "      <td>1.37100</td>\n",
       "      <td>-0.742110</td>\n",
       "      <td>0.37133</td>\n",
       "      <td>0.29527</td>\n",
       "      <td>0.53639</td>\n",
       "      <td>0.63589</td>\n",
       "      <td>0.56801</td>\n",
       "      <td>1.192800</td>\n",
       "    </tr>\n",
       "    <tr>\n",
       "      <th>142</th>\n",
       "      <td>7</td>\n",
       "      <td>3</td>\n",
       "      <td>0</td>\n",
       "      <td>1</td>\n",
       "      <td>-0.347450</td>\n",
       "      <td>0.277010</td>\n",
       "      <td>-0.100540</td>\n",
       "      <td>-0.088589</td>\n",
       "      <td>-0.092337</td>\n",
       "      <td>0.007165</td>\n",
       "      <td>...</td>\n",
       "      <td>1.88590</td>\n",
       "      <td>3.53250</td>\n",
       "      <td>1.92190</td>\n",
       "      <td>0.130350</td>\n",
       "      <td>0.33633</td>\n",
       "      <td>0.35167</td>\n",
       "      <td>0.49392</td>\n",
       "      <td>0.76456</td>\n",
       "      <td>1.19390</td>\n",
       "      <td>0.428060</td>\n",
       "    </tr>\n",
       "    <tr>\n",
       "      <th>143</th>\n",
       "      <td>7</td>\n",
       "      <td>3</td>\n",
       "      <td>0</td>\n",
       "      <td>1</td>\n",
       "      <td>-0.256340</td>\n",
       "      <td>0.448460</td>\n",
       "      <td>-0.213520</td>\n",
       "      <td>-0.041139</td>\n",
       "      <td>-0.056478</td>\n",
       "      <td>-0.028084</td>\n",
       "      <td>...</td>\n",
       "      <td>1.30600</td>\n",
       "      <td>1.12180</td>\n",
       "      <td>1.92190</td>\n",
       "      <td>-0.135840</td>\n",
       "      <td>0.31870</td>\n",
       "      <td>0.70063</td>\n",
       "      <td>0.35051</td>\n",
       "      <td>0.40017</td>\n",
       "      <td>0.78187</td>\n",
       "      <td>0.880180</td>\n",
       "    </tr>\n",
       "    <tr>\n",
       "      <th>144</th>\n",
       "      <td>7</td>\n",
       "      <td>3</td>\n",
       "      <td>0</td>\n",
       "      <td>1</td>\n",
       "      <td>-0.067332</td>\n",
       "      <td>0.481940</td>\n",
       "      <td>-0.605100</td>\n",
       "      <td>-0.033542</td>\n",
       "      <td>0.013439</td>\n",
       "      <td>-0.013112</td>\n",
       "      <td>...</td>\n",
       "      <td>2.04830</td>\n",
       "      <td>4.33950</td>\n",
       "      <td>1.92190</td>\n",
       "      <td>-0.802190</td>\n",
       "      <td>0.44258</td>\n",
       "      <td>0.64821</td>\n",
       "      <td>0.70461</td>\n",
       "      <td>0.59416</td>\n",
       "      <td>0.38984</td>\n",
       "      <td>1.257600</td>\n",
       "    </tr>\n",
       "    <tr>\n",
       "      <th>145</th>\n",
       "      <td>7</td>\n",
       "      <td>3</td>\n",
       "      <td>0</td>\n",
       "      <td>1</td>\n",
       "      <td>-0.000607</td>\n",
       "      <td>-0.442060</td>\n",
       "      <td>0.160800</td>\n",
       "      <td>-0.058577</td>\n",
       "      <td>-0.075737</td>\n",
       "      <td>0.007324</td>\n",
       "      <td>...</td>\n",
       "      <td>1.99490</td>\n",
       "      <td>3.98820</td>\n",
       "      <td>1.37100</td>\n",
       "      <td>-0.563010</td>\n",
       "      <td>0.29756</td>\n",
       "      <td>0.62949</td>\n",
       "      <td>0.25466</td>\n",
       "      <td>0.40699</td>\n",
       "      <td>0.41090</td>\n",
       "      <td>0.658670</td>\n",
       "    </tr>\n",
       "    <tr>\n",
       "      <th>146</th>\n",
       "      <td>7</td>\n",
       "      <td>3</td>\n",
       "      <td>0</td>\n",
       "      <td>1</td>\n",
       "      <td>0.121920</td>\n",
       "      <td>-0.320110</td>\n",
       "      <td>-0.319810</td>\n",
       "      <td>-0.013098</td>\n",
       "      <td>-0.089850</td>\n",
       "      <td>0.000940</td>\n",
       "      <td>...</td>\n",
       "      <td>1.77220</td>\n",
       "      <td>3.01840</td>\n",
       "      <td>1.92190</td>\n",
       "      <td>-0.574410</td>\n",
       "      <td>0.39223</td>\n",
       "      <td>1.35910</td>\n",
       "      <td>0.72215</td>\n",
       "      <td>0.47075</td>\n",
       "      <td>0.48029</td>\n",
       "      <td>0.490290</td>\n",
       "    </tr>\n",
       "    <tr>\n",
       "      <th>147</th>\n",
       "      <td>7</td>\n",
       "      <td>3</td>\n",
       "      <td>0</td>\n",
       "      <td>1</td>\n",
       "      <td>-0.144320</td>\n",
       "      <td>0.651410</td>\n",
       "      <td>-0.233300</td>\n",
       "      <td>0.029183</td>\n",
       "      <td>0.264390</td>\n",
       "      <td>-0.165160</td>\n",
       "      <td>...</td>\n",
       "      <td>0.61036</td>\n",
       "      <td>-3.32210</td>\n",
       "      <td>0.97095</td>\n",
       "      <td>-0.749290</td>\n",
       "      <td>0.38521</td>\n",
       "      <td>0.41630</td>\n",
       "      <td>0.61706</td>\n",
       "      <td>0.60908</td>\n",
       "      <td>0.77782</td>\n",
       "      <td>1.014000</td>\n",
       "    </tr>\n",
       "    <tr>\n",
       "      <th>148</th>\n",
       "      <td>7</td>\n",
       "      <td>3</td>\n",
       "      <td>0</td>\n",
       "      <td>1</td>\n",
       "      <td>0.421320</td>\n",
       "      <td>0.258830</td>\n",
       "      <td>-0.306220</td>\n",
       "      <td>0.270270</td>\n",
       "      <td>0.533690</td>\n",
       "      <td>-0.550170</td>\n",
       "      <td>...</td>\n",
       "      <td>1.43260</td>\n",
       "      <td>1.59450</td>\n",
       "      <td>1.92190</td>\n",
       "      <td>0.287020</td>\n",
       "      <td>0.27465</td>\n",
       "      <td>0.78352</td>\n",
       "      <td>0.45072</td>\n",
       "      <td>0.69040</td>\n",
       "      <td>0.45254</td>\n",
       "      <td>0.295860</td>\n",
       "    </tr>\n",
       "    <tr>\n",
       "      <th>149</th>\n",
       "      <td>7</td>\n",
       "      <td>3</td>\n",
       "      <td>0</td>\n",
       "      <td>1</td>\n",
       "      <td>0.070713</td>\n",
       "      <td>0.538510</td>\n",
       "      <td>-0.408210</td>\n",
       "      <td>0.022782</td>\n",
       "      <td>0.456710</td>\n",
       "      <td>-0.319700</td>\n",
       "      <td>...</td>\n",
       "      <td>1.03850</td>\n",
       "      <td>-0.87433</td>\n",
       "      <td>1.37100</td>\n",
       "      <td>-0.182720</td>\n",
       "      <td>0.38677</td>\n",
       "      <td>0.45354</td>\n",
       "      <td>0.50828</td>\n",
       "      <td>0.51493</td>\n",
       "      <td>1.03420</td>\n",
       "      <td>0.796360</td>\n",
       "    </tr>\n",
       "    <tr>\n",
       "      <th>150</th>\n",
       "      <td>7</td>\n",
       "      <td>3</td>\n",
       "      <td>0</td>\n",
       "      <td>1</td>\n",
       "      <td>-0.447680</td>\n",
       "      <td>0.109490</td>\n",
       "      <td>-0.415100</td>\n",
       "      <td>-0.130110</td>\n",
       "      <td>-0.045991</td>\n",
       "      <td>-0.019779</td>\n",
       "      <td>...</td>\n",
       "      <td>1.59880</td>\n",
       "      <td>2.32860</td>\n",
       "      <td>1.92190</td>\n",
       "      <td>-0.788990</td>\n",
       "      <td>0.49120</td>\n",
       "      <td>1.35110</td>\n",
       "      <td>0.38587</td>\n",
       "      <td>0.26942</td>\n",
       "      <td>0.70900</td>\n",
       "      <td>1.000400</td>\n",
       "    </tr>\n",
       "    <tr>\n",
       "      <th>151</th>\n",
       "      <td>7</td>\n",
       "      <td>3</td>\n",
       "      <td>0</td>\n",
       "      <td>1</td>\n",
       "      <td>-0.279710</td>\n",
       "      <td>-0.380870</td>\n",
       "      <td>0.074848</td>\n",
       "      <td>-0.282110</td>\n",
       "      <td>-0.272390</td>\n",
       "      <td>0.254690</td>\n",
       "      <td>...</td>\n",
       "      <td>2.12410</td>\n",
       "      <td>4.55190</td>\n",
       "      <td>1.37100</td>\n",
       "      <td>-0.040925</td>\n",
       "      <td>0.32164</td>\n",
       "      <td>0.38964</td>\n",
       "      <td>0.77420</td>\n",
       "      <td>0.35476</td>\n",
       "      <td>0.85296</td>\n",
       "      <td>0.698340</td>\n",
       "    </tr>\n",
       "    <tr>\n",
       "      <th>152</th>\n",
       "      <td>7</td>\n",
       "      <td>3</td>\n",
       "      <td>0</td>\n",
       "      <td>1</td>\n",
       "      <td>0.360330</td>\n",
       "      <td>1.994200</td>\n",
       "      <td>-0.546910</td>\n",
       "      <td>-0.260440</td>\n",
       "      <td>0.302690</td>\n",
       "      <td>-0.097396</td>\n",
       "      <td>...</td>\n",
       "      <td>1.90940</td>\n",
       "      <td>3.59960</td>\n",
       "      <td>1.37100</td>\n",
       "      <td>-0.184380</td>\n",
       "      <td>0.38656</td>\n",
       "      <td>0.56314</td>\n",
       "      <td>0.33602</td>\n",
       "      <td>0.26767</td>\n",
       "      <td>0.53928</td>\n",
       "      <td>1.411100</td>\n",
       "    </tr>\n",
       "    <tr>\n",
       "      <th>153</th>\n",
       "      <td>7</td>\n",
       "      <td>2</td>\n",
       "      <td>0</td>\n",
       "      <td>1</td>\n",
       "      <td>0.322600</td>\n",
       "      <td>-0.371670</td>\n",
       "      <td>-0.025085</td>\n",
       "      <td>-0.048527</td>\n",
       "      <td>-0.069078</td>\n",
       "      <td>0.007748</td>\n",
       "      <td>...</td>\n",
       "      <td>2.17310</td>\n",
       "      <td>4.75430</td>\n",
       "      <td>1.37100</td>\n",
       "      <td>0.269470</td>\n",
       "      <td>0.28770</td>\n",
       "      <td>0.47786</td>\n",
       "      <td>0.34745</td>\n",
       "      <td>0.32055</td>\n",
       "      <td>0.54681</td>\n",
       "      <td>0.829320</td>\n",
       "    </tr>\n",
       "    <tr>\n",
       "      <th>154</th>\n",
       "      <td>7</td>\n",
       "      <td>2</td>\n",
       "      <td>0</td>\n",
       "      <td>1</td>\n",
       "      <td>0.349250</td>\n",
       "      <td>-0.359380</td>\n",
       "      <td>-0.013979</td>\n",
       "      <td>-0.007352</td>\n",
       "      <td>-0.075020</td>\n",
       "      <td>0.025782</td>\n",
       "      <td>...</td>\n",
       "      <td>2.15070</td>\n",
       "      <td>4.66590</td>\n",
       "      <td>1.37100</td>\n",
       "      <td>0.132890</td>\n",
       "      <td>0.33914</td>\n",
       "      <td>0.34326</td>\n",
       "      <td>0.77839</td>\n",
       "      <td>0.66015</td>\n",
       "      <td>1.00850</td>\n",
       "      <td>0.729060</td>\n",
       "    </tr>\n",
       "    <tr>\n",
       "      <th>155</th>\n",
       "      <td>7</td>\n",
       "      <td>2</td>\n",
       "      <td>0</td>\n",
       "      <td>1</td>\n",
       "      <td>0.358550</td>\n",
       "      <td>-0.287200</td>\n",
       "      <td>-0.086248</td>\n",
       "      <td>-0.040372</td>\n",
       "      <td>-0.074016</td>\n",
       "      <td>-0.009340</td>\n",
       "      <td>...</td>\n",
       "      <td>2.23380</td>\n",
       "      <td>4.99190</td>\n",
       "      <td>0.72193</td>\n",
       "      <td>-0.075680</td>\n",
       "      <td>0.41162</td>\n",
       "      <td>0.61429</td>\n",
       "      <td>0.80184</td>\n",
       "      <td>0.47443</td>\n",
       "      <td>1.50440</td>\n",
       "      <td>0.714620</td>\n",
       "    </tr>\n",
       "    <tr>\n",
       "      <th>156</th>\n",
       "      <td>7</td>\n",
       "      <td>2</td>\n",
       "      <td>0</td>\n",
       "      <td>1</td>\n",
       "      <td>-0.500560</td>\n",
       "      <td>0.023264</td>\n",
       "      <td>-0.303990</td>\n",
       "      <td>-0.065059</td>\n",
       "      <td>-0.057881</td>\n",
       "      <td>-0.002806</td>\n",
       "      <td>...</td>\n",
       "      <td>1.01770</td>\n",
       "      <td>-0.97844</td>\n",
       "      <td>1.37100</td>\n",
       "      <td>-0.140650</td>\n",
       "      <td>2.08040</td>\n",
       "      <td>0.44250</td>\n",
       "      <td>0.33929</td>\n",
       "      <td>1.09020</td>\n",
       "      <td>1.13990</td>\n",
       "      <td>0.269720</td>\n",
       "    </tr>\n",
       "    <tr>\n",
       "      <th>157</th>\n",
       "      <td>7</td>\n",
       "      <td>2</td>\n",
       "      <td>0</td>\n",
       "      <td>1</td>\n",
       "      <td>-0.374940</td>\n",
       "      <td>-0.219380</td>\n",
       "      <td>0.008271</td>\n",
       "      <td>-0.061114</td>\n",
       "      <td>-0.068416</td>\n",
       "      <td>0.005127</td>\n",
       "      <td>...</td>\n",
       "      <td>2.22820</td>\n",
       "      <td>4.97170</td>\n",
       "      <td>0.72193</td>\n",
       "      <td>0.014658</td>\n",
       "      <td>1.14140</td>\n",
       "      <td>0.29956</td>\n",
       "      <td>0.32692</td>\n",
       "      <td>0.38321</td>\n",
       "      <td>5.39330</td>\n",
       "      <td>1.266300</td>\n",
       "    </tr>\n",
       "    <tr>\n",
       "      <th>158</th>\n",
       "      <td>7</td>\n",
       "      <td>2</td>\n",
       "      <td>0</td>\n",
       "      <td>1</td>\n",
       "      <td>-0.406040</td>\n",
       "      <td>-0.026050</td>\n",
       "      <td>0.016468</td>\n",
       "      <td>-0.058647</td>\n",
       "      <td>-0.064371</td>\n",
       "      <td>0.005966</td>\n",
       "      <td>...</td>\n",
       "      <td>0.93574</td>\n",
       "      <td>-1.45330</td>\n",
       "      <td>1.37100</td>\n",
       "      <td>-0.278170</td>\n",
       "      <td>0.75869</td>\n",
       "      <td>0.50612</td>\n",
       "      <td>0.75924</td>\n",
       "      <td>0.53662</td>\n",
       "      <td>2.46190</td>\n",
       "      <td>2.541500</td>\n",
       "    </tr>\n",
       "    <tr>\n",
       "      <th>159</th>\n",
       "      <td>7</td>\n",
       "      <td>2</td>\n",
       "      <td>0</td>\n",
       "      <td>1</td>\n",
       "      <td>0.164550</td>\n",
       "      <td>-0.426170</td>\n",
       "      <td>-0.109360</td>\n",
       "      <td>0.078336</td>\n",
       "      <td>-0.177820</td>\n",
       "      <td>0.129530</td>\n",
       "      <td>...</td>\n",
       "      <td>2.21560</td>\n",
       "      <td>4.92490</td>\n",
       "      <td>1.37100</td>\n",
       "      <td>-0.451750</td>\n",
       "      <td>0.27140</td>\n",
       "      <td>0.72208</td>\n",
       "      <td>0.34749</td>\n",
       "      <td>0.60268</td>\n",
       "      <td>0.65591</td>\n",
       "      <td>0.275260</td>\n",
       "    </tr>\n",
       "    <tr>\n",
       "      <th>...</th>\n",
       "      <td>...</td>\n",
       "      <td>...</td>\n",
       "      <td>...</td>\n",
       "      <td>...</td>\n",
       "      <td>...</td>\n",
       "      <td>...</td>\n",
       "      <td>...</td>\n",
       "      <td>...</td>\n",
       "      <td>...</td>\n",
       "      <td>...</td>\n",
       "      <td>...</td>\n",
       "      <td>...</td>\n",
       "      <td>...</td>\n",
       "      <td>...</td>\n",
       "      <td>...</td>\n",
       "      <td>...</td>\n",
       "      <td>...</td>\n",
       "      <td>...</td>\n",
       "      <td>...</td>\n",
       "      <td>...</td>\n",
       "      <td>...</td>\n",
       "    </tr>\n",
       "    <tr>\n",
       "      <th>2437</th>\n",
       "      <td>7</td>\n",
       "      <td>1</td>\n",
       "      <td>1</td>\n",
       "      <td>0</td>\n",
       "      <td>0.091225</td>\n",
       "      <td>0.100140</td>\n",
       "      <td>0.044013</td>\n",
       "      <td>-0.011107</td>\n",
       "      <td>0.004474</td>\n",
       "      <td>0.011615</td>\n",
       "      <td>...</td>\n",
       "      <td>2.23600</td>\n",
       "      <td>4.99990</td>\n",
       "      <td>0.72193</td>\n",
       "      <td>-0.038799</td>\n",
       "      <td>0.32586</td>\n",
       "      <td>0.78412</td>\n",
       "      <td>0.34903</td>\n",
       "      <td>0.57444</td>\n",
       "      <td>0.70650</td>\n",
       "      <td>0.698860</td>\n",
       "    </tr>\n",
       "    <tr>\n",
       "      <th>2438</th>\n",
       "      <td>7</td>\n",
       "      <td>1</td>\n",
       "      <td>1</td>\n",
       "      <td>0</td>\n",
       "      <td>-0.137830</td>\n",
       "      <td>0.154690</td>\n",
       "      <td>0.521830</td>\n",
       "      <td>-0.076686</td>\n",
       "      <td>0.162030</td>\n",
       "      <td>0.304970</td>\n",
       "      <td>...</td>\n",
       "      <td>2.23510</td>\n",
       "      <td>4.99670</td>\n",
       "      <td>0.72193</td>\n",
       "      <td>-0.172420</td>\n",
       "      <td>0.23815</td>\n",
       "      <td>0.58385</td>\n",
       "      <td>0.55907</td>\n",
       "      <td>0.53048</td>\n",
       "      <td>0.33399</td>\n",
       "      <td>0.215590</td>\n",
       "    </tr>\n",
       "    <tr>\n",
       "      <th>2439</th>\n",
       "      <td>7</td>\n",
       "      <td>1</td>\n",
       "      <td>1</td>\n",
       "      <td>0</td>\n",
       "      <td>0.022255</td>\n",
       "      <td>-0.095910</td>\n",
       "      <td>0.002985</td>\n",
       "      <td>-0.007154</td>\n",
       "      <td>0.002928</td>\n",
       "      <td>0.012302</td>\n",
       "      <td>...</td>\n",
       "      <td>2.23610</td>\n",
       "      <td>5.00000</td>\n",
       "      <td>0.72193</td>\n",
       "      <td>0.216150</td>\n",
       "      <td>0.34074</td>\n",
       "      <td>0.78069</td>\n",
       "      <td>0.81110</td>\n",
       "      <td>0.33589</td>\n",
       "      <td>0.66812</td>\n",
       "      <td>0.251400</td>\n",
       "    </tr>\n",
       "    <tr>\n",
       "      <th>2440</th>\n",
       "      <td>7</td>\n",
       "      <td>1</td>\n",
       "      <td>1</td>\n",
       "      <td>0</td>\n",
       "      <td>0.004464</td>\n",
       "      <td>0.018189</td>\n",
       "      <td>0.020928</td>\n",
       "      <td>-0.008759</td>\n",
       "      <td>0.001608</td>\n",
       "      <td>0.010642</td>\n",
       "      <td>...</td>\n",
       "      <td>1.09570</td>\n",
       "      <td>-0.56499</td>\n",
       "      <td>1.37100</td>\n",
       "      <td>0.360630</td>\n",
       "      <td>0.27903</td>\n",
       "      <td>0.79142</td>\n",
       "      <td>0.56210</td>\n",
       "      <td>0.57486</td>\n",
       "      <td>0.62364</td>\n",
       "      <td>0.557090</td>\n",
       "    </tr>\n",
       "    <tr>\n",
       "      <th>2441</th>\n",
       "      <td>7</td>\n",
       "      <td>1</td>\n",
       "      <td>1</td>\n",
       "      <td>0</td>\n",
       "      <td>-0.037074</td>\n",
       "      <td>-0.016492</td>\n",
       "      <td>-0.254200</td>\n",
       "      <td>-0.008175</td>\n",
       "      <td>0.003129</td>\n",
       "      <td>0.010280</td>\n",
       "      <td>...</td>\n",
       "      <td>2.23580</td>\n",
       "      <td>4.99920</td>\n",
       "      <td>0.72193</td>\n",
       "      <td>0.025376</td>\n",
       "      <td>0.22768</td>\n",
       "      <td>0.71342</td>\n",
       "      <td>0.48571</td>\n",
       "      <td>0.42009</td>\n",
       "      <td>0.35353</td>\n",
       "      <td>0.107360</td>\n",
       "    </tr>\n",
       "    <tr>\n",
       "      <th>2442</th>\n",
       "      <td>7</td>\n",
       "      <td>1</td>\n",
       "      <td>1</td>\n",
       "      <td>0</td>\n",
       "      <td>-0.077039</td>\n",
       "      <td>-0.003081</td>\n",
       "      <td>-0.035323</td>\n",
       "      <td>-0.018647</td>\n",
       "      <td>0.004709</td>\n",
       "      <td>0.008969</td>\n",
       "      <td>...</td>\n",
       "      <td>2.22370</td>\n",
       "      <td>4.95650</td>\n",
       "      <td>0.72193</td>\n",
       "      <td>-0.010707</td>\n",
       "      <td>0.26384</td>\n",
       "      <td>0.54331</td>\n",
       "      <td>0.49407</td>\n",
       "      <td>0.33048</td>\n",
       "      <td>0.15274</td>\n",
       "      <td>0.675140</td>\n",
       "    </tr>\n",
       "    <tr>\n",
       "      <th>2443</th>\n",
       "      <td>7</td>\n",
       "      <td>1</td>\n",
       "      <td>1</td>\n",
       "      <td>0</td>\n",
       "      <td>-0.030349</td>\n",
       "      <td>0.039030</td>\n",
       "      <td>0.426360</td>\n",
       "      <td>-0.024086</td>\n",
       "      <td>0.104060</td>\n",
       "      <td>0.019646</td>\n",
       "      <td>...</td>\n",
       "      <td>1.91840</td>\n",
       "      <td>3.66080</td>\n",
       "      <td>1.92190</td>\n",
       "      <td>-0.147480</td>\n",
       "      <td>0.23470</td>\n",
       "      <td>0.31130</td>\n",
       "      <td>0.40218</td>\n",
       "      <td>0.55861</td>\n",
       "      <td>0.41875</td>\n",
       "      <td>0.321240</td>\n",
       "    </tr>\n",
       "    <tr>\n",
       "      <th>2444</th>\n",
       "      <td>7</td>\n",
       "      <td>1</td>\n",
       "      <td>1</td>\n",
       "      <td>0</td>\n",
       "      <td>0.049268</td>\n",
       "      <td>-0.008635</td>\n",
       "      <td>0.087876</td>\n",
       "      <td>0.001254</td>\n",
       "      <td>0.021840</td>\n",
       "      <td>0.039510</td>\n",
       "      <td>...</td>\n",
       "      <td>1.93530</td>\n",
       "      <td>3.78610</td>\n",
       "      <td>1.92190</td>\n",
       "      <td>-0.465380</td>\n",
       "      <td>0.27147</td>\n",
       "      <td>0.73592</td>\n",
       "      <td>0.25979</td>\n",
       "      <td>0.42539</td>\n",
       "      <td>0.66477</td>\n",
       "      <td>0.285450</td>\n",
       "    </tr>\n",
       "    <tr>\n",
       "      <th>2445</th>\n",
       "      <td>7</td>\n",
       "      <td>1</td>\n",
       "      <td>1</td>\n",
       "      <td>0</td>\n",
       "      <td>0.067431</td>\n",
       "      <td>-0.105520</td>\n",
       "      <td>-0.155380</td>\n",
       "      <td>0.003796</td>\n",
       "      <td>0.000100</td>\n",
       "      <td>-0.059017</td>\n",
       "      <td>...</td>\n",
       "      <td>2.23590</td>\n",
       "      <td>4.99960</td>\n",
       "      <td>0.72193</td>\n",
       "      <td>-0.037653</td>\n",
       "      <td>0.22585</td>\n",
       "      <td>0.32903</td>\n",
       "      <td>0.72452</td>\n",
       "      <td>0.44294</td>\n",
       "      <td>0.58857</td>\n",
       "      <td>0.300640</td>\n",
       "    </tr>\n",
       "    <tr>\n",
       "      <th>2446</th>\n",
       "      <td>7</td>\n",
       "      <td>1</td>\n",
       "      <td>1</td>\n",
       "      <td>0</td>\n",
       "      <td>0.130180</td>\n",
       "      <td>0.096719</td>\n",
       "      <td>0.155930</td>\n",
       "      <td>-0.019491</td>\n",
       "      <td>0.007101</td>\n",
       "      <td>-0.024536</td>\n",
       "      <td>...</td>\n",
       "      <td>1.89450</td>\n",
       "      <td>3.52810</td>\n",
       "      <td>1.37100</td>\n",
       "      <td>-0.031425</td>\n",
       "      <td>0.30706</td>\n",
       "      <td>0.48500</td>\n",
       "      <td>0.88318</td>\n",
       "      <td>0.32740</td>\n",
       "      <td>0.83931</td>\n",
       "      <td>0.532030</td>\n",
       "    </tr>\n",
       "    <tr>\n",
       "      <th>2447</th>\n",
       "      <td>7</td>\n",
       "      <td>1</td>\n",
       "      <td>1</td>\n",
       "      <td>0</td>\n",
       "      <td>0.197820</td>\n",
       "      <td>0.035896</td>\n",
       "      <td>-0.139140</td>\n",
       "      <td>0.023310</td>\n",
       "      <td>0.116580</td>\n",
       "      <td>-0.101940</td>\n",
       "      <td>...</td>\n",
       "      <td>0.74869</td>\n",
       "      <td>0.10371</td>\n",
       "      <td>1.92190</td>\n",
       "      <td>-0.234600</td>\n",
       "      <td>0.25552</td>\n",
       "      <td>0.61081</td>\n",
       "      <td>0.56052</td>\n",
       "      <td>0.67903</td>\n",
       "      <td>0.46221</td>\n",
       "      <td>0.389490</td>\n",
       "    </tr>\n",
       "    <tr>\n",
       "      <th>2448</th>\n",
       "      <td>7</td>\n",
       "      <td>1</td>\n",
       "      <td>1</td>\n",
       "      <td>0</td>\n",
       "      <td>-0.342540</td>\n",
       "      <td>-0.008376</td>\n",
       "      <td>-0.032494</td>\n",
       "      <td>-0.294030</td>\n",
       "      <td>-0.029005</td>\n",
       "      <td>0.004750</td>\n",
       "      <td>...</td>\n",
       "      <td>2.23570</td>\n",
       "      <td>4.99860</td>\n",
       "      <td>0.72193</td>\n",
       "      <td>0.128580</td>\n",
       "      <td>0.31367</td>\n",
       "      <td>0.54034</td>\n",
       "      <td>0.81293</td>\n",
       "      <td>0.67768</td>\n",
       "      <td>0.91734</td>\n",
       "      <td>0.571660</td>\n",
       "    </tr>\n",
       "    <tr>\n",
       "      <th>2449</th>\n",
       "      <td>7</td>\n",
       "      <td>1</td>\n",
       "      <td>1</td>\n",
       "      <td>0</td>\n",
       "      <td>0.131270</td>\n",
       "      <td>0.051435</td>\n",
       "      <td>0.047160</td>\n",
       "      <td>0.000019</td>\n",
       "      <td>0.054255</td>\n",
       "      <td>0.085659</td>\n",
       "      <td>...</td>\n",
       "      <td>2.19880</td>\n",
       "      <td>4.85930</td>\n",
       "      <td>1.37100</td>\n",
       "      <td>-0.592120</td>\n",
       "      <td>0.38535</td>\n",
       "      <td>0.46024</td>\n",
       "      <td>1.17560</td>\n",
       "      <td>0.75327</td>\n",
       "      <td>0.49822</td>\n",
       "      <td>0.532660</td>\n",
       "    </tr>\n",
       "    <tr>\n",
       "      <th>2450</th>\n",
       "      <td>7</td>\n",
       "      <td>1</td>\n",
       "      <td>1</td>\n",
       "      <td>0</td>\n",
       "      <td>0.278680</td>\n",
       "      <td>0.175850</td>\n",
       "      <td>0.034602</td>\n",
       "      <td>0.233490</td>\n",
       "      <td>0.241120</td>\n",
       "      <td>-0.032606</td>\n",
       "      <td>...</td>\n",
       "      <td>0.65165</td>\n",
       "      <td>-2.90090</td>\n",
       "      <td>1.92190</td>\n",
       "      <td>-0.010001</td>\n",
       "      <td>0.42619</td>\n",
       "      <td>1.16180</td>\n",
       "      <td>0.54110</td>\n",
       "      <td>0.77435</td>\n",
       "      <td>1.08590</td>\n",
       "      <td>0.576480</td>\n",
       "    </tr>\n",
       "    <tr>\n",
       "      <th>2451</th>\n",
       "      <td>7</td>\n",
       "      <td>1</td>\n",
       "      <td>1</td>\n",
       "      <td>0</td>\n",
       "      <td>-0.109320</td>\n",
       "      <td>0.051696</td>\n",
       "      <td>-0.109770</td>\n",
       "      <td>-0.054727</td>\n",
       "      <td>0.008743</td>\n",
       "      <td>0.005293</td>\n",
       "      <td>...</td>\n",
       "      <td>0.60522</td>\n",
       "      <td>-3.31120</td>\n",
       "      <td>0.97095</td>\n",
       "      <td>-0.671590</td>\n",
       "      <td>0.35533</td>\n",
       "      <td>0.73047</td>\n",
       "      <td>0.27524</td>\n",
       "      <td>0.31653</td>\n",
       "      <td>0.48505</td>\n",
       "      <td>0.453350</td>\n",
       "    </tr>\n",
       "    <tr>\n",
       "      <th>2452</th>\n",
       "      <td>7</td>\n",
       "      <td>1</td>\n",
       "      <td>1</td>\n",
       "      <td>0</td>\n",
       "      <td>-0.007345</td>\n",
       "      <td>0.044114</td>\n",
       "      <td>-0.005104</td>\n",
       "      <td>0.004624</td>\n",
       "      <td>0.013265</td>\n",
       "      <td>0.005231</td>\n",
       "      <td>...</td>\n",
       "      <td>2.21670</td>\n",
       "      <td>4.92920</td>\n",
       "      <td>1.37100</td>\n",
       "      <td>-0.358420</td>\n",
       "      <td>0.28191</td>\n",
       "      <td>0.70892</td>\n",
       "      <td>0.30552</td>\n",
       "      <td>0.46330</td>\n",
       "      <td>0.40560</td>\n",
       "      <td>0.267320</td>\n",
       "    </tr>\n",
       "    <tr>\n",
       "      <th>2453</th>\n",
       "      <td>7</td>\n",
       "      <td>1</td>\n",
       "      <td>1</td>\n",
       "      <td>0</td>\n",
       "      <td>0.031866</td>\n",
       "      <td>-0.028538</td>\n",
       "      <td>0.054126</td>\n",
       "      <td>-0.002541</td>\n",
       "      <td>0.009711</td>\n",
       "      <td>0.001911</td>\n",
       "      <td>...</td>\n",
       "      <td>2.08960</td>\n",
       "      <td>4.40700</td>\n",
       "      <td>1.37100</td>\n",
       "      <td>0.049639</td>\n",
       "      <td>0.29650</td>\n",
       "      <td>0.51607</td>\n",
       "      <td>0.44451</td>\n",
       "      <td>0.57722</td>\n",
       "      <td>0.58842</td>\n",
       "      <td>0.426320</td>\n",
       "    </tr>\n",
       "    <tr>\n",
       "      <th>2454</th>\n",
       "      <td>7</td>\n",
       "      <td>1</td>\n",
       "      <td>1</td>\n",
       "      <td>0</td>\n",
       "      <td>0.025029</td>\n",
       "      <td>0.030450</td>\n",
       "      <td>-0.034649</td>\n",
       "      <td>-0.000511</td>\n",
       "      <td>-0.007173</td>\n",
       "      <td>0.004424</td>\n",
       "      <td>...</td>\n",
       "      <td>2.23290</td>\n",
       "      <td>4.98850</td>\n",
       "      <td>0.72193</td>\n",
       "      <td>-0.082837</td>\n",
       "      <td>0.26765</td>\n",
       "      <td>0.50048</td>\n",
       "      <td>0.74468</td>\n",
       "      <td>0.38586</td>\n",
       "      <td>0.45573</td>\n",
       "      <td>0.527420</td>\n",
       "    </tr>\n",
       "    <tr>\n",
       "      <th>2455</th>\n",
       "      <td>7</td>\n",
       "      <td>1</td>\n",
       "      <td>1</td>\n",
       "      <td>0</td>\n",
       "      <td>-0.015713</td>\n",
       "      <td>-0.028909</td>\n",
       "      <td>-0.026011</td>\n",
       "      <td>-0.045969</td>\n",
       "      <td>-0.017313</td>\n",
       "      <td>-0.019432</td>\n",
       "      <td>...</td>\n",
       "      <td>1.82700</td>\n",
       "      <td>3.53040</td>\n",
       "      <td>1.92190</td>\n",
       "      <td>0.461710</td>\n",
       "      <td>0.34825</td>\n",
       "      <td>0.57561</td>\n",
       "      <td>0.96400</td>\n",
       "      <td>0.68443</td>\n",
       "      <td>0.20531</td>\n",
       "      <td>0.678550</td>\n",
       "    </tr>\n",
       "    <tr>\n",
       "      <th>2456</th>\n",
       "      <td>7</td>\n",
       "      <td>1</td>\n",
       "      <td>1</td>\n",
       "      <td>0</td>\n",
       "      <td>-0.018646</td>\n",
       "      <td>-0.068340</td>\n",
       "      <td>-0.083283</td>\n",
       "      <td>-0.006973</td>\n",
       "      <td>-0.080106</td>\n",
       "      <td>-0.007184</td>\n",
       "      <td>...</td>\n",
       "      <td>2.23570</td>\n",
       "      <td>4.99870</td>\n",
       "      <td>0.72193</td>\n",
       "      <td>-0.016243</td>\n",
       "      <td>0.29271</td>\n",
       "      <td>0.44988</td>\n",
       "      <td>0.56909</td>\n",
       "      <td>0.81308</td>\n",
       "      <td>0.58477</td>\n",
       "      <td>0.152860</td>\n",
       "    </tr>\n",
       "    <tr>\n",
       "      <th>2457</th>\n",
       "      <td>7</td>\n",
       "      <td>1</td>\n",
       "      <td>1</td>\n",
       "      <td>0</td>\n",
       "      <td>0.374770</td>\n",
       "      <td>0.206360</td>\n",
       "      <td>-0.095992</td>\n",
       "      <td>0.154340</td>\n",
       "      <td>0.050276</td>\n",
       "      <td>-0.070307</td>\n",
       "      <td>...</td>\n",
       "      <td>2.21220</td>\n",
       "      <td>4.90990</td>\n",
       "      <td>1.37100</td>\n",
       "      <td>0.571760</td>\n",
       "      <td>0.43336</td>\n",
       "      <td>0.83742</td>\n",
       "      <td>0.90038</td>\n",
       "      <td>0.87047</td>\n",
       "      <td>1.17900</td>\n",
       "      <td>0.644570</td>\n",
       "    </tr>\n",
       "    <tr>\n",
       "      <th>2458</th>\n",
       "      <td>7</td>\n",
       "      <td>1</td>\n",
       "      <td>1</td>\n",
       "      <td>0</td>\n",
       "      <td>-0.173850</td>\n",
       "      <td>-0.310890</td>\n",
       "      <td>0.160990</td>\n",
       "      <td>-0.106850</td>\n",
       "      <td>-0.209860</td>\n",
       "      <td>0.153910</td>\n",
       "      <td>...</td>\n",
       "      <td>1.37080</td>\n",
       "      <td>1.27820</td>\n",
       "      <td>1.92190</td>\n",
       "      <td>-0.067877</td>\n",
       "      <td>0.31534</td>\n",
       "      <td>0.50321</td>\n",
       "      <td>0.87717</td>\n",
       "      <td>0.74354</td>\n",
       "      <td>0.53858</td>\n",
       "      <td>0.078863</td>\n",
       "    </tr>\n",
       "    <tr>\n",
       "      <th>2459</th>\n",
       "      <td>7</td>\n",
       "      <td>1</td>\n",
       "      <td>1</td>\n",
       "      <td>0</td>\n",
       "      <td>0.046182</td>\n",
       "      <td>-0.095134</td>\n",
       "      <td>-0.139360</td>\n",
       "      <td>0.012026</td>\n",
       "      <td>-0.120940</td>\n",
       "      <td>-0.541150</td>\n",
       "      <td>...</td>\n",
       "      <td>2.06260</td>\n",
       "      <td>4.34130</td>\n",
       "      <td>1.92190</td>\n",
       "      <td>0.456180</td>\n",
       "      <td>0.33172</td>\n",
       "      <td>0.68982</td>\n",
       "      <td>1.00110</td>\n",
       "      <td>0.76649</td>\n",
       "      <td>0.62999</td>\n",
       "      <td>0.469710</td>\n",
       "    </tr>\n",
       "    <tr>\n",
       "      <th>2460</th>\n",
       "      <td>7</td>\n",
       "      <td>1</td>\n",
       "      <td>1</td>\n",
       "      <td>0</td>\n",
       "      <td>0.035281</td>\n",
       "      <td>-0.412090</td>\n",
       "      <td>0.163690</td>\n",
       "      <td>-0.015902</td>\n",
       "      <td>0.005044</td>\n",
       "      <td>0.013378</td>\n",
       "      <td>...</td>\n",
       "      <td>-0.40455</td>\n",
       "      <td>-3.13590</td>\n",
       "      <td>1.52190</td>\n",
       "      <td>-0.162290</td>\n",
       "      <td>0.32959</td>\n",
       "      <td>0.48924</td>\n",
       "      <td>0.81291</td>\n",
       "      <td>0.62774</td>\n",
       "      <td>0.56087</td>\n",
       "      <td>0.642410</td>\n",
       "    </tr>\n",
       "    <tr>\n",
       "      <th>2461</th>\n",
       "      <td>7</td>\n",
       "      <td>1</td>\n",
       "      <td>1</td>\n",
       "      <td>0</td>\n",
       "      <td>-0.017752</td>\n",
       "      <td>-0.054111</td>\n",
       "      <td>0.008218</td>\n",
       "      <td>-0.012498</td>\n",
       "      <td>-0.006764</td>\n",
       "      <td>0.014237</td>\n",
       "      <td>...</td>\n",
       "      <td>2.15280</td>\n",
       "      <td>4.67160</td>\n",
       "      <td>1.37100</td>\n",
       "      <td>0.004279</td>\n",
       "      <td>0.34197</td>\n",
       "      <td>0.55929</td>\n",
       "      <td>0.61833</td>\n",
       "      <td>0.82190</td>\n",
       "      <td>0.75769</td>\n",
       "      <td>0.271720</td>\n",
       "    </tr>\n",
       "    <tr>\n",
       "      <th>2462</th>\n",
       "      <td>7</td>\n",
       "      <td>1</td>\n",
       "      <td>1</td>\n",
       "      <td>0</td>\n",
       "      <td>0.346060</td>\n",
       "      <td>-0.142780</td>\n",
       "      <td>0.181690</td>\n",
       "      <td>0.052446</td>\n",
       "      <td>-0.059220</td>\n",
       "      <td>0.058103</td>\n",
       "      <td>...</td>\n",
       "      <td>2.21720</td>\n",
       "      <td>4.93140</td>\n",
       "      <td>1.37100</td>\n",
       "      <td>0.805860</td>\n",
       "      <td>0.36870</td>\n",
       "      <td>0.78182</td>\n",
       "      <td>0.35478</td>\n",
       "      <td>0.42518</td>\n",
       "      <td>0.58173</td>\n",
       "      <td>0.965530</td>\n",
       "    </tr>\n",
       "    <tr>\n",
       "      <th>2463</th>\n",
       "      <td>7</td>\n",
       "      <td>1</td>\n",
       "      <td>1</td>\n",
       "      <td>0</td>\n",
       "      <td>-0.008068</td>\n",
       "      <td>0.001135</td>\n",
       "      <td>-0.124530</td>\n",
       "      <td>-0.013327</td>\n",
       "      <td>0.005703</td>\n",
       "      <td>0.010046</td>\n",
       "      <td>...</td>\n",
       "      <td>2.07470</td>\n",
       "      <td>4.46470</td>\n",
       "      <td>1.92190</td>\n",
       "      <td>0.504600</td>\n",
       "      <td>0.27417</td>\n",
       "      <td>0.52877</td>\n",
       "      <td>0.47816</td>\n",
       "      <td>0.67314</td>\n",
       "      <td>0.63720</td>\n",
       "      <td>0.630670</td>\n",
       "    </tr>\n",
       "    <tr>\n",
       "      <th>2464</th>\n",
       "      <td>7</td>\n",
       "      <td>1</td>\n",
       "      <td>1</td>\n",
       "      <td>0</td>\n",
       "      <td>0.110660</td>\n",
       "      <td>-0.097622</td>\n",
       "      <td>0.043422</td>\n",
       "      <td>-0.013179</td>\n",
       "      <td>0.005528</td>\n",
       "      <td>0.010847</td>\n",
       "      <td>...</td>\n",
       "      <td>2.23610</td>\n",
       "      <td>5.00000</td>\n",
       "      <td>0.72193</td>\n",
       "      <td>-0.386480</td>\n",
       "      <td>0.31207</td>\n",
       "      <td>0.39509</td>\n",
       "      <td>0.73429</td>\n",
       "      <td>0.39542</td>\n",
       "      <td>1.00510</td>\n",
       "      <td>0.332450</td>\n",
       "    </tr>\n",
       "    <tr>\n",
       "      <th>2465</th>\n",
       "      <td>7</td>\n",
       "      <td>1</td>\n",
       "      <td>1</td>\n",
       "      <td>0</td>\n",
       "      <td>-0.055463</td>\n",
       "      <td>0.075052</td>\n",
       "      <td>0.291530</td>\n",
       "      <td>-0.020158</td>\n",
       "      <td>-0.048770</td>\n",
       "      <td>0.069233</td>\n",
       "      <td>...</td>\n",
       "      <td>1.68470</td>\n",
       "      <td>2.51840</td>\n",
       "      <td>1.37100</td>\n",
       "      <td>0.267190</td>\n",
       "      <td>0.24962</td>\n",
       "      <td>0.64811</td>\n",
       "      <td>0.48660</td>\n",
       "      <td>0.42184</td>\n",
       "      <td>0.59912</td>\n",
       "      <td>0.319390</td>\n",
       "    </tr>\n",
       "    <tr>\n",
       "      <th>2466</th>\n",
       "      <td>7</td>\n",
       "      <td>1</td>\n",
       "      <td>1</td>\n",
       "      <td>0</td>\n",
       "      <td>0.021240</td>\n",
       "      <td>-0.008681</td>\n",
       "      <td>0.233010</td>\n",
       "      <td>0.026373</td>\n",
       "      <td>0.005063</td>\n",
       "      <td>0.008798</td>\n",
       "      <td>...</td>\n",
       "      <td>1.52810</td>\n",
       "      <td>2.36310</td>\n",
       "      <td>2.32190</td>\n",
       "      <td>-0.056783</td>\n",
       "      <td>0.41624</td>\n",
       "      <td>0.74051</td>\n",
       "      <td>0.83274</td>\n",
       "      <td>0.55291</td>\n",
       "      <td>1.20870</td>\n",
       "      <td>0.543430</td>\n",
       "    </tr>\n",
       "  </tbody>\n",
       "</table>\n",
       "<p>3092 rows × 1215 columns</p>\n",
       "</div>"
      ],
      "text/plain": [
       "      SubjID  Loc  Subjtype  Falltype         4         5         6         7  \\\n",
       "130        7    1         0         1  0.345590  0.092185 -0.069031 -0.051326   \n",
       "131        7    1         0         1  0.439750  0.181280 -0.054606 -0.041979   \n",
       "132        7    1         0         1  0.413320  0.192410 -0.090221 -0.044696   \n",
       "133        7    1         0         1 -0.562280 -0.340100  0.125410 -0.060538   \n",
       "134        7    1         0         1 -0.543680 -0.284050  0.045471 -0.057022   \n",
       "135        7    1         0         1 -0.567450 -0.292140  0.291380 -0.054128   \n",
       "136        7    1         0         1  0.306510 -0.064877  0.228910  0.028107   \n",
       "137        7    1         0         1 -0.652580  0.013163  0.183830 -0.122030   \n",
       "138        7    1         0         1 -0.656690 -0.099764  0.063733 -0.220180   \n",
       "139        7    1         0         1  0.126920  0.069122  0.307330 -0.028488   \n",
       "140        7    1         0         1 -0.023446  0.182870  0.320270  0.067087   \n",
       "141        7    1         0         1 -0.026255  0.208310  0.372850  0.045223   \n",
       "142        7    3         0         1 -0.347450  0.277010 -0.100540 -0.088589   \n",
       "143        7    3         0         1 -0.256340  0.448460 -0.213520 -0.041139   \n",
       "144        7    3         0         1 -0.067332  0.481940 -0.605100 -0.033542   \n",
       "145        7    3         0         1 -0.000607 -0.442060  0.160800 -0.058577   \n",
       "146        7    3         0         1  0.121920 -0.320110 -0.319810 -0.013098   \n",
       "147        7    3         0         1 -0.144320  0.651410 -0.233300  0.029183   \n",
       "148        7    3         0         1  0.421320  0.258830 -0.306220  0.270270   \n",
       "149        7    3         0         1  0.070713  0.538510 -0.408210  0.022782   \n",
       "150        7    3         0         1 -0.447680  0.109490 -0.415100 -0.130110   \n",
       "151        7    3         0         1 -0.279710 -0.380870  0.074848 -0.282110   \n",
       "152        7    3         0         1  0.360330  1.994200 -0.546910 -0.260440   \n",
       "153        7    2         0         1  0.322600 -0.371670 -0.025085 -0.048527   \n",
       "154        7    2         0         1  0.349250 -0.359380 -0.013979 -0.007352   \n",
       "155        7    2         0         1  0.358550 -0.287200 -0.086248 -0.040372   \n",
       "156        7    2         0         1 -0.500560  0.023264 -0.303990 -0.065059   \n",
       "157        7    2         0         1 -0.374940 -0.219380  0.008271 -0.061114   \n",
       "158        7    2         0         1 -0.406040 -0.026050  0.016468 -0.058647   \n",
       "159        7    2         0         1  0.164550 -0.426170 -0.109360  0.078336   \n",
       "...      ...  ...       ...       ...       ...       ...       ...       ...   \n",
       "2437       7    1         1         0  0.091225  0.100140  0.044013 -0.011107   \n",
       "2438       7    1         1         0 -0.137830  0.154690  0.521830 -0.076686   \n",
       "2439       7    1         1         0  0.022255 -0.095910  0.002985 -0.007154   \n",
       "2440       7    1         1         0  0.004464  0.018189  0.020928 -0.008759   \n",
       "2441       7    1         1         0 -0.037074 -0.016492 -0.254200 -0.008175   \n",
       "2442       7    1         1         0 -0.077039 -0.003081 -0.035323 -0.018647   \n",
       "2443       7    1         1         0 -0.030349  0.039030  0.426360 -0.024086   \n",
       "2444       7    1         1         0  0.049268 -0.008635  0.087876  0.001254   \n",
       "2445       7    1         1         0  0.067431 -0.105520 -0.155380  0.003796   \n",
       "2446       7    1         1         0  0.130180  0.096719  0.155930 -0.019491   \n",
       "2447       7    1         1         0  0.197820  0.035896 -0.139140  0.023310   \n",
       "2448       7    1         1         0 -0.342540 -0.008376 -0.032494 -0.294030   \n",
       "2449       7    1         1         0  0.131270  0.051435  0.047160  0.000019   \n",
       "2450       7    1         1         0  0.278680  0.175850  0.034602  0.233490   \n",
       "2451       7    1         1         0 -0.109320  0.051696 -0.109770 -0.054727   \n",
       "2452       7    1         1         0 -0.007345  0.044114 -0.005104  0.004624   \n",
       "2453       7    1         1         0  0.031866 -0.028538  0.054126 -0.002541   \n",
       "2454       7    1         1         0  0.025029  0.030450 -0.034649 -0.000511   \n",
       "2455       7    1         1         0 -0.015713 -0.028909 -0.026011 -0.045969   \n",
       "2456       7    1         1         0 -0.018646 -0.068340 -0.083283 -0.006973   \n",
       "2457       7    1         1         0  0.374770  0.206360 -0.095992  0.154340   \n",
       "2458       7    1         1         0 -0.173850 -0.310890  0.160990 -0.106850   \n",
       "2459       7    1         1         0  0.046182 -0.095134 -0.139360  0.012026   \n",
       "2460       7    1         1         0  0.035281 -0.412090  0.163690 -0.015902   \n",
       "2461       7    1         1         0 -0.017752 -0.054111  0.008218 -0.012498   \n",
       "2462       7    1         1         0  0.346060 -0.142780  0.181690  0.052446   \n",
       "2463       7    1         1         0 -0.008068  0.001135 -0.124530 -0.013327   \n",
       "2464       7    1         1         0  0.110660 -0.097622  0.043422 -0.013179   \n",
       "2465       7    1         1         0 -0.055463  0.075052  0.291530 -0.020158   \n",
       "2466       7    1         1         0  0.021240 -0.008681  0.233010  0.026373   \n",
       "\n",
       "             8         9    ...        1205     1206     1207      1208  \\\n",
       "130  -0.057101  0.005613    ...     1.77230  2.94680  1.92190 -0.116210   \n",
       "131  -0.060627  0.007145    ...     1.16320 -0.19768  1.37100 -0.277380   \n",
       "132  -0.053649  0.003373    ...     1.27380  0.39833  1.37100 -0.002321   \n",
       "133  -0.064292  0.004161    ...     2.16830  4.73490  1.37100 -0.483590   \n",
       "134  -0.064169  0.003641    ...     0.82146 -2.10400  1.37100 -0.758480   \n",
       "135  -0.064433  0.005678    ...     1.87880  3.73610  1.92190 -0.422980   \n",
       "136  -0.088593  0.010071    ...     2.23090  4.98160  0.72193 -0.088850   \n",
       "137  -0.083137 -0.038932    ...     1.60650  2.13290  1.37100  0.093467   \n",
       "138  -0.121070  0.009766    ...     1.94890  3.80860  1.92190 -0.471950   \n",
       "139  -0.069977  0.065876    ...     1.32330  0.68939  1.37100 -0.510830   \n",
       "140  -0.072579  0.077719    ...     2.17700  4.77070  1.37100 -0.470380   \n",
       "141   0.080719  0.051267    ...     2.12960  4.58150  1.37100 -0.742110   \n",
       "142  -0.092337  0.007165    ...     1.88590  3.53250  1.92190  0.130350   \n",
       "143  -0.056478 -0.028084    ...     1.30600  1.12180  1.92190 -0.135840   \n",
       "144   0.013439 -0.013112    ...     2.04830  4.33950  1.92190 -0.802190   \n",
       "145  -0.075737  0.007324    ...     1.99490  3.98820  1.37100 -0.563010   \n",
       "146  -0.089850  0.000940    ...     1.77220  3.01840  1.92190 -0.574410   \n",
       "147   0.264390 -0.165160    ...     0.61036 -3.32210  0.97095 -0.749290   \n",
       "148   0.533690 -0.550170    ...     1.43260  1.59450  1.92190  0.287020   \n",
       "149   0.456710 -0.319700    ...     1.03850 -0.87433  1.37100 -0.182720   \n",
       "150  -0.045991 -0.019779    ...     1.59880  2.32860  1.92190 -0.788990   \n",
       "151  -0.272390  0.254690    ...     2.12410  4.55190  1.37100 -0.040925   \n",
       "152   0.302690 -0.097396    ...     1.90940  3.59960  1.37100 -0.184380   \n",
       "153  -0.069078  0.007748    ...     2.17310  4.75430  1.37100  0.269470   \n",
       "154  -0.075020  0.025782    ...     2.15070  4.66590  1.37100  0.132890   \n",
       "155  -0.074016 -0.009340    ...     2.23380  4.99190  0.72193 -0.075680   \n",
       "156  -0.057881 -0.002806    ...     1.01770 -0.97844  1.37100 -0.140650   \n",
       "157  -0.068416  0.005127    ...     2.22820  4.97170  0.72193  0.014658   \n",
       "158  -0.064371  0.005966    ...     0.93574 -1.45330  1.37100 -0.278170   \n",
       "159  -0.177820  0.129530    ...     2.21560  4.92490  1.37100 -0.451750   \n",
       "...        ...       ...    ...         ...      ...      ...       ...   \n",
       "2437  0.004474  0.011615    ...     2.23600  4.99990  0.72193 -0.038799   \n",
       "2438  0.162030  0.304970    ...     2.23510  4.99670  0.72193 -0.172420   \n",
       "2439  0.002928  0.012302    ...     2.23610  5.00000  0.72193  0.216150   \n",
       "2440  0.001608  0.010642    ...     1.09570 -0.56499  1.37100  0.360630   \n",
       "2441  0.003129  0.010280    ...     2.23580  4.99920  0.72193  0.025376   \n",
       "2442  0.004709  0.008969    ...     2.22370  4.95650  0.72193 -0.010707   \n",
       "2443  0.104060  0.019646    ...     1.91840  3.66080  1.92190 -0.147480   \n",
       "2444  0.021840  0.039510    ...     1.93530  3.78610  1.92190 -0.465380   \n",
       "2445  0.000100 -0.059017    ...     2.23590  4.99960  0.72193 -0.037653   \n",
       "2446  0.007101 -0.024536    ...     1.89450  3.52810  1.37100 -0.031425   \n",
       "2447  0.116580 -0.101940    ...     0.74869  0.10371  1.92190 -0.234600   \n",
       "2448 -0.029005  0.004750    ...     2.23570  4.99860  0.72193  0.128580   \n",
       "2449  0.054255  0.085659    ...     2.19880  4.85930  1.37100 -0.592120   \n",
       "2450  0.241120 -0.032606    ...     0.65165 -2.90090  1.92190 -0.010001   \n",
       "2451  0.008743  0.005293    ...     0.60522 -3.31120  0.97095 -0.671590   \n",
       "2452  0.013265  0.005231    ...     2.21670  4.92920  1.37100 -0.358420   \n",
       "2453  0.009711  0.001911    ...     2.08960  4.40700  1.37100  0.049639   \n",
       "2454 -0.007173  0.004424    ...     2.23290  4.98850  0.72193 -0.082837   \n",
       "2455 -0.017313 -0.019432    ...     1.82700  3.53040  1.92190  0.461710   \n",
       "2456 -0.080106 -0.007184    ...     2.23570  4.99870  0.72193 -0.016243   \n",
       "2457  0.050276 -0.070307    ...     2.21220  4.90990  1.37100  0.571760   \n",
       "2458 -0.209860  0.153910    ...     1.37080  1.27820  1.92190 -0.067877   \n",
       "2459 -0.120940 -0.541150    ...     2.06260  4.34130  1.92190  0.456180   \n",
       "2460  0.005044  0.013378    ...    -0.40455 -3.13590  1.52190 -0.162290   \n",
       "2461 -0.006764  0.014237    ...     2.15280  4.67160  1.37100  0.004279   \n",
       "2462 -0.059220  0.058103    ...     2.21720  4.93140  1.37100  0.805860   \n",
       "2463  0.005703  0.010046    ...     2.07470  4.46470  1.92190  0.504600   \n",
       "2464  0.005528  0.010847    ...     2.23610  5.00000  0.72193 -0.386480   \n",
       "2465 -0.048770  0.069233    ...     1.68470  2.51840  1.37100  0.267190   \n",
       "2466  0.005063  0.008798    ...     1.52810  2.36310  2.32190 -0.056783   \n",
       "\n",
       "          1209     1210     1211     1212      1213      1214  \n",
       "130    0.70733  0.31827  0.62481  0.42696   3.05100  1.535000  \n",
       "131   12.89900  3.81690  4.37390  4.07860  57.64400  4.230600  \n",
       "132    2.05760  1.14970  0.37798  0.40947   9.70990  1.837200  \n",
       "133    0.37400  0.22128  0.63142  0.50891   0.86526  1.203000  \n",
       "134    0.50380  0.66709  0.80257  0.64374   0.63470  1.709200  \n",
       "135    0.36443  0.61864  0.32795  0.42600   0.68353  0.986880  \n",
       "136    0.71635  0.58196  0.44670  0.46523   3.05740  1.679300  \n",
       "137    0.29251  0.22057  0.28801  0.46647   0.31134  1.052000  \n",
       "138    0.56907  0.61973  0.52809  0.46083   2.18930  1.293600  \n",
       "139    0.41629  0.35613  0.63344  0.65215   0.96821  1.131900  \n",
       "140    0.32488  0.43502  0.46403  0.57654   0.59698  0.858630  \n",
       "141    0.37133  0.29527  0.53639  0.63589   0.56801  1.192800  \n",
       "142    0.33633  0.35167  0.49392  0.76456   1.19390  0.428060  \n",
       "143    0.31870  0.70063  0.35051  0.40017   0.78187  0.880180  \n",
       "144    0.44258  0.64821  0.70461  0.59416   0.38984  1.257600  \n",
       "145    0.29756  0.62949  0.25466  0.40699   0.41090  0.658670  \n",
       "146    0.39223  1.35910  0.72215  0.47075   0.48029  0.490290  \n",
       "147    0.38521  0.41630  0.61706  0.60908   0.77782  1.014000  \n",
       "148    0.27465  0.78352  0.45072  0.69040   0.45254  0.295860  \n",
       "149    0.38677  0.45354  0.50828  0.51493   1.03420  0.796360  \n",
       "150    0.49120  1.35110  0.38587  0.26942   0.70900  1.000400  \n",
       "151    0.32164  0.38964  0.77420  0.35476   0.85296  0.698340  \n",
       "152    0.38656  0.56314  0.33602  0.26767   0.53928  1.411100  \n",
       "153    0.28770  0.47786  0.34745  0.32055   0.54681  0.829320  \n",
       "154    0.33914  0.34326  0.77839  0.66015   1.00850  0.729060  \n",
       "155    0.41162  0.61429  0.80184  0.47443   1.50440  0.714620  \n",
       "156    2.08040  0.44250  0.33929  1.09020   1.13990  0.269720  \n",
       "157    1.14140  0.29956  0.32692  0.38321   5.39330  1.266300  \n",
       "158    0.75869  0.50612  0.75924  0.53662   2.46190  2.541500  \n",
       "159    0.27140  0.72208  0.34749  0.60268   0.65591  0.275260  \n",
       "...        ...      ...      ...      ...       ...       ...  \n",
       "2437   0.32586  0.78412  0.34903  0.57444   0.70650  0.698860  \n",
       "2438   0.23815  0.58385  0.55907  0.53048   0.33399  0.215590  \n",
       "2439   0.34074  0.78069  0.81110  0.33589   0.66812  0.251400  \n",
       "2440   0.27903  0.79142  0.56210  0.57486   0.62364  0.557090  \n",
       "2441   0.22768  0.71342  0.48571  0.42009   0.35353  0.107360  \n",
       "2442   0.26384  0.54331  0.49407  0.33048   0.15274  0.675140  \n",
       "2443   0.23470  0.31130  0.40218  0.55861   0.41875  0.321240  \n",
       "2444   0.27147  0.73592  0.25979  0.42539   0.66477  0.285450  \n",
       "2445   0.22585  0.32903  0.72452  0.44294   0.58857  0.300640  \n",
       "2446   0.30706  0.48500  0.88318  0.32740   0.83931  0.532030  \n",
       "2447   0.25552  0.61081  0.56052  0.67903   0.46221  0.389490  \n",
       "2448   0.31367  0.54034  0.81293  0.67768   0.91734  0.571660  \n",
       "2449   0.38535  0.46024  1.17560  0.75327   0.49822  0.532660  \n",
       "2450   0.42619  1.16180  0.54110  0.77435   1.08590  0.576480  \n",
       "2451   0.35533  0.73047  0.27524  0.31653   0.48505  0.453350  \n",
       "2452   0.28191  0.70892  0.30552  0.46330   0.40560  0.267320  \n",
       "2453   0.29650  0.51607  0.44451  0.57722   0.58842  0.426320  \n",
       "2454   0.26765  0.50048  0.74468  0.38586   0.45573  0.527420  \n",
       "2455   0.34825  0.57561  0.96400  0.68443   0.20531  0.678550  \n",
       "2456   0.29271  0.44988  0.56909  0.81308   0.58477  0.152860  \n",
       "2457   0.43336  0.83742  0.90038  0.87047   1.17900  0.644570  \n",
       "2458   0.31534  0.50321  0.87717  0.74354   0.53858  0.078863  \n",
       "2459   0.33172  0.68982  1.00110  0.76649   0.62999  0.469710  \n",
       "2460   0.32959  0.48924  0.81291  0.62774   0.56087  0.642410  \n",
       "2461   0.34197  0.55929  0.61833  0.82190   0.75769  0.271720  \n",
       "2462   0.36870  0.78182  0.35478  0.42518   0.58173  0.965530  \n",
       "2463   0.27417  0.52877  0.47816  0.67314   0.63720  0.630670  \n",
       "2464   0.31207  0.39509  0.73429  0.39542   1.00510  0.332450  \n",
       "2465   0.24962  0.64811  0.48660  0.42184   0.59912  0.319390  \n",
       "2466   0.41624  0.74051  0.83274  0.55291   1.20870  0.543430  \n",
       "\n",
       "[3092 rows x 1215 columns]"
      ]
     },
     "execution_count": 1149,
     "metadata": {},
     "output_type": "execute_result"
    }
   ],
   "source": [
    "Homedata"
   ]
  },
  {
   "cell_type": "code",
   "execution_count": 1150,
   "metadata": {
    "collapsed": false
   },
   "outputs": [
    {
     "name": "stdout",
     "output_type": "stream",
     "text": [
      "[0.90990990990990994, 0.92682926829268297, 0.87179487179487181]\n",
      "[0.45045045045045046, 0.07991696938245978, 0.2937062937062937]\n"
     ]
    }
   ],
   "source": [
    "Spec_all, TSpec_all = HomeDataEval(Healthy,Homedata,TOpt)\n",
    "print(Spec_all)\n",
    "print(TSpec_all)"
   ]
  },
  {
   "cell_type": "code",
   "execution_count": 1077,
   "metadata": {
    "collapsed": false
   },
   "outputs": [
    {
     "name": "stdout",
     "output_type": "stream",
     "text": [
      "[0.963963963963964, 0.9792423456149455, 0.92773892773892774]\n",
      "[0.45045045045045046, 0.07991696938245978, 0.2937062937062937]\n"
     ]
    }
   ],
   "source": [
    "Spec_all, TSpec_all = HomeDataEval(Healthy,Homedata,T90)\n",
    "print(Spec_all)\n",
    "print(TSpec_all)"
   ]
  },
  {
   "cell_type": "code",
   "execution_count": 988,
   "metadata": {
    "collapsed": true
   },
   "outputs": [],
   "source": [
    "fig = ax2.get_figure()\n",
    "fig.savefig('./Figs/Fig4.jpg')\n",
    "fig.savefig('./Figs/Fig4.tif')"
   ]
  },
  {
   "cell_type": "code",
   "execution_count": 989,
   "metadata": {
    "collapsed": false
   },
   "outputs": [
    {
     "name": "stdout",
     "output_type": "stream",
     "text": [
      "[ 0.7    0.824  0.88   0.92 ]\n",
      "[ 0.449  0.518  0.554  0.636]\n",
      "[ 0.82  0.94  0.96  0.98]\n",
      "mean AUC = 0.979 (+/- 0.017)\n",
      "mean Sens = 0.972 (+/- 0.039)\n",
      "mean Spec = 0.923 (+/- 0.052)\n"
     ]
    }
   ],
   "source": [
    "AUC_all_HA, fpr_all_HA, tpr_all_HA, Sens_all_HA, Spec_all_HA, TTPR_allHA, TFPR_allHA = EvaluateBySubject(Healthy,Homedata)"
   ]
  },
  {
   "cell_type": "code",
   "execution_count": 991,
   "metadata": {
    "collapsed": false
   },
   "outputs": [
    {
     "name": "stdout",
     "output_type": "stream",
     "text": [
      "4\n",
      "9\n",
      "6\n"
     ]
    }
   ],
   "source": [
    "for i in range(0,3):\n",
    "    print(np.argmin(abs(tpr_all_HA[i]-.95)))\n",
    "    "
   ]
  },
  {
   "cell_type": "markdown",
   "metadata": {},
   "source": [
    "# Misc stuff to clean later"
   ]
  },
  {
   "cell_type": "code",
   "execution_count": null,
   "metadata": {
    "collapsed": false
   },
   "outputs": [],
   "source": [
    "AUC_all = []\n",
    "\n",
    "plt.figure(figsize=(8,6))\n",
    "\n",
    "for train_index, test_index in subj.split(X, y, groups):\n",
    "    \n",
    "    Xtr, Xte = X[train_index], X[test_index]\n",
    "    ytr, yte = y[train_index], y[test_index]\n",
    "    \n",
    "    #selct features\n",
    "    #Xtr, Xte = Xtr[:,indmax], Xte[:,indmax]\n",
    "    \n",
    "    forest = RandomForestClassifier(n_estimators=50,random_state=10,warm_start=False)    \n",
    "    forest.fit(Xtr,ytr)\n",
    "    ypred = forest.predict(Xte)\n",
    "    yscore = forest.predict_proba(Xte)\n",
    "    yscore = yscore[:,1]\n",
    "    acc = np.sum(ypred==yte)/len(ypred)\n",
    "    #print('Acc = %.4f')%acc\n",
    "    fpr, tpr, thresholds = metrics.roc_curve(yte, yscore, pos_label=1)\n",
    "    roc_auc = auc(fpr, tpr)\n",
    "    print('AUC = %.4f'%roc_auc)    \n",
    "    AUC_all.append(roc_auc)  \n",
    "    \n",
    "    lw = 2\n",
    "    plt.plot(fpr, tpr, color='darkorange',\n",
    "             lw=lw, label='ROC curve (area = %0.3f)' % roc_auc)\n",
    "    plt.plot([0, 1], [0, 1], color='navy', lw=lw, linestyle='--')\n",
    "\n",
    "plt.xlim([0.0, 1.0])\n",
    "plt.ylim([0.0, 1.05])\n",
    "plt.xlabel('False Positive Rate')\n",
    "plt.ylabel('True Positive Rate')\n",
    "plt.title('Amputees - Random forest')\n",
    "plt.legend(loc=\"lower right\")"
   ]
  },
  {
   "cell_type": "code",
   "execution_count": null,
   "metadata": {
    "collapsed": false
   },
   "outputs": [],
   "source": [
    "#LOSO CV\n",
    "AUC_all = []\n",
    "\n",
    "plt.figure(figsize=(8,6))\n",
    "\n",
    "for train_index, test_index in subj.split(X, y, groups):\n",
    "    \n",
    "    Xtr, Xte = X[train_index], X[test_index]\n",
    "    ytr, yte = y[train_index], y[test_index]\n",
    "    \n",
    "    #selct features\n",
    "    Xtr, Xte = Xtr[:,indmax], Xte[:,indmax]\n",
    "\n",
    "    xgb1.fit(Xtr,ytr)\n",
    "    ypred = xgb1.predict(Xte)\n",
    "    yscore = xgb1.predict_proba(Xte)\n",
    "    yscore = yscore[:,1]\n",
    "    acc = np.sum(ypred==yte)/len(ypred)\n",
    "#    print('Acc = %.4f')%acc\n",
    "    fpr, tpr, thresholds = metrics.roc_curve(yte, yscore, pos_label=1)\n",
    "    roc_auc = auc(fpr, tpr)\n",
    "    print('AUC = %.4f'%roc_auc)    \n",
    "    AUC_all.append(roc_auc)  \n",
    "    \n",
    "    lw = 2\n",
    "    plt.plot(fpr, tpr, color='darkorange',\n",
    "             lw=lw, label='ROC curve (area = %0.3f)' % roc_auc)\n",
    "    plt.plot([0, 1], [0, 1], color='navy', lw=lw, linestyle='--')\n",
    "\n",
    "plt.xlim([0.0, 1.0])\n",
    "plt.ylim([0.0, 1.05])\n",
    "plt.xlabel('False Positive Rate')\n",
    "plt.ylabel('True Positive Rate')\n",
    "plt.title('Healthy - XGboost forest')\n",
    "plt.legend(loc=\"lower right\")"
   ]
  },
  {
   "cell_type": "code",
   "execution_count": null,
   "metadata": {
    "collapsed": false
   },
   "outputs": [],
   "source": [
    "print('mean AUC = %.3f (+/- %0.3f)')%(np.mean(AUC_all),2*np.std(AUC_all))"
   ]
  },
  {
   "cell_type": "markdown",
   "metadata": {},
   "source": [
    "See here on XGBoost params\n",
    "http://xgboost.readthedocs.io/en/latest/parameter.html#general-parameters\n",
    "\n",
    "as well as here\n",
    "https://www.analyticsvidhya.com/blog/2016/03/complete-guide-parameter-tuning-xgboost-with-codes-python/"
   ]
  },
  {
   "cell_type": "code",
   "execution_count": null,
   "metadata": {
    "collapsed": false
   },
   "outputs": [],
   "source": [
    "xgb1.get_params()"
   ]
  },
  {
   "cell_type": "code",
   "execution_count": null,
   "metadata": {
    "collapsed": false
   },
   "outputs": [],
   "source": [
    "xgb1.fit(Xtr,ytr,eval_metric='auc')"
   ]
  },
  {
   "cell_type": "code",
   "execution_count": null,
   "metadata": {
    "collapsed": true
   },
   "outputs": [],
   "source": [
    "pred = xgb1.predict(Xte)"
   ]
  },
  {
   "cell_type": "code",
   "execution_count": null,
   "metadata": {
    "collapsed": true
   },
   "outputs": [],
   "source": [
    "pred_prob = xgb1.predict_proba(Xte)"
   ]
  },
  {
   "cell_type": "code",
   "execution_count": null,
   "metadata": {
    "collapsed": false
   },
   "outputs": [],
   "source": [
    "pred_prob.shape"
   ]
  },
  {
   "cell_type": "code",
   "execution_count": null,
   "metadata": {
    "collapsed": false
   },
   "outputs": [],
   "source": [
    "X = Xin.drop(['SubjID','Loc','Subjtype'],axis=1)\n",
    "X.head(3)"
   ]
  },
  {
   "cell_type": "code",
   "execution_count": null,
   "metadata": {
    "collapsed": true
   },
   "outputs": [],
   "source": [
    "xgtrain = xgb.DMatrix(X,label='Falltype')\n",
    "xgtest = xgb.DMatrix(Xte,label='Falltype')"
   ]
  },
  {
   "cell_type": "code",
   "execution_count": null,
   "metadata": {
    "collapsed": false
   },
   "outputs": [],
   "source": [
    "print xgtrain.num_col()\n",
    "print xgtrain.num_row()\n",
    "print xgtest.num_col()\n",
    "print xgtest.num_row()"
   ]
  },
  {
   "cell_type": "markdown",
   "metadata": {},
   "source": [
    "Look at the clips"
   ]
  },
  {
   "cell_type": "code",
   "execution_count": null,
   "metadata": {
    "collapsed": true
   },
   "outputs": [],
   "source": [
    "labels = sio.loadmat('./Data/accHealthy10.mat')"
   ]
  },
  {
   "cell_type": "code",
   "execution_count": null,
   "metadata": {
    "collapsed": false
   },
   "outputs": [],
   "source": [
    "acc = labels['acc']"
   ]
  },
  {
   "cell_type": "code",
   "execution_count": null,
   "metadata": {
    "collapsed": false
   },
   "outputs": [],
   "source": [
    "acc.shape"
   ]
  },
  {
   "cell_type": "code",
   "execution_count": null,
   "metadata": {
    "collapsed": false
   },
   "outputs": [],
   "source": [
    "i"
   ]
  },
  {
   "cell_type": "code",
   "execution_count": null,
   "metadata": {
    "collapsed": false
   },
   "outputs": [],
   "source": [
    "i = np.random.permutation(fpidx4)\n",
    "i = i[0]\n",
    "a = acc[i][0][:,1:]\n",
    "plt.plot(a)"
   ]
  },
  {
   "cell_type": "code",
   "execution_count": null,
   "metadata": {
    "collapsed": false
   },
   "outputs": [],
   "source": [
    "np.where(Healthy.Falltype == 0)"
   ]
  },
  {
   "cell_type": "code",
   "execution_count": null,
   "metadata": {
    "collapsed": true
   },
   "outputs": [],
   "source": [
    "acc"
   ]
  }
 ],
 "metadata": {
  "kernelspec": {
   "display_name": "Python 3",
   "language": "python",
   "name": "python3"
  },
  "language_info": {
   "codemirror_mode": {
    "name": "ipython",
    "version": 3
   },
   "file_extension": ".py",
   "mimetype": "text/x-python",
   "name": "python",
   "nbconvert_exporter": "python",
   "pygments_lexer": "ipython3",
   "version": "3.6.0"
  }
 },
 "nbformat": 4,
 "nbformat_minor": 0
}
