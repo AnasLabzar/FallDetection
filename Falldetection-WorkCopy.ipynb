{
 "cells": [
  {
   "cell_type": "code",
   "execution_count": 296,
   "metadata": {
    "collapsed": false
   },
   "outputs": [],
   "source": [
    "from __future__ import division\n",
    "\n",
    "import os\n",
    "import math\n",
    "import pandas as pd\n",
    "import numpy as np\n",
    "import seaborn as sns\n",
    "import matplotlib.pyplot as plt\n",
    "%matplotlib inline\n",
    "\n",
    "import sklearn\n",
    "#import xgboost as xgb\n",
    "#from xgboost.sklearn import XGBClassifier #this is the SKlearn wrapper\n",
    "from sklearn import neighbors, linear_model\n",
    "from sklearn.ensemble import RandomForestClassifier, AdaBoostClassifier, GradientBoostingClassifier, ExtraTreesClassifier\n",
    "from sklearn.model_selection import KFold, StratifiedKFold, cross_val_score\n",
    "from sklearn.model_selection import GridSearchCV\n",
    "from sklearn import metrics\n",
    "from sklearn.linear_model import ElasticNetCV\n",
    "from sklearn.metrics import roc_curve, auc\n",
    "\n",
    "import scipy.io as sio"
   ]
  },
  {
   "cell_type": "markdown",
   "metadata": {},
   "source": [
    "### Helper fcns"
   ]
  },
  {
   "cell_type": "code",
   "execution_count": 297,
   "metadata": {
    "collapsed": false
   },
   "outputs": [],
   "source": [
    "from sklearn.metrics import confusion_matrix\n",
    "\n",
    "def plot_confusion_matrix(cm, title='Confusion matrix', cmap=plt.cm.Blues, norm=True):\n",
    "\n",
    "    if norm:\n",
    "        totals = cmat.sum(axis=1)\n",
    "        totals = totals.T\n",
    "        totals = np.expand_dims(totals,axis=1)\n",
    "        totals = np.tile(totals,(1,2))\n",
    "        cmat_norm = cmat/totals\n",
    "        print(cmat_norm)\n",
    "        cm = cmat_norm\n",
    "\n",
    "    plt.imshow(cm, interpolation='nearest', cmap=cmap)\n",
    "    plt.title(title)\n",
    "    plt.colorbar()\n",
    "    tick_marks = np.arange(2)\n",
    "    plt.xticks(tick_marks, ['Non-Fall','Fall'], rotation=45)\n",
    "    plt.yticks(tick_marks, ['Non-Fall','Fall'])\n",
    "    plt.tight_layout()\n",
    "    plt.ylabel('True label')\n",
    "    plt.xlabel('Predicted label')"
   ]
  },
  {
   "cell_type": "code",
   "execution_count": 298,
   "metadata": {
    "collapsed": false
   },
   "outputs": [],
   "source": [
    "def LOSOCV(X,y,data):\n",
    "\n",
    "    AUC_all=[]; fpr_all=[]; tpr_all=[]; Sens_all=[]; Spec_all=[]\n",
    "    thr = np.linspace(0,1,21)\n",
    "    thr = thr[::-1]\n",
    "\n",
    "    plt.figure(figsize=(8,6))\n",
    "\n",
    "    TTPR_all, TFPR_all = [], []\n",
    "    \n",
    "    for train_index, test_index in subj.split(X, y, groups):\n",
    "        Dtr = data.iloc[train_index]\n",
    "        Dte = data.iloc[test_index]\n",
    "        \n",
    "        SensT, SpecT = ThresholdClass(Dtr,Dte)\n",
    "        TTPR_all.append(SensT)\n",
    "        TFPR_all.append(1-SpecT)\n",
    "        \n",
    "        Xtr, Xte = X[train_index], X[test_index]\n",
    "        ytr, yte = y[train_index], y[test_index]\n",
    "        \n",
    "        #selct features\n",
    "        Xtr, Xte = Xtr[:,indmax], Xte[:,indmax]\n",
    "\n",
    "        forest = RandomForestClassifier(n_estimators=50,random_state=10,warm_start=False)    \n",
    "        forest.fit(Xtr,ytr)\n",
    "        ypred = forest.predict(Xte)\n",
    "        yscore = forest.predict_proba(Xte)\n",
    "        yscore = yscore[:,1]\n",
    "\n",
    "        #acc = np.sum(ypred==yte)/len(ypred)\n",
    "        #print('Acc = %.4f')%acc\n",
    "\n",
    "    #    fpr, tpr, thresholds = metrics.roc_curve(yte, yscore, pos_label=1,drop_intermediate=False\n",
    "        #compute ROC at fixed thresholds (to plot error bars)\n",
    "        fpr=np.linspace(0,1,101); tpr=[]\n",
    "        nscores = np.sort(np.column_stack((yscore[yte==0],yte[yte==0])),axis=0)\n",
    "        neg_counts = sum(yte==0)\n",
    "        for f in fpr:\n",
    "            ind = neg_counts-int(neg_counts*f)-1\n",
    "            t = (nscores[ind])[0]\n",
    "            if f==1:\n",
    "                t = 0\n",
    "            tpr_t = sum(yscore[yte==1]>t) / sum(yte==1)\n",
    "            tpr.append(tpr_t) \n",
    "\n",
    "        t=.5\n",
    "        #compute Sens and Spec\n",
    "        Sens = sum((ypred==1) & (yte==1)) / sum(yte==1); Spec = 1-sum((ypred==1) & (yte==0)) / sum(yte==0)\n",
    "\n",
    "        fpr = np.asarray(fpr); tpr = np.asarray(tpr)\n",
    "        roc_auc = auc(fpr, tpr)\n",
    "        print('AUC = %.4f, Sens = %.4f, Spec = %.4f'%(roc_auc,Sens,Spec))    \n",
    "        AUC_all.append(roc_auc)\n",
    "        tpr_all.append(tpr); fpr_all=fpr;\n",
    "        Sens_all.append(Sens); Spec_all.append(Spec)\n",
    "\n",
    "        #plot each individual ROC\n",
    "    #     lw = 2\n",
    "    #     plt.plot(fpr, tpr, color='darkorange',\n",
    "    #              lw=lw, label='ROC curve (area = %0.3f)' % roc_auc)\n",
    "    #     plt.plot([0, 1], [0, 1], color='navy', lw=lw, linestyle='--')\n",
    "\n",
    "    # plt.xlim([-0.05, 1.0])\n",
    "    # plt.ylim([0.0, 1.05])\n",
    "    # plt.xlabel('False Positive Rate')\n",
    "    # plt.ylabel('True Positive Rate')\n",
    "    # plt.title('Healthy-Healthy')\n",
    "    #plt.legend(loc=\"lower right\")\n",
    "\n",
    "    #summary results\n",
    "    print(('mean AUC = %.3f (+/- %0.3f)')%(np.mean(AUC_all),2*np.std(AUC_all)))\n",
    "    print(('mean Sens = %.3f (+/- %0.3f)')%(np.mean(Sens_all),2*np.std(Sens_all)))\n",
    "    print(('mean Spec = %.3f (+/- %0.3f)')%(np.mean(Spec_all),2*np.std(Spec_all)))\n",
    "\n",
    "    return AUC_all, fpr_all, tpr_all, Sens_all, Spec_all, TTPR_all, TFPR_all"
   ]
  },
  {
   "cell_type": "code",
   "execution_count": 299,
   "metadata": {
    "collapsed": false
   },
   "outputs": [],
   "source": [
    "def plot_roc(tpr_all,fpr,roc_auc):\n",
    "    #plot mean ROC across subjects (need to add shaded conf interval)\n",
    "    tprmu = np.mean(np.asarray(tpr_all),axis=0)\n",
    "    tpr=np.asarray(tpr_all)\n",
    "    fpr=np.reshape(fpr,(1,-1))\n",
    "    tprmu=np.reshape(tprmu,(1,-1))\n",
    "    label=pd.Series(data = ['ROC curve (area = %0.3f)' % roc_auc]*len(fpr))\n",
    "    ax = sns.tsplot(data=tpr,time=fpr,ci=95,condition=label, legend=True)\n",
    "    \n",
    "    lw = 3\n",
    "    ax.plot([0, 1], [0, 1], color='navy', lw=lw, linestyle='--')\n",
    "    ax.set_xlim([-0.05, 1.0])\n",
    "    ax.set_ylim([0.0, 1.05])\n",
    "    ax.set_xlabel('False Positive Rate')\n",
    "    ax.set_ylabel('True Positive Rate')\n",
    "    ax.legend(loc='lower right')\n",
    "    \n",
    "    return ax"
   ]
  },
  {
   "cell_type": "code",
   "execution_count": 300,
   "metadata": {
    "collapsed": false
   },
   "outputs": [],
   "source": [
    "def ThresholdClass(TrainData,TestData):\n",
    "    \"\"\"Inputs: Dataframe containing AccMax and AccMin accelerations for both train and test data\n",
    "    Outputs: dataframe of classification of test data as fall (True) or non-fall (False)\"\"\"\n",
    "    Max = TrainData.AccMax\n",
    "    Min = TrainData.AccMin\n",
    "    UFT = Max[TrainData.Falltype==1].min(axis=0)\n",
    "    LFT = Min[TrainData.Falltype==1].max(axis=0)\n",
    "    \n",
    "    ThresPred = (TestData.AccMax>UFT) & (TestData.AccMin<LFT)\n",
    "    Sens = len(ThresPred[(ThresPred==True) & (TestData.Falltype==1)])/len(ThresPred[TestData.Falltype==1])\n",
    "    Spec = len(ThresPred[(ThresPred==False) & (TestData.Falltype==0)])/len(ThresPred[TestData.Falltype==0])\n",
    "    \n",
    "    return Sens, Spec\n",
    "\n",
    "    "
   ]
  },
  {
   "cell_type": "markdown",
   "metadata": {},
   "source": [
    "### Load the data"
   ]
  },
  {
   "cell_type": "code",
   "execution_count": 301,
   "metadata": {
    "collapsed": false
   },
   "outputs": [],
   "source": [
    "Healthy = pd.read_csv('./Data/Healthy10.csv',header=None)\n",
    "Amp = pd.read_csv('./Data/Amp10.csv',header=None)\n",
    "Healthy = Healthy.rename(index=int, columns={0:'SubjID',1:'Loc',2:'Subjtype',3:'Falltype'})\n",
    "Amp = Amp.rename(index=int, columns={0:'SubjID',1:'Loc',2:'Subjtype',3:'Falltype'})"
   ]
  },
  {
   "cell_type": "code",
   "execution_count": 302,
   "metadata": {
    "collapsed": false
   },
   "outputs": [
    {
     "data": {
      "text/html": [
       "<div>\n",
       "<table border=\"1\" class=\"dataframe\">\n",
       "  <thead>\n",
       "    <tr style=\"text-align: right;\">\n",
       "      <th></th>\n",
       "      <th>SubjID</th>\n",
       "      <th>Loc</th>\n",
       "      <th>Subjtype</th>\n",
       "      <th>Falltype</th>\n",
       "      <th>4</th>\n",
       "      <th>5</th>\n",
       "      <th>6</th>\n",
       "      <th>7</th>\n",
       "      <th>8</th>\n",
       "      <th>9</th>\n",
       "      <th>...</th>\n",
       "      <th>1205</th>\n",
       "      <th>1206</th>\n",
       "      <th>1207</th>\n",
       "      <th>1208</th>\n",
       "      <th>1209</th>\n",
       "      <th>1210</th>\n",
       "      <th>1211</th>\n",
       "      <th>1212</th>\n",
       "      <th>1213</th>\n",
       "      <th>1214</th>\n",
       "    </tr>\n",
       "  </thead>\n",
       "  <tbody>\n",
       "    <tr>\n",
       "      <th>0</th>\n",
       "      <td>1</td>\n",
       "      <td>1</td>\n",
       "      <td>1</td>\n",
       "      <td>3</td>\n",
       "      <td>-0.135490</td>\n",
       "      <td>0.023986</td>\n",
       "      <td>-0.22209</td>\n",
       "      <td>-0.034934</td>\n",
       "      <td>0.026296</td>\n",
       "      <td>0.061168</td>\n",
       "      <td>...</td>\n",
       "      <td>1.3975</td>\n",
       "      <td>1.0539</td>\n",
       "      <td>1.371</td>\n",
       "      <td>0.57013</td>\n",
       "      <td>0.042151</td>\n",
       "      <td>0.040205</td>\n",
       "      <td>0.036391</td>\n",
       "      <td>0.082633</td>\n",
       "      <td>0.057698</td>\n",
       "      <td>0.142730</td>\n",
       "    </tr>\n",
       "    <tr>\n",
       "      <th>1</th>\n",
       "      <td>1</td>\n",
       "      <td>1</td>\n",
       "      <td>1</td>\n",
       "      <td>3</td>\n",
       "      <td>-0.116930</td>\n",
       "      <td>0.041788</td>\n",
       "      <td>-0.25966</td>\n",
       "      <td>-0.036706</td>\n",
       "      <td>0.028857</td>\n",
       "      <td>0.069082</td>\n",
       "      <td>...</td>\n",
       "      <td>1.0056</td>\n",
       "      <td>-1.0666</td>\n",
       "      <td>1.371</td>\n",
       "      <td>0.59226</td>\n",
       "      <td>0.044890</td>\n",
       "      <td>0.055954</td>\n",
       "      <td>0.064699</td>\n",
       "      <td>0.077030</td>\n",
       "      <td>0.105940</td>\n",
       "      <td>0.130800</td>\n",
       "    </tr>\n",
       "    <tr>\n",
       "      <th>2</th>\n",
       "      <td>1</td>\n",
       "      <td>1</td>\n",
       "      <td>1</td>\n",
       "      <td>3</td>\n",
       "      <td>-0.095297</td>\n",
       "      <td>-0.009186</td>\n",
       "      <td>-0.26274</td>\n",
       "      <td>-0.031153</td>\n",
       "      <td>0.019380</td>\n",
       "      <td>0.071339</td>\n",
       "      <td>...</td>\n",
       "      <td>1.5987</td>\n",
       "      <td>2.0886</td>\n",
       "      <td>1.371</td>\n",
       "      <td>0.76639</td>\n",
       "      <td>0.050949</td>\n",
       "      <td>0.099145</td>\n",
       "      <td>0.054502</td>\n",
       "      <td>0.070348</td>\n",
       "      <td>0.107280</td>\n",
       "      <td>0.145240</td>\n",
       "    </tr>\n",
       "    <tr>\n",
       "      <th>3</th>\n",
       "      <td>1</td>\n",
       "      <td>1</td>\n",
       "      <td>1</td>\n",
       "      <td>4</td>\n",
       "      <td>-0.131590</td>\n",
       "      <td>0.012601</td>\n",
       "      <td>0.36066</td>\n",
       "      <td>-0.030360</td>\n",
       "      <td>0.038864</td>\n",
       "      <td>0.070713</td>\n",
       "      <td>...</td>\n",
       "      <td>2.0909</td>\n",
       "      <td>4.4104</td>\n",
       "      <td>1.371</td>\n",
       "      <td>0.51069</td>\n",
       "      <td>0.035452</td>\n",
       "      <td>0.046974</td>\n",
       "      <td>0.043586</td>\n",
       "      <td>0.073470</td>\n",
       "      <td>0.071604</td>\n",
       "      <td>0.098844</td>\n",
       "    </tr>\n",
       "    <tr>\n",
       "      <th>4</th>\n",
       "      <td>1</td>\n",
       "      <td>1</td>\n",
       "      <td>1</td>\n",
       "      <td>4</td>\n",
       "      <td>-0.174220</td>\n",
       "      <td>0.002581</td>\n",
       "      <td>0.33938</td>\n",
       "      <td>-0.049466</td>\n",
       "      <td>0.017201</td>\n",
       "      <td>0.068173</td>\n",
       "      <td>...</td>\n",
       "      <td>2.0293</td>\n",
       "      <td>4.1421</td>\n",
       "      <td>1.371</td>\n",
       "      <td>0.50332</td>\n",
       "      <td>0.045742</td>\n",
       "      <td>0.077608</td>\n",
       "      <td>0.067755</td>\n",
       "      <td>0.079449</td>\n",
       "      <td>0.131450</td>\n",
       "      <td>0.085266</td>\n",
       "    </tr>\n",
       "  </tbody>\n",
       "</table>\n",
       "<p>5 rows × 1215 columns</p>\n",
       "</div>"
      ],
      "text/plain": [
       "   SubjID  Loc  Subjtype  Falltype         4         5        6         7  \\\n",
       "0       1    1         1         3 -0.135490  0.023986 -0.22209 -0.034934   \n",
       "1       1    1         1         3 -0.116930  0.041788 -0.25966 -0.036706   \n",
       "2       1    1         1         3 -0.095297 -0.009186 -0.26274 -0.031153   \n",
       "3       1    1         1         4 -0.131590  0.012601  0.36066 -0.030360   \n",
       "4       1    1         1         4 -0.174220  0.002581  0.33938 -0.049466   \n",
       "\n",
       "          8         9    ...       1205    1206   1207     1208      1209  \\\n",
       "0  0.026296  0.061168    ...     1.3975  1.0539  1.371  0.57013  0.042151   \n",
       "1  0.028857  0.069082    ...     1.0056 -1.0666  1.371  0.59226  0.044890   \n",
       "2  0.019380  0.071339    ...     1.5987  2.0886  1.371  0.76639  0.050949   \n",
       "3  0.038864  0.070713    ...     2.0909  4.4104  1.371  0.51069  0.035452   \n",
       "4  0.017201  0.068173    ...     2.0293  4.1421  1.371  0.50332  0.045742   \n",
       "\n",
       "       1210      1211      1212      1213      1214  \n",
       "0  0.040205  0.036391  0.082633  0.057698  0.142730  \n",
       "1  0.055954  0.064699  0.077030  0.105940  0.130800  \n",
       "2  0.099145  0.054502  0.070348  0.107280  0.145240  \n",
       "3  0.046974  0.043586  0.073470  0.071604  0.098844  \n",
       "4  0.077608  0.067755  0.079449  0.131450  0.085266  \n",
       "\n",
       "[5 rows x 1215 columns]"
      ]
     },
     "execution_count": 302,
     "metadata": {},
     "output_type": "execute_result"
    }
   ],
   "source": [
    "#Subjtype: 0 = Amputee, 1 = Healthy , 2 = Healthy outdoor\n",
    "Healthy.head(5)"
   ]
  },
  {
   "cell_type": "code",
   "execution_count": 303,
   "metadata": {
    "collapsed": false,
    "scrolled": true
   },
   "outputs": [
    {
     "name": "stdout",
     "output_type": "stream",
     "text": [
      "6652\n",
      "2180\n"
     ]
    }
   ],
   "source": [
    "print(len(Healthy))\n",
    "print(len(Amp))"
   ]
  },
  {
   "cell_type": "code",
   "execution_count": 304,
   "metadata": {
    "collapsed": false
   },
   "outputs": [
    {
     "name": "stdout",
     "output_type": "stream",
     "text": [
      "N subjects Healthy: 10\n",
      "N subjects Amp: 7\n",
      "[1 2]\n",
      "[0]\n"
     ]
    }
   ],
   "source": [
    "print(('N subjects Healthy: %s'%(len(Healthy.SubjID.unique()))))\n",
    "print(('N subjects Amp: %s'%(len(Amp.SubjID.unique()))))\n",
    "print(Healthy.Subjtype.unique())\n",
    "print(Amp.Subjtype.unique())"
   ]
  },
  {
   "cell_type": "code",
   "execution_count": 305,
   "metadata": {
    "collapsed": false
   },
   "outputs": [
    {
     "name": "stdout",
     "output_type": "stream",
     "text": [
      "Nfalls = 6337\n",
      "Nactivities = 315\n"
     ]
    }
   ],
   "source": [
    "#Healthy\n",
    "print(('Nfalls = %s')%(len(Healthy[Healthy.Falltype<9])))\n",
    "print(('Nactivities = %s')%(len(Healthy[Healthy.Falltype==9])))"
   ]
  },
  {
   "cell_type": "code",
   "execution_count": 306,
   "metadata": {
    "collapsed": false
   },
   "outputs": [
    {
     "name": "stdout",
     "output_type": "stream",
     "text": [
      "Nfalls = 1873\n",
      "Nactivities = 307\n"
     ]
    }
   ],
   "source": [
    "#Amp\n",
    "print(('Nfalls = %s')%(len(Amp[Amp.Falltype<9])))\n",
    "print(('Nactivities = %s')%(len(Amp[Amp.Falltype==9])))"
   ]
  },
  {
   "cell_type": "code",
   "execution_count": 307,
   "metadata": {
    "collapsed": false
   },
   "outputs": [
    {
     "data": {
      "text/html": [
       "<div>\n",
       "<table border=\"1\" class=\"dataframe\">\n",
       "  <thead>\n",
       "    <tr style=\"text-align: right;\">\n",
       "      <th></th>\n",
       "      <th>SubjID</th>\n",
       "      <th>Loc</th>\n",
       "      <th>Subjtype</th>\n",
       "      <th>Falltype</th>\n",
       "    </tr>\n",
       "  </thead>\n",
       "  <tbody>\n",
       "    <tr>\n",
       "      <th>1</th>\n",
       "      <td>1</td>\n",
       "      <td>1</td>\n",
       "      <td>1</td>\n",
       "      <td>3</td>\n",
       "    </tr>\n",
       "    <tr>\n",
       "      <th>2</th>\n",
       "      <td>1</td>\n",
       "      <td>1</td>\n",
       "      <td>1</td>\n",
       "      <td>3</td>\n",
       "    </tr>\n",
       "    <tr>\n",
       "      <th>3</th>\n",
       "      <td>1</td>\n",
       "      <td>1</td>\n",
       "      <td>1</td>\n",
       "      <td>4</td>\n",
       "    </tr>\n",
       "    <tr>\n",
       "      <th>4</th>\n",
       "      <td>1</td>\n",
       "      <td>1</td>\n",
       "      <td>1</td>\n",
       "      <td>4</td>\n",
       "    </tr>\n",
       "  </tbody>\n",
       "</table>\n",
       "</div>"
      ],
      "text/plain": [
       "   SubjID  Loc  Subjtype  Falltype\n",
       "1       1    1         1         3\n",
       "2       1    1         1         3\n",
       "3       1    1         1         4\n",
       "4       1    1         1         4"
      ]
     },
     "execution_count": 307,
     "metadata": {},
     "output_type": "execute_result"
    }
   ],
   "source": [
    "#selecting cols by index\n",
    "Healthy.iloc[1:5, 0:4]"
   ]
  },
  {
   "cell_type": "markdown",
   "metadata": {},
   "source": [
    "# Train on healthy and test on amputees"
   ]
  },
  {
   "cell_type": "code",
   "execution_count": 308,
   "metadata": {
    "collapsed": true
   },
   "outputs": [],
   "source": [
    "#transform to binary class\n",
    "Xtr = Healthy.iloc[:,4:].as_matrix()\n",
    "ytr = Healthy.Falltype.as_matrix()\n",
    "Xte = Amp.iloc[:,4:].as_matrix()\n",
    "yte = Amp.Falltype.as_matrix()\n",
    "ytr[ytr < 9] = 1\n",
    "ytr[ytr == 9] = 0\n",
    "yte[yte < 9] = 1\n",
    "yte[yte == 9] = 0"
   ]
  },
  {
   "cell_type": "code",
   "execution_count": 309,
   "metadata": {
    "collapsed": false
   },
   "outputs": [
    {
     "name": "stdout",
     "output_type": "stream",
     "text": [
      "(6652, 1211)\n",
      "[0 1]\n",
      "(2180, 1211)\n",
      "[0 1]\n"
     ]
    }
   ],
   "source": [
    "print(Xtr.shape)\n",
    "print(np.unique(ytr))\n",
    "print(Xte.shape)\n",
    "print(np.unique(yte))"
   ]
  },
  {
   "cell_type": "code",
   "execution_count": 310,
   "metadata": {
    "collapsed": false
   },
   "outputs": [
    {
     "data": {
      "text/plain": [
       "RandomForestClassifier(bootstrap=True, class_weight=None, criterion='gini',\n",
       "            max_depth=None, max_features='auto', max_leaf_nodes=None,\n",
       "            min_impurity_split=1e-07, min_samples_leaf=1,\n",
       "            min_samples_split=2, min_weight_fraction_leaf=0.0,\n",
       "            n_estimators=50, n_jobs=1, oob_score=False, random_state=10,\n",
       "            verbose=0, warm_start=False)"
      ]
     },
     "execution_count": 310,
     "metadata": {},
     "output_type": "execute_result"
    }
   ],
   "source": [
    "forest = RandomForestClassifier(n_estimators=50,random_state=10)\n",
    "forest.fit(Xtr,ytr)"
   ]
  },
  {
   "cell_type": "code",
   "execution_count": 311,
   "metadata": {
    "collapsed": false
   },
   "outputs": [
    {
     "name": "stdout",
     "output_type": "stream",
     "text": [
      "[  1.85748464e-04   2.16391737e-04   8.30112513e-04 ...,   0.00000000e+00\n",
      "   7.37234140e-04   6.20178579e-05]\n",
      "[ 0.00074738  0.001124    0.00298893 ...,  0.          0.00300895\n",
      "  0.00043413]\n"
     ]
    }
   ],
   "source": [
    "importance = forest.feature_importances_\n",
    "print(importance)\n",
    "indices = np.argsort(importance)\n",
    "importance_std = np.std([tree.feature_importances_ for tree in forest.estimators_],axis=0)\n",
    "print(importance_std)"
   ]
  },
  {
   "cell_type": "code",
   "execution_count": 312,
   "metadata": {
    "collapsed": true
   },
   "outputs": [],
   "source": [
    "importance_norm = importance/np.max(importance)"
   ]
  },
  {
   "cell_type": "code",
   "execution_count": 313,
   "metadata": {
    "collapsed": false
   },
   "outputs": [
    {
     "data": {
      "text/plain": [
       "<matplotlib.figure.Figure at 0x18387fd0>"
      ]
     },
     "execution_count": 313,
     "metadata": {},
     "output_type": "execute_result"
    },
    {
     "data": {
      "image/png": "[encoded data removed]",
      "text/plain": [
       "<matplotlib.figure.Figure at 0x1b813e48>"
      ]
     },
     "metadata": {},
     "output_type": "display_data"
    },
    {
     "data": {
      "text/plain": [
       "<matplotlib.figure.Figure at 0x18387fd0>"
      ]
     },
     "metadata": {},
     "output_type": "display_data"
    }
   ],
   "source": [
    "#using Seaborn\n",
    "ax = sns.barplot(x=indices,y=importance_norm[indices])\n",
    "sns.set_context(\"paper\")\n",
    "plt.figure(figsize=(8,6))"
   ]
  },
  {
   "cell_type": "code",
   "execution_count": 314,
   "metadata": {
    "collapsed": false
   },
   "outputs": [
    {
     "data": {
      "text/plain": [
       "<matplotlib.figure.Figure at 0x150d8da0>"
      ]
     },
     "execution_count": 314,
     "metadata": {},
     "output_type": "execute_result"
    },
    {
     "data": {
      "image/png": "[encoded data removed]",
      "text/plain": [
       "<matplotlib.figure.Figure at 0x150d8390>"
      ]
     },
     "metadata": {},
     "output_type": "display_data"
    },
    {
     "data": {
      "text/plain": [
       "<matplotlib.figure.Figure at 0x150d8da0>"
      ]
     },
     "metadata": {},
     "output_type": "display_data"
    }
   ],
   "source": [
    "ax = sns.boxplot(importance_norm)\n",
    "plt.figure(figsize=(8,6))"
   ]
  },
  {
   "cell_type": "code",
   "execution_count": 315,
   "metadata": {
    "collapsed": false
   },
   "outputs": [
    {
     "name": "stdout",
     "output_type": "stream",
     "text": [
      "[ 0.01155159]\n"
     ]
    }
   ],
   "source": [
    "qc = np.percentile(importance_norm,[75])\n",
    "print(1.5*qc)"
   ]
  },
  {
   "cell_type": "code",
   "execution_count": 316,
   "metadata": {
    "collapsed": false
   },
   "outputs": [
    {
     "name": "stdout",
     "output_type": "stream",
     "text": [
      "47\n",
      "[ 183  184  185  338  344  386  387  388  423  445  470  492  520  569  570\n",
      "  599  785  786  940  945  946  948  956  957  972  986  988  989  990  996\n",
      " 1018 1046 1047 1048 1070 1071 1072 1120 1121 1122 1144 1145 1146 1147 1190\n",
      " 1195 1200]\n"
     ]
    }
   ],
   "source": [
    "# indmax = np.argwhere(importance_norm >= 1.5*qc)\n",
    "indmax = np.argwhere(importance_norm >= 0.1)\n",
    "indmax = indmax.reshape(-1)\n",
    "print(len(indmax))\n",
    "print(indmax)"
   ]
  },
  {
   "cell_type": "code",
   "execution_count": 317,
   "metadata": {
    "collapsed": false
   },
   "outputs": [
    {
     "data": {
      "text/plain": [
       "RandomForestClassifier(bootstrap=True, class_weight=None, criterion='gini',\n",
       "            max_depth=None, max_features='auto', max_leaf_nodes=None,\n",
       "            min_impurity_split=1e-07, min_samples_leaf=1,\n",
       "            min_samples_split=2, min_weight_fraction_leaf=0.0,\n",
       "            n_estimators=50, n_jobs=1, oob_score=False, random_state=10,\n",
       "            verbose=0, warm_start=False)"
      ]
     },
     "execution_count": 317,
     "metadata": {},
     "output_type": "execute_result"
    }
   ],
   "source": [
    "forest = RandomForestClassifier(n_estimators=50,random_state=10,warm_start=False)\n",
    "forest.fit(Xtr[:,indmax],ytr)"
   ]
  },
  {
   "cell_type": "code",
   "execution_count": 318,
   "metadata": {
    "collapsed": false
   },
   "outputs": [],
   "source": [
    "ypred = forest.predict(Xte[:,indmax])\n",
    "yscore = forest.predict_proba(Xte[:,indmax])\n",
    "yscore = yscore[:,1]"
   ]
  },
  {
   "cell_type": "code",
   "execution_count": 319,
   "metadata": {
    "collapsed": false
   },
   "outputs": [
    {
     "name": "stdout",
     "output_type": "stream",
     "text": [
      "AUC = 0.991\n"
     ]
    }
   ],
   "source": [
    "#acc = np.sum(ypred==yte)/len(ypred)\n",
    "#print('Acc = %.3f')%acc\n",
    "fprHA, tprHA, thresholdsHA = metrics.roc_curve(yte, yscore, pos_label=1)\n",
    "roc_aucHA = auc(fprHA, tprHA)\n",
    "print('AUC = %.3f'%roc_aucHA)"
   ]
  },
  {
   "cell_type": "code",
   "execution_count": 320,
   "metadata": {
    "collapsed": false
   },
   "outputs": [
    {
     "data": {
      "image/png": "[encoded data removed]",
      "text/plain": [
       "<matplotlib.figure.Figure at 0x1bce1e48>"
      ]
     },
     "metadata": {},
     "output_type": "display_data"
    }
   ],
   "source": [
    "plt.figure(figsize=(8,6))\n",
    "lw = 4\n",
    "plt.plot(fprHA, tprHA, color='darkorange',\n",
    "         lw=lw, label='ROC curve (area = %0.3f)' % roc_aucHA)\n",
    "plt.plot([0, 1], [0, 1], color='navy', lw=lw, linestyle='--')\n",
    "plt.xlim([0.0, 1.0])\n",
    "plt.ylim([0.0, 1.05])\n",
    "plt.xlabel('False Positive Rate')\n",
    "plt.ylabel('True Positive Rate')\n",
    "plt.title('Healthy - Amputee ROC')\n",
    "plt.legend(loc=\"lower right\")\n",
    "sns.set_context('poster')"
   ]
  },
  {
   "cell_type": "markdown",
   "metadata": {},
   "source": [
    "### Threshold Method"
   ]
  },
  {
   "cell_type": "code",
   "execution_count": 321,
   "metadata": {
    "collapsed": false
   },
   "outputs": [],
   "source": [
    "Healthy = Healthy.rename(index=int,columns={950:'AccMax',951:'AccMin'})\n",
    "Amp = Amp.rename(index=int,columns={950:'AccMax',951:'AccMin'})\n",
    "[Sens, Spec] = ThresholdClass(Healthy,Amp)"
   ]
  },
  {
   "cell_type": "code",
   "execution_count": 322,
   "metadata": {
    "collapsed": false
   },
   "outputs": [
    {
     "name": "stdout",
     "output_type": "stream",
     "text": [
      "1.0\n",
      "0.18892508143322476\n"
     ]
    }
   ],
   "source": [
    "print (Sens)\n",
    "print (Spec)"
   ]
  },
  {
   "cell_type": "markdown",
   "metadata": {},
   "source": [
    "# LOSO CV on Healthy"
   ]
  },
  {
   "cell_type": "code",
   "execution_count": 323,
   "metadata": {
    "collapsed": true
   },
   "outputs": [],
   "source": [
    "Healthy = pd.read_csv('./Data/Healthy10.csv',header=None)\n",
    "Healthy = Healthy.rename(index=int, columns={0:'SubjID',1:'Loc',2:'Subjtype',3:'Falltype',950:'AccMax',951:'AccMin'})"
   ]
  },
  {
   "cell_type": "code",
   "execution_count": 324,
   "metadata": {
    "collapsed": true
   },
   "outputs": [],
   "source": [
    "from sklearn.model_selection import LeaveOneGroupOut"
   ]
  },
  {
   "cell_type": "code",
   "execution_count": 325,
   "metadata": {
    "collapsed": false
   },
   "outputs": [
    {
     "name": "stdout",
     "output_type": "stream",
     "text": [
      "[ 1  2  3  4  5  6  7  8  9 10]\n",
      "[ 1  2  4  5  6  7  8  9 10]\n"
     ]
    }
   ],
   "source": [
    "#Subjects with indoor and outdoor falls\n",
    "print(np.sort(Healthy[Healthy.Subjtype == 1].SubjID.unique()))\n",
    "print(np.sort(Healthy[Healthy.Subjtype == 2].SubjID.unique()))"
   ]
  },
  {
   "cell_type": "code",
   "execution_count": 326,
   "metadata": {
    "collapsed": false
   },
   "outputs": [
    {
     "data": {
      "text/plain": [
       "(6652, 1215)"
      ]
     },
     "execution_count": 326,
     "metadata": {},
     "output_type": "execute_result"
    }
   ],
   "source": [
    "Healthy.shape"
   ]
  },
  {
   "cell_type": "code",
   "execution_count": 327,
   "metadata": {
    "collapsed": true
   },
   "outputs": [],
   "source": [
    "#binarize labels\n",
    "X = Healthy.iloc[:,4:].as_matrix()\n",
    "y = Healthy.Falltype.as_matrix()\n",
    "y[y < 9] = 1\n",
    "y[y == 9] = 0"
   ]
  },
  {
   "cell_type": "code",
   "execution_count": 328,
   "metadata": {
    "collapsed": false
   },
   "outputs": [
    {
     "data": {
      "text/plain": [
       "array([0, 1], dtype=int64)"
      ]
     },
     "execution_count": 328,
     "metadata": {},
     "output_type": "execute_result"
    }
   ],
   "source": [
    "np.unique(y)"
   ]
  },
  {
   "cell_type": "code",
   "execution_count": 329,
   "metadata": {
    "collapsed": false
   },
   "outputs": [
    {
     "name": "stdout",
     "output_type": "stream",
     "text": [
      "(6652, 1211)\n",
      "(6652,)\n"
     ]
    }
   ],
   "source": [
    "print(X.shape)\n",
    "print(y.shape)"
   ]
  },
  {
   "cell_type": "code",
   "execution_count": 330,
   "metadata": {
    "collapsed": false
   },
   "outputs": [
    {
     "name": "stdout",
     "output_type": "stream",
     "text": [
      "(6652,)\n",
      "[ 1  2  3  4  5  6  7  8  9 10]\n"
     ]
    }
   ],
   "source": [
    "groups = Healthy.SubjID.as_matrix()\n",
    "print(groups.shape)\n",
    "print(np.unique(groups))"
   ]
  },
  {
   "cell_type": "code",
   "execution_count": 331,
   "metadata": {
    "collapsed": false
   },
   "outputs": [
    {
     "data": {
      "text/plain": [
       "10"
      ]
     },
     "execution_count": 331,
     "metadata": {},
     "output_type": "execute_result"
    }
   ],
   "source": [
    "subj = LeaveOneGroupOut()\n",
    "subj.get_n_splits(X,y,groups)"
   ]
  },
  {
   "cell_type": "code",
   "execution_count": 332,
   "metadata": {
    "collapsed": false
   },
   "outputs": [
    {
     "data": {
      "text/plain": [
       "array([ 183,  184,  185,  338,  344,  386,  387,  388,  423,  445,  470,\n",
       "        492,  520,  569,  570,  599,  785,  786,  940,  945,  946,  948,\n",
       "        956,  957,  972,  986,  988,  989,  990,  996, 1018, 1046, 1047,\n",
       "       1048, 1070, 1071, 1072, 1120, 1121, 1122, 1144, 1145, 1146, 1147,\n",
       "       1190, 1195, 1200], dtype=int64)"
      ]
     },
     "execution_count": 332,
     "metadata": {},
     "output_type": "execute_result"
    }
   ],
   "source": [
    "indmax #602 gyro features + 602 accelerometer"
   ]
  },
  {
   "cell_type": "code",
   "execution_count": 333,
   "metadata": {
    "collapsed": false
   },
   "outputs": [
    {
     "name": "stdout",
     "output_type": "stream",
     "text": [
      "(5956, 47) (696, 47) (5956,)\n",
      "(5965, 47) (687, 47) (5965,)\n",
      "(6236, 47) (416, 47) (6236,)\n",
      "(6096, 47) (556, 47) (6096,)\n",
      "(5920, 47) (732, 47) (5920,)\n",
      "(5918, 47) (734, 47) (5918,)\n",
      "(5945, 47) (707, 47) (5945,)\n",
      "(6030, 47) (622, 47) (6030,)\n",
      "(5876, 47) (776, 47) (5876,)\n",
      "(5926, 47) (726, 47) (5926,)\n"
     ]
    }
   ],
   "source": [
    "#sanity check\n",
    "for train_index, test_index in subj.split(X, y, groups):\n",
    "    Xtr,Xte = X[train_index],X[test_index]\n",
    "    ytr = y[train_index]\n",
    "    Xtr,Xte = Xtr[:,indmax],Xte[:,indmax]\n",
    "    print(Xtr.shape,Xte.shape,ytr.shape)"
   ]
  },
  {
   "cell_type": "code",
   "execution_count": 334,
   "metadata": {
    "collapsed": false
   },
   "outputs": [
    {
     "name": "stdout",
     "output_type": "stream",
     "text": [
      "(6652, 1215)\n",
      "(6652, 1211)\n"
     ]
    }
   ],
   "source": [
    "print(Healthy.shape)\n",
    "print(X.shape)"
   ]
  },
  {
   "cell_type": "code",
   "execution_count": 335,
   "metadata": {
    "collapsed": false
   },
   "outputs": [
    {
     "name": "stdout",
     "output_type": "stream",
     "text": [
      "AUC = 0.9993, Sens = 0.9955, Spec = 0.9583\n",
      "AUC = 0.9815, Sens = 0.9777, Spec = 0.7333\n",
      "AUC = 0.9686, Sens = 0.9865, Spec = 0.8043\n",
      "AUC = 1.0000, Sens = 1.0000, Spec = 0.9444\n",
      "AUC = 0.9992, Sens = 1.0000, Spec = 0.8333\n",
      "AUC = 0.9750, Sens = 1.0000, Spec = 0.9429\n",
      "AUC = 1.0000, Sens = 0.9882, Spec = 1.0000\n",
      "AUC = 1.0000, Sens = 0.9949, Spec = 1.0000\n",
      "AUC = 0.9804, Sens = 0.9872, Spec = 0.8904\n",
      "AUC = 0.9999, Sens = 0.9986, Spec = 0.9722\n",
      "mean AUC = 0.990 (+/- 0.024)\n",
      "mean Sens = 0.993 (+/- 0.014)\n",
      "mean Spec = 0.908 (+/- 0.171)\n"
     ]
    },
    {
     "data": {
      "text/plain": [
       "<matplotlib.figure.Figure at 0x27b67550>"
      ]
     },
     "metadata": {},
     "output_type": "display_data"
    }
   ],
   "source": [
    "AUC_all, fpr_all, tpr_all, Sens_all, Spec_all, TTPR_all, TFPR_all = LOSOCV(X,y,Healthy)"
   ]
  },
  {
   "cell_type": "code",
   "execution_count": 336,
   "metadata": {
    "collapsed": false
   },
   "outputs": [],
   "source": [
    "TTPR_all = np.asarray(TTPR_all)\n",
    "TFPR_all = np.asarray(TFPR_all)\n",
    "\n",
    "tprmu = np.mean(TTPR_all)\n",
    "tprerr = np.std(TTPR_all)/math.sqrt(len(TTPR_all))*1.96\n",
    "fprmu = np.mean(TFPR_all)\n",
    "fprerr = np.std(TFPR_all)/math.sqrt(len(TFPR_all))*1.96\n"
   ]
  },
  {
   "cell_type": "code",
   "execution_count": 337,
   "metadata": {
    "collapsed": false
   },
   "outputs": [
    {
     "data": {
      "text/plain": [
       "<Container object of 3 artists>"
      ]
     },
     "execution_count": 337,
     "metadata": {},
     "output_type": "execute_result"
    },
    {
     "data": {
      "image/png": "[encoded data removed]",
      "text/plain": [
       "<matplotlib.figure.Figure at 0x1c305358>"
      ]
     },
     "metadata": {},
     "output_type": "display_data"
    }
   ],
   "source": [
    "AX = plot_roc(tpr_all,fpr_all,np.mean(AUC_all))\n",
    "AX.errorbar(fprmu,tprmu,xerr = fprerr,yerr = tprerr, ecolor = 'r')"
   ]
  },
  {
   "cell_type": "markdown",
   "metadata": {},
   "source": [
    "# LOSO CV on Amputees"
   ]
  },
  {
   "cell_type": "markdown",
   "metadata": {},
   "source": [
    "**Note: SubjID 2 does not have activities** (Nick please check)\n",
    "**Need to load each time the file because after binarizing the labels in previous steps the original table are changed. Should be fixed**"
   ]
  },
  {
   "cell_type": "code",
   "execution_count": 338,
   "metadata": {
    "collapsed": false
   },
   "outputs": [],
   "source": [
    "Amp = pd.read_csv('./Data/Amp10.csv',header=None)\n",
    "Amp = Amp.rename(index=int, columns={0:'SubjID',1:'Loc',2:'Subjtype',3:'Falltype', 950:'AccMax',951:'AccMin'})"
   ]
  },
  {
   "cell_type": "code",
   "execution_count": 339,
   "metadata": {
    "collapsed": false
   },
   "outputs": [
    {
     "data": {
      "text/plain": [
       "array([4, 3, 2, 1], dtype=int64)"
      ]
     },
     "execution_count": 339,
     "metadata": {},
     "output_type": "execute_result"
    }
   ],
   "source": [
    "Amp[Amp.SubjID ==2].Falltype.unique()"
   ]
  },
  {
   "cell_type": "code",
   "execution_count": 340,
   "metadata": {
    "collapsed": false
   },
   "outputs": [],
   "source": [
    "Amp = Amp[Amp.SubjID != 2] #drop subj 2"
   ]
  },
  {
   "cell_type": "code",
   "execution_count": 341,
   "metadata": {
    "collapsed": false
   },
   "outputs": [
    {
     "name": "stdout",
     "output_type": "stream",
     "text": [
      "(1840,)\n",
      "[1 3 4 5 6 7]\n"
     ]
    },
    {
     "data": {
      "text/plain": [
       "6"
      ]
     },
     "execution_count": 341,
     "metadata": {},
     "output_type": "execute_result"
    }
   ],
   "source": [
    "X = Amp.iloc[:,4:].as_matrix()\n",
    "y = Amp.Falltype.as_matrix()\n",
    "y[y < 9] = 1\n",
    "y[y == 9] = 0\n",
    "groups = Amp.SubjID.as_matrix()\n",
    "print(groups.shape)\n",
    "print(np.sort(np.unique(groups)))\n",
    "subj = LeaveOneGroupOut()\n",
    "subj.get_n_splits(X,y,groups)"
   ]
  },
  {
   "cell_type": "code",
   "execution_count": 342,
   "metadata": {
    "collapsed": false
   },
   "outputs": [
    {
     "name": "stdout",
     "output_type": "stream",
     "text": [
      "(1840,)\n",
      "[1 3 4 5 6 7]\n"
     ]
    },
    {
     "data": {
      "text/plain": [
       "6"
      ]
     },
     "execution_count": 342,
     "metadata": {},
     "output_type": "execute_result"
    }
   ],
   "source": [
    "groups = Amp.SubjID.as_matrix()\n",
    "print(groups.shape)\n",
    "print(np.unique(groups))\n",
    "subj = LeaveOneGroupOut()\n",
    "subj.get_n_splits(X,y,groups)"
   ]
  },
  {
   "cell_type": "code",
   "execution_count": 343,
   "metadata": {
    "collapsed": false
   },
   "outputs": [
    {
     "name": "stdout",
     "output_type": "stream",
     "text": [
      "(1578, 47) (262, 47) (1578,)\n",
      "(1431, 47) (409, 47) (1431,)\n",
      "(1446, 47) (394, 47) (1446,)\n",
      "(1569, 47) (271, 47) (1569,)\n",
      "(1732, 47) (108, 47) (1732,)\n",
      "(1444, 47) (396, 47) (1444,)\n"
     ]
    }
   ],
   "source": [
    "#sanity check\n",
    "for train_index, test_index in subj.split(X, y, groups):\n",
    "    Xtr,Xte = X[train_index],X[test_index]\n",
    "    ytr = y[train_index]\n",
    "    Xtr,Xte = Xtr[:,indmax],Xte[:,indmax]\n",
    "    print(Xtr.shape,Xte.shape,ytr.shape)"
   ]
  },
  {
   "cell_type": "code",
   "execution_count": 344,
   "metadata": {
    "collapsed": false
   },
   "outputs": [
    {
     "name": "stdout",
     "output_type": "stream",
     "text": [
      "AUC = 0.9933, Sens = 0.9641, Spec = 0.9744\n",
      "AUC = 0.9782, Sens = 1.0000, Spec = 0.9365\n",
      "AUC = 0.9998, Sens = 1.0000, Spec = 0.9767\n",
      "AUC = 0.9884, Sens = 0.9721, Spec = 0.8750\n",
      "AUC = 0.9926, Sens = 0.8636, Spec = 1.0000\n",
      "AUC = 0.9850, Sens = 1.0000, Spec = 0.9531\n",
      "mean AUC = 0.990 (+/- 0.014)\n",
      "mean Sens = 0.967 (+/- 0.097)\n",
      "mean Spec = 0.953 (+/- 0.080)\n"
     ]
    },
    {
     "data": {
      "text/plain": [
       "<matplotlib.figure.Figure at 0x1517c940>"
      ]
     },
     "metadata": {},
     "output_type": "display_data"
    }
   ],
   "source": [
    "AUC_all_AA, fpr_all_AA, tpr_all_AA, Sens_all_AA, Spec_all_AA, TTPR_allAA, TFPR_allAA = LOSOCV(X,y,Amp)"
   ]
  },
  {
   "cell_type": "code",
   "execution_count": 345,
   "metadata": {
    "collapsed": false
   },
   "outputs": [
    {
     "data": {
      "text/plain": [
       "<Container object of 3 artists>"
      ]
     },
     "execution_count": 345,
     "metadata": {},
     "output_type": "execute_result"
    },
    {
     "data": {
      "image/png": "[encoded data removed]",
      "text/plain": [
       "<matplotlib.figure.Figure at 0x27cc7b38>"
      ]
     },
     "metadata": {},
     "output_type": "display_data"
    }
   ],
   "source": [
    "TTPR_allAA = np.asarray(TTPR_allAA)\n",
    "TFPR_allAA = np.asarray(TFPR_allAA)\n",
    "\n",
    "tprmu = np.mean(TTPR_allAA)\n",
    "tprerr = np.std(TTPR_allAA)/math.sqrt(len(TTPR_allAA))*1.96\n",
    "fprmu = np.mean(TFPR_allAA)\n",
    "fprerr = np.std(TFPR_allAA)/math.sqrt(len(TFPR_allAA))*1.96\n",
    "\n",
    "AX = plot_roc(tpr_all_AA,fpr_all_AA,np.mean(AUC_all_AA))\n",
    "AX.errorbar(fprmu,tprmu,xerr = fprerr,yerr = tprerr, ecolor = 'r')"
   ]
  },
  {
   "cell_type": "markdown",
   "metadata": {},
   "source": [
    "# Misc stuff to clean later"
   ]
  },
  {
   "cell_type": "code",
   "execution_count": null,
   "metadata": {
    "collapsed": false
   },
   "outputs": [],
   "source": [
    "AUC_all = []\n",
    "\n",
    "plt.figure(figsize=(8,6))\n",
    "\n",
    "for train_index, test_index in subj.split(X, y, groups):\n",
    "    \n",
    "    Xtr, Xte = X[train_index], X[test_index]\n",
    "    ytr, yte = y[train_index], y[test_index]\n",
    "    \n",
    "    #selct features\n",
    "    #Xtr, Xte = Xtr[:,indmax], Xte[:,indmax]\n",
    "    \n",
    "    forest = RandomForestClassifier(n_estimators=50,random_state=10,warm_start=False)    \n",
    "    forest.fit(Xtr,ytr)\n",
    "    ypred = forest.predict(Xte)\n",
    "    yscore = forest.predict_proba(Xte)\n",
    "    yscore = yscore[:,1]\n",
    "    acc = np.sum(ypred==yte)/len(ypred)\n",
    "    #print('Acc = %.4f')%acc\n",
    "    fpr, tpr, thresholds = metrics.roc_curve(yte, yscore, pos_label=1)\n",
    "    roc_auc = auc(fpr, tpr)\n",
    "    print('AUC = %.4f'%roc_auc)    \n",
    "    AUC_all.append(roc_auc)  \n",
    "    \n",
    "    lw = 2\n",
    "    plt.plot(fpr, tpr, color='darkorange',\n",
    "             lw=lw, label='ROC curve (area = %0.3f)' % roc_auc)\n",
    "    plt.plot([0, 1], [0, 1], color='navy', lw=lw, linestyle='--')\n",
    "\n",
    "plt.xlim([0.0, 1.0])\n",
    "plt.ylim([0.0, 1.05])\n",
    "plt.xlabel('False Positive Rate')\n",
    "plt.ylabel('True Positive Rate')\n",
    "plt.title('Amputees - Random forest')\n",
    "plt.legend(loc=\"lower right\")"
   ]
  },
  {
   "cell_type": "code",
   "execution_count": null,
   "metadata": {
    "collapsed": false
   },
   "outputs": [],
   "source": [
    "#LOSO CV\n",
    "AUC_all = []\n",
    "\n",
    "plt.figure(figsize=(8,6))\n",
    "\n",
    "for train_index, test_index in subj.split(X, y, groups):\n",
    "    \n",
    "    Xtr, Xte = X[train_index], X[test_index]\n",
    "    ytr, yte = y[train_index], y[test_index]\n",
    "    \n",
    "    #selct features\n",
    "    Xtr, Xte = Xtr[:,indmax], Xte[:,indmax]\n",
    "\n",
    "    xgb1.fit(Xtr,ytr)\n",
    "    ypred = xgb1.predict(Xte)\n",
    "    yscore = xgb1.predict_proba(Xte)\n",
    "    yscore = yscore[:,1]\n",
    "    acc = np.sum(ypred==yte)/len(ypred)\n",
    "#    print('Acc = %.4f')%acc\n",
    "    fpr, tpr, thresholds = metrics.roc_curve(yte, yscore, pos_label=1)\n",
    "    roc_auc = auc(fpr, tpr)\n",
    "    print('AUC = %.4f'%roc_auc)    \n",
    "    AUC_all.append(roc_auc)  \n",
    "    \n",
    "    lw = 2\n",
    "    plt.plot(fpr, tpr, color='darkorange',\n",
    "             lw=lw, label='ROC curve (area = %0.3f)' % roc_auc)\n",
    "    plt.plot([0, 1], [0, 1], color='navy', lw=lw, linestyle='--')\n",
    "\n",
    "plt.xlim([0.0, 1.0])\n",
    "plt.ylim([0.0, 1.05])\n",
    "plt.xlabel('False Positive Rate')\n",
    "plt.ylabel('True Positive Rate')\n",
    "plt.title('Healthy - XGboost forest')\n",
    "plt.legend(loc=\"lower right\")"
   ]
  },
  {
   "cell_type": "code",
   "execution_count": null,
   "metadata": {
    "collapsed": false
   },
   "outputs": [],
   "source": [
    "print('mean AUC = %.3f (+/- %0.3f)')%(np.mean(AUC_all),2*np.std(AUC_all))"
   ]
  },
  {
   "cell_type": "markdown",
   "metadata": {},
   "source": [
    "See here on XGBoost params\n",
    "http://xgboost.readthedocs.io/en/latest/parameter.html#general-parameters\n",
    "\n",
    "as well as here\n",
    "https://www.analyticsvidhya.com/blog/2016/03/complete-guide-parameter-tuning-xgboost-with-codes-python/"
   ]
  },
  {
   "cell_type": "code",
   "execution_count": null,
   "metadata": {
    "collapsed": false
   },
   "outputs": [],
   "source": [
    "xgb1.get_params()"
   ]
  },
  {
   "cell_type": "code",
   "execution_count": null,
   "metadata": {
    "collapsed": false
   },
   "outputs": [],
   "source": [
    "xgb1.fit(Xtr,ytr,eval_metric='auc')"
   ]
  },
  {
   "cell_type": "code",
   "execution_count": null,
   "metadata": {
    "collapsed": true
   },
   "outputs": [],
   "source": [
    "pred = xgb1.predict(Xte)"
   ]
  },
  {
   "cell_type": "code",
   "execution_count": null,
   "metadata": {
    "collapsed": true
   },
   "outputs": [],
   "source": [
    "pred_prob = xgb1.predict_proba(Xte)"
   ]
  },
  {
   "cell_type": "code",
   "execution_count": null,
   "metadata": {
    "collapsed": false
   },
   "outputs": [],
   "source": [
    "pred_prob.shape"
   ]
  },
  {
   "cell_type": "code",
   "execution_count": null,
   "metadata": {
    "collapsed": false
   },
   "outputs": [],
   "source": [
    "X = Xin.drop(['SubjID','Loc','Subjtype'],axis=1)\n",
    "X.head(3)"
   ]
  },
  {
   "cell_type": "code",
   "execution_count": null,
   "metadata": {
    "collapsed": true
   },
   "outputs": [],
   "source": [
    "xgtrain = xgb.DMatrix(X,label='Falltype')\n",
    "xgtest = xgb.DMatrix(Xte,label='Falltype')"
   ]
  },
  {
   "cell_type": "code",
   "execution_count": null,
   "metadata": {
    "collapsed": false
   },
   "outputs": [],
   "source": [
    "print xgtrain.num_col()\n",
    "print xgtrain.num_row()\n",
    "print xgtest.num_col()\n",
    "print xgtest.num_row()"
   ]
  },
  {
   "cell_type": "markdown",
   "metadata": {},
   "source": [
    "Look at the clips"
   ]
  },
  {
   "cell_type": "code",
   "execution_count": null,
   "metadata": {
    "collapsed": true
   },
   "outputs": [],
   "source": [
    "labels = sio.loadmat('./Data/accHealthy10.mat')"
   ]
  },
  {
   "cell_type": "code",
   "execution_count": null,
   "metadata": {
    "collapsed": false
   },
   "outputs": [],
   "source": [
    "acc = labels['acc']"
   ]
  },
  {
   "cell_type": "code",
   "execution_count": null,
   "metadata": {
    "collapsed": false
   },
   "outputs": [],
   "source": [
    "acc.shape"
   ]
  },
  {
   "cell_type": "code",
   "execution_count": null,
   "metadata": {
    "collapsed": false
   },
   "outputs": [],
   "source": [
    "i"
   ]
  },
  {
   "cell_type": "code",
   "execution_count": null,
   "metadata": {
    "collapsed": false
   },
   "outputs": [],
   "source": [
    "i = np.random.permutation(fpidx4)\n",
    "i = i[0]\n",
    "a = acc[i][0][:,1:]\n",
    "plt.plot(a)"
   ]
  },
  {
   "cell_type": "code",
   "execution_count": null,
   "metadata": {
    "collapsed": false
   },
   "outputs": [],
   "source": [
    "np.where(Healthy.Falltype == 0)"
   ]
  },
  {
   "cell_type": "code",
   "execution_count": null,
   "metadata": {
    "collapsed": true
   },
   "outputs": [],
   "source": [
    "acc"
   ]
  }
 ],
 "metadata": {
  "kernelspec": {
   "display_name": "Python 3",
   "language": "python",
   "name": "python3"
  },
  "language_info": {
   "codemirror_mode": {
    "name": "ipython",
    "version": 3
   },
   "file_extension": ".py",
   "mimetype": "text/x-python",
   "name": "python",
   "nbconvert_exporter": "python",
   "pygments_lexer": "ipython3",
   "version": "3.6.0"
  }
 },
 "nbformat": 4,
 "nbformat_minor": 0
}
