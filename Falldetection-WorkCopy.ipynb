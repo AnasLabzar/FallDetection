{
 "cells": [
  {
   "cell_type": "code",
   "execution_count": 379,
   "metadata": {
    "collapsed": false
   },
   "outputs": [
    {
     "name": "stderr",
     "output_type": "stream",
     "text": [
      "/Users/luca/anaconda/lib/python2.7/site-packages/sklearn/cross_validation.py:44: DeprecationWarning: This module was deprecated in version 0.18 in favor of the model_selection module into which all the refactored classes and functions are moved. Also note that the interface of the new CV iterators are different from that of this module. This module will be removed in 0.20.\n",
      "  \"This module will be removed in 0.20.\", DeprecationWarning)\n"
     ]
    }
   ],
   "source": [
    "from __future__ import division\n",
    "\n",
    "import os\n",
    "import math\n",
    "import time\n",
    "import pandas as pd\n",
    "import numpy as np\n",
    "import seaborn as sns\n",
    "import matplotlib.pyplot as plt\n",
    "%matplotlib inline\n",
    "\n",
    "import sklearn\n",
    "import xgboost as xgb\n",
    "from xgboost.sklearn import XGBClassifier #this is the SKlearn wrapper\n",
    "from sklearn.model_selection import LeaveOneGroupOut\n",
    "from sklearn import preprocessing\n",
    "from sklearn import neighbors, linear_model\n",
    "from sklearn.ensemble import RandomForestClassifier, AdaBoostClassifier, GradientBoostingClassifier, ExtraTreesClassifier\n",
    "from sklearn.svm import SVC\n",
    "from sklearn.model_selection import KFold, StratifiedKFold, cross_val_score\n",
    "from sklearn.model_selection import GridSearchCV\n",
    "from sklearn import metrics\n",
    "from sklearn.linear_model import ElasticNetCV, LogisticRegression\n",
    "from sklearn.metrics import roc_curve, auc, roc_auc_score\n",
    "\n",
    "import scipy.io as sio\n",
    "import scipy.stats as stats"
   ]
  },
  {
   "cell_type": "markdown",
   "metadata": {},
   "source": [
    "### Helper fcns"
   ]
  },
  {
   "cell_type": "code",
   "execution_count": 2,
   "metadata": {
    "collapsed": false
   },
   "outputs": [],
   "source": [
    "from sklearn.metrics import confusion_matrix\n",
    "\n",
    "def plot_confusion_matrix(cm, title='Confusion matrix', cmap=plt.cm.Blues, norm=True):\n",
    "\n",
    "    if norm:\n",
    "        totals = cmat.sum(axis=1)\n",
    "        totals = totals.T\n",
    "        totals = np.expand_dims(totals,axis=1)\n",
    "        totals = np.tile(totals,(1,2))\n",
    "        cmat_norm = cmat/totals\n",
    "        print(cmat_norm)\n",
    "        cm = cmat_norm\n",
    "\n",
    "    plt.imshow(cm, interpolation='nearest', cmap=cmap)\n",
    "    plt.title(title)\n",
    "    plt.colorbar()\n",
    "    tick_marks = np.arange(2)\n",
    "    plt.xticks(tick_marks, ['Non-Fall','Fall'], rotation=45)\n",
    "    plt.yticks(tick_marks, ['Non-Fall','Fall'])\n",
    "    plt.tight_layout()\n",
    "    plt.ylabel('True label')\n",
    "    plt.xlabel('Predicted label')"
   ]
  },
  {
   "cell_type": "code",
   "execution_count": 219,
   "metadata": {
    "collapsed": true
   },
   "outputs": [],
   "source": [
    "def ThresholdClass(TrainData,TestData):\n",
    "    \"\"\"Inputs: Dataframe containing AccMax and AccMin accelerations for both train and test data\n",
    "    Outputs: dataframe of classification of test data as fall (True) or non-fall (False)\"\"\"\n",
    "    TPR_thr=[]; FPR_thr=[]\n",
    "    \n",
    "    thrneg = np.sort(TestData[TestData['Falltype']==0]['AccMax']) #the feature value for all negatives\n",
    "    thrneg = thrneg[::-1]\n",
    "    N = len(thrneg)\n",
    "    for fpr in np.linspace(0,1,50):\n",
    "        if fpr == 1:\n",
    "            thr = thrneg[-1]\n",
    "        else:\n",
    "            thr = thrneg[int(fpr*N)] #the threshold yielding fpr\n",
    "            \n",
    "        ThresPred = TestData.AccMax>thr\n",
    "        Sens = len(ThresPred[(ThresPred==True) & (TestData.Falltype==1)])/len(ThresPred[TestData.Falltype==1])\n",
    "        TPR_thr.append(Sens)\n",
    "        FPR_thr.append(fpr)\n",
    "    \n",
    "    return TPR_thr, FPR_thr"
   ]
  },
  {
   "cell_type": "code",
   "execution_count": 255,
   "metadata": {
    "collapsed": true
   },
   "outputs": [],
   "source": [
    "def LOSOCV(X,y,data):\n",
    "\n",
    "    TAUC_all=[]; Tfpr_all=[]; Ttpr_all=[]; TSens_all=[]; TSpec_all=[] #store results for each subject\n",
    "    AUC_all=[]; fpr_all=[]; tpr_all=[]; Sens_all=[]; Spec_all=[]\n",
    "    \n",
    "    for train_index, test_index in subj.split(X, y, groups):\n",
    "        Dtr = data.iloc[train_index]\n",
    "        Dte = data.iloc[test_index]\n",
    "        \n",
    "        #threshold method - tpr, fpr, auc\n",
    "        tprT, fprT = ThresholdClass(Dtr,Dte)\n",
    "        tprT = np.asarray(tprT); fprT = np.asarray(fprT)\n",
    "        roc_aucT = auc(fprT,tprT)\n",
    "        \n",
    "        #Random Forest\n",
    "        Xtr, Xte = X[train_index], X[test_index]\n",
    "        ytr, yte = y[train_index], y[test_index]\n",
    "        #selct features\n",
    "        Xtr, Xte = Xtr[:,indmax], Xte[:,indmax]\n",
    "        forest = RandomForestClassifier(n_estimators=100,random_state=10,warm_start=False,class_weight=None)    \n",
    "        forest.fit(Xtr,ytr)\n",
    "        ypred = forest.predict(Xte)\n",
    "        yscore = forest.predict_proba(Xte)\n",
    "        yscore = yscore[:,1]\n",
    "\n",
    "        #compute ROC at fixed fpr (to plot error bars)\n",
    "        fpr=np.linspace(0,1,101); tpr=[]\n",
    "        nscores = np.sort(np.column_stack((yscore[yte==0],yte[yte==0])),axis=0)\n",
    "        neg_counts = sum(yte==0)\n",
    "        for f in fpr:\n",
    "            ind = neg_counts-int(neg_counts*f)-1\n",
    "            t = (nscores[ind])[0]\n",
    "            if f==1:\n",
    "                t = 0\n",
    "            tpr_t = sum(yscore[yte==1]>t) / sum(yte==1)\n",
    "            tpr.append(tpr_t) \n",
    "\n",
    "        fpr = np.asarray(fpr); tpr = np.asarray(tpr)\n",
    "        roc_auc = auc(fpr, tpr)\n",
    "        \n",
    "        #compute Sens and Spec\n",
    "        #threshold\n",
    "        ind = np.argmax(tprT-fprT)\n",
    "        SensT = tprT[ind]\n",
    "        SpecT = 1-fprT[ind]\n",
    "        \n",
    "        TAUC_all.append(roc_aucT)\n",
    "        Ttpr_all.append(tprT); Tfpr_all=fprT;\n",
    "        TSens_all.append(SensT); TSpec_all.append(SpecT)\n",
    "        \n",
    "        #randomforest\n",
    "        ind = np.argmax(tpr-fpr)\n",
    "        Sens = tpr[ind]\n",
    "        Spec = 1-fpr[ind]\n",
    "        \n",
    "        AUC_all.append(roc_auc)\n",
    "        tpr_all.append(tpr); fpr_all=fpr;\n",
    "        Sens_all.append(Sens); Spec_all.append(Spec)\n",
    "        \n",
    "        print('AUC_T = %.4f, Sens_T = %.4f, Spec_T = %.4f'%(roc_aucT,SensT,SpecT)) #threshold\n",
    "        print('AUC = %.4f, Sens = %.4f, Spec = %.4f\\n'%(roc_auc,Sens,Spec)) #random forest\n",
    "        \n",
    "\n",
    "    #summary results\n",
    "    print(('mean AUC_T = %.3f (+/- %0.3f)')%(np.mean(TAUC_all),2*np.std(TAUC_all)))\n",
    "    print(('mean Sens_T = %.3f (+/- %0.3f)')%(np.mean(TSens_all),2*np.std(TSens_all)))\n",
    "    print(('mean Spec_T = %.3f (+/- %0.3f)')%(np.mean(TSpec_all),2*np.std(TSpec_all)))\n",
    "    print(('mean AUC = %.3f (+/- %0.3f)')%(np.mean(AUC_all),2*np.std(AUC_all)))\n",
    "    print(('mean Sens = %.3f (+/- %0.3f)')%(np.mean(Sens_all),2*np.std(Sens_all)))\n",
    "    print(('mean Spec = %.3f (+/- %0.3f)')%(np.mean(Spec_all),2*np.std(Spec_all)))\n",
    "\n",
    "\n",
    "    results_T = {'AUC':TAUC_all, 'TPR':Ttpr_all, 'FPR':Tfpr_all, 'Sens':TSens_all, 'Spec':TSpec_all}\n",
    "    results = {'AUC':AUC_all, 'TPR':tpr_all, 'FPR':fpr_all, 'Sens':Sens_all, 'Spec':Spec_all}\n",
    "    return results_T, results\n",
    "#     return AUC_all, TAUC_all, fpr_all, tpr_all, Sens_all, Spec_all, TTPR_all, TFPR_all"
   ]
  },
  {
   "cell_type": "code",
   "execution_count": 4,
   "metadata": {
    "collapsed": false
   },
   "outputs": [],
   "source": [
    "#Dtr and D are the corresponding train and test dataframes\n",
    "\n",
    "def EvaluateBySubject(Dtr,D):\n",
    "\n",
    "    AUC_all=[]; fpr_all=[]; tpr_all=[]; Sens_all=[]; Spec_all=[]; t_all=[]\n",
    "    TTPR_all, TFPR_all = [], []\n",
    "    TOpt_all, T90_all = [], []\n",
    "    thr = np.linspace(0,1,21)\n",
    "    thr = thr[::-1]\n",
    "\n",
    "    #train and test data as numpy arrays\n",
    "    Xtr = Dtr.iloc[:,4:].as_matrix()\n",
    "    ytr = Dtr.Falltype.as_matrix()\n",
    "    X = D.iloc[:,4:].as_matrix()\n",
    "    y = D.Falltype.as_matrix()\n",
    "\n",
    "    #select train features and train on the population in Xtr\n",
    "    Xtr = Xtr[:,indmax]\n",
    "    forest = RandomForestClassifier(n_estimators=50,random_state=10,warm_start=False,class_weight=None)    \n",
    "    forest.fit(Xtr,ytr)\n",
    "    \n",
    "    #split by subject for testing on X,y\n",
    "    groups = D.SubjID.as_matrix()\n",
    "    subj = LeaveOneGroupOut()\n",
    "    subj.get_n_splits(X,y,groups)\n",
    "    \n",
    "    for train_index, test_index in subj.split(X, y, groups):\n",
    "        \n",
    "        Dte = D.iloc[test_index]\n",
    "            \n",
    "        SensT, SpecT = ThresholdClass(Dtr,Dte)\n",
    "        TTPR_all.append(SensT)\n",
    "        TFPR_all.append(1-SpecT)\n",
    "        \n",
    "        Xte = X[test_index]\n",
    "        yte = y[test_index]\n",
    "        \n",
    "        #selct test features\n",
    "        Xte = Xte[:,indmax]\n",
    "\n",
    "        ypred = forest.predict(Xte)\n",
    "        yscore = forest.predict_proba(Xte)\n",
    "        yscore = yscore[:,1]\n",
    "\n",
    "#         print(np.percentile(yscore[yte==1],[5, 10, 15, 20]))\n",
    "        \n",
    "        #acc = np.sum(ypred==yte)/len(ypred)\n",
    "        #print('Acc = %.4f')%acc\n",
    "\n",
    "    #    fpr, tpr, thresholds = metrics.roc_curve(yte, yscore, pos_label=1,drop_intermediate=False\n",
    "        #compute ROC at fixed fpr (to plot error bars)\n",
    "        fpr=np.linspace(0,1,101); tpr=[]\n",
    "        nscores = np.sort(np.column_stack((yscore[yte==0],yte[yte==0])),axis=0)\n",
    "        neg_counts = sum(yte==0)\n",
    "        for f in fpr:\n",
    "            ind = neg_counts-int(neg_counts*f)-1\n",
    "            t = (nscores[ind])[0]\n",
    "            if f==1:\n",
    "                t = 0\n",
    "            t_all.append(t)\n",
    "            tpr_t = sum(yscore[yte==1]>t) / sum(yte==1)\n",
    "            tpr.append(tpr_t) \n",
    "\n",
    "        fpr = np.asarray(fpr); tpr = np.asarray(tpr)\n",
    "        roc_auc = auc(fpr, tpr)\n",
    "        \n",
    "        #compute Sens and Spec\n",
    "        #Sens = sum((ypred==1) & (yte==1)) / sum(yte==1); Spec = 1-sum((ypred==1) & (yte==0)) / sum(yte==0)\n",
    "        ind = np.argmax(tpr-fpr,axis=0)\n",
    "        Sens = tpr[ind]\n",
    "        Spec = 1-fpr[ind]\n",
    "        \n",
    "        ## Thresholds\n",
    "        TOpt_all.append(t_all[ind])\n",
    "        T90_all.append(t_all[np.argmin(abs(tpr-.90))])\n",
    "        \n",
    "        TOpt = np.mean(TOpt_all)\n",
    "        T90 = np.mean(T90_all)\n",
    "        \n",
    "        print('AUC = %.4f, Sens = %.4f, Spec = %.4f'%(roc_auc,Sens,Spec))    \n",
    "        AUC_all.append(roc_auc)\n",
    "        tpr_all.append(tpr); fpr_all=fpr;\n",
    "        Sens_all.append(Sens); Spec_all.append(Spec)\n",
    "\n",
    "    #summary results\n",
    "    print(('mean AUC = %.3f (+/- %0.3f)')%(np.mean(AUC_all),2*np.std(AUC_all)))\n",
    "    print(('mean Sens = %.3f (+/- %0.3f)')%(np.mean(Sens_all),2*np.std(Sens_all)))\n",
    "    print(('mean Spec = %.3f (+/- %0.3f)')%(np.mean(Spec_all),2*np.std(Spec_all)))\n",
    "\n",
    "    return AUC_all, fpr_all, tpr_all, Sens_all, Spec_all, TTPR_all, TFPR_all, TOpt, T90"
   ]
  },
  {
   "cell_type": "code",
   "execution_count": 5,
   "metadata": {
    "collapsed": true
   },
   "outputs": [],
   "source": [
    "def HomeDataEval(Dtr,D,Threshold):\n",
    "\n",
    "    AUC_all=[]; fpr_all=[]; tpr_all=[]; Sens_all=[]; Spec_all=[]; t_all=[]\n",
    "    TTPR_all, TSpec_all = [], []\n",
    "    FPCount_all, TFPCount_all = [], []\n",
    "    thr = np.linspace(0,1,21)\n",
    "    thr = thr[::-1]\n",
    "\n",
    "    #train and test data as numpy arrays\n",
    "    Xtr = Dtr.iloc[:,4:].as_matrix()\n",
    "    ytr = Dtr.Falltype.as_matrix()\n",
    "    X = D.iloc[:,4:].as_matrix()\n",
    "    y = D.Falltype.as_matrix()\n",
    "\n",
    "    #select train features and train on the population in Xtr\n",
    "    Xtr = Xtr[:,indmax]\n",
    "    forest = RandomForestClassifier(n_estimators=50,random_state=10,warm_start=False,class_weight=None)    \n",
    "    forest.fit(Xtr,ytr)\n",
    "    \n",
    "    #split by subject for testing on X,y\n",
    "    groups = D.SubjID.as_matrix()\n",
    "    subj = LeaveOneGroupOut()\n",
    "    subj.get_n_splits(X,y,groups)\n",
    "    \n",
    "    for train_index, test_index in subj.split(X, y, groups):\n",
    "        \n",
    "        Dte = D.iloc[test_index]\n",
    "            \n",
    "        _, SpecT = ThresholdClass(Dtr,Dte)\n",
    "        TSpec_all.append(SpecT)\n",
    "        \n",
    "        Xte = X[test_index]\n",
    "        yte = y[test_index]\n",
    "        \n",
    "        #selct test features\n",
    "        Xte = Xte[:,indmax]\n",
    "\n",
    "        ypred = forest.predict(Xte)\n",
    "        yscore = forest.predict_proba(Xte)\n",
    "        yscore = yscore[:,1]\n",
    "        \n",
    "        #compute Sens and Spec\n",
    "        Sens = sum((yscore>Threshold) & (yte==1)) / sum(yte==1); Spec = 1-sum((yscore>Threshold) & (yte==0)) / sum(yte==0)\n",
    "        \n",
    "        Spec_all.append(Spec)\n",
    "\n",
    "    return Spec_all, TSpec_all"
   ]
  },
  {
   "cell_type": "code",
   "execution_count": 6,
   "metadata": {
    "collapsed": false
   },
   "outputs": [],
   "source": [
    "current_palette = sns.color_palette()\n",
    "\n",
    "def plot_roc(tpr_all,fpr,roc_auc,ax=None,plotname=None,col=None):\n",
    "    #plot mean ROC across subjects (need to add shaded conf interval)\n",
    "    tprmu = np.mean(np.asarray(tpr_all),axis=0)\n",
    "    tpr=np.asarray(tpr_all)\n",
    "    fpr=np.reshape(fpr,(1,-1))\n",
    "    tprmu=np.reshape(tprmu,(1,-1))\n",
    "    label=pd.Series(data = ['%s - AUC = %0.3f' % (plotname,roc_auc)]*len(fpr))\n",
    "    if ax == None:\n",
    "        ax = sns.tsplot(data=tpr,time=fpr,ci=95,condition=label,legend=True,color=col,lw=3)\n",
    "    else:\n",
    "        sns.tsplot(data=tpr,time=fpr,ci=95,condition=label, legend=True,ax=ax,color=col,lw=3)\n",
    "             \n",
    "    lw = 3\n",
    "    ax.plot([0, 1], [0, 1], color='navy', lw=lw, linestyle='--')\n",
    "    ax.set_xlim([-0.05, 1.0])\n",
    "    ax.set_ylim([0.0, 1.05])\n",
    "    ax.set_xlabel('False Positive Rate')\n",
    "    ax.set_ylabel('True Positive Rate')\n",
    "    ax.legend(loc='lower right')\n",
    "    \n",
    "    return ax"
   ]
  },
  {
   "cell_type": "code",
   "execution_count": 8,
   "metadata": {
    "collapsed": false
   },
   "outputs": [],
   "source": [
    "# def ThresholdClass(TrainData,TestData):\n",
    "#     \"\"\"Inputs: Dataframe containing AccMax and AccMin accelerations for both train and test data\n",
    "#     Outputs: dataframe of classification of test data as fall (True) or non-fall (False)\"\"\"\n",
    "#     Max = TrainData.AccMax\n",
    "#     Min = TrainData.AccMin\n",
    "#     UFT = Max[TrainData.Falltype==1].min(axis=0)\n",
    "#     LFT = Min[TrainData.Falltype==1].max(axis=0)\n",
    "#     print UFT,LFT\n",
    "#     ThresPred = (TestData.AccMax>UFT) & (TestData.AccMin<LFT)\n",
    "#     Sens = len(ThresPred[(ThresPred==True) & (TestData.Falltype==1)])/len(ThresPred[TestData.Falltype==1])\n",
    "#     Spec = len(ThresPred[(ThresPred==False) & (TestData.Falltype==0)])/len(ThresPred[TestData.Falltype==0])\n",
    "    \n",
    "#     return Sens, Spec"
   ]
  },
  {
   "cell_type": "markdown",
   "metadata": {},
   "source": [
    "### Load the data (contains only activities clips below 2g)"
   ]
  },
  {
   "cell_type": "code",
   "execution_count": 9,
   "metadata": {
    "collapsed": false
   },
   "outputs": [],
   "source": [
    "Healthy = pd.read_csv('./Data/Healthy10.csv',header=None)\n",
    "Amp = pd.read_csv('./Data/Amp10.csv',header=None)\n",
    "Healthy = Healthy.rename(index=int, columns={0:'SubjID',1:'Loc',2:'Subjtype',3:'Falltype',950:'AccMax',951:'AccMin'})\n",
    "Amp = Amp.rename(index=int, columns={0:'SubjID',1:'Loc',2:'Subjtype',3:'Falltype',950:'AccMax',951:'AccMin'})\n",
    "\n",
    "Healthy.loc[Healthy['AccMax']>2500,'AccMax'] = 2500 #saturate max acceleration to 5g (in m/s^2)^2\n",
    "Amp.loc[Amp['AccMax']>2500,'AccMax'] = 2500 #saturate max acceleration to 5g (in m/s^2)^2"
   ]
  },
  {
   "cell_type": "code",
   "execution_count": 11,
   "metadata": {
    "collapsed": false
   },
   "outputs": [
    {
     "data": {
      "text/html": [
       "<div>\n",
       "<table border=\"1\" class=\"dataframe\">\n",
       "  <thead>\n",
       "    <tr style=\"text-align: right;\">\n",
       "      <th></th>\n",
       "      <th>SubjID</th>\n",
       "      <th>Loc</th>\n",
       "      <th>Subjtype</th>\n",
       "      <th>Falltype</th>\n",
       "      <th>4</th>\n",
       "      <th>5</th>\n",
       "      <th>6</th>\n",
       "      <th>7</th>\n",
       "      <th>8</th>\n",
       "      <th>9</th>\n",
       "      <th>...</th>\n",
       "      <th>1205</th>\n",
       "      <th>1206</th>\n",
       "      <th>1207</th>\n",
       "      <th>1208</th>\n",
       "      <th>1209</th>\n",
       "      <th>1210</th>\n",
       "      <th>1211</th>\n",
       "      <th>1212</th>\n",
       "      <th>1213</th>\n",
       "      <th>1214</th>\n",
       "    </tr>\n",
       "  </thead>\n",
       "  <tbody>\n",
       "    <tr>\n",
       "      <th>0</th>\n",
       "      <td>1</td>\n",
       "      <td>1</td>\n",
       "      <td>1</td>\n",
       "      <td>3</td>\n",
       "      <td>-0.135490</td>\n",
       "      <td>0.023986</td>\n",
       "      <td>-0.22209</td>\n",
       "      <td>-0.034934</td>\n",
       "      <td>0.026296</td>\n",
       "      <td>0.061168</td>\n",
       "      <td>...</td>\n",
       "      <td>1.3975</td>\n",
       "      <td>1.0539</td>\n",
       "      <td>1.371</td>\n",
       "      <td>0.57013</td>\n",
       "      <td>0.042151</td>\n",
       "      <td>0.040205</td>\n",
       "      <td>0.036391</td>\n",
       "      <td>0.082633</td>\n",
       "      <td>0.057698</td>\n",
       "      <td>0.142730</td>\n",
       "    </tr>\n",
       "    <tr>\n",
       "      <th>1</th>\n",
       "      <td>1</td>\n",
       "      <td>1</td>\n",
       "      <td>1</td>\n",
       "      <td>3</td>\n",
       "      <td>-0.116930</td>\n",
       "      <td>0.041788</td>\n",
       "      <td>-0.25966</td>\n",
       "      <td>-0.036706</td>\n",
       "      <td>0.028857</td>\n",
       "      <td>0.069082</td>\n",
       "      <td>...</td>\n",
       "      <td>1.0056</td>\n",
       "      <td>-1.0666</td>\n",
       "      <td>1.371</td>\n",
       "      <td>0.59226</td>\n",
       "      <td>0.044890</td>\n",
       "      <td>0.055954</td>\n",
       "      <td>0.064699</td>\n",
       "      <td>0.077030</td>\n",
       "      <td>0.105940</td>\n",
       "      <td>0.130800</td>\n",
       "    </tr>\n",
       "    <tr>\n",
       "      <th>2</th>\n",
       "      <td>1</td>\n",
       "      <td>1</td>\n",
       "      <td>1</td>\n",
       "      <td>3</td>\n",
       "      <td>-0.095297</td>\n",
       "      <td>-0.009186</td>\n",
       "      <td>-0.26274</td>\n",
       "      <td>-0.031153</td>\n",
       "      <td>0.019380</td>\n",
       "      <td>0.071339</td>\n",
       "      <td>...</td>\n",
       "      <td>1.5987</td>\n",
       "      <td>2.0886</td>\n",
       "      <td>1.371</td>\n",
       "      <td>0.76639</td>\n",
       "      <td>0.050949</td>\n",
       "      <td>0.099145</td>\n",
       "      <td>0.054502</td>\n",
       "      <td>0.070348</td>\n",
       "      <td>0.107280</td>\n",
       "      <td>0.145240</td>\n",
       "    </tr>\n",
       "    <tr>\n",
       "      <th>3</th>\n",
       "      <td>1</td>\n",
       "      <td>1</td>\n",
       "      <td>1</td>\n",
       "      <td>4</td>\n",
       "      <td>-0.131590</td>\n",
       "      <td>0.012601</td>\n",
       "      <td>0.36066</td>\n",
       "      <td>-0.030360</td>\n",
       "      <td>0.038864</td>\n",
       "      <td>0.070713</td>\n",
       "      <td>...</td>\n",
       "      <td>2.0909</td>\n",
       "      <td>4.4104</td>\n",
       "      <td>1.371</td>\n",
       "      <td>0.51069</td>\n",
       "      <td>0.035452</td>\n",
       "      <td>0.046974</td>\n",
       "      <td>0.043586</td>\n",
       "      <td>0.073470</td>\n",
       "      <td>0.071604</td>\n",
       "      <td>0.098844</td>\n",
       "    </tr>\n",
       "    <tr>\n",
       "      <th>4</th>\n",
       "      <td>1</td>\n",
       "      <td>1</td>\n",
       "      <td>1</td>\n",
       "      <td>4</td>\n",
       "      <td>-0.174220</td>\n",
       "      <td>0.002581</td>\n",
       "      <td>0.33938</td>\n",
       "      <td>-0.049466</td>\n",
       "      <td>0.017201</td>\n",
       "      <td>0.068173</td>\n",
       "      <td>...</td>\n",
       "      <td>2.0293</td>\n",
       "      <td>4.1421</td>\n",
       "      <td>1.371</td>\n",
       "      <td>0.50332</td>\n",
       "      <td>0.045742</td>\n",
       "      <td>0.077608</td>\n",
       "      <td>0.067755</td>\n",
       "      <td>0.079449</td>\n",
       "      <td>0.131450</td>\n",
       "      <td>0.085266</td>\n",
       "    </tr>\n",
       "  </tbody>\n",
       "</table>\n",
       "<p>5 rows × 1215 columns</p>\n",
       "</div>"
      ],
      "text/plain": [
       "   SubjID  Loc  Subjtype  Falltype         4         5        6         7  \\\n",
       "0       1    1         1         3 -0.135490  0.023986 -0.22209 -0.034934   \n",
       "1       1    1         1         3 -0.116930  0.041788 -0.25966 -0.036706   \n",
       "2       1    1         1         3 -0.095297 -0.009186 -0.26274 -0.031153   \n",
       "3       1    1         1         4 -0.131590  0.012601  0.36066 -0.030360   \n",
       "4       1    1         1         4 -0.174220  0.002581  0.33938 -0.049466   \n",
       "\n",
       "          8         9    ...       1205    1206   1207     1208      1209  \\\n",
       "0  0.026296  0.061168    ...     1.3975  1.0539  1.371  0.57013  0.042151   \n",
       "1  0.028857  0.069082    ...     1.0056 -1.0666  1.371  0.59226  0.044890   \n",
       "2  0.019380  0.071339    ...     1.5987  2.0886  1.371  0.76639  0.050949   \n",
       "3  0.038864  0.070713    ...     2.0909  4.4104  1.371  0.51069  0.035452   \n",
       "4  0.017201  0.068173    ...     2.0293  4.1421  1.371  0.50332  0.045742   \n",
       "\n",
       "       1210      1211      1212      1213      1214  \n",
       "0  0.040205  0.036391  0.082633  0.057698  0.142730  \n",
       "1  0.055954  0.064699  0.077030  0.105940  0.130800  \n",
       "2  0.099145  0.054502  0.070348  0.107280  0.145240  \n",
       "3  0.046974  0.043586  0.073470  0.071604  0.098844  \n",
       "4  0.077608  0.067755  0.079449  0.131450  0.085266  \n",
       "\n",
       "[5 rows x 1215 columns]"
      ]
     },
     "execution_count": 11,
     "metadata": {},
     "output_type": "execute_result"
    }
   ],
   "source": [
    "#Subjtype: 0 = Amputee, 1 = Healthy , 2 = Healthy outdoor\n",
    "Healthy.head(5)"
   ]
  },
  {
   "cell_type": "code",
   "execution_count": 12,
   "metadata": {
    "collapsed": false,
    "scrolled": true
   },
   "outputs": [
    {
     "name": "stdout",
     "output_type": "stream",
     "text": [
      "4890\n",
      "2184\n"
     ]
    }
   ],
   "source": [
    "print(len(Healthy))\n",
    "print(len(Amp))"
   ]
  },
  {
   "cell_type": "code",
   "execution_count": 13,
   "metadata": {
    "collapsed": false
   },
   "outputs": [
    {
     "name": "stdout",
     "output_type": "stream",
     "text": [
      "N subjects Healthy: 10\n",
      "N subjects Amp: 7\n",
      "[1]\n",
      "[0]\n"
     ]
    }
   ],
   "source": [
    "print(('N subjects Healthy: %s'%(len(Healthy.SubjID.unique()))))\n",
    "print(('N subjects Amp: %s'%(len(Amp.SubjID.unique()))))\n",
    "print(Healthy.Subjtype.unique())\n",
    "print(Amp.Subjtype.unique())"
   ]
  },
  {
   "cell_type": "code",
   "execution_count": 14,
   "metadata": {
    "collapsed": false
   },
   "outputs": [
    {
     "name": "stdout",
     "output_type": "stream",
     "text": [
      "Nfalls = 4575\n",
      "Nactivities = 315\n"
     ]
    }
   ],
   "source": [
    "#Healthy\n",
    "print(('Nfalls = %s')%(len(Healthy[Healthy.Falltype<9])))\n",
    "print(('Nactivities = %s')%(len(Healthy[Healthy.Falltype==9])))"
   ]
  },
  {
   "cell_type": "code",
   "execution_count": 15,
   "metadata": {
    "collapsed": false
   },
   "outputs": [
    {
     "name": "stdout",
     "output_type": "stream",
     "text": [
      "Nfalls = 1877\n",
      "Nactivities = 307\n"
     ]
    }
   ],
   "source": [
    "#Amp\n",
    "print(('Nfalls = %s')%(len(Amp[Amp.Falltype<9])))\n",
    "print(('Nactivities = %s')%(len(Amp[Amp.Falltype==9])))"
   ]
  },
  {
   "cell_type": "markdown",
   "metadata": {},
   "source": [
    "## Distribution of ACC Magnitude (for all clips)"
   ]
  },
  {
   "cell_type": "code",
   "execution_count": 17,
   "metadata": {
    "collapsed": false
   },
   "outputs": [],
   "source": [
    "MaxAcc = pd.read_csv('./Data/AccMax.csv',header=None)\n",
    "MaxAcc = MaxAcc.rename(index=int,columns={0:'SubjType',1:'FallType',2:'AccMax'})"
   ]
  },
  {
   "cell_type": "code",
   "execution_count": 18,
   "metadata": {
    "collapsed": false
   },
   "outputs": [
    {
     "data": {
      "text/html": [
       "<div>\n",
       "<table border=\"1\" class=\"dataframe\">\n",
       "  <thead>\n",
       "    <tr style=\"text-align: right;\">\n",
       "      <th></th>\n",
       "      <th>SubjType</th>\n",
       "      <th>FallType</th>\n",
       "      <th>AccMax</th>\n",
       "    </tr>\n",
       "  </thead>\n",
       "  <tbody>\n",
       "    <tr>\n",
       "      <th>0</th>\n",
       "      <td>1</td>\n",
       "      <td>1</td>\n",
       "      <td>3.2416</td>\n",
       "    </tr>\n",
       "    <tr>\n",
       "      <th>1</th>\n",
       "      <td>1</td>\n",
       "      <td>1</td>\n",
       "      <td>3.2021</td>\n",
       "    </tr>\n",
       "    <tr>\n",
       "      <th>2</th>\n",
       "      <td>1</td>\n",
       "      <td>1</td>\n",
       "      <td>3.2232</td>\n",
       "    </tr>\n",
       "    <tr>\n",
       "      <th>3</th>\n",
       "      <td>1</td>\n",
       "      <td>1</td>\n",
       "      <td>3.1034</td>\n",
       "    </tr>\n",
       "    <tr>\n",
       "      <th>4</th>\n",
       "      <td>1</td>\n",
       "      <td>1</td>\n",
       "      <td>3.1056</td>\n",
       "    </tr>\n",
       "  </tbody>\n",
       "</table>\n",
       "</div>"
      ],
      "text/plain": [
       "   SubjType  FallType  AccMax\n",
       "0         1         1  3.2416\n",
       "1         1         1  3.2021\n",
       "2         1         1  3.2232\n",
       "3         1         1  3.1034\n",
       "4         1         1  3.1056"
      ]
     },
     "execution_count": 18,
     "metadata": {},
     "output_type": "execute_result"
    }
   ],
   "source": [
    "MaxAcc.head()"
   ]
  },
  {
   "cell_type": "code",
   "execution_count": 19,
   "metadata": {
    "collapsed": false
   },
   "outputs": [
    {
     "data": {
      "text/plain": [
       "array([1, 0])"
      ]
     },
     "execution_count": 19,
     "metadata": {},
     "output_type": "execute_result"
    }
   ],
   "source": [
    "MaxAcc.SubjType.unique()"
   ]
  },
  {
   "cell_type": "code",
   "execution_count": 20,
   "metadata": {
    "collapsed": false
   },
   "outputs": [
    {
     "name": "stdout",
     "output_type": "stream",
     "text": [
      "[1 0]\n"
     ]
    }
   ],
   "source": [
    "# (MaxAcc['SubjType']==1)\n",
    "print MaxAcc.FallType.unique()"
   ]
  },
  {
   "cell_type": "code",
   "execution_count": 21,
   "metadata": {
    "collapsed": false
   },
   "outputs": [],
   "source": [
    "MaxAcc.loc[MaxAcc.AccMax > 5] = 5 #saturate the max acceleration"
   ]
  },
  {
   "cell_type": "code",
   "execution_count": 22,
   "metadata": {
    "collapsed": false
   },
   "outputs": [
    {
     "data": {
      "image/png": "[encoded data removed]",
      "text/plain": [
       "<matplotlib.figure.Figure at 0x103e4c190>"
      ]
     },
     "metadata": {},
     "output_type": "display_data"
    }
   ],
   "source": [
    "sns.set_context('talk',font_scale=1.2)\n",
    "fig = plt.figure(figsize=(16,6))\n",
    "ax1 = fig.add_subplot(121)\n",
    "sns.distplot(MaxAcc[(MaxAcc['FallType']==0) & (MaxAcc['SubjType']==0)]['AccMax'],ax=ax1,label='Non-Fall')\n",
    "sns.distplot(MaxAcc[(MaxAcc['FallType']==1) & (MaxAcc['SubjType']==0)]['AccMax'],ax=ax1,label='Fall')\n",
    "plt.legend(); \n",
    "ax1.set_title('Distribution of clips max acceleration - Healthy'); ax1.set_ylabel('Max Acc [g]')\n",
    "ax2 = fig.add_subplot(122)\n",
    "sns.distplot(MaxAcc[(MaxAcc['FallType']==0) & (MaxAcc['SubjType']==1)]['AccMax'],ax=ax2,label='Non-Fall')\n",
    "sns.distplot(MaxAcc[(MaxAcc['FallType']==1) & (MaxAcc['SubjType']==1)]['AccMax'],ax=ax2,label='Fall')\n",
    "ax2.set_title('Distribution of clips max acceleration - Amputees'); ax1.set_ylabel('Max Acc [g]')\n",
    "plt.legend(); "
   ]
  },
  {
   "cell_type": "markdown",
   "metadata": {},
   "source": [
    "# Feature selection on healthy data"
   ]
  },
  {
   "cell_type": "code",
   "execution_count": 23,
   "metadata": {
    "collapsed": true
   },
   "outputs": [],
   "source": [
    "#transform to binary class\n",
    "Xtr = Healthy.iloc[:,4:].as_matrix()\n",
    "ytr = Healthy.Falltype.as_matrix()\n",
    "Xte = Amp.iloc[:,4:].as_matrix()\n",
    "yte = Amp.Falltype.as_matrix()\n",
    "ytr[ytr < 9] = 1\n",
    "ytr[ytr == 9] = 0\n",
    "yte[yte < 9] = 1\n",
    "yte[yte == 9] = 0"
   ]
  },
  {
   "cell_type": "code",
   "execution_count": 24,
   "metadata": {
    "collapsed": false
   },
   "outputs": [
    {
     "name": "stdout",
     "output_type": "stream",
     "text": [
      "(4890, 1211)\n",
      "[0 1]\n",
      "(2184, 1211)\n",
      "[0 1]\n"
     ]
    }
   ],
   "source": [
    "print(Xtr.shape)\n",
    "print(np.unique(ytr))\n",
    "print(Xte.shape)\n",
    "print(np.unique(yte))"
   ]
  },
  {
   "cell_type": "code",
   "execution_count": 25,
   "metadata": {
    "collapsed": false
   },
   "outputs": [
    {
     "data": {
      "text/plain": [
       "RandomForestClassifier(bootstrap=True, class_weight=None, criterion='gini',\n",
       "            max_depth=None, max_features='auto', max_leaf_nodes=None,\n",
       "            min_impurity_split=1e-07, min_samples_leaf=1,\n",
       "            min_samples_split=2, min_weight_fraction_leaf=0.0,\n",
       "            n_estimators=50, n_jobs=1, oob_score=False, random_state=10,\n",
       "            verbose=0, warm_start=False)"
      ]
     },
     "execution_count": 25,
     "metadata": {},
     "output_type": "execute_result"
    }
   ],
   "source": [
    "forest = RandomForestClassifier(n_estimators=50,random_state=10)\n",
    "forest.fit(Xtr,ytr)"
   ]
  },
  {
   "cell_type": "code",
   "execution_count": 26,
   "metadata": {
    "collapsed": false
   },
   "outputs": [
    {
     "name": "stdout",
     "output_type": "stream",
     "text": [
      "[  7.84592319e-05   1.42374638e-04   1.42221890e-04 ...,   1.29468126e-06\n",
      "   3.87604949e-04   1.70145129e-04]\n",
      "[  5.49214623e-04   8.87375169e-04   6.96872789e-04 ...,   6.42328644e-06\n",
      "   1.49728194e-03   1.19101590e-03]\n"
     ]
    }
   ],
   "source": [
    "importance = forest.feature_importances_\n",
    "print(importance)\n",
    "indices = np.argsort(importance)\n",
    "importance_std = np.std([tree.feature_importances_ for tree in forest.estimators_],axis=0)\n",
    "print(importance_std)"
   ]
  },
  {
   "cell_type": "code",
   "execution_count": 27,
   "metadata": {
    "collapsed": false
   },
   "outputs": [],
   "source": [
    "importance_norm = importance/np.max(importance)"
   ]
  },
  {
   "cell_type": "code",
   "execution_count": 28,
   "metadata": {
    "collapsed": false
   },
   "outputs": [
    {
     "data": {
      "text/plain": [
       "<matplotlib.figure.Figure at 0x103e8ca10>"
      ]
     },
     "execution_count": 28,
     "metadata": {},
     "output_type": "execute_result"
    },
    {
     "data": {
      "image/png": "[encoded data removed]",
      "text/plain": [
       "<matplotlib.figure.Figure at 0x1102e5a10>"
      ]
     },
     "metadata": {},
     "output_type": "display_data"
    },
    {
     "data": {
      "text/plain": [
       "<matplotlib.figure.Figure at 0x103e8ca10>"
      ]
     },
     "metadata": {},
     "output_type": "display_data"
    }
   ],
   "source": [
    "#using Seaborn\n",
    "sns.set_context(\"notebook\")\n",
    "ax = sns.barplot(x=indices,y=importance_norm[indices])\n",
    "plt.figure(figsize=(8,6))"
   ]
  },
  {
   "cell_type": "code",
   "execution_count": 29,
   "metadata": {
    "collapsed": false
   },
   "outputs": [
    {
     "data": {
      "text/plain": [
       "<matplotlib.figure.Figure at 0x114723ed0>"
      ]
     },
     "execution_count": 29,
     "metadata": {},
     "output_type": "execute_result"
    },
    {
     "data": {
      "image/png": "[encoded data removed]",
      "text/plain": [
       "<matplotlib.figure.Figure at 0x1102e5390>"
      ]
     },
     "metadata": {},
     "output_type": "display_data"
    },
    {
     "data": {
      "text/plain": [
       "<matplotlib.figure.Figure at 0x114723ed0>"
      ]
     },
     "metadata": {},
     "output_type": "display_data"
    }
   ],
   "source": [
    "ax = sns.boxplot(importance_norm)\n",
    "plt.figure(figsize=(8,6))"
   ]
  },
  {
   "cell_type": "code",
   "execution_count": 30,
   "metadata": {
    "collapsed": false
   },
   "outputs": [
    {
     "name": "stdout",
     "output_type": "stream",
     "text": [
      "[ 0.01101271]\n"
     ]
    }
   ],
   "source": [
    "qc = np.percentile(importance_norm,[75])\n",
    "print(1.5*qc)"
   ]
  },
  {
   "cell_type": "code",
   "execution_count": 31,
   "metadata": {
    "collapsed": false
   },
   "outputs": [
    {
     "name": "stdout",
     "output_type": "stream",
     "text": [
      "57\n",
      "[  12  183  184  338  344  386  387  388  423  492  520  569  570  599  780\n",
      "  785  786  787  940  944  945  946  948  955  956  957  966  971  972  986\n",
      "  988  989  990  996 1011 1018 1034 1045 1046 1047 1048 1070 1071 1072 1096\n",
      " 1120 1121 1122 1144 1146 1147 1190 1191 1194 1195 1200 1204]\n"
     ]
    }
   ],
   "source": [
    "# indmax = np.argwhere(importance_norm >= 1.5*qc)\n",
    "indmax = np.argwhere(importance_norm >= 0.1)\n",
    "indmax = indmax.reshape(-1)\n",
    "print(len(indmax))\n",
    "print(indmax)"
   ]
  },
  {
   "cell_type": "markdown",
   "metadata": {},
   "source": [
    "# LOSO CV on Healthy"
   ]
  },
  {
   "cell_type": "code",
   "execution_count": 322,
   "metadata": {
    "collapsed": true
   },
   "outputs": [],
   "source": [
    "#Load and normalize data from healthy and amputees\n",
    "Healthy = pd.read_csv('./Data/Healthy10.csv',header=None)\n",
    "Healthy = Healthy.rename(index=int, columns={0:'SubjID',1:'Loc',2:'Subjtype',3:'Falltype',950:'AccMax',951:'AccMin'})\n",
    "Healthy.loc[Healthy['AccMax']>2500,'AccMax'] = 2500 #saturate max acceleration to 5g (in m/s^2)^2\n",
    "#binarize labels\n",
    "XH = Healthy.iloc[:,4:].as_matrix()\n",
    "yH = Healthy.Falltype.as_matrix()\n",
    "yH[yH < 9] = 1\n",
    "yH[yH == 9] = 0\n",
    "scaler = preprocessing.StandardScaler().fit(XH) #define scaler\n",
    "XH = scaler.transform(XH)\n",
    "groupsH = Healthy.SubjID.as_matrix() #for CV\n",
    "\n",
    "Amp = pd.read_csv('./Data/Amp10.csv',header=None)\n",
    "Amp = Amp.rename(index=int, columns={0:'SubjID',1:'Loc',2:'Subjtype',3:'Falltype', 950:'AccMax',951:'AccMin'})\n",
    "Amp = Amp[Amp.SubjID != 2] #drop subj 2\n",
    "Amp.loc[Amp['AccMax']>2500,'AccMax'] = 2500 #saturate max acceleration to 5g (in m/s^2)^2\n",
    "#binarize labels\n",
    "XA = Amp.iloc[:,4:].as_matrix()\n",
    "yA = Amp.Falltype.as_matrix()\n",
    "yA[yA < 9] = 1\n",
    "yA[yA == 9] = 0\n",
    "XA = scaler.transform(XA)\n",
    "groupsA = Amp.SubjID.as_matrix()\n",
    "\n",
    "#Tot Features - #602 gyro features + 602 accelerometer\n",
    "#use features subset (optimized on random forest)\n",
    "# XH = XH[:,indmax]; XA = XA[:,indmax]\n",
    "\n",
    "#use magnitude features only\n",
    "indmax = np.linspace(336,355,20)\n",
    "indmax = np.hstack([indmax,np.linspace(336,355,20)+602])\n",
    "indmax = indmax.astype(int)\n",
    "XH = XH[:,indmax]; XA = XA[:,indmax]"
   ]
  },
  {
   "cell_type": "code",
   "execution_count": 297,
   "metadata": {
    "collapsed": false
   },
   "outputs": [
    {
     "name": "stdout",
     "output_type": "stream",
     "text": [
      "[ 1  2  3  4  5  6  7  8  9 10]\n",
      "[]\n"
     ]
    }
   ],
   "source": [
    "#Subjects with indoor and outdoor falls\n",
    "print(np.sort(Healthy[Healthy.Subjtype == 1].SubjID.unique()))\n",
    "print(np.sort(Healthy[Healthy.Subjtype == 2].SubjID.unique()))"
   ]
  },
  {
   "cell_type": "code",
   "execution_count": 299,
   "metadata": {
    "collapsed": false
   },
   "outputs": [
    {
     "data": {
      "text/plain": [
       "(4890, 1215)"
      ]
     },
     "execution_count": 299,
     "metadata": {},
     "output_type": "execute_result"
    }
   ],
   "source": [
    "Healthy.shape"
   ]
  },
  {
   "cell_type": "code",
   "execution_count": 256,
   "metadata": {
    "collapsed": false
   },
   "outputs": [
    {
     "name": "stdout",
     "output_type": "stream",
     "text": [
      "AUC_T = 0.9902, Sens_T = 0.9942, Spec_T = 0.8980\n",
      "AUC = 0.9988, Sens = 0.9738, Spec = 1.0000\n",
      "\n",
      "AUC_T = 0.9925, Sens_T = 0.9658, Spec_T = 1.0000\n",
      "AUC = 0.9779, Sens = 0.8750, Spec = 1.0000\n",
      "\n",
      "AUC_T = 0.9747, Sens_T = 0.9622, Spec_T = 0.8980\n",
      "AUC = 0.9918, Sens = 0.9595, Spec = 0.9700\n",
      "\n",
      "AUC_T = 0.9752, Sens_T = 0.8810, Spec_T = 1.0000\n",
      "AUC = 1.0000, Sens = 1.0000, Spec = 1.0000\n",
      "\n",
      "AUC_T = 0.9685, Sens_T = 0.9333, Spec_T = 0.8980\n",
      "AUC = 1.0000, Sens = 1.0000, Spec = 1.0000\n",
      "\n",
      "AUC_T = 0.8847, Sens_T = 0.7783, Spec_T = 0.8776\n",
      "AUC = 0.9986, Sens = 0.9928, Spec = 1.0000\n",
      "\n",
      "AUC_T = 0.9663, Sens_T = 0.8281, Spec_T = 1.0000\n",
      "AUC = 1.0000, Sens = 1.0000, Spec = 1.0000\n",
      "\n",
      "AUC_T = 0.9800, Sens_T = 0.9831, Spec_T = 0.9592\n",
      "AUC = 1.0000, Sens = 1.0000, Spec = 1.0000\n",
      "\n",
      "AUC_T = 0.9190, Sens_T = 1.0000, Spec_T = 0.7551\n",
      "AUC = 0.9820, Sens = 0.9343, Spec = 0.9700\n",
      "\n",
      "AUC_T = 0.9476, Sens_T = 0.9788, Spec_T = 0.8163\n",
      "AUC = 0.9932, Sens = 0.9606, Spec = 0.9700\n",
      "\n",
      "mean AUC_T = 0.960 (+/- 0.065)\n",
      "mean Sens_T = 0.930 (+/- 0.145)\n",
      "mean Spec_T = 0.910 (+/- 0.156)\n",
      "mean AUC = 0.994 (+/- 0.015)\n",
      "mean Sens = 0.970 (+/- 0.077)\n",
      "mean Spec = 0.991 (+/- 0.027)\n"
     ]
    }
   ],
   "source": [
    "results_T, results = LOSOCV(X,y,Healthy)"
   ]
  },
  {
   "cell_type": "code",
   "execution_count": 388,
   "metadata": {
    "collapsed": false
   },
   "outputs": [
    {
     "data": {
      "text/plain": [
       "<matplotlib.text.Text at 0x12d194850>"
      ]
     },
     "execution_count": 388,
     "metadata": {},
     "output_type": "execute_result"
    },
    {
     "data": {
      "image/png": "[encoded data removed]",
      "text/plain": [
       "<matplotlib.figure.Figure at 0x12cd06a50>"
      ]
     },
     "metadata": {},
     "output_type": "display_data"
    }
   ],
   "source": [
    "plt.figure(figsize=(8,6))\n",
    "AX = plot_roc(results_T['TPR'],results_T['FPR'],np.mean(results_T['AUC']),plotname='Threshold')\n",
    "plot_roc(results['TPR'],results['FPR'],np.mean(results['AUC']),ax=AX,plotname='Random Forest',col=current_palette[1])\n",
    "AX.set_title('Healthy-Healthy')"
   ]
  },
  {
   "cell_type": "markdown",
   "metadata": {},
   "source": [
    "# LOSO CV on Amputees"
   ]
  },
  {
   "cell_type": "markdown",
   "metadata": {},
   "source": [
    "**Note: SubjID 2 does not have activities**"
   ]
  },
  {
   "cell_type": "code",
   "execution_count": 165,
   "metadata": {
    "collapsed": false
   },
   "outputs": [],
   "source": [
    "Amp = pd.read_csv('./Data/Amp10.csv',header=None)\n",
    "Amp = Amp.rename(index=int, columns={0:'SubjID',1:'Loc',2:'Subjtype',3:'Falltype', 950:'AccMax',951:'AccMin'})"
   ]
  },
  {
   "cell_type": "code",
   "execution_count": 166,
   "metadata": {
    "collapsed": false
   },
   "outputs": [
    {
     "data": {
      "text/plain": [
       "array([4, 3, 2, 1])"
      ]
     },
     "execution_count": 166,
     "metadata": {},
     "output_type": "execute_result"
    }
   ],
   "source": [
    "Amp[Amp.SubjID ==2].Falltype.unique()"
   ]
  },
  {
   "cell_type": "code",
   "execution_count": 167,
   "metadata": {
    "collapsed": false
   },
   "outputs": [],
   "source": [
    "Amp = Amp[Amp.SubjID != 2] #drop subj 2"
   ]
  },
  {
   "cell_type": "code",
   "execution_count": 168,
   "metadata": {
    "collapsed": false
   },
   "outputs": [
    {
     "name": "stdout",
     "output_type": "stream",
     "text": [
      "(1844,)\n",
      "[1 3 4 5 6 7]\n"
     ]
    },
    {
     "data": {
      "text/plain": [
       "6"
      ]
     },
     "execution_count": 168,
     "metadata": {},
     "output_type": "execute_result"
    }
   ],
   "source": [
    "X = Amp.iloc[:,4:].as_matrix()\n",
    "y = Amp.Falltype.as_matrix()\n",
    "y[y < 9] = 1\n",
    "y[y == 9] = 0\n",
    "groups = Amp.SubjID.as_matrix()\n",
    "print(groups.shape)\n",
    "print(np.sort(np.unique(groups)))\n",
    "subj = LeaveOneGroupOut()\n",
    "subj.get_n_splits(X,y,groups)"
   ]
  },
  {
   "cell_type": "code",
   "execution_count": 171,
   "metadata": {
    "collapsed": false
   },
   "outputs": [
    {
     "name": "stdout",
     "output_type": "stream",
     "text": [
      "AUC = 0.979\n",
      "AUC = 0.992\n",
      "AUC = 1.000\n",
      "AUC = 0.983\n",
      "AUC = 0.992\n",
      "AUC = 0.999\n",
      "mean AUC = 0.991 +/- 0.015\n"
     ]
    }
   ],
   "source": [
    "#try SVM\n",
    "auc_all = []\n",
    "clf = SVC(kernel='linear',cache_size=800,probability=True,random_state=3)\n",
    "# clf = GradientBoostingClassifier(n_estimators=100,subsample=0.8)\n",
    "for train_index, test_index in subj.split(X, y, groups):\n",
    "    Xtr, Xte = X[train_index], X[test_index]\n",
    "    ytr, yte = y[train_index], y[test_index]\n",
    "    Xtr, Xte = Xtr[:,indmax], Xte[:,indmax] #selct features\n",
    "\n",
    "    #normalize data\n",
    "    scaler = preprocessing.StandardScaler().fit(Xtr)\n",
    "    scaler.transform(Xte)\n",
    "\n",
    "    #fit svm and compute ROC for each subject\n",
    "    clf.fit(Xtr,ytr)\n",
    "    ypred = clf.predict(Xte)\n",
    "    yscore = clf.predict_proba(Xte)[:,1]\n",
    "    fpr,tpr,thr = roc_curve(yte,yscore,pos_label=1)\n",
    "    roc_auc = auc(fpr, tpr)\n",
    "    auc_all.append(roc_auc)\n",
    "    print 'AUC = %.3f'%roc_auc\n",
    "\n",
    "print 'mean AUC = %.3f +/- %.3f'%(np.mean(auc_all),2*np.std(auc_all))"
   ]
  },
  {
   "cell_type": "code",
   "execution_count": 1203,
   "metadata": {
    "collapsed": false
   },
   "outputs": [
    {
     "name": "stdout",
     "output_type": "stream",
     "text": [
      "AUC = 0.9888, Sens = 1.0000, Spec = 0.9200\n",
      "AUC = 0.9969, Sens = 1.0000, Spec = 0.9600\n",
      "AUC = 0.9999, Sens = 0.9943, Spec = 1.0000\n",
      "AUC = 0.9837, Sens = 0.9442, Spec = 0.9400\n",
      "AUC = 0.9829, Sens = 0.9714, Spec = 0.9500\n",
      "AUC = 0.9980, Sens = 0.9819, Spec = 0.9800\n",
      "mean AUC = 0.992 (+/- 0.014)\n",
      "mean Sens = 0.982 (+/- 0.040)\n",
      "mean Spec = 0.958 (+/- 0.052)\n"
     ]
    },
    {
     "data": {
      "text/plain": [
       "<matplotlib.figure.Figure at 0x17653588>"
      ]
     },
     "metadata": {},
     "output_type": "display_data"
    }
   ],
   "source": [
    "AUC_all_AA, fpr_all_AA, tpr_all_AA, Sens_all_AA, Spec_all_AA, TTPR_allAA, TFPR_allAA = LOSOCV(X,y,Amp)"
   ]
  },
  {
   "cell_type": "code",
   "execution_count": 1204,
   "metadata": {
    "collapsed": false,
    "scrolled": true
   },
   "outputs": [
    {
     "data": {
      "text/plain": [
       "<matplotlib.text.Text at 0x16fdbbe0>"
      ]
     },
     "execution_count": 1204,
     "metadata": {},
     "output_type": "execute_result"
    },
    {
     "data": {
      "image/png": "[encoded data removed]",
      "text/plain": [
       "<matplotlib.figure.Figure at 0x15e32320>"
      ]
     },
     "metadata": {},
     "output_type": "display_data"
    }
   ],
   "source": [
    "TTPR_allAA = np.asarray(TTPR_allAA)\n",
    "TFPR_allAA = np.asarray(TFPR_allAA)\n",
    "\n",
    "tprmuAA = np.mean(TTPR_allAA)\n",
    "tprerrAA = np.std(TTPR_allAA)/math.sqrt(len(TTPR_allAA))*1.96\n",
    "fprmuAA = np.mean(TFPR_allAA)\n",
    "fprerrAA = np.std(TFPR_allAA)/math.sqrt(len(TFPR_allAA))*1.96\n",
    "\n",
    "AX = plot_roc(tpr_all_AA,fpr_all_AA,np.mean(AUC_all_AA))\n",
    "AX.errorbar(fprmuAA,tprmuAA,xerr = fprerrAA,yerr = tprerrAA, ecolor = 'r',marker='.',mec='r',mfc='r',ms=15,lw=2)\n",
    "AX.set_title('Amputee-Amputee')"
   ]
  },
  {
   "cell_type": "markdown",
   "metadata": {},
   "source": [
    "# Healthy to Amputee w/ folds "
   ]
  },
  {
   "cell_type": "code",
   "execution_count": 1205,
   "metadata": {
    "collapsed": false
   },
   "outputs": [
    {
     "name": "stdout",
     "output_type": "stream",
     "text": [
      "AUC = 0.9959, Sens = 0.9910, Spec = 0.9700\n",
      "AUC = 0.9947, Sens = 0.9971, Spec = 0.9600\n",
      "AUC = 1.0000, Sens = 1.0000, Spec = 1.0000\n",
      "AUC = 0.9592, Sens = 0.9814, Spec = 0.9100\n",
      "AUC = 0.9756, Sens = 0.9571, Spec = 0.9200\n",
      "AUC = 0.9990, Sens = 0.9699, Spec = 1.0000\n",
      "mean AUC = 0.987 (+/- 0.030)\n",
      "mean Sens = 0.983 (+/- 0.031)\n",
      "mean Spec = 0.960 (+/- 0.070)\n"
     ]
    }
   ],
   "source": [
    "AUC_all_HA, fpr_all_HA, tpr_all_HA, Sens_all_HA, Spec_all_HA, TTPR_allHA, TFPR_allHA, TOpt, T90 = EvaluateBySubject(Healthy,Amp)"
   ]
  },
  {
   "cell_type": "code",
   "execution_count": 1206,
   "metadata": {
    "collapsed": false
   },
   "outputs": [
    {
     "data": {
      "text/plain": [
       "0.54666666666666675"
      ]
     },
     "execution_count": 1206,
     "metadata": {},
     "output_type": "execute_result"
    }
   ],
   "source": [
    "TOpt"
   ]
  },
  {
   "cell_type": "code",
   "execution_count": 1207,
   "metadata": {
    "collapsed": false
   },
   "outputs": [
    {
     "data": {
      "text/plain": [
       "(0.1, 1.1)"
      ]
     },
     "execution_count": 1207,
     "metadata": {},
     "output_type": "execute_result"
    },
    {
     "data": {
      "image/png": "[encoded data removed]",
      "text/plain": [
       "<matplotlib.figure.Figure at 0xc4a6860>"
      ]
     },
     "metadata": {},
     "output_type": "display_data"
    }
   ],
   "source": [
    "TTPR_allHA = np.asarray(TTPR_allHA)\n",
    "TFPR_allHA = np.asarray(TFPR_allHA)\n",
    "\n",
    "tprmuHA = np.mean(TTPR_allHA)\n",
    "tprerrHA = np.std(TTPR_allHA)/math.sqrt(len(TTPR_allHA))*1.96\n",
    "fprmuHA = np.mean(TFPR_allHA)\n",
    "fprerrHA = np.std(TFPR_allHA)/math.sqrt(len(TFPR_allHA))*1.96\n",
    "\n",
    "plt.figure(figsize=(8,6))\n",
    "AX = plot_roc(tpr_all_HA,fpr_all_HA,np.mean(AUC_all_HA))\n",
    "AX.errorbar(fprmuHA,tprmuHA,xerr = fprerrHA,yerr = tprerrHA, ecolor = 'r',marker='.',mec='r',mfc='r',ms=15,lw=2)\n",
    "AX.set_title('Healthy-Amputee')\n",
    "plt.ylim([0.1,1.1])"
   ]
  },
  {
   "cell_type": "code",
   "execution_count": 1208,
   "metadata": {
    "collapsed": false
   },
   "outputs": [
    {
     "name": "stdout",
     "output_type": "stream",
     "text": [
      "HA vs. AA 0.382\n",
      "HH vs. HA 0.462\n"
     ]
    }
   ],
   "source": [
    "[t_value, p_value] = stats.ttest_rel(AUC_all_HA,AUC_all_AA)\n",
    "print('HA vs. AA %0.3f'%(p_value))\n",
    "\n",
    "[t_value, p_value] = stats.ttest_ind(AUC_all_HH,AUC_all_HA)\n",
    "print('HH vs. HA %0.3f'%(p_value))"
   ]
  },
  {
   "cell_type": "code",
   "execution_count": 1209,
   "metadata": {
    "collapsed": false
   },
   "outputs": [],
   "source": [
    "dataroc= [[tpr_all_HH,fpr_all_HH,AUC_all_HH,fprmuHH,tprmuHH,fprerrHH,tprerrHH],\n",
    "          [tpr_all_HA,fpr_all_HA,AUC_all_HA,fprmuHA,tprmuHA,fprerrHA,tprerrHA],\n",
    "          [tpr_all_AA,fpr_all_AA,AUC_all_AA,fprmuAA,tprmuAA,fprerrAA,tprerrAA]]"
   ]
  },
  {
   "cell_type": "code",
   "execution_count": 1225,
   "metadata": {
    "collapsed": false,
    "scrolled": true
   },
   "outputs": [
    {
     "data": {
      "text/plain": [
       "<matplotlib.legend.Legend at 0x1529d278>"
      ]
     },
     "execution_count": 1225,
     "metadata": {},
     "output_type": "execute_result"
    },
    {
     "data": {
      "image/png": "[encoded data removed]",
      "text/plain": [
       "<matplotlib.figure.Figure at 0x1529d908>"
      ]
     },
     "metadata": {},
     "output_type": "display_data"
    }
   ],
   "source": [
    "AX.errorbar(fprmuAA,tprmuAA,xerr = fprerrAA,yerr = tprerrAA, ecolor = 'r',marker='.',mec='r',mfc='r',ms=15,lw=2)\n",
    "\n",
    "\n",
    "population = ['Healthy-Healthy','Healthy-Amputee','Amputee-Amputee']\n",
    "fig = plt.figure(figsize=(8,6))\n",
    "ax1=None\n",
    "sns.set_context('talk')\n",
    "for index,value in enumerate(population):\n",
    "    ax1 = plot_roc(dataroc[index][0],dataroc[index][1],np.mean(dataroc[index][2]),plotname=value,\n",
    "                   col=current_palette[index],ax=ax1)\n",
    "    \n",
    "    ax1.errorbar(dataroc[index][3],dataroc[index][4],xerr = dataroc[index][5],yerr = dataroc[index][6], \n",
    "                 ecolor = current_palette[index],\n",
    "                 marker='.',mec=current_palette[index],mfc=current_palette[index],ms=20,lw=3,\n",
    "                 color = current_palette[index],\n",
    "                 label='%s Thresholding' %(value))\n",
    "    \n",
    "ax1.legend(loc='lower right',fontsize = 18)"
   ]
  },
  {
   "cell_type": "code",
   "execution_count": 1211,
   "metadata": {
    "collapsed": true
   },
   "outputs": [],
   "source": [
    "fig = ax1.get_figure()\n",
    "fig.savefig('./Figs/Fig2.jpg')"
   ]
  },
  {
   "cell_type": "code",
   "execution_count": 1212,
   "metadata": {
    "collapsed": false
   },
   "outputs": [
    {
     "data": {
      "text/plain": [
       "([], [])"
      ]
     },
     "execution_count": 1212,
     "metadata": {},
     "output_type": "execute_result"
    }
   ],
   "source": [
    "ax.get_legend_handles_labels()"
   ]
  },
  {
   "cell_type": "markdown",
   "metadata": {},
   "source": [
    "# Location Analysis"
   ]
  },
  {
   "cell_type": "markdown",
   "metadata": {},
   "source": [
    "## Train on all locs (Healthy) and test on each location (Waist, Pocket and Hand) for amputees"
   ]
  },
  {
   "cell_type": "code",
   "execution_count": 1213,
   "metadata": {
    "collapsed": false
   },
   "outputs": [
    {
     "name": "stdout",
     "output_type": "stream",
     "text": [
      "AUC = 1.0000, Sens = 1.0000, Spec = 1.0000\n",
      "AUC = 1.0000, Sens = 1.0000, Spec = 1.0000\n",
      "AUC = 1.0000, Sens = 1.0000, Spec = 1.0000\n",
      "AUC = 0.9170, Sens = 1.0000, Spec = 0.8900\n",
      "AUC = 0.9806, Sens = 0.9714, Spec = 0.9400\n",
      "AUC = 1.0000, Sens = 1.0000, Spec = 1.0000\n",
      "mean AUC = 0.983 (+/- 0.061)\n",
      "mean Sens = 0.995 (+/- 0.021)\n",
      "mean Spec = 0.972 (+/- 0.085)\n",
      "AUC = 1.0000, Sens = 1.0000, Spec = 1.0000\n",
      "AUC = 1.0000, Sens = 1.0000, Spec = 1.0000\n",
      "AUC = 0.9983, Sens = 0.9861, Spec = 1.0000\n",
      "AUC = 1.0000, Sens = 1.0000, Spec = 1.0000\n",
      "mean AUC = 1.000 (+/- 0.002)\n",
      "mean Sens = 0.997 (+/- 0.012)\n",
      "mean Spec = 1.000 (+/- 0.000)\n",
      "AUC = 0.9893, Sens = 0.9821, Spec = 0.9400\n",
      "AUC = 0.9564, Sens = 0.9912, Spec = 0.9200\n",
      "AUC = 1.0000, Sens = 1.0000, Spec = 1.0000\n",
      "AUC = 0.9992, Sens = 0.9833, Spec = 1.0000\n",
      "AUC = 0.9973, Sens = 1.0000, Spec = 0.9700\n",
      "mean AUC = 0.988 (+/- 0.033)\n",
      "mean Sens = 0.991 (+/- 0.015)\n",
      "mean Spec = 0.966 (+/- 0.064)\n"
     ]
    },
    {
     "data": {
      "text/plain": [
       "<matplotlib.legend.Legend at 0x15bad7f0>"
      ]
     },
     "execution_count": 1213,
     "metadata": {},
     "output_type": "execute_result"
    },
    {
     "data": {
      "image/png": "[encoded data removed]",
      "text/plain": [
       "<matplotlib.figure.Figure at 0xd46e0f0>"
      ]
     },
     "metadata": {},
     "output_type": "display_data"
    }
   ],
   "source": [
    "sns.set_context('talk')\n",
    "locs = [1,2,3]\n",
    "fig = plt.figure(figsize=(8,6))\n",
    "ax1=None\n",
    "\n",
    "#remove subjects with no falls for some locations\n",
    "Amp = Amp[(Amp.SubjID!=1)|(Amp.Loc!=2)]\n",
    "Amp = Amp[(Amp.SubjID!=6)|((Amp.Loc!=2)&(Amp.Loc!=3))]\n",
    "\n",
    "locAUC=[]\n",
    "\n",
    "for l,name in zip(locs,['Waist','Pocket','Hand']):\n",
    "    \n",
    "    #filter amputees data (test data)\n",
    "    Ampdata = Amp[Amp.Loc==l]\n",
    "    \n",
    "    AUC_all_HA, fpr_all_HA, tpr_all_HA, Sens_all_HA, Spec_all_HA, TTPR_allHA, TFPR_allHA, _, _ = EvaluateBySubject(Healthy,Ampdata)\n",
    "\n",
    "    locAUC.append(AUC_all_HA)\n",
    "    \n",
    "    TTPR_allHA = np.asarray(TTPR_allHA)\n",
    "    TFPR_allHA = np.asarray(TFPR_allHA)\n",
    "\n",
    "    tprmu = np.mean(TTPR_allHA)\n",
    "    tprerr = np.std(TTPR_allHA)/math.sqrt(len(TTPR_allHA))*1.96\n",
    "    fprmu = np.mean(TFPR_allHA)\n",
    "    fprerr = np.std(TFPR_allHA)/math.sqrt(len(TFPR_allHA))*1.96\n",
    "    \n",
    "#     ax1 = fig.add_subplot(2,2,l) #uncomment this line to generate subplots\n",
    "    ax1 = plot_roc(tpr_all_HA,fpr_all_HA,np.mean(AUC_all_HA),ax1,plotname=name,col=current_palette[l-1])\n",
    "    ax1.errorbar(fprmu,tprmu,xerr = fprerr,yerr = tprerr, ecolor = current_palette[l-1],\n",
    "                 marker='.',mec=current_palette[l-1],mfc=current_palette[l-1],ms=20,lw=3,color = current_palette[l-1],\n",
    "                 label='%s Thresholding' %(name))\n",
    "\n",
    "ax1.set_title('Results by location')\n",
    "ax1.legend(loc=4,fontsize = 18)"
   ]
  },
  {
   "cell_type": "code",
   "execution_count": 1214,
   "metadata": {
    "collapsed": false
   },
   "outputs": [
    {
     "name": "stdout",
     "output_type": "stream",
     "text": [
      "Waist vs. Pocket 0.275\n",
      "Waist vs. Hand 0.737\n",
      "Pocket vs. Hand 0.249\n"
     ]
    }
   ],
   "source": [
    "[t_value, p_value] = stats.ttest_ind(locAUC[0],locAUC[1],equal_var=False)\n",
    "print('Waist vs. Pocket %0.3f'%(p_value))\n",
    "\n",
    "[t_value, p_value] = stats.ttest_ind(locAUC[0],locAUC[2],equal_var=False)\n",
    "print('Waist vs. Hand %0.3f'%(p_value))\n",
    "\n",
    "[t_value, p_value] = stats.ttest_ind(locAUC[1],locAUC[2],equal_var=False)\n",
    "print('Pocket vs. Hand %0.3f'%(p_value))"
   ]
  },
  {
   "cell_type": "code",
   "execution_count": 1215,
   "metadata": {
    "collapsed": true
   },
   "outputs": [],
   "source": [
    "fig = ax1.get_figure()\n",
    "fig.savefig('./Figs/Fig3.jpg')\n",
    "fig.savefig('./Figs/Fig3.tif')"
   ]
  },
  {
   "cell_type": "markdown",
   "metadata": {},
   "source": [
    "# Home data analysis"
   ]
  },
  {
   "cell_type": "code",
   "execution_count": 1216,
   "metadata": {
    "collapsed": false
   },
   "outputs": [],
   "source": [
    "Amp = pd.read_csv('./Data/Amp10.csv',header=None)\n",
    "Amp = Amp.rename(index=int, columns={0:'SubjID',1:'Loc',2:'Subjtype',3:'Falltype',950:'AccMax',951:'AccMin'})\n",
    "Homedata = pd.read_csv('./Data/HomeData.csv',header=None)\n",
    "Homedata = Homedata.rename(index=int, columns={0:'SubjID',1:'Loc',2:'Subjtype',3:'Falltype',950:'AccMax',951:'AccMin'})\n",
    "Homedata.Falltype = 0\n",
    "Amp.loc[Amp.Falltype<9,'Falltype'] = 1\n",
    "Amp.loc[Amp.Falltype==9,'Falltype'] = 0"
   ]
  },
  {
   "cell_type": "code",
   "execution_count": 1217,
   "metadata": {
    "collapsed": false
   },
   "outputs": [],
   "source": [
    "homesubj = Homedata.SubjID.unique()"
   ]
  },
  {
   "cell_type": "code",
   "execution_count": 1218,
   "metadata": {
    "collapsed": false
   },
   "outputs": [
    {
     "data": {
      "text/plain": [
       "array([1, 6, 7], dtype=int64)"
      ]
     },
     "execution_count": 1218,
     "metadata": {},
     "output_type": "execute_result"
    }
   ],
   "source": [
    "homesubj"
   ]
  },
  {
   "cell_type": "code",
   "execution_count": 1219,
   "metadata": {
    "collapsed": false
   },
   "outputs": [],
   "source": [
    "for s in homesubj:\n",
    "    Homedata = pd.concat([Amp[(Amp.SubjID==s) & (Amp.Falltype==1)],Homedata],axis=0)"
   ]
  },
  {
   "cell_type": "code",
   "execution_count": 1220,
   "metadata": {
    "collapsed": false
   },
   "outputs": [
    {
     "data": {
      "text/plain": [
       "(3092, 1215)"
      ]
     },
     "execution_count": 1220,
     "metadata": {},
     "output_type": "execute_result"
    }
   ],
   "source": [
    "Homedata.shape"
   ]
  },
  {
   "cell_type": "code",
   "execution_count": 1222,
   "metadata": {
    "collapsed": false
   },
   "outputs": [
    {
     "name": "stdout",
     "output_type": "stream",
     "text": [
      "[0.91891891891891886, 0.95121951219512191, 0.89743589743589747]\n",
      "[0.45045045045045046, 0.07991696938245978, 0.2937062937062937]\n"
     ]
    }
   ],
   "source": [
    "Spec_all, TSpec_all = HomeDataEval(Healthy,Homedata,TOpt)\n",
    "print(Spec_all)\n",
    "print(TSpec_all)"
   ]
  },
  {
   "cell_type": "code",
   "execution_count": 1223,
   "metadata": {
    "collapsed": false
   },
   "outputs": [
    {
     "name": "stdout",
     "output_type": "stream",
     "text": [
      "[0.963963963963964, 0.98910223144784637, 0.93240093240093236]\n",
      "[0.45045045045045046, 0.07991696938245978, 0.2937062937062937]\n"
     ]
    }
   ],
   "source": [
    "Spec_all, TSpec_all = HomeDataEval(Healthy,Homedata,T90)\n",
    "print(Spec_all)\n",
    "print(TSpec_all)"
   ]
  },
  {
   "cell_type": "code",
   "execution_count": 1224,
   "metadata": {
    "collapsed": true
   },
   "outputs": [],
   "source": [
    "fig = ax2.get_figure()\n",
    "fig.savefig('./Figs/Fig4.jpg')\n",
    "fig.savefig('./Figs/Fig4.tif')"
   ]
  },
  {
   "cell_type": "code",
   "execution_count": 989,
   "metadata": {
    "collapsed": false
   },
   "outputs": [
    {
     "name": "stdout",
     "output_type": "stream",
     "text": [
      "[ 0.7    0.824  0.88   0.92 ]\n",
      "[ 0.449  0.518  0.554  0.636]\n",
      "[ 0.82  0.94  0.96  0.98]\n",
      "mean AUC = 0.979 (+/- 0.017)\n",
      "mean Sens = 0.972 (+/- 0.039)\n",
      "mean Spec = 0.923 (+/- 0.052)\n"
     ]
    }
   ],
   "source": [
    "AUC_all_HA, fpr_all_HA, tpr_all_HA, Sens_all_HA, Spec_all_HA, TTPR_allHA, TFPR_allHA = EvaluateBySubject(Healthy,Homedata)"
   ]
  },
  {
   "cell_type": "code",
   "execution_count": 991,
   "metadata": {
    "collapsed": false
   },
   "outputs": [
    {
     "name": "stdout",
     "output_type": "stream",
     "text": [
      "4\n",
      "9\n",
      "6\n"
     ]
    }
   ],
   "source": [
    "for i in range(0,3):\n",
    "    print(np.argmin(abs(tpr_all_HA[i]-.95)))\n",
    "    "
   ]
  },
  {
   "cell_type": "markdown",
   "metadata": {},
   "source": [
    "# Stacking \n",
    "1) Optimize 4 different classifiers (using LOSO CV)\n",
    "\n",
    "2) Use stacking for final prediction"
   ]
  },
  {
   "cell_type": "code",
   "execution_count": 322,
   "metadata": {
    "collapsed": true
   },
   "outputs": [],
   "source": [
    "#normalize data from healthy and amputees\n",
    "Healthy = pd.read_csv('./Data/Healthy10.csv',header=None)\n",
    "Healthy = Healthy.rename(index=int, columns={0:'SubjID',1:'Loc',2:'Subjtype',3:'Falltype',950:'AccMax',951:'AccMin'})\n",
    "Healthy.loc[Healthy['AccMax']>2500,'AccMax'] = 2500 #saturate max acceleration to 5g (in m/s^2)^2\n",
    "#binarize labels\n",
    "XH = Healthy.iloc[:,4:].as_matrix()\n",
    "yH = Healthy.Falltype.as_matrix()\n",
    "yH[yH < 9] = 1\n",
    "yH[yH == 9] = 0\n",
    "scaler = preprocessing.StandardScaler().fit(XH) #define scaler\n",
    "XH = scaler.transform(XH)\n",
    "groupsH = Healthy.SubjID.as_matrix() #for CV\n",
    "\n",
    "Amp = pd.read_csv('./Data/Amp10.csv',header=None)\n",
    "Amp = Amp.rename(index=int, columns={0:'SubjID',1:'Loc',2:'Subjtype',3:'Falltype', 950:'AccMax',951:'AccMin'})\n",
    "Amp = Amp[Amp.SubjID != 2] #drop subj 2\n",
    "Amp.loc[Amp['AccMax']>2500,'AccMax'] = 2500 #saturate max acceleration to 5g (in m/s^2)^2\n",
    "XA = Amp.iloc[:,4:].as_matrix()\n",
    "yA = Amp.Falltype.as_matrix()\n",
    "yA[yA < 9] = 1\n",
    "yA[yA == 9] = 0\n",
    "XA = scaler.transform(XA)\n",
    "groupsA = Amp.SubjID.as_matrix()\n",
    "\n",
    "#use features subset\n",
    "XH = XH[:,indmax]; XA = XA[:,indmax]"
   ]
  },
  {
   "cell_type": "code",
   "execution_count": 323,
   "metadata": {
    "collapsed": false
   },
   "outputs": [
    {
     "name": "stdout",
     "output_type": "stream",
     "text": [
      "AUC = 1.000\n",
      "AUC = 0.995\n",
      "AUC = 0.982\n",
      "AUC = 1.000\n",
      "AUC = 1.000\n",
      "AUC = 0.999\n",
      "AUC = 1.000\n",
      "AUC = 1.000\n",
      "AUC = 0.997\n",
      "AUC = 0.998\n",
      "mean AUC = 0.997 +/- 0.011\n"
     ]
    }
   ],
   "source": [
    "#try SVM\n",
    "auc_all = []\n",
    "clf = SVC(kernel='linear',cache_size=800,probability=True,random_state=3)\n",
    "X = XH; y = yH; groups = groupsH\n",
    "\n",
    "for train_index, test_index in subj.split(X, y, groups):\n",
    "    Xtr, Xte = X[train_index], X[test_index]\n",
    "    ytr, yte = y[train_index], y[test_index]\n",
    "#     Xtr, Xte = Xtr[:,indmax], Xte[:,indmax] #selct features\n",
    "\n",
    "    #fit svm and compute ROC for each subject\n",
    "    clf.fit(Xtr,ytr)\n",
    "    ypred = clf.predict(Xte)\n",
    "    yscore = clf.predict_proba(Xte)[:,1]\n",
    "    fpr,tpr,thr = roc_curve(yte,yscore,pos_label=1)\n",
    "#     roc_auc = auc(fpr, tpr)\n",
    "    roc_auc = roc_auc_score(yte,yscore)\n",
    "    auc_all.append(roc_auc)\n",
    "    print 'AUC = %.3f'%roc_auc\n",
    "\n",
    "print 'mean AUC = %.3f +/- %.3f'%(np.mean(auc_all),2*np.std(auc_all))"
   ]
  },
  {
   "cell_type": "code",
   "execution_count": 324,
   "metadata": {
    "collapsed": true
   },
   "outputs": [],
   "source": [
    "models = [[ RandomForestClassifier(random_state=2), {'n_estimators': [10,50,100]}, \"Random Forest\"]]\n",
    "\n",
    "models.append([GradientBoostingClassifier(random_state=2), {'n_estimators':[10,50,100], 'max_depth':[2,4]}, \"GradientBoost\" ])\n",
    "\n",
    "models.append([SVC(kernel='linear',cache_size=800,random_state=2), {'C':[0.01,0.1,1]}, \"SVM\" ])\n"
   ]
  },
  {
   "cell_type": "code",
   "execution_count": 254,
   "metadata": {
    "collapsed": false,
    "scrolled": false
   },
   "outputs": [
    {
     "name": "stdout",
     "output_type": "stream",
     "text": [
      "('Best Estimator ', RandomForestClassifier(bootstrap=True, class_weight=None, criterion='gini',\n",
      "            max_depth=None, max_features='auto', max_leaf_nodes=None,\n",
      "            min_impurity_split=1e-07, min_samples_leaf=1,\n",
      "            min_samples_split=2, min_weight_fraction_leaf=0.0,\n",
      "            n_estimators=100, n_jobs=1, oob_score=False, random_state=2,\n",
      "            verbose=0, warm_start=False))\n",
      "\n",
      "\n",
      "('Best parameters for ', 'Random Forest', ' : ', {'n_estimators': 100})\n",
      "Best score 0.999\n",
      "\n",
      "\n",
      "('Best Estimator ', GradientBoostingClassifier(criterion='friedman_mse', init=None,\n",
      "              learning_rate=0.1, loss='deviance', max_depth=2,\n",
      "              max_features=None, max_leaf_nodes=None,\n",
      "              min_impurity_split=1e-07, min_samples_leaf=1,\n",
      "              min_samples_split=2, min_weight_fraction_leaf=0.0,\n",
      "              n_estimators=100, presort='auto', random_state=2,\n",
      "              subsample=1.0, verbose=0, warm_start=False))\n",
      "\n",
      "\n",
      "('Best parameters for ', 'GradientBoost', ' : ', {'n_estimators': 100, 'max_depth': 2})\n",
      "Best score 1.000\n",
      "\n",
      "\n",
      "('Best Estimator ', SVC(C=0.1, cache_size=800, class_weight=None, coef0=0.0,\n",
      "  decision_function_shape=None, degree=3, gamma='auto', kernel='linear',\n",
      "  max_iter=-1, probability=False, random_state=2, shrinking=True,\n",
      "  tol=0.001, verbose=False))\n",
      "\n",
      "\n",
      "('Best parameters for ', 'SVM', ' : ', {'C': 0.1})\n",
      "Best score 1.000\n",
      "\n",
      "\n",
      "1493918057.23\n"
     ]
    }
   ],
   "source": [
    "#optimize parameters of 3 models using LOSOCV on healthy\n",
    "from sklearn.metrics import make_scorer\n",
    "auc_scorer = make_scorer(roc_auc_score)\n",
    "start_time = time.time()\n",
    "best_estimator = []\n",
    "\n",
    "groups = groupsH\n",
    "X = XH; y = yH\n",
    "\n",
    "for model in models:\n",
    "    clf = GridSearchCV(model[0],model[1],cv=subj.split(X, y, groups),n_jobs=-1,scoring='average_precision')\n",
    "    clf.fit(X,y)\n",
    "    best_params = clf.best_params_\n",
    "    best_estimator.append(clf.best_estimator_)\n",
    "    means = clf.cv_results_['mean_test_score']\n",
    "    print('Best Estimator ',clf.best_estimator_)\n",
    "    print('\\n')\n",
    "    print(\"Best parameters for \", model[2], \" : \", best_params)\n",
    "    print('Best score %.3f'%(clf.best_score_))\n",
    "    print('\\n')\n",
    "\n",
    "end_time = time.time()\n",
    "print end_time"
   ]
  },
  {
   "cell_type": "code",
   "execution_count": 325,
   "metadata": {
    "collapsed": true
   },
   "outputs": [],
   "source": [
    "models = [RandomForestClassifier(n_estimators=100,random_state=2),\n",
    "          GradientBoostingClassifier(n_estimators=100,max_depth=2),\n",
    "          SVC(kernel='linear',C=0.1,cache_size=800,probability=True)]\n",
    "model_name = ['Random Forest','Gradient Boosting','SVM']"
   ]
  },
  {
   "cell_type": "code",
   "execution_count": 384,
   "metadata": {
    "collapsed": true
   },
   "outputs": [],
   "source": [
    "#fit base-level and meta-level classifier on healthy and test on amputees\n",
    "def fit_stacking(X_train,y_train,groups): \n",
    "    \n",
    "    base_classifiers = [];     meta_classifier = []\n",
    "\n",
    "    #CV to train base level clf and obtain train features for meta-level\n",
    "    Xtrain_meta = np.zeros((len(y_train),len(models))) #stores the meta-level classifier features (posterior of each base-level classifier)\n",
    "    ytrain_meta = np.array([]) #stores the labels to train meta-classifier\n",
    "    i = 0 #counter for current classifier trained\n",
    "\n",
    "#     skf = StratifiedKFold(n_splits=5,random_state=99)\n",
    "    for clf,name in zip(models,model_name):\n",
    "\n",
    "        print name\n",
    "        yscoreCV = np.array([])  #stores the posterior prob of each base-level clf\n",
    "\n",
    "        #CV to obtain posteriors from each clf (meta-features)\n",
    "        for train, test in subj.split(X_train, y_train, groups):\n",
    "            clf.fit(X_train[train,:],y_train[train])\n",
    "            yscore = clf.predict_proba(X_train[test,:]) \n",
    "            yscore = yscore[:,1]\n",
    "            yscoreCV = np.append(yscoreCV,yscore) #concatenate scores for each fold\n",
    "            if i == 0:\n",
    "                #store labels to train metaclassifier ()\n",
    "                ytrain_meta = np.append(ytrain_meta,y_train[test])\n",
    "\n",
    "        Xtrain_meta[:,i] = yscoreCV #store the posterior of current clf\n",
    "        i +=1\n",
    "\n",
    "        #Train base level classifiers on all training data    \n",
    "        clf.fit(X_train,y_train)\n",
    "        base_classifiers.append(clf)\n",
    "        \n",
    "    print 'base-level classifiers trained'\n",
    "    print Xtrain_meta.shape\n",
    "    print ytrain_meta.shape\n",
    "    \n",
    "    #add extra meta-features \n",
    "    metastd = np.std(Xtrain_meta,axis=1)\n",
    "    metastd = np.expand_dims(metastd,axis=0)\n",
    "    Xtrain_meta = np.concatenate((Xtrain_meta,metastd.T),axis=1)\n",
    "    \n",
    "    #train meta-level classifier on posteriors (this needs another CV to optimize parameters)\n",
    "    print 'training meta-classifier'\n",
    "    metaclf = LogisticRegression()\n",
    "    metaclf.fit(Xtrain_meta,ytrain_meta)\n",
    "    meta_classifier.append(metaclf)\n",
    "    print 'meta-classifier trained'\n",
    "\n",
    "    return base_classifiers, meta_classifier"
   ]
  },
  {
   "cell_type": "code",
   "execution_count": 385,
   "metadata": {
    "collapsed": false
   },
   "outputs": [
    {
     "name": "stdout",
     "output_type": "stream",
     "text": [
      "Random Forest\n",
      "Gradient Boosting\n",
      "SVM\n",
      "base-level classifiers trained\n",
      "(4890, 3)\n",
      "(4890,)\n",
      "training meta-classifier\n",
      "meta-classifier trained\n"
     ]
    }
   ],
   "source": [
    "base_classifiers, meta_classifier = fit_stacking(XH,yH,groupsH)\n",
    "meta_classifier = meta_classifier[0]"
   ]
  },
  {
   "cell_type": "code",
   "execution_count": 410,
   "metadata": {
    "collapsed": false
   },
   "outputs": [],
   "source": [
    "def predict_stacking(X,y,groups):\n",
    "\n",
    "    \n",
    "    AUC_meta = []; AUC = []; Sens_meta = []; Sens = []; Spec_meta = []; Spec = []\n",
    "    \n",
    "    for train, test in subj.split(X, y, groups):\n",
    "        \n",
    "        X_test = X[test,:]; y_test = y[test]\n",
    "        Xtest_meta = np.zeros((len(y_test),len(models))) #stores the base clf predictions for current subj\n",
    "        auc_base = np.empty( (len(models),1) ) #store auc for each base classifier\n",
    "        Sens_base = np.empty( (len(models),1) )\n",
    "        Spec_base = np.empty( (len(models),1) )\n",
    "        i = 0 #clf index\n",
    "\n",
    "        #1. base-classifiers predictions\n",
    "        for clf,name in zip(base_classifiers,model_name):\n",
    "            Xtest_meta[:,i] = clf.predict_proba(X_test)[:,1]\n",
    "            fpr, tpr, thresholds = metrics.roc_curve(y_test, Xtest_meta[:,i], pos_label=1)\n",
    "            ind = np.argmax(tpr-fpr,axis=0)\n",
    "            Sens_base[i] = tpr[ind]; Spec_base[i] = 1-fpr[ind]\n",
    "            auc_base[i] = auc(fpr, tpr)\n",
    "            i+=1\n",
    "        print 'best base-clf %s, auc = %.3f, Sens = %.3f, Spec  = %.3f' % (model_name[np.argmax(auc_base)],\n",
    "                                                                           np.max(auc_base),np.max(Sens_base),\n",
    "                                                                           np.max(Spec_base))\n",
    "        \n",
    "        #add extra meta features\n",
    "        metastd = np.std(Xtest_meta,axis=1)\n",
    "        metastd = np.expand_dims(metastd,axis=0)\n",
    "        Xtest_meta = np.concatenate((Xtest_meta,metastd.T),axis=1)\n",
    "\n",
    "        #2. meta-level clf predictions (final prediction)\n",
    "        yscore_meta = meta_classifier.predict_proba(Xtest_meta)[:,1]\n",
    "        ypred_meta = meta_classifier.predict(Xtest_meta)\n",
    "        fpr, tpr, thresholds = metrics.roc_curve(y_test, yscore_meta, pos_label=1)\n",
    "        ind = np.argmax(tpr-fpr,axis=0)\n",
    "        Sens_meta = tpr[ind]; Spec_meta = 1-fpr[ind]\n",
    "        print 'auc meta = %.3f, Sens = %.3f, Spec = %.3f\\n' % (auc(fpr, tpr),Sens_meta,Spec_meta)\n",
    "        AUC_meta.append(auc(fpr, tpr))\n",
    "               \n",
    "#     results_meta = {'AUC':TAUC_all, 'TPR':Ttpr_all, 'FPR':Tfpr_all, 'Sens':TSens_all, 'Spec':TSpec_all}\n",
    "#     results = {'AUC':AUC_all, 'TPR':tpr_all, 'FPR':fpr_all, 'Sens':Sens_all, 'Spec':Spec_all}\n",
    "#     return results_T, results\n",
    "\n"
   ]
  },
  {
   "cell_type": "code",
   "execution_count": 411,
   "metadata": {
    "collapsed": false
   },
   "outputs": [
    {
     "name": "stdout",
     "output_type": "stream",
     "text": [
      "best base-clf Random Forest, auc = 0.997, Sens = 0.996, Spec  = 0.974\n",
      "auc meta = 0.998, Sens = 0.955, Spec = 1.000\n",
      "\n",
      "best base-clf SVM, auc = 0.999, Sens = 1.000, Spec  = 0.984\n",
      "auc meta = 0.998, Sens = 0.997, Spec = 0.984\n",
      "\n",
      "best base-clf Random Forest, auc = 1.000, Sens = 1.000, Spec  = 1.000\n",
      "auc meta = 1.000, Sens = 1.000, Spec = 1.000\n",
      "\n",
      "best base-clf SVM, auc = 0.993, Sens = 0.991, Spec  = 0.964\n",
      "auc meta = 0.990, Sens = 1.000, Spec = 0.929\n",
      "\n",
      "best base-clf Random Forest, auc = 0.987, Sens = 0.986, Spec  = 1.000\n",
      "auc meta = 0.988, Sens = 0.957, Spec = 0.952\n",
      "\n",
      "best base-clf Gradient Boosting, auc = 1.000, Sens = 1.000, Spec  = 1.000\n",
      "auc meta = 1.000, Sens = 0.997, Spec = 1.000\n",
      "\n"
     ]
    }
   ],
   "source": [
    "predict_stacking(XA,yA,groupsA)"
   ]
  },
  {
   "cell_type": "code",
   "execution_count": 338,
   "metadata": {
    "collapsed": false
   },
   "outputs": [
    {
     "data": {
      "text/plain": [
       "(1844, 40)"
      ]
     },
     "execution_count": 338,
     "metadata": {},
     "output_type": "execute_result"
    }
   ],
   "source": [
    "XA.shape"
   ]
  },
  {
   "cell_type": "code",
   "execution_count": 308,
   "metadata": {
    "collapsed": false
   },
   "outputs": [
    {
     "data": {
      "text/plain": [
       "array([-0.02106472,  0.00690687, -0.02369422, ...,  0.12807407,\n",
       "        0.13417161,  0.10672752])"
      ]
     },
     "execution_count": 308,
     "metadata": {},
     "output_type": "execute_result"
    }
   ],
   "source": [
    "scaler = preprocessing.StandardScaler().fit(X)\n",
    "scaler.mean_"
   ]
  },
  {
   "cell_type": "code",
   "execution_count": 311,
   "metadata": {
    "collapsed": false
   },
   "outputs": [
    {
     "name": "stdout",
     "output_type": "stream",
     "text": [
      "(1844,)\n",
      "[1 3 4 5 6 7]\n",
      "[ 0.02779509 -0.06354123  0.0235777  ...,  0.57252773  0.58725874\n",
      "  0.38234075]\n",
      "[ 0.22685219 -0.31176972  0.23156042 ...,  1.72593638  1.93739343\n",
      "  2.37722612]\n"
     ]
    }
   ],
   "source": [
    "#amputees data\n",
    "Amp = Amp[Amp.SubjID != 2] #drop subj 2\n",
    "X = Amp.iloc[:,4:].as_matrix()\n",
    "y = Amp.Falltype.as_matrix()\n",
    "y[y < 9] = 1\n",
    "y[y == 9] = 0\n",
    "groups = Amp.SubjID.as_matrix()\n",
    "print(groups.shape)\n",
    "print(np.sort(np.unique(groups)))\n",
    "subj = LeaveOneGroupOut()\n",
    "subj.get_n_splits(X,y,groups)\n",
    "\n",
    "print X.mean(axis=0)\n",
    "X = scaler.transform(X)\n",
    "print X.mean(axis=0)"
   ]
  },
  {
   "cell_type": "code",
   "execution_count": 316,
   "metadata": {
    "collapsed": false
   },
   "outputs": [
    {
     "data": {
      "text/plain": [
       "array([-0.02106472,  0.00690687, -0.02369422, ...,  0.12807407,\n",
       "        0.13417161,  0.10672752])"
      ]
     },
     "execution_count": 316,
     "metadata": {},
     "output_type": "execute_result"
    }
   ],
   "source": [
    "scaler.mean_"
   ]
  },
  {
   "cell_type": "code",
   "execution_count": 265,
   "metadata": {
    "collapsed": false
   },
   "outputs": [
    {
     "name": "stdout",
     "output_type": "stream",
     "text": [
      "Random Forest\n",
      "Gradient Boosting\n",
      "SVM\n"
     ]
    },
    {
     "ename": "AttributeError",
     "evalue": "predict_proba is not available when  probability=False",
     "output_type": "error",
     "traceback": [
      "\u001b[0;31m---------------------------------------------------------------------------\u001b[0m",
      "\u001b[0;31mAttributeError\u001b[0m                            Traceback (most recent call last)",
      "\u001b[0;32m<ipython-input-265-1c3b8a3dbe20>\u001b[0m in \u001b[0;36m<module>\u001b[0;34m()\u001b[0m\n\u001b[0;32m----> 1\u001b[0;31m \u001b[0mXtrain_meta\u001b[0m\u001b[0;34m,\u001b[0m \u001b[0mbase_classifiers\u001b[0m \u001b[0;34m=\u001b[0m \u001b[0mfit_stacking\u001b[0m\u001b[0;34m(\u001b[0m\u001b[0mX\u001b[0m\u001b[0;34m,\u001b[0m\u001b[0my\u001b[0m\u001b[0;34m)\u001b[0m\u001b[0;34m\u001b[0m\u001b[0m\n\u001b[0m",
      "\u001b[0;32m<ipython-input-264-a04f42361017>\u001b[0m in \u001b[0;36mfit_stacking\u001b[0;34m(X_train, y_train)\u001b[0m\n\u001b[1;32m     17\u001b[0m         \u001b[0;32mfor\u001b[0m \u001b[0mtrain\u001b[0m\u001b[0;34m,\u001b[0m\u001b[0mtest\u001b[0m \u001b[0;32min\u001b[0m \u001b[0mskf\u001b[0m\u001b[0;34m.\u001b[0m\u001b[0msplit\u001b[0m\u001b[0;34m(\u001b[0m\u001b[0mX_train\u001b[0m\u001b[0;34m,\u001b[0m\u001b[0my_train\u001b[0m\u001b[0;34m)\u001b[0m\u001b[0;34m:\u001b[0m\u001b[0;34m\u001b[0m\u001b[0m\n\u001b[1;32m     18\u001b[0m             \u001b[0mclf\u001b[0m\u001b[0;34m.\u001b[0m\u001b[0mfit\u001b[0m\u001b[0;34m(\u001b[0m\u001b[0mX_train\u001b[0m\u001b[0;34m[\u001b[0m\u001b[0mtrain\u001b[0m\u001b[0;34m,\u001b[0m\u001b[0;34m:\u001b[0m\u001b[0;34m]\u001b[0m\u001b[0;34m,\u001b[0m\u001b[0my_train\u001b[0m\u001b[0;34m[\u001b[0m\u001b[0mtrain\u001b[0m\u001b[0;34m]\u001b[0m\u001b[0;34m)\u001b[0m\u001b[0;34m\u001b[0m\u001b[0m\n\u001b[0;32m---> 19\u001b[0;31m             \u001b[0myscore\u001b[0m \u001b[0;34m=\u001b[0m \u001b[0mclf\u001b[0m\u001b[0;34m.\u001b[0m\u001b[0mpredict_proba\u001b[0m\u001b[0;34m(\u001b[0m\u001b[0mX_train\u001b[0m\u001b[0;34m[\u001b[0m\u001b[0mtest\u001b[0m\u001b[0;34m,\u001b[0m\u001b[0;34m:\u001b[0m\u001b[0;34m]\u001b[0m\u001b[0;34m)\u001b[0m\u001b[0;34m\u001b[0m\u001b[0m\n\u001b[0m\u001b[1;32m     20\u001b[0m             \u001b[0myscore\u001b[0m \u001b[0;34m=\u001b[0m \u001b[0myscore\u001b[0m\u001b[0;34m[\u001b[0m\u001b[0;34m:\u001b[0m\u001b[0;34m,\u001b[0m\u001b[0;36m1\u001b[0m\u001b[0;34m]\u001b[0m\u001b[0;34m\u001b[0m\u001b[0m\n\u001b[1;32m     21\u001b[0m             \u001b[0myscoreCV\u001b[0m \u001b[0;34m=\u001b[0m \u001b[0mnp\u001b[0m\u001b[0;34m.\u001b[0m\u001b[0mappend\u001b[0m\u001b[0;34m(\u001b[0m\u001b[0myscoreCV\u001b[0m\u001b[0;34m,\u001b[0m\u001b[0myscore\u001b[0m\u001b[0;34m)\u001b[0m \u001b[0;31m#concatenate scores for each fold\u001b[0m\u001b[0;34m\u001b[0m\u001b[0m\n",
      "\u001b[0;32m/Users/luca/anaconda/lib/python2.7/site-packages/sklearn/svm/base.pyc\u001b[0m in \u001b[0;36mpredict_proba\u001b[0;34m(self)\u001b[0m\n\u001b[1;32m    613\u001b[0m         \u001b[0mdatasets\u001b[0m\u001b[0;34m.\u001b[0m\u001b[0;34m\u001b[0m\u001b[0m\n\u001b[1;32m    614\u001b[0m         \"\"\"\n\u001b[0;32m--> 615\u001b[0;31m         \u001b[0mself\u001b[0m\u001b[0;34m.\u001b[0m\u001b[0m_check_proba\u001b[0m\u001b[0;34m(\u001b[0m\u001b[0;34m)\u001b[0m\u001b[0;34m\u001b[0m\u001b[0m\n\u001b[0m\u001b[1;32m    616\u001b[0m         \u001b[0;32mreturn\u001b[0m \u001b[0mself\u001b[0m\u001b[0;34m.\u001b[0m\u001b[0m_predict_proba\u001b[0m\u001b[0;34m\u001b[0m\u001b[0m\n\u001b[1;32m    617\u001b[0m \u001b[0;34m\u001b[0m\u001b[0m\n",
      "\u001b[0;32m/Users/luca/anaconda/lib/python2.7/site-packages/sklearn/svm/base.pyc\u001b[0m in \u001b[0;36m_check_proba\u001b[0;34m(self)\u001b[0m\n\u001b[1;32m    580\u001b[0m     \u001b[0;32mdef\u001b[0m \u001b[0m_check_proba\u001b[0m\u001b[0;34m(\u001b[0m\u001b[0mself\u001b[0m\u001b[0;34m)\u001b[0m\u001b[0;34m:\u001b[0m\u001b[0;34m\u001b[0m\u001b[0m\n\u001b[1;32m    581\u001b[0m         \u001b[0;32mif\u001b[0m \u001b[0;32mnot\u001b[0m \u001b[0mself\u001b[0m\u001b[0;34m.\u001b[0m\u001b[0mprobability\u001b[0m\u001b[0;34m:\u001b[0m\u001b[0;34m\u001b[0m\u001b[0m\n\u001b[0;32m--> 582\u001b[0;31m             raise AttributeError(\"predict_proba is not available when \"\n\u001b[0m\u001b[1;32m    583\u001b[0m                                  \" probability=False\")\n\u001b[1;32m    584\u001b[0m         \u001b[0;32mif\u001b[0m \u001b[0mself\u001b[0m\u001b[0;34m.\u001b[0m\u001b[0m_impl\u001b[0m \u001b[0;32mnot\u001b[0m \u001b[0;32min\u001b[0m \u001b[0;34m(\u001b[0m\u001b[0;34m'c_svc'\u001b[0m\u001b[0;34m,\u001b[0m \u001b[0;34m'nu_svc'\u001b[0m\u001b[0;34m)\u001b[0m\u001b[0;34m:\u001b[0m\u001b[0;34m\u001b[0m\u001b[0m\n",
      "\u001b[0;31mAttributeError\u001b[0m: predict_proba is not available when  probability=False"
     ]
    }
   ],
   "source": [
    "Xtrain_meta, base_classifiers = fit_stacking(X,y)"
   ]
  }
 ],
 "metadata": {
  "kernelspec": {
   "display_name": "Python 2",
   "language": "python",
   "name": "python2"
  },
  "language_info": {
   "codemirror_mode": {
    "name": "ipython",
    "version": 2
   },
   "file_extension": ".py",
   "mimetype": "text/x-python",
   "name": "python",
   "nbconvert_exporter": "python",
   "pygments_lexer": "ipython2",
   "version": "2.7.11"
  }
 },
 "nbformat": 4,
 "nbformat_minor": 0
}
