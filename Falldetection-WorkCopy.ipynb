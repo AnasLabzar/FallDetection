{
 "cells": [
  {
   "cell_type": "code",
   "execution_count": 1,
   "metadata": {
    "collapsed": false
   },
   "outputs": [],
   "source": [
    "from __future__ import division\n",
    "\n",
    "import os\n",
    "import math\n",
    "import pandas as pd\n",
    "import numpy as np\n",
    "import seaborn as sns\n",
    "import matplotlib.pyplot as plt\n",
    "%matplotlib inline\n",
    "\n",
    "import sklearn\n",
    "#import xgboost as xgb\n",
    "#from xgboost.sklearn import XGBClassifier #this is the SKlearn wrapper\n",
    "from sklearn import neighbors, linear_model\n",
    "from sklearn.ensemble import RandomForestClassifier, AdaBoostClassifier, GradientBoostingClassifier, ExtraTreesClassifier\n",
    "from sklearn.model_selection import KFold, StratifiedKFold, cross_val_score\n",
    "from sklearn.model_selection import GridSearchCV\n",
    "from sklearn import metrics\n",
    "from sklearn.linear_model import ElasticNetCV\n",
    "from sklearn.metrics import roc_curve, auc\n",
    "\n",
    "import scipy.io as sio"
   ]
  },
  {
   "cell_type": "markdown",
   "metadata": {},
   "source": [
    "### Helper fcns"
   ]
  },
  {
   "cell_type": "code",
   "execution_count": 2,
   "metadata": {
    "collapsed": false
   },
   "outputs": [],
   "source": [
    "from sklearn.metrics import confusion_matrix\n",
    "\n",
    "def plot_confusion_matrix(cm, title='Confusion matrix', cmap=plt.cm.Blues, norm=True):\n",
    "\n",
    "    if norm:\n",
    "        totals = cmat.sum(axis=1)\n",
    "        totals = totals.T\n",
    "        totals = np.expand_dims(totals,axis=1)\n",
    "        totals = np.tile(totals,(1,2))\n",
    "        cmat_norm = cmat/totals\n",
    "        print(cmat_norm)\n",
    "        cm = cmat_norm\n",
    "\n",
    "    plt.imshow(cm, interpolation='nearest', cmap=cmap)\n",
    "    plt.title(title)\n",
    "    plt.colorbar()\n",
    "    tick_marks = np.arange(2)\n",
    "    plt.xticks(tick_marks, ['Non-Fall','Fall'], rotation=45)\n",
    "    plt.yticks(tick_marks, ['Non-Fall','Fall'])\n",
    "    plt.tight_layout()\n",
    "    plt.ylabel('True label')\n",
    "    plt.xlabel('Predicted label')"
   ]
  },
  {
   "cell_type": "code",
   "execution_count": 3,
   "metadata": {
    "collapsed": false
   },
   "outputs": [],
   "source": [
    "def LOSOCV(X,y,data):\n",
    "\n",
    "    AUC_all=[]; fpr_all=[]; tpr_all=[]; Sens_all=[]; Spec_all=[]\n",
    "    thr = np.linspace(0,1,21)\n",
    "    thr = thr[::-1]\n",
    "\n",
    "    plt.figure(figsize=(8,6))\n",
    "\n",
    "    TTPR_all, TFPR_all = [], []\n",
    "    \n",
    "    for train_index, test_index in subj.split(X, y, groups):\n",
    "        Dtr = data.iloc[train_index]\n",
    "        Dte = data.iloc[test_index]\n",
    "        \n",
    "        SensT, SpecT = ThresholdClass(Dtr,Dte)\n",
    "        TTPR_all.append(SensT)\n",
    "        TFPR_all.append(1-SpecT)\n",
    "        \n",
    "        Xtr, Xte = X[train_index], X[test_index]\n",
    "        ytr, yte = y[train_index], y[test_index]\n",
    "        \n",
    "        #selct features\n",
    "        Xtr, Xte = Xtr[:,indmax], Xte[:,indmax]\n",
    "\n",
    "        forest = RandomForestClassifier(n_estimators=50,random_state=10,warm_start=False)    \n",
    "        forest.fit(Xtr,ytr)\n",
    "        ypred = forest.predict(Xte)\n",
    "        yscore = forest.predict_proba(Xte)\n",
    "        yscore = yscore[:,1]\n",
    "\n",
    "        #acc = np.sum(ypred==yte)/len(ypred)\n",
    "        #print('Acc = %.4f')%acc\n",
    "\n",
    "    #    fpr, tpr, thresholds = metrics.roc_curve(yte, yscore, pos_label=1,drop_intermediate=False\n",
    "        #compute ROC at fixed fpr (to plot error bars)\n",
    "        fpr=np.linspace(0,1,101); tpr=[]\n",
    "        nscores = np.sort(np.column_stack((yscore[yte==0],yte[yte==0])),axis=0)\n",
    "        neg_counts = sum(yte==0)\n",
    "        for f in fpr:\n",
    "            ind = neg_counts-int(neg_counts*f)-1\n",
    "            t = (nscores[ind])[0]\n",
    "            if f==1:\n",
    "                t = 0\n",
    "            tpr_t = sum(yscore[yte==1]>t) / sum(yte==1)\n",
    "            tpr.append(tpr_t) \n",
    "\n",
    "        t=.5\n",
    "        #compute Sens and Spec\n",
    "        Sens = sum((ypred==1) & (yte==1)) / sum(yte==1); Spec = 1-sum((ypred==1) & (yte==0)) / sum(yte==0)\n",
    "\n",
    "        fpr = np.asarray(fpr); tpr = np.asarray(tpr)\n",
    "        roc_auc = auc(fpr, tpr)\n",
    "        print('AUC = %.4f, Sens = %.4f, Spec = %.4f'%(roc_auc,Sens,Spec))    \n",
    "        AUC_all.append(roc_auc)\n",
    "        tpr_all.append(tpr); fpr_all=fpr;\n",
    "        Sens_all.append(Sens); Spec_all.append(Spec)\n",
    "\n",
    "        #plot each individual ROC\n",
    "    #     lw = 2\n",
    "    #     plt.plot(fpr, tpr, color='darkorange',\n",
    "    #              lw=lw, label='ROC curve (area = %0.3f)' % roc_auc)\n",
    "    #     plt.plot([0, 1], [0, 1], color='navy', lw=lw, linestyle='--')\n",
    "\n",
    "    # plt.xlim([-0.05, 1.0])\n",
    "    # plt.ylim([0.0, 1.05])\n",
    "    # plt.xlabel('False Positive Rate')\n",
    "    # plt.ylabel('True Positive Rate')\n",
    "    # plt.title('Healthy-Healthy')\n",
    "    #plt.legend(loc=\"lower right\")\n",
    "\n",
    "    #summary results\n",
    "    print(('mean AUC = %.3f (+/- %0.3f)')%(np.mean(AUC_all),2*np.std(AUC_all)))\n",
    "    print(('mean Sens = %.3f (+/- %0.3f)')%(np.mean(Sens_all),2*np.std(Sens_all)))\n",
    "    print(('mean Spec = %.3f (+/- %0.3f)')%(np.mean(Spec_all),2*np.std(Spec_all)))\n",
    "\n",
    "    return AUC_all, fpr_all, tpr_all, Sens_all, Spec_all, TTPR_all, TFPR_all"
   ]
  },
  {
   "cell_type": "code",
   "execution_count": 4,
   "metadata": {
    "collapsed": true
   },
   "outputs": [],
   "source": [
    "def EvaluateBySubject(Xtr,ytr,Dtr,X,Y,D):\n",
    "\n",
    "    AUC_all=[]; fpr_all=[]; tpr_all=[]; Sens_all=[]; Spec_all=[]\n",
    "    thr = np.linspace(0,1,21)\n",
    "    thr = thr[::-1]\n",
    "\n",
    "    plt.figure(figsize=(8,6))\n",
    "\n",
    "    TTPR_all, TFPR_all = [], []\n",
    "    \n",
    "    #select train features\n",
    "    Xtr = Xtr[:,indmax]\n",
    "    forest = RandomForestClassifier(n_estimators=50,random_state=10,warm_start=False)    \n",
    "    forest.fit(Xtr,ytr)\n",
    "    \n",
    "    for train_index, test_index in subj.split(X, y, groups):\n",
    "\n",
    "        Dte = D.iloc[test_index]\n",
    "        \n",
    "        SensT, SpecT = ThresholdClass(Dtr,Dte)\n",
    "        TTPR_all.append(SensT)\n",
    "        TFPR_all.append(1-SpecT)\n",
    "        \n",
    "        Xte = X[test_index]\n",
    "        yte = y[test_index]\n",
    "        \n",
    "        #selct test features\n",
    "        Xte = Xte[:,indmax]\n",
    "\n",
    "        ypred = forest.predict(Xte)\n",
    "        yscore = forest.predict_proba(Xte)\n",
    "        yscore = yscore[:,1]\n",
    "\n",
    "        #acc = np.sum(ypred==yte)/len(ypred)\n",
    "        #print('Acc = %.4f')%acc\n",
    "\n",
    "    #    fpr, tpr, thresholds = metrics.roc_curve(yte, yscore, pos_label=1,drop_intermediate=False\n",
    "        #compute ROC at fixed fpr (to plot error bars)\n",
    "        fpr=np.linspace(0,1,101); tpr=[]\n",
    "        nscores = np.sort(np.column_stack((yscore[yte==0],yte[yte==0])),axis=0)\n",
    "        neg_counts = sum(yte==0)\n",
    "        for f in fpr:\n",
    "            ind = neg_counts-int(neg_counts*f)-1\n",
    "            t = (nscores[ind])[0]\n",
    "            if f==1:\n",
    "                t = 0\n",
    "            tpr_t = sum(yscore[yte==1]>t) / sum(yte==1)\n",
    "            tpr.append(tpr_t) \n",
    "\n",
    "        t=.5\n",
    "        #compute Sens and Spec\n",
    "        Sens = sum((ypred==1) & (yte==1)) / sum(yte==1); Spec = 1-sum((ypred==1) & (yte==0)) / sum(yte==0)\n",
    "\n",
    "        fpr = np.asarray(fpr); tpr = np.asarray(tpr)\n",
    "        roc_auc = auc(fpr, tpr)\n",
    "        print('AUC = %.4f, Sens = %.4f, Spec = %.4f'%(roc_auc,Sens,Spec))    \n",
    "        AUC_all.append(roc_auc)\n",
    "        tpr_all.append(tpr); fpr_all=fpr;\n",
    "        Sens_all.append(Sens); Spec_all.append(Spec)\n",
    "\n",
    "        #plot each individual ROC\n",
    "    #     lw = 2\n",
    "    #     plt.plot(fpr, tpr, color='darkorange',\n",
    "    #              lw=lw, label='ROC curve (area = %0.3f)' % roc_auc)\n",
    "    #     plt.plot([0, 1], [0, 1], color='navy', lw=lw, linestyle='--')\n",
    "\n",
    "    # plt.xlim([-0.05, 1.0])\n",
    "    # plt.ylim([0.0, 1.05])\n",
    "    # plt.xlabel('False Positive Rate')\n",
    "    # plt.ylabel('True Positive Rate')\n",
    "    # plt.title('Healthy-Healthy')\n",
    "    #plt.legend(loc=\"lower right\")\n",
    "\n",
    "    #summary results\n",
    "    print(('mean AUC = %.3f (+/- %0.3f)')%(np.mean(AUC_all),2*np.std(AUC_all)))\n",
    "    print(('mean Sens = %.3f (+/- %0.3f)')%(np.mean(Sens_all),2*np.std(Sens_all)))\n",
    "    print(('mean Spec = %.3f (+/- %0.3f)')%(np.mean(Spec_all),2*np.std(Spec_all)))\n",
    "\n",
    "    return AUC_all, fpr_all, tpr_all, Sens_all, Spec_all, TTPR_all, TFPR_all"
   ]
  },
  {
   "cell_type": "code",
   "execution_count": 149,
   "metadata": {
    "collapsed": false
   },
   "outputs": [],
   "source": [
    "current_palette = sns.color_palette()\n",
    "\n",
    "def plot_roc(tpr_all,fpr,roc_auc,ax=None,plotname=None,col=None):\n",
    "    #plot mean ROC across subjects (need to add shaded conf interval)\n",
    "    tprmu = np.mean(np.asarray(tpr_all),axis=0)\n",
    "    tpr=np.asarray(tpr_all)\n",
    "    fpr=np.reshape(fpr,(1,-1))\n",
    "    tprmu=np.reshape(tprmu,(1,-1))\n",
    "    label=pd.Series(data = ['%s - AUC = %0.3f' % (plotname,roc_auc)]*len(fpr))\n",
    "    if ax == None:\n",
    "        ax = sns.tsplot(data=tpr,time=fpr,ci=95,condition=label,legend=True,color=col,lw=3)\n",
    "    else:\n",
    "        sns.tsplot(data=tpr,time=fpr,ci=95,condition=label, legend=True,ax=ax,color=col,lw=3)\n",
    "             \n",
    "    lw = 3\n",
    "    ax.plot([0, 1], [0, 1], color='navy', lw=lw, linestyle='--')\n",
    "    ax.set_xlim([-0.05, 1.0])\n",
    "    ax.set_ylim([0.0, 1.05])\n",
    "    ax.set_xlabel('False Positive Rate')\n",
    "    ax.set_ylabel('True Positive Rate')\n",
    "    ax.legend(loc='lower right')\n",
    "    \n",
    "    return ax"
   ]
  },
  {
   "cell_type": "code",
   "execution_count": 6,
   "metadata": {
    "collapsed": false
   },
   "outputs": [],
   "source": [
    "def ThresholdClass(TrainData,TestData):\n",
    "    \"\"\"Inputs: Dataframe containing AccMax and AccMin accelerations for both train and test data\n",
    "    Outputs: dataframe of classification of test data as fall (True) or non-fall (False)\"\"\"\n",
    "    Max = TrainData.AccMax\n",
    "    Min = TrainData.AccMin\n",
    "    UFT = Max[TrainData.Falltype==1].min(axis=0)\n",
    "    LFT = Min[TrainData.Falltype==1].max(axis=0)\n",
    "    \n",
    "    ThresPred = (TestData.AccMax>UFT) & (TestData.AccMin<LFT)\n",
    "    Sens = len(ThresPred[(ThresPred==True) & (TestData.Falltype==1)])/len(ThresPred[TestData.Falltype==1])\n",
    "    Spec = len(ThresPred[(ThresPred==False) & (TestData.Falltype==0)])/len(ThresPred[TestData.Falltype==0])\n",
    "    \n",
    "    return Sens, Spec\n",
    "\n",
    "    "
   ]
  },
  {
   "cell_type": "markdown",
   "metadata": {},
   "source": [
    "### Load the data"
   ]
  },
  {
   "cell_type": "code",
   "execution_count": 7,
   "metadata": {
    "collapsed": false
   },
   "outputs": [],
   "source": [
    "Healthy = pd.read_csv('./Data/Healthy10.csv',header=None)\n",
    "Amp = pd.read_csv('./Data/Amp10.csv',header=None)\n",
    "Healthy = Healthy.rename(index=int, columns={0:'SubjID',1:'Loc',2:'Subjtype',3:'Falltype'})\n",
    "Amp = Amp.rename(index=int, columns={0:'SubjID',1:'Loc',2:'Subjtype',3:'Falltype'})"
   ]
  },
  {
   "cell_type": "code",
   "execution_count": 8,
   "metadata": {
    "collapsed": false
   },
   "outputs": [
    {
     "data": {
      "text/html": [
       "<div>\n",
       "<table border=\"1\" class=\"dataframe\">\n",
       "  <thead>\n",
       "    <tr style=\"text-align: right;\">\n",
       "      <th></th>\n",
       "      <th>SubjID</th>\n",
       "      <th>Loc</th>\n",
       "      <th>Subjtype</th>\n",
       "      <th>Falltype</th>\n",
       "      <th>4</th>\n",
       "      <th>5</th>\n",
       "      <th>6</th>\n",
       "      <th>7</th>\n",
       "      <th>8</th>\n",
       "      <th>9</th>\n",
       "      <th>...</th>\n",
       "      <th>1205</th>\n",
       "      <th>1206</th>\n",
       "      <th>1207</th>\n",
       "      <th>1208</th>\n",
       "      <th>1209</th>\n",
       "      <th>1210</th>\n",
       "      <th>1211</th>\n",
       "      <th>1212</th>\n",
       "      <th>1213</th>\n",
       "      <th>1214</th>\n",
       "    </tr>\n",
       "  </thead>\n",
       "  <tbody>\n",
       "    <tr>\n",
       "      <th>0</th>\n",
       "      <td>1</td>\n",
       "      <td>1</td>\n",
       "      <td>1</td>\n",
       "      <td>3</td>\n",
       "      <td>-0.135490</td>\n",
       "      <td>0.023986</td>\n",
       "      <td>-0.22209</td>\n",
       "      <td>-0.034934</td>\n",
       "      <td>0.026296</td>\n",
       "      <td>0.061168</td>\n",
       "      <td>...</td>\n",
       "      <td>1.3975</td>\n",
       "      <td>1.0539</td>\n",
       "      <td>1.371</td>\n",
       "      <td>0.57013</td>\n",
       "      <td>0.042151</td>\n",
       "      <td>0.040205</td>\n",
       "      <td>0.036391</td>\n",
       "      <td>0.082633</td>\n",
       "      <td>0.057698</td>\n",
       "      <td>0.142730</td>\n",
       "    </tr>\n",
       "    <tr>\n",
       "      <th>1</th>\n",
       "      <td>1</td>\n",
       "      <td>1</td>\n",
       "      <td>1</td>\n",
       "      <td>3</td>\n",
       "      <td>-0.116930</td>\n",
       "      <td>0.041788</td>\n",
       "      <td>-0.25966</td>\n",
       "      <td>-0.036706</td>\n",
       "      <td>0.028857</td>\n",
       "      <td>0.069082</td>\n",
       "      <td>...</td>\n",
       "      <td>1.0056</td>\n",
       "      <td>-1.0666</td>\n",
       "      <td>1.371</td>\n",
       "      <td>0.59226</td>\n",
       "      <td>0.044890</td>\n",
       "      <td>0.055954</td>\n",
       "      <td>0.064699</td>\n",
       "      <td>0.077030</td>\n",
       "      <td>0.105940</td>\n",
       "      <td>0.130800</td>\n",
       "    </tr>\n",
       "    <tr>\n",
       "      <th>2</th>\n",
       "      <td>1</td>\n",
       "      <td>1</td>\n",
       "      <td>1</td>\n",
       "      <td>3</td>\n",
       "      <td>-0.095297</td>\n",
       "      <td>-0.009186</td>\n",
       "      <td>-0.26274</td>\n",
       "      <td>-0.031153</td>\n",
       "      <td>0.019380</td>\n",
       "      <td>0.071339</td>\n",
       "      <td>...</td>\n",
       "      <td>1.5987</td>\n",
       "      <td>2.0886</td>\n",
       "      <td>1.371</td>\n",
       "      <td>0.76639</td>\n",
       "      <td>0.050949</td>\n",
       "      <td>0.099145</td>\n",
       "      <td>0.054502</td>\n",
       "      <td>0.070348</td>\n",
       "      <td>0.107280</td>\n",
       "      <td>0.145240</td>\n",
       "    </tr>\n",
       "    <tr>\n",
       "      <th>3</th>\n",
       "      <td>1</td>\n",
       "      <td>1</td>\n",
       "      <td>1</td>\n",
       "      <td>4</td>\n",
       "      <td>-0.131590</td>\n",
       "      <td>0.012601</td>\n",
       "      <td>0.36066</td>\n",
       "      <td>-0.030360</td>\n",
       "      <td>0.038864</td>\n",
       "      <td>0.070713</td>\n",
       "      <td>...</td>\n",
       "      <td>2.0909</td>\n",
       "      <td>4.4104</td>\n",
       "      <td>1.371</td>\n",
       "      <td>0.51069</td>\n",
       "      <td>0.035452</td>\n",
       "      <td>0.046974</td>\n",
       "      <td>0.043586</td>\n",
       "      <td>0.073470</td>\n",
       "      <td>0.071604</td>\n",
       "      <td>0.098844</td>\n",
       "    </tr>\n",
       "    <tr>\n",
       "      <th>4</th>\n",
       "      <td>1</td>\n",
       "      <td>1</td>\n",
       "      <td>1</td>\n",
       "      <td>4</td>\n",
       "      <td>-0.174220</td>\n",
       "      <td>0.002581</td>\n",
       "      <td>0.33938</td>\n",
       "      <td>-0.049466</td>\n",
       "      <td>0.017201</td>\n",
       "      <td>0.068173</td>\n",
       "      <td>...</td>\n",
       "      <td>2.0293</td>\n",
       "      <td>4.1421</td>\n",
       "      <td>1.371</td>\n",
       "      <td>0.50332</td>\n",
       "      <td>0.045742</td>\n",
       "      <td>0.077608</td>\n",
       "      <td>0.067755</td>\n",
       "      <td>0.079449</td>\n",
       "      <td>0.131450</td>\n",
       "      <td>0.085266</td>\n",
       "    </tr>\n",
       "  </tbody>\n",
       "</table>\n",
       "<p>5 rows × 1215 columns</p>\n",
       "</div>"
      ],
      "text/plain": [
       "   SubjID  Loc  Subjtype  Falltype         4         5        6         7  \\\n",
       "0       1    1         1         3 -0.135490  0.023986 -0.22209 -0.034934   \n",
       "1       1    1         1         3 -0.116930  0.041788 -0.25966 -0.036706   \n",
       "2       1    1         1         3 -0.095297 -0.009186 -0.26274 -0.031153   \n",
       "3       1    1         1         4 -0.131590  0.012601  0.36066 -0.030360   \n",
       "4       1    1         1         4 -0.174220  0.002581  0.33938 -0.049466   \n",
       "\n",
       "          8         9    ...       1205    1206   1207     1208      1209  \\\n",
       "0  0.026296  0.061168    ...     1.3975  1.0539  1.371  0.57013  0.042151   \n",
       "1  0.028857  0.069082    ...     1.0056 -1.0666  1.371  0.59226  0.044890   \n",
       "2  0.019380  0.071339    ...     1.5987  2.0886  1.371  0.76639  0.050949   \n",
       "3  0.038864  0.070713    ...     2.0909  4.4104  1.371  0.51069  0.035452   \n",
       "4  0.017201  0.068173    ...     2.0293  4.1421  1.371  0.50332  0.045742   \n",
       "\n",
       "       1210      1211      1212      1213      1214  \n",
       "0  0.040205  0.036391  0.082633  0.057698  0.142730  \n",
       "1  0.055954  0.064699  0.077030  0.105940  0.130800  \n",
       "2  0.099145  0.054502  0.070348  0.107280  0.145240  \n",
       "3  0.046974  0.043586  0.073470  0.071604  0.098844  \n",
       "4  0.077608  0.067755  0.079449  0.131450  0.085266  \n",
       "\n",
       "[5 rows x 1215 columns]"
      ]
     },
     "execution_count": 8,
     "metadata": {},
     "output_type": "execute_result"
    }
   ],
   "source": [
    "#Subjtype: 0 = Amputee, 1 = Healthy , 2 = Healthy outdoor\n",
    "Healthy.head(5)"
   ]
  },
  {
   "cell_type": "code",
   "execution_count": 9,
   "metadata": {
    "collapsed": false,
    "scrolled": true
   },
   "outputs": [
    {
     "name": "stdout",
     "output_type": "stream",
     "text": [
      "6652\n",
      "2180\n"
     ]
    }
   ],
   "source": [
    "print(len(Healthy))\n",
    "print(len(Amp))"
   ]
  },
  {
   "cell_type": "code",
   "execution_count": 10,
   "metadata": {
    "collapsed": false
   },
   "outputs": [
    {
     "name": "stdout",
     "output_type": "stream",
     "text": [
      "N subjects Healthy: 10\n",
      "N subjects Amp: 7\n",
      "[1 2]\n",
      "[0]\n"
     ]
    }
   ],
   "source": [
    "print(('N subjects Healthy: %s'%(len(Healthy.SubjID.unique()))))\n",
    "print(('N subjects Amp: %s'%(len(Amp.SubjID.unique()))))\n",
    "print(Healthy.Subjtype.unique())\n",
    "print(Amp.Subjtype.unique())"
   ]
  },
  {
   "cell_type": "code",
   "execution_count": 11,
   "metadata": {
    "collapsed": false
   },
   "outputs": [
    {
     "name": "stdout",
     "output_type": "stream",
     "text": [
      "Nfalls = 6337\n",
      "Nactivities = 315\n"
     ]
    }
   ],
   "source": [
    "#Healthy\n",
    "print(('Nfalls = %s')%(len(Healthy[Healthy.Falltype<9])))\n",
    "print(('Nactivities = %s')%(len(Healthy[Healthy.Falltype==9])))"
   ]
  },
  {
   "cell_type": "code",
   "execution_count": 12,
   "metadata": {
    "collapsed": false
   },
   "outputs": [
    {
     "name": "stdout",
     "output_type": "stream",
     "text": [
      "Nfalls = 1873\n",
      "Nactivities = 307\n"
     ]
    }
   ],
   "source": [
    "#Amp\n",
    "print(('Nfalls = %s')%(len(Amp[Amp.Falltype<9])))\n",
    "print(('Nactivities = %s')%(len(Amp[Amp.Falltype==9])))"
   ]
  },
  {
   "cell_type": "code",
   "execution_count": 13,
   "metadata": {
    "collapsed": false
   },
   "outputs": [
    {
     "data": {
      "text/html": [
       "<div>\n",
       "<table border=\"1\" class=\"dataframe\">\n",
       "  <thead>\n",
       "    <tr style=\"text-align: right;\">\n",
       "      <th></th>\n",
       "      <th>SubjID</th>\n",
       "      <th>Loc</th>\n",
       "      <th>Subjtype</th>\n",
       "      <th>Falltype</th>\n",
       "    </tr>\n",
       "  </thead>\n",
       "  <tbody>\n",
       "    <tr>\n",
       "      <th>1</th>\n",
       "      <td>1</td>\n",
       "      <td>1</td>\n",
       "      <td>1</td>\n",
       "      <td>3</td>\n",
       "    </tr>\n",
       "    <tr>\n",
       "      <th>2</th>\n",
       "      <td>1</td>\n",
       "      <td>1</td>\n",
       "      <td>1</td>\n",
       "      <td>3</td>\n",
       "    </tr>\n",
       "    <tr>\n",
       "      <th>3</th>\n",
       "      <td>1</td>\n",
       "      <td>1</td>\n",
       "      <td>1</td>\n",
       "      <td>4</td>\n",
       "    </tr>\n",
       "    <tr>\n",
       "      <th>4</th>\n",
       "      <td>1</td>\n",
       "      <td>1</td>\n",
       "      <td>1</td>\n",
       "      <td>4</td>\n",
       "    </tr>\n",
       "  </tbody>\n",
       "</table>\n",
       "</div>"
      ],
      "text/plain": [
       "   SubjID  Loc  Subjtype  Falltype\n",
       "1       1    1         1         3\n",
       "2       1    1         1         3\n",
       "3       1    1         1         4\n",
       "4       1    1         1         4"
      ]
     },
     "execution_count": 13,
     "metadata": {},
     "output_type": "execute_result"
    }
   ],
   "source": [
    "#selecting cols by index\n",
    "Healthy.iloc[1:5, 0:4]"
   ]
  },
  {
   "cell_type": "markdown",
   "metadata": {},
   "source": [
    "# Train on healthy and test on amputees"
   ]
  },
  {
   "cell_type": "code",
   "execution_count": 14,
   "metadata": {
    "collapsed": true
   },
   "outputs": [],
   "source": [
    "#transform to binary class\n",
    "Xtr = Healthy.iloc[:,4:].as_matrix()\n",
    "ytr = Healthy.Falltype.as_matrix()\n",
    "Xte = Amp.iloc[:,4:].as_matrix()\n",
    "yte = Amp.Falltype.as_matrix()\n",
    "ytr[ytr < 9] = 1\n",
    "ytr[ytr == 9] = 0\n",
    "yte[yte < 9] = 1\n",
    "yte[yte == 9] = 0"
   ]
  },
  {
   "cell_type": "code",
   "execution_count": 15,
   "metadata": {
    "collapsed": false
   },
   "outputs": [
    {
     "name": "stdout",
     "output_type": "stream",
     "text": [
      "(6652, 1211)\n",
      "[0 1]\n",
      "(2180, 1211)\n",
      "[0 1]\n"
     ]
    }
   ],
   "source": [
    "print(Xtr.shape)\n",
    "print(np.unique(ytr))\n",
    "print(Xte.shape)\n",
    "print(np.unique(yte))"
   ]
  },
  {
   "cell_type": "code",
   "execution_count": 16,
   "metadata": {
    "collapsed": false
   },
   "outputs": [
    {
     "data": {
      "text/plain": [
       "RandomForestClassifier(bootstrap=True, class_weight=None, criterion='gini',\n",
       "            max_depth=None, max_features='auto', max_leaf_nodes=None,\n",
       "            min_impurity_split=1e-07, min_samples_leaf=1,\n",
       "            min_samples_split=2, min_weight_fraction_leaf=0.0,\n",
       "            n_estimators=50, n_jobs=1, oob_score=False, random_state=10,\n",
       "            verbose=0, warm_start=False)"
      ]
     },
     "execution_count": 16,
     "metadata": {},
     "output_type": "execute_result"
    }
   ],
   "source": [
    "forest = RandomForestClassifier(n_estimators=50,random_state=10)\n",
    "forest.fit(Xtr,ytr)"
   ]
  },
  {
   "cell_type": "code",
   "execution_count": 17,
   "metadata": {
    "collapsed": false
   },
   "outputs": [
    {
     "name": "stdout",
     "output_type": "stream",
     "text": [
      "[  1.85748464e-04   2.16391737e-04   8.30112513e-04 ...,   0.00000000e+00\n",
      "   7.37234140e-04   6.20178579e-05]\n",
      "[ 0.00074738  0.001124    0.00298893 ...,  0.          0.00300895\n",
      "  0.00043413]\n"
     ]
    }
   ],
   "source": [
    "importance = forest.feature_importances_\n",
    "print(importance)\n",
    "indices = np.argsort(importance)\n",
    "importance_std = np.std([tree.feature_importances_ for tree in forest.estimators_],axis=0)\n",
    "print(importance_std)"
   ]
  },
  {
   "cell_type": "code",
   "execution_count": 18,
   "metadata": {
    "collapsed": true
   },
   "outputs": [],
   "source": [
    "importance_norm = importance/np.max(importance)"
   ]
  },
  {
   "cell_type": "code",
   "execution_count": 19,
   "metadata": {
    "collapsed": false
   },
   "outputs": [
    {
     "data": {
      "text/plain": [
       "<matplotlib.figure.Figure at 0x103d551d0>"
      ]
     },
     "execution_count": 19,
     "metadata": {},
     "output_type": "execute_result"
    },
    {
     "data": {
      "image/png": "[encoded data removed]",
      "text/plain": [
       "<matplotlib.figure.Figure at 0x1047facd0>"
      ]
     },
     "metadata": {},
     "output_type": "display_data"
    },
    {
     "data": {
      "text/plain": [
       "<matplotlib.figure.Figure at 0x103d551d0>"
      ]
     },
     "metadata": {},
     "output_type": "display_data"
    }
   ],
   "source": [
    "#using Seaborn\n",
    "sns.set_context(\"notebook\")\n",
    "ax = sns.barplot(x=indices,y=importance_norm[indices])\n",
    "plt.figure(figsize=(8,6))"
   ]
  },
  {
   "cell_type": "code",
   "execution_count": 21,
   "metadata": {
    "collapsed": false
   },
   "outputs": [
    {
     "data": {
      "text/plain": [
       "<matplotlib.figure.Figure at 0x1357a8890>"
      ]
     },
     "execution_count": 21,
     "metadata": {},
     "output_type": "execute_result"
    },
    {
     "data": {
      "image/png": "[encoded data removed]",
      "text/plain": [
       "<matplotlib.figure.Figure at 0x135a8acd0>"
      ]
     },
     "metadata": {},
     "output_type": "display_data"
    },
    {
     "data": {
      "text/plain": [
       "<matplotlib.figure.Figure at 0x1357a8890>"
      ]
     },
     "metadata": {},
     "output_type": "display_data"
    }
   ],
   "source": [
    "ax = sns.boxplot(importance_norm)\n",
    "plt.figure(figsize=(8,6))"
   ]
  },
  {
   "cell_type": "code",
   "execution_count": 22,
   "metadata": {
    "collapsed": false
   },
   "outputs": [
    {
     "name": "stdout",
     "output_type": "stream",
     "text": [
      "[ 0.01155159]\n"
     ]
    }
   ],
   "source": [
    "qc = np.percentile(importance_norm,[75])\n",
    "print(1.5*qc)"
   ]
  },
  {
   "cell_type": "code",
   "execution_count": 23,
   "metadata": {
    "collapsed": false
   },
   "outputs": [
    {
     "name": "stdout",
     "output_type": "stream",
     "text": [
      "47\n",
      "[ 183  184  185  338  344  386  387  388  423  445  470  492  520  569  570\n",
      "  599  785  786  940  945  946  948  956  957  972  986  988  989  990  996\n",
      " 1018 1046 1047 1048 1070 1071 1072 1120 1121 1122 1144 1145 1146 1147 1190\n",
      " 1195 1200]\n"
     ]
    }
   ],
   "source": [
    "# indmax = np.argwhere(importance_norm >= 1.5*qc)\n",
    "indmax = np.argwhere(importance_norm >= 0.1)\n",
    "indmax = indmax.reshape(-1)\n",
    "print(len(indmax))\n",
    "print(indmax)"
   ]
  },
  {
   "cell_type": "code",
   "execution_count": 24,
   "metadata": {
    "collapsed": false
   },
   "outputs": [
    {
     "data": {
      "text/plain": [
       "RandomForestClassifier(bootstrap=True, class_weight=None, criterion='gini',\n",
       "            max_depth=None, max_features='auto', max_leaf_nodes=None,\n",
       "            min_impurity_split=1e-07, min_samples_leaf=1,\n",
       "            min_samples_split=2, min_weight_fraction_leaf=0.0,\n",
       "            n_estimators=50, n_jobs=1, oob_score=False, random_state=10,\n",
       "            verbose=0, warm_start=False)"
      ]
     },
     "execution_count": 24,
     "metadata": {},
     "output_type": "execute_result"
    }
   ],
   "source": [
    "forest = RandomForestClassifier(n_estimators=50,random_state=10,warm_start=False)\n",
    "forest.fit(Xtr[:,indmax],ytr)"
   ]
  },
  {
   "cell_type": "code",
   "execution_count": 25,
   "metadata": {
    "collapsed": false
   },
   "outputs": [],
   "source": [
    "ypred = forest.predict(Xte[:,indmax])\n",
    "yscore = forest.predict_proba(Xte[:,indmax])\n",
    "yscore = yscore[:,1]"
   ]
  },
  {
   "cell_type": "code",
   "execution_count": 26,
   "metadata": {
    "collapsed": false
   },
   "outputs": [
    {
     "name": "stdout",
     "output_type": "stream",
     "text": [
      "AUC = 0.991\n"
     ]
    }
   ],
   "source": [
    "#acc = np.sum(ypred==yte)/len(ypred)\n",
    "#print('Acc = %.3f')%acc\n",
    "fprHA, tprHA, thresholdsHA = metrics.roc_curve(yte, yscore, pos_label=1)\n",
    "roc_aucHA = auc(fprHA, tprHA)\n",
    "print('AUC = %.3f'%roc_aucHA)"
   ]
  },
  {
   "cell_type": "code",
   "execution_count": 27,
   "metadata": {
    "collapsed": false
   },
   "outputs": [
    {
     "data": {
      "image/png": "[encoded data removed]",
      "text/plain": [
       "<matplotlib.figure.Figure at 0x135743a10>"
      ]
     },
     "metadata": {},
     "output_type": "display_data"
    }
   ],
   "source": [
    "plt.figure(figsize=(8,6))\n",
    "lw = 4\n",
    "plt.plot(fprHA, tprHA, color='darkorange',\n",
    "         lw=lw, label='ROC curve (area = %0.3f)' % roc_aucHA)\n",
    "plt.plot([0, 1], [0, 1], color='navy', lw=lw, linestyle='--')\n",
    "plt.xlim([0.0, 1.0])\n",
    "plt.ylim([0.0, 1.05])\n",
    "plt.xlabel('False Positive Rate')\n",
    "plt.ylabel('True Positive Rate')\n",
    "plt.title('Healthy - Amputee ROC')\n",
    "plt.legend(loc=\"lower right\")\n",
    "sns.set_context('poster')"
   ]
  },
  {
   "cell_type": "markdown",
   "metadata": {},
   "source": [
    "### Threshold Method"
   ]
  },
  {
   "cell_type": "code",
   "execution_count": 28,
   "metadata": {
    "collapsed": false
   },
   "outputs": [],
   "source": [
    "Healthy = Healthy.rename(index=int,columns={950:'AccMax',951:'AccMin'})\n",
    "Amp = Amp.rename(index=int,columns={950:'AccMax',951:'AccMin'})\n",
    "[Sens, Spec] = ThresholdClass(Healthy,Amp)"
   ]
  },
  {
   "cell_type": "code",
   "execution_count": 29,
   "metadata": {
    "collapsed": false
   },
   "outputs": [
    {
     "name": "stdout",
     "output_type": "stream",
     "text": [
      "1.0\n",
      "0.188925081433\n"
     ]
    }
   ],
   "source": [
    "print (Sens)\n",
    "print (Spec)"
   ]
  },
  {
   "cell_type": "markdown",
   "metadata": {},
   "source": [
    "# LOSO CV on Healthy"
   ]
  },
  {
   "cell_type": "code",
   "execution_count": 100,
   "metadata": {
    "collapsed": true
   },
   "outputs": [],
   "source": [
    "Healthy = pd.read_csv('./Data/Healthy10.csv',header=None)\n",
    "Healthy = Healthy.rename(index=int, columns={0:'SubjID',1:'Loc',2:'Subjtype',3:'Falltype',950:'AccMax',951:'AccMin'})"
   ]
  },
  {
   "cell_type": "code",
   "execution_count": 101,
   "metadata": {
    "collapsed": true
   },
   "outputs": [],
   "source": [
    "from sklearn.model_selection import LeaveOneGroupOut"
   ]
  },
  {
   "cell_type": "code",
   "execution_count": 102,
   "metadata": {
    "collapsed": false
   },
   "outputs": [
    {
     "name": "stdout",
     "output_type": "stream",
     "text": [
      "[ 1  2  3  4  5  6  7  8  9 10]\n",
      "[ 1  2  4  5  6  7  8  9 10]\n"
     ]
    }
   ],
   "source": [
    "#Subjects with indoor and outdoor falls\n",
    "print(np.sort(Healthy[Healthy.Subjtype == 1].SubjID.unique()))\n",
    "print(np.sort(Healthy[Healthy.Subjtype == 2].SubjID.unique()))"
   ]
  },
  {
   "cell_type": "code",
   "execution_count": 103,
   "metadata": {
    "collapsed": false
   },
   "outputs": [
    {
     "data": {
      "text/plain": [
       "array([ 1,  2,  4,  5,  6,  7,  8,  9, 10])"
      ]
     },
     "execution_count": 103,
     "metadata": {},
     "output_type": "execute_result"
    }
   ],
   "source": [
    "#drop subject 3 \n",
    "Healthy = Healthy[Healthy.SubjID!=3]\n",
    "Healthy.SubjID.unique()"
   ]
  },
  {
   "cell_type": "code",
   "execution_count": 104,
   "metadata": {
    "collapsed": false
   },
   "outputs": [
    {
     "data": {
      "text/plain": [
       "(6236, 1215)"
      ]
     },
     "execution_count": 104,
     "metadata": {},
     "output_type": "execute_result"
    }
   ],
   "source": [
    "Healthy.shape"
   ]
  },
  {
   "cell_type": "code",
   "execution_count": 105,
   "metadata": {
    "collapsed": true
   },
   "outputs": [],
   "source": [
    "#binarize labels\n",
    "X = Healthy.iloc[:,4:].as_matrix()\n",
    "y = Healthy.Falltype.as_matrix()\n",
    "y[y < 9] = 1\n",
    "y[y == 9] = 0"
   ]
  },
  {
   "cell_type": "code",
   "execution_count": 106,
   "metadata": {
    "collapsed": false
   },
   "outputs": [
    {
     "data": {
      "text/plain": [
       "array([0, 1])"
      ]
     },
     "execution_count": 106,
     "metadata": {},
     "output_type": "execute_result"
    }
   ],
   "source": [
    "np.unique(y)"
   ]
  },
  {
   "cell_type": "code",
   "execution_count": 107,
   "metadata": {
    "collapsed": false
   },
   "outputs": [
    {
     "name": "stdout",
     "output_type": "stream",
     "text": [
      "(6236, 1211)\n",
      "(6236,)\n"
     ]
    }
   ],
   "source": [
    "print(X.shape)\n",
    "print(y.shape)"
   ]
  },
  {
   "cell_type": "code",
   "execution_count": 108,
   "metadata": {
    "collapsed": false
   },
   "outputs": [
    {
     "name": "stdout",
     "output_type": "stream",
     "text": [
      "(6236,)\n",
      "[ 1  2  4  5  6  7  8  9 10]\n"
     ]
    }
   ],
   "source": [
    "groups = Healthy.SubjID.as_matrix()\n",
    "print(groups.shape)\n",
    "print(np.unique(groups))"
   ]
  },
  {
   "cell_type": "code",
   "execution_count": 109,
   "metadata": {
    "collapsed": false
   },
   "outputs": [
    {
     "data": {
      "text/plain": [
       "9"
      ]
     },
     "execution_count": 109,
     "metadata": {},
     "output_type": "execute_result"
    }
   ],
   "source": [
    "subj = LeaveOneGroupOut()\n",
    "subj.get_n_splits(X,y,groups)"
   ]
  },
  {
   "cell_type": "code",
   "execution_count": 110,
   "metadata": {
    "collapsed": false
   },
   "outputs": [
    {
     "data": {
      "text/plain": [
       "array([ 183,  184,  185,  338,  344,  386,  387,  388,  423,  445,  470,\n",
       "        492,  520,  569,  570,  599,  785,  786,  940,  945,  946,  948,\n",
       "        956,  957,  972,  986,  988,  989,  990,  996, 1018, 1046, 1047,\n",
       "       1048, 1070, 1071, 1072, 1120, 1121, 1122, 1144, 1145, 1146, 1147,\n",
       "       1190, 1195, 1200])"
      ]
     },
     "execution_count": 110,
     "metadata": {},
     "output_type": "execute_result"
    }
   ],
   "source": [
    "indmax #602 gyro features + 602 accelerometer"
   ]
  },
  {
   "cell_type": "code",
   "execution_count": 111,
   "metadata": {
    "collapsed": false
   },
   "outputs": [
    {
     "name": "stdout",
     "output_type": "stream",
     "text": [
      "((5540, 47), (696, 47), (5540,))\n",
      "((5549, 47), (687, 47), (5549,))\n",
      "((5680, 47), (556, 47), (5680,))\n",
      "((5504, 47), (732, 47), (5504,))\n",
      "((5502, 47), (734, 47), (5502,))\n",
      "((5529, 47), (707, 47), (5529,))\n",
      "((5614, 47), (622, 47), (5614,))\n",
      "((5460, 47), (776, 47), (5460,))\n",
      "((5510, 47), (726, 47), (5510,))\n"
     ]
    }
   ],
   "source": [
    "#sanity check\n",
    "for train_index, test_index in subj.split(X, y, groups):\n",
    "    Xtr,Xte = X[train_index],X[test_index]\n",
    "    ytr = y[train_index]\n",
    "    Xtr,Xte = Xtr[:,indmax],Xte[:,indmax]\n",
    "    print(Xtr.shape,Xte.shape,ytr.shape)"
   ]
  },
  {
   "cell_type": "code",
   "execution_count": 112,
   "metadata": {
    "collapsed": false
   },
   "outputs": [
    {
     "name": "stdout",
     "output_type": "stream",
     "text": [
      "(6236, 1215)\n",
      "(6236, 1211)\n"
     ]
    }
   ],
   "source": [
    "print(Healthy.shape)\n",
    "print(X.shape)"
   ]
  },
  {
   "cell_type": "code",
   "execution_count": 113,
   "metadata": {
    "collapsed": false
   },
   "outputs": [
    {
     "name": "stdout",
     "output_type": "stream",
     "text": [
      "AUC = 0.9993, Sens = 0.9985, Spec = 0.9583\n",
      "AUC = 0.9862, Sens = 0.9851, Spec = 0.7333\n",
      "AUC = 0.9999, Sens = 1.0000, Spec = 0.9444\n",
      "AUC = 0.9991, Sens = 1.0000, Spec = 0.8333\n",
      "AUC = 0.9989, Sens = 1.0000, Spec = 0.9429\n",
      "AUC = 1.0000, Sens = 1.0000, Spec = 1.0000\n",
      "AUC = 1.0000, Sens = 1.0000, Spec = 1.0000\n",
      "AUC = 0.9941, Sens = 0.9986, Spec = 0.8493\n",
      "AUC = 0.9995, Sens = 0.9899, Spec = 0.9722\n",
      "mean AUC = 0.997 (+/- 0.009)\n",
      "mean Sens = 0.997 (+/- 0.010)\n",
      "mean Spec = 0.915 (+/- 0.170)\n"
     ]
    },
    {
     "data": {
      "text/plain": [
       "<matplotlib.figure.Figure at 0x134eb1090>"
      ]
     },
     "metadata": {},
     "output_type": "display_data"
    }
   ],
   "source": [
    "AUC_all_HH, fpr_all_HH, tpr_all_HH, Sens_all_HH, Spec_all_HH, TTPR_all_HH, TFPR_all_HH = LOSOCV(X,y,Healthy)"
   ]
  },
  {
   "cell_type": "code",
   "execution_count": 116,
   "metadata": {
    "collapsed": false
   },
   "outputs": [],
   "source": [
    "TTPR_all_HH = np.asarray(TTPR_all_HH)\n",
    "TFPR_all_HH = np.asarray(TFPR_all_HH)\n",
    "\n",
    "tprmuHH = np.mean(TTPR_all_HH)\n",
    "tprerrHH = np.std(TTPR_all_HH)/math.sqrt(len(TTPR_all_HH))*1.96\n",
    "fprmuHH = np.mean(TFPR_all_HH)\n",
    "fprerrHH = np.std(TFPR_all_HH)/math.sqrt(len(TFPR_all_HH))*1.96"
   ]
  },
  {
   "cell_type": "code",
   "execution_count": 150,
   "metadata": {
    "collapsed": false
   },
   "outputs": [
    {
     "data": {
      "text/plain": [
       "<matplotlib.text.Text at 0x133d131d0>"
      ]
     },
     "execution_count": 150,
     "metadata": {},
     "output_type": "execute_result"
    },
    {
     "data": {
      "image/png": "[encoded data removed]",
      "text/plain": [
       "<matplotlib.figure.Figure at 0x134251410>"
      ]
     },
     "metadata": {},
     "output_type": "display_data"
    }
   ],
   "source": [
    "sns.set_context('notebook')\n",
    "AX = None\n",
    "AX = plot_roc(tpr_all_HH,fpr_all_HH,np.mean(AUC_all_HH))\n",
    "AX.errorbar(fprmuHH,tprmuHH,xerr = fprerrHH,yerr = tprerrHH, ecolor = 'r',marker='.',mec='r',mfc='r',ms=15,lw=4)\n",
    "AX.set_title('Healthy-Healthy')"
   ]
  },
  {
   "cell_type": "code",
   "execution_count": 118,
   "metadata": {
    "collapsed": true
   },
   "outputs": [],
   "source": [
    "HX = X\n",
    "Hy = y"
   ]
  },
  {
   "cell_type": "markdown",
   "metadata": {},
   "source": [
    "# LOSO CV on Amputees"
   ]
  },
  {
   "cell_type": "markdown",
   "metadata": {},
   "source": [
    "**Note: SubjID 2 does not have activities** (Nick please check)\n",
    "**Need to load each time the file because after binarizing the labels in previous steps the original table are changed. Should be fixed**"
   ]
  },
  {
   "cell_type": "code",
   "execution_count": 58,
   "metadata": {
    "collapsed": false
   },
   "outputs": [],
   "source": [
    "Amp = pd.read_csv('./Data/Amp10.csv',header=None)\n",
    "Amp = Amp.rename(index=int, columns={0:'SubjID',1:'Loc',2:'Subjtype',3:'Falltype', 950:'AccMax',951:'AccMin'})"
   ]
  },
  {
   "cell_type": "code",
   "execution_count": 59,
   "metadata": {
    "collapsed": false
   },
   "outputs": [
    {
     "data": {
      "text/plain": [
       "array([4, 3, 2, 1])"
      ]
     },
     "execution_count": 59,
     "metadata": {},
     "output_type": "execute_result"
    }
   ],
   "source": [
    "Amp[Amp.SubjID ==2].Falltype.unique()"
   ]
  },
  {
   "cell_type": "code",
   "execution_count": 60,
   "metadata": {
    "collapsed": false
   },
   "outputs": [],
   "source": [
    "Amp = Amp[Amp.SubjID != 2] #drop subj 2"
   ]
  },
  {
   "cell_type": "code",
   "execution_count": 61,
   "metadata": {
    "collapsed": false
   },
   "outputs": [
    {
     "name": "stdout",
     "output_type": "stream",
     "text": [
      "(1840,)\n",
      "[1 3 4 5 6 7]\n"
     ]
    },
    {
     "data": {
      "text/plain": [
       "6"
      ]
     },
     "execution_count": 61,
     "metadata": {},
     "output_type": "execute_result"
    }
   ],
   "source": [
    "X = Amp.iloc[:,4:].as_matrix()\n",
    "y = Amp.Falltype.as_matrix()\n",
    "y[y < 9] = 1\n",
    "y[y == 9] = 0\n",
    "groups = Amp.SubjID.as_matrix()\n",
    "print(groups.shape)\n",
    "print(np.sort(np.unique(groups)))\n",
    "subj = LeaveOneGroupOut()\n",
    "subj.get_n_splits(X,y,groups)"
   ]
  },
  {
   "cell_type": "code",
   "execution_count": 62,
   "metadata": {
    "collapsed": false
   },
   "outputs": [
    {
     "name": "stdout",
     "output_type": "stream",
     "text": [
      "(1840,)\n",
      "[1 3 4 5 6 7]\n"
     ]
    },
    {
     "data": {
      "text/plain": [
       "6"
      ]
     },
     "execution_count": 62,
     "metadata": {},
     "output_type": "execute_result"
    }
   ],
   "source": [
    "groups = Amp.SubjID.as_matrix()\n",
    "print(groups.shape)\n",
    "print(np.unique(groups))\n",
    "subj = LeaveOneGroupOut()\n",
    "subj.get_n_splits(X,y,groups)"
   ]
  },
  {
   "cell_type": "code",
   "execution_count": 63,
   "metadata": {
    "collapsed": false
   },
   "outputs": [
    {
     "name": "stdout",
     "output_type": "stream",
     "text": [
      "((1578, 47), (262, 47), (1578,))\n",
      "((1431, 47), (409, 47), (1431,))\n",
      "((1446, 47), (394, 47), (1446,))\n",
      "((1569, 47), (271, 47), (1569,))\n",
      "((1732, 47), (108, 47), (1732,))\n",
      "((1444, 47), (396, 47), (1444,))\n"
     ]
    }
   ],
   "source": [
    "#sanity check\n",
    "for train_index, test_index in subj.split(X, y, groups):\n",
    "    Xtr,Xte = X[train_index],X[test_index]\n",
    "    ytr = y[train_index]\n",
    "    Xtr,Xte = Xtr[:,indmax],Xte[:,indmax]\n",
    "    print(Xtr.shape,Xte.shape,ytr.shape)"
   ]
  },
  {
   "cell_type": "code",
   "execution_count": 64,
   "metadata": {
    "collapsed": false
   },
   "outputs": [
    {
     "name": "stdout",
     "output_type": "stream",
     "text": [
      "AUC = 0.9933, Sens = 0.9641, Spec = 0.9744\n",
      "AUC = 0.9782, Sens = 1.0000, Spec = 0.9365\n",
      "AUC = 0.9998, Sens = 1.0000, Spec = 0.9767\n",
      "AUC = 0.9884, Sens = 0.9721, Spec = 0.8750\n",
      "AUC = 0.9926, Sens = 0.8636, Spec = 1.0000\n",
      "AUC = 0.9850, Sens = 1.0000, Spec = 0.9531\n",
      "mean AUC = 0.990 (+/- 0.014)\n",
      "mean Sens = 0.967 (+/- 0.097)\n",
      "mean Spec = 0.953 (+/- 0.080)\n"
     ]
    },
    {
     "data": {
      "text/plain": [
       "<matplotlib.figure.Figure at 0x1318917d0>"
      ]
     },
     "metadata": {},
     "output_type": "display_data"
    }
   ],
   "source": [
    "AUC_all_AA, fpr_all_AA, tpr_all_AA, Sens_all_AA, Spec_all_AA, TTPR_allAA, TFPR_allAA = LOSOCV(X,y,Amp)"
   ]
  },
  {
   "cell_type": "code",
   "execution_count": 151,
   "metadata": {
    "collapsed": false,
    "scrolled": true
   },
   "outputs": [
    {
     "data": {
      "text/plain": [
       "<matplotlib.text.Text at 0x1347c8050>"
      ]
     },
     "execution_count": 151,
     "metadata": {},
     "output_type": "execute_result"
    },
    {
     "data": {
      "image/png": "[encoded data removed]",
      "text/plain": [
       "<matplotlib.figure.Figure at 0x116fc8090>"
      ]
     },
     "metadata": {},
     "output_type": "display_data"
    }
   ],
   "source": [
    "TTPR_allAA = np.asarray(TTPR_allAA)\n",
    "TFPR_allAA = np.asarray(TFPR_allAA)\n",
    "\n",
    "tprmuAA = np.mean(TTPR_allAA)\n",
    "tprerrAA = np.std(TTPR_allAA)/math.sqrt(len(TTPR_allAA))*1.96\n",
    "fprmuAA = np.mean(TFPR_allAA)\n",
    "fprerrAA = np.std(TFPR_allAA)/math.sqrt(len(TFPR_allAA))*1.96\n",
    "\n",
    "AX = plot_roc(tpr_all_AA,fpr_all_AA,np.mean(AUC_all_AA))\n",
    "AX.errorbar(fprmuAA,tprmuAA,xerr = fprerrAA,yerr = tprerrAA, ecolor = 'r',marker='.',mec='r',mfc='r',ms=15,lw=2)\n",
    "AX.set_title('Amputee-Amputee')"
   ]
  },
  {
   "cell_type": "markdown",
   "metadata": {},
   "source": [
    "# Healthy to Amputee w/ folds "
   ]
  },
  {
   "cell_type": "code",
   "execution_count": 67,
   "metadata": {
    "collapsed": false
   },
   "outputs": [
    {
     "name": "stdout",
     "output_type": "stream",
     "text": [
      "AUC = 0.9960, Sens = 1.0000, Spec = 0.9487\n",
      "AUC = 0.9641, Sens = 1.0000, Spec = 0.9048\n",
      "AUC = 0.9984, Sens = 1.0000, Spec = 0.9302\n",
      "AUC = 0.9809, Sens = 1.0000, Spec = 0.8571\n",
      "AUC = 0.9947, Sens = 0.9545, Spec = 0.9762\n",
      "AUC = 0.9850, Sens = 1.0000, Spec = 0.9219\n",
      "mean AUC = 0.987 (+/- 0.024)\n",
      "mean Sens = 0.992 (+/- 0.034)\n",
      "mean Spec = 0.923 (+/- 0.074)\n"
     ]
    },
    {
     "data": {
      "text/plain": [
       "<matplotlib.figure.Figure at 0x135a4b7d0>"
      ]
     },
     "metadata": {},
     "output_type": "display_data"
    }
   ],
   "source": [
    "AUC_all_HA, fpr_all_HA, tpr_all_HA, Sens_all_HA, Spec_all_HA, TTPR_allHA, TFPR_allHA = EvaluateBySubject(HX,Hy,Healthy,X,y,Amp)"
   ]
  },
  {
   "cell_type": "code",
   "execution_count": 152,
   "metadata": {
    "collapsed": false
   },
   "outputs": [
    {
     "data": {
      "text/plain": [
       "(0.1, 1.1)"
      ]
     },
     "execution_count": 152,
     "metadata": {},
     "output_type": "execute_result"
    },
    {
     "data": {
      "image/png": "[encoded data removed]",
      "text/plain": [
       "<matplotlib.figure.Figure at 0x134943410>"
      ]
     },
     "metadata": {},
     "output_type": "display_data"
    }
   ],
   "source": [
    "TTPR_allHA = np.asarray(TTPR_allHA)\n",
    "TFPR_allHA = np.asarray(TFPR_allHA)\n",
    "\n",
    "tprmuHA = np.mean(TTPR_allHA)\n",
    "tprerrHA = np.std(TTPR_allHA)/math.sqrt(len(TTPR_allHA))*1.96\n",
    "fprmuHA = np.mean(TFPR_allHA)\n",
    "fprerrHA = np.std(TFPR_allHA)/math.sqrt(len(TFPR_allHA))*1.96\n",
    "\n",
    "plt.figure(figsize=(8,6))\n",
    "AX = plot_roc(tpr_all_HA,fpr_all_HA,np.mean(AUC_all_HA))\n",
    "AX.errorbar(fprmuHA,tprmuHA,xerr = fprerrHA,yerr = tprerrHA, ecolor = 'r',marker='.',mec='r',mfc='r',ms=15,lw=2)\n",
    "AX.set_title('Healthy-Amputee')\n",
    "plt.ylim([0.1,1.1])"
   ]
  },
  {
   "cell_type": "code",
   "execution_count": 139,
   "metadata": {
    "collapsed": false
   },
   "outputs": [],
   "source": [
    "dataroc= [[tpr_all_HH,fpr_all_HH,AUC_all_HH,fprmuHH,tprmuHH,fprerrHH,tprerrHH],\n",
    "          [tpr_all_HA,fpr_all_HA,AUC_all_HA,fprmuHA,tprmuHA,fprerrHA,tprerrHA],\n",
    "          [tpr_all_AA,fpr_all_AA,AUC_all_AA,fprmuAA,tprmuAA,fprerrAA,tprerrAA]]"
   ]
  },
  {
   "cell_type": "code",
   "execution_count": 145,
   "metadata": {
    "collapsed": false
   },
   "outputs": [
    {
     "data": {
      "image/png": "[encoded data removed]",
      "text/plain": [
       "<matplotlib.figure.Figure at 0x1364a9bd0>"
      ]
     },
     "metadata": {},
     "output_type": "display_data"
    }
   ],
   "source": [
    "AX.errorbar(fprmuAA,tprmuAA,xerr = fprerrAA,yerr = tprerrAA, ecolor = 'r',marker='.',mec='r',mfc='r',ms=15,lw=2)\n",
    "\n",
    "\n",
    "population = ['Healthy-Healthy','Healthy-Amputee','Amputee-Amputee']\n",
    "fig = plt.figure(figsize=(8,6))\n",
    "ax1=None\n",
    "sns.set_context('talk')\n",
    "for index,value in enumerate(population):\n",
    "    ax1 = plot_roc(dataroc[index][0],dataroc[index][1],np.mean(dataroc[index][2]),plotname=value,col=current_palette[index],ax=ax1)\n",
    "    ax1.errorbar(dataroc[index][3],dataroc[index][4],xerr = dataroc[index][5],yerr = dataroc[index][6], ecolor = current_palette[index],\n",
    "                 marker='.',mec=current_palette[index],mfc=current_palette[index],ms=20,lw=3)"
   ]
  },
  {
   "cell_type": "markdown",
   "metadata": {},
   "source": [
    "# Location Analysis"
   ]
  },
  {
   "cell_type": "markdown",
   "metadata": {},
   "source": [
    "## Waist, Pocket and Hand"
   ]
  },
  {
   "cell_type": "code",
   "execution_count": 176,
   "metadata": {
    "collapsed": false
   },
   "outputs": [
    {
     "name": "stdout",
     "output_type": "stream",
     "text": [
      "AUC = 0.9974, Sens = 1.0000, Spec = 0.8718\n",
      "AUC = 0.9544, Sens = 1.0000, Spec = 0.8571\n",
      "AUC = 0.9999, Sens = 1.0000, Spec = 0.9302\n",
      "AUC = 0.9492, Sens = 1.0000, Spec = 0.8214\n",
      "AUC = 0.9808, Sens = 1.0000, Spec = 0.7857\n",
      "AUC = 0.9846, Sens = 1.0000, Spec = 0.7812\n",
      "mean AUC = 0.978 (+/- 0.039)\n",
      "mean Sens = 1.000 (+/- 0.000)\n",
      "mean Spec = 0.841 (+/- 0.104)\n",
      "AUC = 0.9923, Sens = 1.0000, Spec = 0.8205\n",
      "AUC = 0.9533, Sens = 1.0000, Spec = 0.8254\n",
      "AUC = 0.9983, Sens = 1.0000, Spec = 0.8837\n",
      "AUC = 0.9626, Sens = 1.0000, Spec = 0.7321\n",
      "AUC = 0.9996, Sens = 1.0000, Spec = 0.8095\n",
      "AUC = 0.9638, Sens = 1.0000, Spec = 0.8125\n",
      "mean AUC = 0.978 (+/- 0.038)\n",
      "mean Sens = 1.000 (+/- 0.000)\n",
      "mean Spec = 0.814 (+/- 0.089)\n",
      "AUC = 0.9773, Sens = 0.8430, Spec = 0.9487\n",
      "AUC = 0.9972, Sens = 0.9393, Spec = 0.9683\n",
      "AUC = 0.9991, Sens = 0.9544, Spec = 1.0000\n",
      "AUC = 0.9652, Sens = 0.8558, Spec = 0.9107\n",
      "AUC = 0.9564, Sens = 0.5606, Spec = 1.0000\n",
      "AUC = 0.9905, Sens = 0.9488, Spec = 0.9531\n",
      "mean AUC = 0.981 (+/- 0.032)\n",
      "mean Sens = 0.850 (+/- 0.274)\n",
      "mean Spec = 0.963 (+/- 0.062)\n"
     ]
    },
    {
     "data": {
      "text/plain": [
       "<matplotlib.figure.Figure at 0x1260286d0>"
      ]
     },
     "metadata": {},
     "output_type": "display_data"
    },
    {
     "data": {
      "image/png": "[encoded data removed]",
      "text/plain": [
       "<matplotlib.figure.Figure at 0x13cdd1950>"
      ]
     },
     "metadata": {},
     "output_type": "display_data"
    },
    {
     "data": {
      "text/plain": [
       "<matplotlib.figure.Figure at 0x13cdd1410>"
      ]
     },
     "metadata": {},
     "output_type": "display_data"
    },
    {
     "data": {
      "text/plain": [
       "<matplotlib.figure.Figure at 0x134c38190>"
      ]
     },
     "metadata": {},
     "output_type": "display_data"
    }
   ],
   "source": [
    "current_palette = sns.color_palette()\n",
    "sns.set_context('talk')\n",
    "locs = [1,2,3]\n",
    "fig = plt.figure(figsize=(12,6))\n",
    "ax1=None\n",
    "for l,name in zip(locs,['waist','pocket','hand']):\n",
    "\n",
    "    inds = Healthy.Loc==l\n",
    "    Xloc = HX[np.asarray(inds)]\n",
    "    yloc = Hy[np.asarray(inds)]\n",
    "    Hdata = Healthy[Healthy.Loc==l]\n",
    "\n",
    "    AUC_all_HA, fpr_all_HA, tpr_all_HA, Sens_all_HA, Spec_all_HA, TTPR_allHA, TFPR_allHA = EvaluateBySubject(Xloc,yloc,Healthy,X,y,Amp)\n",
    "\n",
    "    TTPR_allHA = np.asarray(TTPR_allHA)\n",
    "    TFPR_allHA = np.asarray(TFPR_allHA)\n",
    "\n",
    "    tprmu = np.mean(TTPR_allHA)\n",
    "    tprerr = np.std(TTPR_allHA)/math.sqrt(len(TTPR_allHA))*1.96\n",
    "    fprmu = np.mean(TFPR_allHA)\n",
    "    fprerr = np.std(TFPR_allHA)/math.sqrt(len(TFPR_allHA))*1.96\n",
    "    \n",
    "#     ax1 = fig.add_subplot(2,2,l) #uncomment this line to generate subplots\n",
    "    ax1 = plot_roc(tpr_all_HA,fpr_all_HA,np.mean(AUC_all_HA),ax1,plotname=name,col=current_palette[l-1])\n",
    "#     AX.errorbar(fprmu,tprmu,xerr = fprerr,yerr = tprerr, ecolor = 'r')\n"
   ]
  },
  {
   "cell_type": "markdown",
   "metadata": {},
   "source": [
    "# Home data analysis"
   ]
  },
  {
   "cell_type": "code",
   "execution_count": null,
   "metadata": {
    "collapsed": true
   },
   "outputs": [],
   "source": []
  },
  {
   "cell_type": "markdown",
   "metadata": {},
   "source": [
    "# Misc stuff to clean later"
   ]
  },
  {
   "cell_type": "code",
   "execution_count": null,
   "metadata": {
    "collapsed": false
   },
   "outputs": [],
   "source": [
    "AUC_all = []\n",
    "\n",
    "plt.figure(figsize=(8,6))\n",
    "\n",
    "for train_index, test_index in subj.split(X, y, groups):\n",
    "    \n",
    "    Xtr, Xte = X[train_index], X[test_index]\n",
    "    ytr, yte = y[train_index], y[test_index]\n",
    "    \n",
    "    #selct features\n",
    "    #Xtr, Xte = Xtr[:,indmax], Xte[:,indmax]\n",
    "    \n",
    "    forest = RandomForestClassifier(n_estimators=50,random_state=10,warm_start=False)    \n",
    "    forest.fit(Xtr,ytr)\n",
    "    ypred = forest.predict(Xte)\n",
    "    yscore = forest.predict_proba(Xte)\n",
    "    yscore = yscore[:,1]\n",
    "    acc = np.sum(ypred==yte)/len(ypred)\n",
    "    #print('Acc = %.4f')%acc\n",
    "    fpr, tpr, thresholds = metrics.roc_curve(yte, yscore, pos_label=1)\n",
    "    roc_auc = auc(fpr, tpr)\n",
    "    print('AUC = %.4f'%roc_auc)    \n",
    "    AUC_all.append(roc_auc)  \n",
    "    \n",
    "    lw = 2\n",
    "    plt.plot(fpr, tpr, color='darkorange',\n",
    "             lw=lw, label='ROC curve (area = %0.3f)' % roc_auc)\n",
    "    plt.plot([0, 1], [0, 1], color='navy', lw=lw, linestyle='--')\n",
    "\n",
    "plt.xlim([0.0, 1.0])\n",
    "plt.ylim([0.0, 1.05])\n",
    "plt.xlabel('False Positive Rate')\n",
    "plt.ylabel('True Positive Rate')\n",
    "plt.title('Amputees - Random forest')\n",
    "plt.legend(loc=\"lower right\")"
   ]
  },
  {
   "cell_type": "code",
   "execution_count": null,
   "metadata": {
    "collapsed": false
   },
   "outputs": [],
   "source": [
    "#LOSO CV\n",
    "AUC_all = []\n",
    "\n",
    "plt.figure(figsize=(8,6))\n",
    "\n",
    "for train_index, test_index in subj.split(X, y, groups):\n",
    "    \n",
    "    Xtr, Xte = X[train_index], X[test_index]\n",
    "    ytr, yte = y[train_index], y[test_index]\n",
    "    \n",
    "    #selct features\n",
    "    Xtr, Xte = Xtr[:,indmax], Xte[:,indmax]\n",
    "\n",
    "    xgb1.fit(Xtr,ytr)\n",
    "    ypred = xgb1.predict(Xte)\n",
    "    yscore = xgb1.predict_proba(Xte)\n",
    "    yscore = yscore[:,1]\n",
    "    acc = np.sum(ypred==yte)/len(ypred)\n",
    "#    print('Acc = %.4f')%acc\n",
    "    fpr, tpr, thresholds = metrics.roc_curve(yte, yscore, pos_label=1)\n",
    "    roc_auc = auc(fpr, tpr)\n",
    "    print('AUC = %.4f'%roc_auc)    \n",
    "    AUC_all.append(roc_auc)  \n",
    "    \n",
    "    lw = 2\n",
    "    plt.plot(fpr, tpr, color='darkorange',\n",
    "             lw=lw, label='ROC curve (area = %0.3f)' % roc_auc)\n",
    "    plt.plot([0, 1], [0, 1], color='navy', lw=lw, linestyle='--')\n",
    "\n",
    "plt.xlim([0.0, 1.0])\n",
    "plt.ylim([0.0, 1.05])\n",
    "plt.xlabel('False Positive Rate')\n",
    "plt.ylabel('True Positive Rate')\n",
    "plt.title('Healthy - XGboost forest')\n",
    "plt.legend(loc=\"lower right\")"
   ]
  },
  {
   "cell_type": "code",
   "execution_count": null,
   "metadata": {
    "collapsed": false
   },
   "outputs": [],
   "source": [
    "print('mean AUC = %.3f (+/- %0.3f)')%(np.mean(AUC_all),2*np.std(AUC_all))"
   ]
  },
  {
   "cell_type": "markdown",
   "metadata": {},
   "source": [
    "See here on XGBoost params\n",
    "http://xgboost.readthedocs.io/en/latest/parameter.html#general-parameters\n",
    "\n",
    "as well as here\n",
    "https://www.analyticsvidhya.com/blog/2016/03/complete-guide-parameter-tuning-xgboost-with-codes-python/"
   ]
  },
  {
   "cell_type": "code",
   "execution_count": null,
   "metadata": {
    "collapsed": false
   },
   "outputs": [],
   "source": [
    "xgb1.get_params()"
   ]
  },
  {
   "cell_type": "code",
   "execution_count": null,
   "metadata": {
    "collapsed": false
   },
   "outputs": [],
   "source": [
    "xgb1.fit(Xtr,ytr,eval_metric='auc')"
   ]
  },
  {
   "cell_type": "code",
   "execution_count": null,
   "metadata": {
    "collapsed": true
   },
   "outputs": [],
   "source": [
    "pred = xgb1.predict(Xte)"
   ]
  },
  {
   "cell_type": "code",
   "execution_count": null,
   "metadata": {
    "collapsed": true
   },
   "outputs": [],
   "source": [
    "pred_prob = xgb1.predict_proba(Xte)"
   ]
  },
  {
   "cell_type": "code",
   "execution_count": null,
   "metadata": {
    "collapsed": false
   },
   "outputs": [],
   "source": [
    "pred_prob.shape"
   ]
  },
  {
   "cell_type": "code",
   "execution_count": null,
   "metadata": {
    "collapsed": false
   },
   "outputs": [],
   "source": [
    "X = Xin.drop(['SubjID','Loc','Subjtype'],axis=1)\n",
    "X.head(3)"
   ]
  },
  {
   "cell_type": "code",
   "execution_count": null,
   "metadata": {
    "collapsed": true
   },
   "outputs": [],
   "source": [
    "xgtrain = xgb.DMatrix(X,label='Falltype')\n",
    "xgtest = xgb.DMatrix(Xte,label='Falltype')"
   ]
  },
  {
   "cell_type": "code",
   "execution_count": null,
   "metadata": {
    "collapsed": false
   },
   "outputs": [],
   "source": [
    "print xgtrain.num_col()\n",
    "print xgtrain.num_row()\n",
    "print xgtest.num_col()\n",
    "print xgtest.num_row()"
   ]
  },
  {
   "cell_type": "markdown",
   "metadata": {},
   "source": [
    "Look at the clips"
   ]
  },
  {
   "cell_type": "code",
   "execution_count": null,
   "metadata": {
    "collapsed": true
   },
   "outputs": [],
   "source": [
    "labels = sio.loadmat('./Data/accHealthy10.mat')"
   ]
  },
  {
   "cell_type": "code",
   "execution_count": null,
   "metadata": {
    "collapsed": false
   },
   "outputs": [],
   "source": [
    "acc = labels['acc']"
   ]
  },
  {
   "cell_type": "code",
   "execution_count": null,
   "metadata": {
    "collapsed": false
   },
   "outputs": [],
   "source": [
    "acc.shape"
   ]
  },
  {
   "cell_type": "code",
   "execution_count": null,
   "metadata": {
    "collapsed": false
   },
   "outputs": [],
   "source": [
    "i"
   ]
  },
  {
   "cell_type": "code",
   "execution_count": null,
   "metadata": {
    "collapsed": false
   },
   "outputs": [],
   "source": [
    "i = np.random.permutation(fpidx4)\n",
    "i = i[0]\n",
    "a = acc[i][0][:,1:]\n",
    "plt.plot(a)"
   ]
  },
  {
   "cell_type": "code",
   "execution_count": null,
   "metadata": {
    "collapsed": false
   },
   "outputs": [],
   "source": [
    "np.where(Healthy.Falltype == 0)"
   ]
  },
  {
   "cell_type": "code",
   "execution_count": null,
   "metadata": {
    "collapsed": true
   },
   "outputs": [],
   "source": [
    "acc"
   ]
  }
 ],
 "metadata": {
  "kernelspec": {
   "display_name": "Python 2",
   "language": "python",
   "name": "python2"
  },
  "language_info": {
   "codemirror_mode": {
    "name": "ipython",
    "version": 2
   },
   "file_extension": ".py",
   "mimetype": "text/x-python",
   "name": "python",
   "nbconvert_exporter": "python",
   "pygments_lexer": "ipython2",
   "version": "2.7.11"
  }
 },
 "nbformat": 4,
 "nbformat_minor": 0
}
