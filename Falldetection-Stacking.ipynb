{
 "cells": [
  {
   "cell_type": "markdown",
   "metadata": {},
   "source": [
    "# Fall detection from mobile phones data\n",
    "\n",
    "We extract a set of features from 5 second data clips and classify whether a clip corresponds to a fall or not"
   ]
  },
  {
   "cell_type": "code",
   "execution_count": 399,
   "metadata": {
    "collapsed": false
   },
   "outputs": [],
   "source": [
    "from __future__ import division\n",
    "\n",
    "import os\n",
    "import math\n",
    "import time\n",
    "import pandas as pd\n",
    "import numpy as np\n",
    "import seaborn as sns\n",
    "sns.set_style('white')\n",
    "\n",
    "import matplotlib.pyplot as plt\n",
    "%matplotlib inline\n",
    "\n",
    "import sklearn\n",
    "#XGBoost now needs path to runtime compilers\n",
    "import os\n",
    "mingw_path = 'C:\\\\Program Files\\\\mingw-w64\\\\x86_64-7.1.0-posix-seh-rt_v5-rev0\\\\mingw64\\\\bin'\n",
    "os.environ['PATH'] = mingw_path + ';' + os.environ['PATH']\n",
    "import xgboost as xgb\n",
    "from xgboost.sklearn import XGBClassifier #this is the SKlearn wrapper\n",
    "from sklearn.model_selection import LeaveOneGroupOut\n",
    "from sklearn import preprocessing\n",
    "from sklearn import neighbors, linear_model\n",
    "from sklearn.ensemble import RandomForestClassifier, AdaBoostClassifier, GradientBoostingClassifier, ExtraTreesClassifier\n",
    "from sklearn.svm import SVC\n",
    "from sklearn.neighbors import KNeighborsClassifier\n",
    "from sklearn.model_selection import KFold, StratifiedKFold, cross_val_score\n",
    "from sklearn.model_selection import GridSearchCV\n",
    "from sklearn import metrics\n",
    "from sklearn.linear_model import ElasticNetCV, LogisticRegression\n",
    "from sklearn.metrics import roc_curve, auc, roc_auc_score\n",
    "\n",
    "import scipy.io as sio\n",
    "import scipy.stats as stats"
   ]
  },
  {
   "cell_type": "markdown",
   "metadata": {},
   "source": [
    "### Helper fcns"
   ]
  },
  {
   "cell_type": "code",
   "execution_count": 400,
   "metadata": {
    "collapsed": false
   },
   "outputs": [],
   "source": [
    "from sklearn.metrics import confusion_matrix\n",
    "\n",
    "def plot_confusion_matrix(cm, title='Confusion matrix', cmap=plt.cm.Blues, norm=True):\n",
    "\n",
    "    if norm:\n",
    "        totals = cmat.sum(axis=1)\n",
    "        totals = totals.T\n",
    "        totals = np.expand_dims(totals,axis=1)\n",
    "        totals = np.tile(totals,(1,2))\n",
    "        cmat_norm = cmat/totals\n",
    "        print(cmat_norm)\n",
    "        cm = cmat_norm\n",
    "\n",
    "    plt.imshow(cm, interpolation='nearest', cmap=cmap)\n",
    "    plt.title(title)\n",
    "    plt.colorbar()\n",
    "    tick_marks = np.arange(2)\n",
    "    plt.xticks(tick_marks, ['Non-Fall','Fall'], rotation=45)\n",
    "    plt.yticks(tick_marks, ['Non-Fall','Fall'])\n",
    "    plt.tight_layout()\n",
    "    plt.ylabel('True label')\n",
    "    plt.xlabel('Predicted label')"
   ]
  },
  {
   "cell_type": "code",
   "execution_count": 401,
   "metadata": {
    "collapsed": true
   },
   "outputs": [],
   "source": [
    "#evaluate a classifier based on a fix threshold on the maximum acceleration \n",
    "def ThresholdClass(TestData):\n",
    "    \"\"\"Inputs: Dataframe containing AccMax and AccMin accelerations for test data\n",
    "    Outputs: dataframe of classification of test data as fall (True) or non-fall (False)\"\"\"\n",
    "    TPR_thr=[]; FPR_thr=[]\n",
    "    \n",
    "    thrneg = np.sort(TestData[TestData['Falltype']==0]['AccMax']) #the feature value for all negatives\n",
    "    thrneg = thrneg[::-1]\n",
    "    N = len(thrneg)\n",
    "    for fpr in np.linspace(0,1,50):\n",
    "        if fpr == 1:\n",
    "            thr = thrneg[-1]\n",
    "        else:\n",
    "            thr = thrneg[int(fpr*N)] #the threshold yielding fpr\n",
    "            \n",
    "        ThresPred = TestData.AccMax>thr\n",
    "        Sens = len(ThresPred[(ThresPred==True) & (TestData.Falltype==1)])/len(ThresPred[TestData.Falltype==1])\n",
    "        TPR_thr.append(Sens)\n",
    "        FPR_thr.append(fpr)\n",
    "    \n",
    "    return TPR_thr, FPR_thr"
   ]
  },
  {
   "cell_type": "code",
   "execution_count": 402,
   "metadata": {
    "collapsed": false
   },
   "outputs": [],
   "source": [
    "#fit base-level and meta-level classifier - groups indexes subjects in the training data\n",
    "#X_train and y_train are numpy arrays\n",
    "def fit_stacking(X_train,y_train,groups): \n",
    "    \n",
    "    base_classifiers = [];     meta_classifier = []\n",
    "    subj = LeaveOneGroupOut()\n",
    "\n",
    "    Xtrain_meta = np.zeros((len(y_train),len(models))) #stores the meta-level classifier features (posterior of each base-level classifier)\n",
    "    ytrain_meta = np.array([]) #stores the labels to train meta-classifier\n",
    "    i = 0 #counter for current classifier trained\n",
    "\n",
    "    #CV to train base level clf and obtain train features for meta-level\n",
    "    for clf,name in zip(models,model_name):\n",
    "\n",
    "        print(name)\n",
    "        yscoreCV = np.array([])  #stores the posterior prob of each base-level clf\n",
    "\n",
    "        #CV to obtain posteriors from each clf (meta-features)\n",
    "        for train, test in subj.split(X_train, y_train, groups):\n",
    "            clf.fit(X_train[train,:],y_train[train])\n",
    "            yscore = clf.predict_proba(X_train[test,:])\n",
    "            yscore = yscore[:,1]\n",
    "            yscoreCV = np.append(yscoreCV,yscore) #concatenate scores for each fold\n",
    "            if i == 0:\n",
    "                #store labels to train metaclassifier ()\n",
    "                ytrain_meta = np.append(ytrain_meta,y_train[test])\n",
    "\n",
    "        Xtrain_meta[:,i] = yscoreCV #store the posterior of current clf\n",
    "        i +=1\n",
    "\n",
    "        #Train base level classifiers on all training data    \n",
    "        clf.fit(X_train,y_train)\n",
    "        base_classifiers.append(clf)\n",
    "        \n",
    "    print('base-level classifiers trained')\n",
    "        \n",
    "    #add extra meta-features \n",
    "    metastd = np.std(Xtrain_meta,axis=1)\n",
    "    metastd = np.expand_dims(metastd,axis=0)\n",
    "    Xtrain_meta = np.concatenate((Xtrain_meta,metastd.T),axis=1)\n",
    "    \n",
    "    #train meta-level classifier on posteriors (this needs another CV to optimize parameters)\n",
    "    meta_scaler = preprocessing.StandardScaler().fit(Xtrain_meta)\n",
    "    Xtrain_meta = meta_scaler.transform(Xtrain_meta)\n",
    "    print('training meta-classifier')\n",
    "    metaclf = LogisticRegression()\n",
    "    metaclf.fit(Xtrain_meta,ytrain_meta)\n",
    "    ypred_meta = metaclf.predict_proba(Xtrain_meta)\n",
    "\n",
    "    meta_classifier.append(metaclf)\n",
    "\n",
    "    return base_classifiers, meta_classifier[0], meta_scaler"
   ]
  },
  {
   "cell_type": "code",
   "execution_count": 403,
   "metadata": {
    "collapsed": false
   },
   "outputs": [],
   "source": [
    "def predict_stacking(X_test,y_test,base_classifiers,meta_classifier,meta_scaler):\n",
    "    \n",
    "    Xtest_meta = np.zeros((len(y_test),len(base_classifiers))) #stores the base clf predictions for current subj\n",
    "    auc_base = np.empty( (len(models),1) ) #store auc for each base classifier\n",
    "    i = 0 #clf index\n",
    "\n",
    "    #1. base-classifiers predictions\n",
    "    for clf,name in zip(base_classifiers,model_name):\n",
    "        Xtest_meta[:,i] = clf.predict_proba(X_test)[:,1]\n",
    "        auc_base[i] = roc_auc_score(y_test, Xtest_meta[:,i])\n",
    "        i+=1\n",
    "    print('best base-clf %s, auc = %.3f, worst base-clf %s, minauc = %.3f' % (model_name[np.argmax(auc_base)],\n",
    "                                                                       np.max(auc_base),\n",
    "                                                                       model_name[np.argmin(auc_base)],\n",
    "                                                                       np.min(auc_base)))\n",
    "    #add extra meta features\n",
    "    metastd = np.std(Xtest_meta,axis=1)\n",
    "    metastd = np.expand_dims(metastd,axis=0)\n",
    "    Xtest_meta = np.concatenate((Xtest_meta,metastd.T),axis=1)\n",
    "\n",
    "    #2. meta-level clf predictions (final prediction)\n",
    "    Xtest_meta = meta_scaler.transform(Xtest_meta)\n",
    "    yscore_meta = meta_classifier.predict_proba(Xtest_meta)[:,1]\n",
    "    ypred_meta = meta_classifier.predict(Xtest_meta)\n",
    "    auc_meta = roc_auc_score(y_test, yscore_meta)\n",
    "    print('auc meta = %.3f\\n' % (auc_meta))\n",
    "\n",
    "    return ypred_meta, yscore_meta"
   ]
  },
  {
   "cell_type": "code",
   "execution_count": 438,
   "metadata": {
    "collapsed": false
   },
   "outputs": [],
   "source": [
    "def LOSOCV(X,y,data,groups,models,stacking=0):\n",
    "\n",
    "    TAUC_all=[]; Tfpr_all=[]; Ttpr_all=[]; TSens_all=[]; TSpec_all=[] #store results for each subject\n",
    "    AUC_all=[]; fpr_all=[]; tpr_all=[]; Sens_all=[]; Spec_all=[]\n",
    "    \n",
    "    subj = LeaveOneGroupOut()\n",
    "    groups = data.SubjID.as_matrix() #all subjects indices\n",
    "    \n",
    "    #LOSO CV\n",
    "    for train_index, test_index in subj.split(X, y, groups):\n",
    "        Dtr = data.iloc[train_index]\n",
    "        Dte = data.iloc[test_index] #the left out subject to test the classifier on\n",
    "        \n",
    "        #threshold method - tpr, fpr, auc\n",
    "        tprT, fprT = ThresholdClass(Dte)\n",
    "        tprT = np.asarray(tprT); fprT = np.asarray(fprT)\n",
    "        roc_aucT = auc(fprT,tprT)\n",
    "        \n",
    "        #ML classifier\n",
    "        if stacking == 0:\n",
    "            Xtr, Xte = X[train_index], X[test_index]\n",
    "            ytr, yte = y[train_index], y[test_index]\n",
    "            models.fit(Xtr,ytr)\n",
    "            ypred = models.predict(Xte)\n",
    "            yscore = models.predict_proba(Xte)\n",
    "            yscore = yscore[:,1]\n",
    "            \n",
    "        else: #stacking - need a second round of CV on the train data set\n",
    "            groups2 = Dtr.SubjID.as_matrix()\n",
    "            Xtr = Dtr.iloc[:,4:].as_matrix(); ytr = Dtr.Falltype\n",
    "            Xte = Dte.iloc[:,4:].as_matrix(); yte = Dte.Falltype\n",
    "            Xtr = np.asarray(Xtr); ytr = np.asarray(ytr) #it took me 4hours to figure this line was needed!\n",
    "            Xte = np.asarray(Xte); yte = np.asarray(yte) #it took me 4hours to figure this line was needed!\n",
    "            base_classifiers, meta_classifier, meta_scaler = fit_stacking(Xtr,ytr,groups2) #train base and meta clf\n",
    "            ypred, yscore = predict_stacking(Xte,yte,base_classifiers,meta_classifier,meta_scaler)\n",
    "                \n",
    "        #compute ROC at fixed fpr (to plot error bars)\n",
    "        fpr=np.linspace(0,1,101); tpr=[]\n",
    "        nscores = np.sort(np.column_stack((yscore[yte==0],yte[yte==0])),axis=0)\n",
    "        neg_counts = sum(yte==0)\n",
    "        for f in fpr:\n",
    "            ind = neg_counts-int(neg_counts*f)-1\n",
    "            t = (nscores[ind])[0]\n",
    "            if f==1:\n",
    "                t = 0\n",
    "            tpr_t = sum(yscore[yte==1]>t) / sum(yte==1)\n",
    "            tpr.append(tpr_t) \n",
    "\n",
    "        fpr = np.asarray(fpr); tpr = np.asarray(tpr)\n",
    "        roc_auc = auc(fpr, tpr)\n",
    "        \n",
    "        #compute Sens and Spec\n",
    "        #threshold\n",
    "        ind = np.argmax(tprT-fprT)\n",
    "        SensT = tprT[ind]\n",
    "        SpecT = 1-fprT[ind]\n",
    "        \n",
    "        TAUC_all.append(roc_aucT)\n",
    "        Ttpr_all.append(tprT); Tfpr_all=fprT;\n",
    "        TSens_all.append(SensT); TSpec_all.append(SpecT)\n",
    "        \n",
    "        #ML classifier\n",
    "        ind = np.argmax(tpr-fpr)\n",
    "        Sens = tpr[ind]\n",
    "        Spec = 1-fpr[ind]\n",
    "        \n",
    "        AUC_all.append(roc_auc)\n",
    "        tpr_all.append(tpr); fpr_all=fpr;\n",
    "        Sens_all.append(Sens); Spec_all.append(Spec)\n",
    "        \n",
    "        print('AUC_T = %.4f, Sens_T = %.4f, Spec_T = %.4f'%(roc_aucT,SensT,SpecT)) #threshold\n",
    "        print('AUC = %.4f, Sens = %.4f, Spec = %.4f\\n'%(roc_auc,Sens,Spec)) #random forest\n",
    "        \n",
    "\n",
    "    #summary results\n",
    "    print(('mean AUC_T = %.3f (+/- %0.3f)')%(np.mean(TAUC_all),2*np.std(TAUC_all)/math.sqrt(len(TAUC_all))))\n",
    "    print(('mean Sens_T = %.3f (+/- %0.3f)')%(np.mean(TSens_all),2*np.std(TSens_all)/math.sqrt(len(TSens_all))))\n",
    "    print(('mean Spec_T = %.3f (+/- %0.3f)')%(np.mean(TSpec_all),2*np.std(TSpec_all)/math.sqrt(len(TSpec_all))))\n",
    "    print(('mean AUC = %.3f (+/- %0.3f)')%(np.mean(AUC_all),2*np.std(AUC_all)/math.sqrt(len(AUC_all))))\n",
    "    print(('mean Sens = %.3f (+/- %0.3f)')%(np.mean(Sens_all),2*np.std(Sens_all)/math.sqrt(len(Sens_all))))\n",
    "    print(('mean Spec = %.3f (+/- %0.3f)')%(np.mean(Spec_all),2*np.std(Spec_all)/math.sqrt(len(Spec_all))))\n",
    "\n",
    "    \n",
    "    results_T = {'AUC':TAUC_all, 'TPR':Ttpr_all, 'FPR':Tfpr_all, 'Sens':TSens_all, 'Spec':TSpec_all}\n",
    "    results = {'AUC':AUC_all, 'TPR':tpr_all, 'FPR':fpr_all, 'Sens':Sens_all, 'Spec':Spec_all}\n",
    "    return results_T, results"
   ]
  },
  {
   "cell_type": "code",
   "execution_count": 439,
   "metadata": {
    "collapsed": false
   },
   "outputs": [],
   "source": [
    "#Train on one group (e.g. healthy) and test on the other (e.g amputee)\n",
    "#Xtr,ytr,X,y are numpy arrays (this is redundant and will be changed later)\n",
    "#data2 is the dataframe of the test group\n",
    "#clf is the classifier (or the base models for stacking) to train\n",
    "\n",
    "def EvaluateBySubject(Xtr,ytr,groups1,X,y,groups2,data2,clf,stacking=0):\n",
    "\n",
    "    TAUC_all=[]; Tfpr_all=[]; Ttpr_all=[]; TSens_all=[]; TSpec_all=[] #store results for each subject\n",
    "    AUC_all=[]; fpr_all=[]; tpr_all=[]; Sens_all=[]; Spec_all=[]\n",
    "    TOpt_all = []; T90_all = []\n",
    "\n",
    "    #Train on the population in Xtr\n",
    "    if not stacking:\n",
    "        clf.fit(Xtr,ytr)\n",
    "    else: \n",
    "        base_classifiers, meta_classifier, meta_scaler = fit_stacking(np.asarray(Xtr),np.asarray(ytr),groups1)\n",
    "        \n",
    "        \n",
    "    #test on the other population by subject\n",
    "    subj = LeaveOneGroupOut()\n",
    "    for train_index, test_index in subj.split(X, y, groups2):\n",
    "        \n",
    "        #threshold classifier\n",
    "        Dte = data2.iloc[test_index]\n",
    "        tprT, fprT = ThresholdClass(Dte)\n",
    "        tprT = np.asarray(tprT); fprT = np.asarray(fprT)\n",
    "        roc_aucT = auc(fprT,tprT)\n",
    "        \n",
    "        Xte = X[test_index]\n",
    "        yte = y[test_index]\n",
    "\n",
    "        #predict\n",
    "        if not stacking:\n",
    "            ypred = clf.predict(Xte)\n",
    "            yscore = clf.predict_proba(Xte)\n",
    "            yscore = yscore[:,1]\n",
    "        else:\n",
    "            ypred, yscore = predict_stacking(Xte,yte,base_classifiers,meta_classifier,meta_scaler)\n",
    "            \n",
    "\n",
    "        #compute ROC at fixed fpr (to plot error bars)\n",
    "        fpr=np.linspace(0,1,101); tpr=[]\n",
    "        nscores = np.sort(np.column_stack((yscore[yte==0],yte[yte==0])),axis=0)\n",
    "        neg_counts = sum(yte==0)\n",
    "        t_all = [] #for obtaining thresholds\n",
    "        for f in fpr:\n",
    "            ind = neg_counts-int(neg_counts*f)-1\n",
    "            t = (nscores[ind])[0]\n",
    "            if f==1:\n",
    "                t = 0\n",
    "            t_all.append(t)\n",
    "            tpr_t = sum(yscore[yte==1]>t) / sum(yte==1)\n",
    "            tpr.append(tpr_t) \n",
    "\n",
    "        fpr = np.asarray(fpr); tpr = np.asarray(tpr)\n",
    "        roc_auc = auc(fpr, tpr)\n",
    "        \n",
    "        #compute Sens and Spec:\n",
    "        #threshold\n",
    "        ind = np.argmax(tprT-fprT)\n",
    "        SensT = tprT[ind]\n",
    "        SpecT = 1-fprT[ind]\n",
    "        \n",
    "        TAUC_all.append(roc_aucT)\n",
    "        Ttpr_all.append(tprT); Tfpr_all=fprT;\n",
    "        TSens_all.append(SensT); TSpec_all.append(SpecT)\n",
    "        \n",
    "        #ML classifier\n",
    "        ind = np.argmax(tpr-fpr,axis=0)\n",
    "        Sens = tpr[ind]\n",
    "        Spec = 1-fpr[ind]\n",
    "        \n",
    "        ## Thresholds\n",
    "        TOpt_all.append(t_all[ind])\n",
    "        T90_all.append(t_all[np.argmin(abs(tpr-.90))])\n",
    "        \n",
    "        AUC_all.append(roc_auc)\n",
    "        tpr_all.append(tpr); fpr_all=fpr;\n",
    "        Sens_all.append(Sens); Spec_all.append(Spec)\n",
    "        \n",
    "        print('AUC_T = %.4f, Sens_T = %.4f, Spec_T = %.4f'%(roc_aucT,SensT,SpecT)) #threshold\n",
    "        print('AUC = %.4f, Sens = %.4f, Spec = %.4f\\n'%(roc_auc,Sens,Spec)) #ML classifier\n",
    "        \n",
    "\n",
    "#     TOpt = np.mean(TOpt_all)\n",
    "#     T90 = np.mean(T90_all)\n",
    "        \n",
    "    #summary results\n",
    "    print(('mean AUC_T = %.3f (+/- %0.3f)')%(np.mean(TAUC_all),2*np.std(TAUC_all)/math.sqrt(len(TAUC_all))))\n",
    "    print(('mean Sens_T = %.3f (+/- %0.3f)')%(np.mean(TSens_all),2*np.std(TSens_all)/math.sqrt(len(TSens_all))))\n",
    "    print(('mean Spec_T = %.3f (+/- %0.3f)')%(np.mean(TSpec_all),2*np.std(TSpec_all)/math.sqrt(len(TSpec_all))))\n",
    "    print(('mean AUC = %.3f (+/- %0.3f)')%(np.mean(AUC_all),2*np.std(AUC_all)/math.sqrt(len(AUC_all))))\n",
    "    print(('mean Sens = %.3f (+/- %0.3f)')%(np.mean(Sens_all),2*np.std(Sens_all)/math.sqrt(len(Sens_all))))\n",
    "    print(('mean Spec = %.3f (+/- %0.3f)')%(np.mean(Spec_all),2*np.std(Spec_all)/math.sqrt(len(Spec_all))))\n",
    "\n",
    "    results_T = {'AUC':TAUC_all, 'TPR':Ttpr_all, 'FPR':Tfpr_all, 'Sens':TSens_all, 'Spec':TSpec_all}\n",
    "    results = {'AUC':AUC_all, 'TPR':tpr_all, 'FPR':fpr_all, 'Sens':Sens_all, 'Spec':Spec_all, 'TOpt':TOpt_all,\n",
    "               'T90':T90_all}\n",
    "    return results_T, results"
   ]
  },
  {
   "cell_type": "code",
   "execution_count": 406,
   "metadata": {
    "collapsed": true
   },
   "outputs": [],
   "source": [
    "def HomeDataEval(Dtr,D,Threshold):\n",
    "\n",
    "    AUC_all=[]; fpr_all=[]; tpr_all=[]; Sens_all=[]; Spec_all=[]; t_all=[]\n",
    "    TTPR_all, TSpec_all = [], []\n",
    "    FPCount_all, TFPCount_all = [], []\n",
    "    thr = np.linspace(0,1,21)\n",
    "    thr = thr[::-1]\n",
    "\n",
    "    #train and test data as numpy arrays\n",
    "    Xtr = Dtr.iloc[:,4:].as_matrix()\n",
    "    ytr = Dtr.Falltype.as_matrix()\n",
    "    X = D.iloc[:,4:].as_matrix()\n",
    "    y = D.Falltype.as_matrix()\n",
    "\n",
    "    #select train features and train on the population in Xtr\n",
    "    Xtr = Xtr[:,indmax]\n",
    "    forest = RandomForestClassifier(n_estimators=50,random_state=10,warm_start=False,class_weight=None)    \n",
    "    forest.fit(Xtr,ytr)\n",
    "    \n",
    "    #split by subject for testing on X,y\n",
    "    groups = D.SubjID.as_matrix()\n",
    "    subj = LeaveOneGroupOut()\n",
    "    subj.get_n_splits(X,y,groups)\n",
    "    \n",
    "    for train_index, test_index in subj.split(X, y, groups):\n",
    "        \n",
    "        Dte = D.iloc[test_index]\n",
    "            \n",
    "        _, SpecT = ThresholdClass(Dte)\n",
    "        TSpec_all.append(SpecT)\n",
    "        \n",
    "        Xte = X[test_index]\n",
    "        yte = y[test_index]\n",
    "        \n",
    "        #selct test features\n",
    "        Xte = Xte[:,indmax]\n",
    "\n",
    "        ypred = forest.predict(Xte)\n",
    "        yscore = forest.predict_proba(Xte)\n",
    "        yscore = yscore[:,1]\n",
    "        \n",
    "        #compute Sens and Spec\n",
    "        Sens = sum((yscore>Threshold) & (yte==1)) / sum(yte==1); Spec = 1-sum((yscore>Threshold) & (yte==0)) / sum(yte==0)\n",
    "        \n",
    "        Spec_all.append(Spec)\n",
    "\n",
    "    return Spec_all, TSpec_all"
   ]
  },
  {
   "cell_type": "code",
   "execution_count": 407,
   "metadata": {
    "collapsed": false
   },
   "outputs": [],
   "source": [
    "current_palette = sns.color_palette()\n",
    "\n",
    "def plot_roc(tpr_all,fpr,roc_auc,ax=None,plotname=None,col=None):\n",
    "    #plot mean ROC across subjects (need to add shaded conf interval)\n",
    "    tprmu = np.mean(np.asarray(tpr_all),axis=0)\n",
    "    tpr=np.asarray(tpr_all)\n",
    "    fpr=np.reshape(fpr,(1,-1))\n",
    "    tprmu=np.reshape(tprmu,(1,-1))\n",
    "    label=pd.Series(data = ['%s - AUC = %0.3f' % (plotname,roc_auc)]*len(fpr))\n",
    "    if plotname=='Threshold':\n",
    "        ls = '-'\n",
    "    else:\n",
    "        ls='-'\n",
    "    if ax == None:\n",
    "        ax = sns.tsplot(data=tpr,time=fpr,ci=95,condition=label,legend=True,color=col,lw=3,linestyle=ls)\n",
    "    else:\n",
    "        sns.tsplot(data=tpr,time=fpr,ci=95,condition=label, legend=True,ax=ax,color=col,lw=3,linestyle=ls)\n",
    "             \n",
    "    lw = 3\n",
    "    ax.plot([0, 1], [0, 1], color='navy', lw=lw, linestyle='--')\n",
    "    ax.set_xlim([-0.05, 1.0])\n",
    "    ax.set_ylim([0.0, 1.05])\n",
    "    ax.set_xlabel('False Positive Rate')\n",
    "    ax.set_ylabel('True Positive Rate')\n",
    "    ax.legend(loc='lower right')\n",
    "    \n",
    "    return ax"
   ]
  },
  {
   "cell_type": "markdown",
   "metadata": {},
   "source": [
    "# Load the data \n",
    "We remove activities whose maximum acceleration is below 2g. This makes the problem more challenging, as only activities which involve high acceleration movements, which can be confounded with falls, are included."
   ]
  },
  {
   "cell_type": "code",
   "execution_count": 440,
   "metadata": {
    "collapsed": false
   },
   "outputs": [],
   "source": [
    "#Load and normalize data from healthy and amputees\n",
    "Healthy = pd.read_csv('./Data/Healthy10.csv',header=None)\n",
    "Healthy = Healthy.rename(index=int, columns={0:'SubjID',1:'Loc',2:'Subjtype',3:'Falltype',950:'AccMax',951:'AccMin'})\n",
    "Healthy.loc[Healthy['AccMax']>2500,'AccMax'] = 2500 #saturate max acceleration to 5g (in m/s^2)^2\n",
    "\n",
    "#binarize labels - WARNING! It modifies the labels y in the original dataframe (passed by reference)\n",
    "XH = Healthy.iloc[:,4:].as_matrix()\n",
    "yH = Healthy.Falltype.as_matrix()\n",
    "yH[yH < 9] = 1\n",
    "yH[yH == 9] = 0\n",
    "groupsH = Healthy.SubjID.as_matrix() #for CV\n",
    "\n",
    "Amp = pd.read_csv('./Data/Amp10.csv',header=None)\n",
    "Amp = Amp.rename(index=int, columns={0:'SubjID',1:'Loc',2:'Subjtype',3:'Falltype', 950:'AccMax',951:'AccMin'})\n",
    "Amp = Amp[Amp.SubjID != 2] #drop subj 2 (no activities)\n",
    "Amp.loc[Amp['AccMax']>2500,'AccMax'] = 2500 #saturate max acceleration to 5g (in m/s^2)^2\n",
    "\n",
    "#binarize labels\n",
    "XA = Amp.iloc[:,4:].as_matrix()\n",
    "yA = Amp.Falltype.as_matrix()\n",
    "yA[yA < 9] = 1\n",
    "yA[yA == 9] = 0\n",
    "groupsA = Amp.SubjID.as_matrix()\n",
    "\n",
    "#standardize data\n",
    "# scaler = preprocessing.StandardScaler().fit(XH) #define scaler\n",
    "# XH = scaler.transform(XH)\n",
    "# XA = scaler.transform(XA)\n",
    "\n",
    "#Tot Features - #602 gyro features + 602 accelerometer\n",
    "#use magnitude features only and standardize values in the data frame\n",
    "indmax = np.linspace(336,355,20)\n",
    "indmax = np.hstack([indmax,np.linspace(336,355,20)+602])\n",
    "indmax = indmax.astype(int)\n",
    "XH = XH[:,indmax]; XA = XA[:,indmax]\n",
    "#standardize data\n",
    "scaler = preprocessing.StandardScaler().fit(XH) #define scaler on Healthy data\n",
    "XH = scaler.transform(XH)\n",
    "XA = scaler.transform(XA)\n",
    "Healthy = pd.concat([Healthy.iloc[:,0:4],Healthy.iloc[:,indmax+4]],axis=1)\n",
    "Amp = pd.concat([Amp.iloc[:,0:4],Amp.iloc[:,indmax+4]],axis=1)\n",
    "#Standardize values in dataframes\n",
    "Healthy.iloc[:,4:] = XH \n",
    "Amp.iloc[:,4:] = XA"
   ]
  },
  {
   "cell_type": "markdown",
   "metadata": {},
   "source": [
    "Need to name feature cols (see paper for details)"
   ]
  },
  {
   "cell_type": "code",
   "execution_count": 409,
   "metadata": {
    "collapsed": false,
    "scrolled": true
   },
   "outputs": [
    {
     "data": {
      "text/html": [
       "<div>\n",
       "<table border=\"1\" class=\"dataframe\">\n",
       "  <thead>\n",
       "    <tr style=\"text-align: right;\">\n",
       "      <th></th>\n",
       "      <th>SubjID</th>\n",
       "      <th>Loc</th>\n",
       "      <th>Subjtype</th>\n",
       "      <th>Falltype</th>\n",
       "      <th>340</th>\n",
       "      <th>341</th>\n",
       "      <th>342</th>\n",
       "      <th>343</th>\n",
       "      <th>344</th>\n",
       "      <th>345</th>\n",
       "      <th>...</th>\n",
       "      <th>952</th>\n",
       "      <th>953</th>\n",
       "      <th>954</th>\n",
       "      <th>955</th>\n",
       "      <th>956</th>\n",
       "      <th>957</th>\n",
       "      <th>958</th>\n",
       "      <th>959</th>\n",
       "      <th>960</th>\n",
       "      <th>961</th>\n",
       "    </tr>\n",
       "  </thead>\n",
       "  <tbody>\n",
       "    <tr>\n",
       "      <th>0</th>\n",
       "      <td>1</td>\n",
       "      <td>1</td>\n",
       "      <td>1</td>\n",
       "      <td>1</td>\n",
       "      <td>-0.642517</td>\n",
       "      <td>-0.567638</td>\n",
       "      <td>-0.434362</td>\n",
       "      <td>0.178106</td>\n",
       "      <td>-0.133796</td>\n",
       "      <td>-0.028496</td>\n",
       "      <td>...</td>\n",
       "      <td>-0.045042</td>\n",
       "      <td>0.076516</td>\n",
       "      <td>0.143173</td>\n",
       "      <td>-1.413770</td>\n",
       "      <td>-1.014424</td>\n",
       "      <td>-0.947475</td>\n",
       "      <td>-1.018511</td>\n",
       "      <td>-0.235111</td>\n",
       "      <td>0.343408</td>\n",
       "      <td>0.468849</td>\n",
       "    </tr>\n",
       "    <tr>\n",
       "      <th>1</th>\n",
       "      <td>1</td>\n",
       "      <td>1</td>\n",
       "      <td>1</td>\n",
       "      <td>1</td>\n",
       "      <td>-0.575281</td>\n",
       "      <td>-0.597779</td>\n",
       "      <td>-0.205036</td>\n",
       "      <td>0.708730</td>\n",
       "      <td>0.383599</td>\n",
       "      <td>-0.054943</td>\n",
       "      <td>...</td>\n",
       "      <td>-0.019652</td>\n",
       "      <td>0.013868</td>\n",
       "      <td>0.062215</td>\n",
       "      <td>-1.620809</td>\n",
       "      <td>-0.828200</td>\n",
       "      <td>-1.004717</td>\n",
       "      <td>-1.262990</td>\n",
       "      <td>-0.223550</td>\n",
       "      <td>0.696958</td>\n",
       "      <td>1.194595</td>\n",
       "    </tr>\n",
       "    <tr>\n",
       "      <th>2</th>\n",
       "      <td>1</td>\n",
       "      <td>1</td>\n",
       "      <td>1</td>\n",
       "      <td>1</td>\n",
       "      <td>-0.582354</td>\n",
       "      <td>-0.598346</td>\n",
       "      <td>-0.291232</td>\n",
       "      <td>1.140982</td>\n",
       "      <td>0.882159</td>\n",
       "      <td>-0.837750</td>\n",
       "      <td>...</td>\n",
       "      <td>-0.039026</td>\n",
       "      <td>0.076132</td>\n",
       "      <td>-0.432138</td>\n",
       "      <td>-1.522830</td>\n",
       "      <td>-0.865960</td>\n",
       "      <td>-1.010060</td>\n",
       "      <td>-1.246970</td>\n",
       "      <td>0.025528</td>\n",
       "      <td>0.370716</td>\n",
       "      <td>-0.495523</td>\n",
       "    </tr>\n",
       "    <tr>\n",
       "      <th>3</th>\n",
       "      <td>1</td>\n",
       "      <td>1</td>\n",
       "      <td>1</td>\n",
       "      <td>1</td>\n",
       "      <td>-0.777615</td>\n",
       "      <td>-0.599589</td>\n",
       "      <td>-0.798656</td>\n",
       "      <td>0.051861</td>\n",
       "      <td>-0.142354</td>\n",
       "      <td>-1.240404</td>\n",
       "      <td>...</td>\n",
       "      <td>-0.002936</td>\n",
       "      <td>0.036600</td>\n",
       "      <td>-0.129833</td>\n",
       "      <td>-1.468343</td>\n",
       "      <td>-1.041726</td>\n",
       "      <td>-1.017619</td>\n",
       "      <td>-1.261142</td>\n",
       "      <td>-0.625362</td>\n",
       "      <td>-0.053359</td>\n",
       "      <td>-0.281033</td>\n",
       "    </tr>\n",
       "    <tr>\n",
       "      <th>4</th>\n",
       "      <td>1</td>\n",
       "      <td>1</td>\n",
       "      <td>1</td>\n",
       "      <td>1</td>\n",
       "      <td>-0.759997</td>\n",
       "      <td>-0.579352</td>\n",
       "      <td>-0.715428</td>\n",
       "      <td>0.555447</td>\n",
       "      <td>0.248552</td>\n",
       "      <td>-1.276331</td>\n",
       "      <td>...</td>\n",
       "      <td>0.016665</td>\n",
       "      <td>0.035355</td>\n",
       "      <td>-0.057017</td>\n",
       "      <td>-1.343086</td>\n",
       "      <td>-1.260929</td>\n",
       "      <td>-0.896024</td>\n",
       "      <td>-0.968770</td>\n",
       "      <td>-0.525051</td>\n",
       "      <td>-0.288529</td>\n",
       "      <td>0.155861</td>\n",
       "    </tr>\n",
       "  </tbody>\n",
       "</table>\n",
       "<p>5 rows × 44 columns</p>\n",
       "</div>"
      ],
      "text/plain": [
       "   SubjID  Loc  Subjtype  Falltype       340       341       342       343  \\\n",
       "0       1    1         1         1 -0.642517 -0.567638 -0.434362  0.178106   \n",
       "1       1    1         1         1 -0.575281 -0.597779 -0.205036  0.708730   \n",
       "2       1    1         1         1 -0.582354 -0.598346 -0.291232  1.140982   \n",
       "3       1    1         1         1 -0.777615 -0.599589 -0.798656  0.051861   \n",
       "4       1    1         1         1 -0.759997 -0.579352 -0.715428  0.555447   \n",
       "\n",
       "        344       345    ...          952       953       954       955  \\\n",
       "0 -0.133796 -0.028496    ...    -0.045042  0.076516  0.143173 -1.413770   \n",
       "1  0.383599 -0.054943    ...    -0.019652  0.013868  0.062215 -1.620809   \n",
       "2  0.882159 -0.837750    ...    -0.039026  0.076132 -0.432138 -1.522830   \n",
       "3 -0.142354 -1.240404    ...    -0.002936  0.036600 -0.129833 -1.468343   \n",
       "4  0.248552 -1.276331    ...     0.016665  0.035355 -0.057017 -1.343086   \n",
       "\n",
       "        956       957       958       959       960       961  \n",
       "0 -1.014424 -0.947475 -1.018511 -0.235111  0.343408  0.468849  \n",
       "1 -0.828200 -1.004717 -1.262990 -0.223550  0.696958  1.194595  \n",
       "2 -0.865960 -1.010060 -1.246970  0.025528  0.370716 -0.495523  \n",
       "3 -1.041726 -1.017619 -1.261142 -0.625362 -0.053359 -0.281033  \n",
       "4 -1.260929 -0.896024 -0.968770 -0.525051 -0.288529  0.155861  \n",
       "\n",
       "[5 rows x 44 columns]"
      ]
     },
     "execution_count": 409,
     "metadata": {},
     "output_type": "execute_result"
    }
   ],
   "source": [
    "Healthy.head()"
   ]
  },
  {
   "cell_type": "code",
   "execution_count": 410,
   "metadata": {
    "collapsed": false,
    "scrolled": true
   },
   "outputs": [
    {
     "name": "stdout",
     "output_type": "stream",
     "text": [
      "6652\n",
      "1844\n"
     ]
    }
   ],
   "source": [
    "print(len(Healthy))\n",
    "print(len(Amp))"
   ]
  },
  {
   "cell_type": "code",
   "execution_count": 411,
   "metadata": {
    "collapsed": false
   },
   "outputs": [
    {
     "name": "stdout",
     "output_type": "stream",
     "text": [
      "N subjects Healthy: 10\n",
      "N subjects Amp: 6\n",
      "[1]\n",
      "[0]\n"
     ]
    }
   ],
   "source": [
    "print(('N subjects Healthy: %s'%(len(Healthy.SubjID.unique()))))\n",
    "print(('N subjects Amp: %s'%(len(Amp.SubjID.unique()))))\n",
    "print(Healthy.Subjtype.unique())\n",
    "print(Amp.Subjtype.unique())"
   ]
  },
  {
   "cell_type": "code",
   "execution_count": 412,
   "metadata": {
    "collapsed": false
   },
   "outputs": [
    {
     "name": "stdout",
     "output_type": "stream",
     "text": [
      "[ 1  2  3  4  5  6  7  8  9 10]\n",
      "[]\n"
     ]
    }
   ],
   "source": [
    "#Subjects with indoor and outdoor falls\n",
    "print(np.sort(Healthy[Healthy.Subjtype == 1].SubjID.unique()))\n",
    "print(np.sort(Healthy[Healthy.Subjtype == 2].SubjID.unique()))"
   ]
  },
  {
   "cell_type": "code",
   "execution_count": 413,
   "metadata": {
    "collapsed": false
   },
   "outputs": [
    {
     "name": "stdout",
     "output_type": "stream",
     "text": [
      "Nfalls = 6337\n",
      "Nactivities = 315\n"
     ]
    }
   ],
   "source": [
    "#Healthy\n",
    "print(('Nfalls = %s')%(len(Healthy[Healthy.Falltype==1])))\n",
    "print(('Nactivities = %s')%(len(Healthy[Healthy.Falltype==0])))"
   ]
  },
  {
   "cell_type": "code",
   "execution_count": 414,
   "metadata": {
    "collapsed": false
   },
   "outputs": [
    {
     "name": "stdout",
     "output_type": "stream",
     "text": [
      "Nfalls = 1537\n",
      "Nactivities = 307\n"
     ]
    }
   ],
   "source": [
    "#Amp\n",
    "print(('Nfalls = %s')%(len(Amp[Amp.Falltype==1])))\n",
    "print(('Nactivities = %s')%(len(Amp[Amp.Falltype==0])))"
   ]
  },
  {
   "cell_type": "code",
   "execution_count": 415,
   "metadata": {
    "collapsed": false
   },
   "outputs": [],
   "source": [
    "# sns.distplot(Healthy.loc[Healthy['Falltype']==1,'AccMax'])"
   ]
  },
  {
   "cell_type": "markdown",
   "metadata": {},
   "source": [
    "## Distribution of acceleration Magnitude in the original data set (includes clip with acc < 2g)"
   ]
  },
  {
   "cell_type": "code",
   "execution_count": 416,
   "metadata": {
    "collapsed": false
   },
   "outputs": [],
   "source": [
    "MaxAcc = pd.read_csv('./Data/AccMax.csv',header=None)\n",
    "MaxAcc = MaxAcc.rename(index=int,columns={0:'SubjType',1:'FallType',2:'AccMax'})"
   ]
  },
  {
   "cell_type": "code",
   "execution_count": 417,
   "metadata": {
    "collapsed": false
   },
   "outputs": [
    {
     "data": {
      "text/html": [
       "<div>\n",
       "<table border=\"1\" class=\"dataframe\">\n",
       "  <thead>\n",
       "    <tr style=\"text-align: right;\">\n",
       "      <th></th>\n",
       "      <th>SubjType</th>\n",
       "      <th>FallType</th>\n",
       "      <th>AccMax</th>\n",
       "    </tr>\n",
       "  </thead>\n",
       "  <tbody>\n",
       "    <tr>\n",
       "      <th>0</th>\n",
       "      <td>1</td>\n",
       "      <td>1</td>\n",
       "      <td>3.2416</td>\n",
       "    </tr>\n",
       "    <tr>\n",
       "      <th>1</th>\n",
       "      <td>1</td>\n",
       "      <td>1</td>\n",
       "      <td>3.2021</td>\n",
       "    </tr>\n",
       "    <tr>\n",
       "      <th>2</th>\n",
       "      <td>1</td>\n",
       "      <td>1</td>\n",
       "      <td>3.2232</td>\n",
       "    </tr>\n",
       "    <tr>\n",
       "      <th>3</th>\n",
       "      <td>1</td>\n",
       "      <td>1</td>\n",
       "      <td>3.1034</td>\n",
       "    </tr>\n",
       "    <tr>\n",
       "      <th>4</th>\n",
       "      <td>1</td>\n",
       "      <td>1</td>\n",
       "      <td>3.1056</td>\n",
       "    </tr>\n",
       "  </tbody>\n",
       "</table>\n",
       "</div>"
      ],
      "text/plain": [
       "   SubjType  FallType  AccMax\n",
       "0         1         1  3.2416\n",
       "1         1         1  3.2021\n",
       "2         1         1  3.2232\n",
       "3         1         1  3.1034\n",
       "4         1         1  3.1056"
      ]
     },
     "execution_count": 417,
     "metadata": {},
     "output_type": "execute_result"
    }
   ],
   "source": [
    "MaxAcc.head()"
   ]
  },
  {
   "cell_type": "code",
   "execution_count": 418,
   "metadata": {
    "collapsed": false
   },
   "outputs": [
    {
     "data": {
      "text/plain": [
       "12090"
      ]
     },
     "execution_count": 418,
     "metadata": {},
     "output_type": "execute_result"
    }
   ],
   "source": [
    "len(MaxAcc)"
   ]
  },
  {
   "cell_type": "code",
   "execution_count": 419,
   "metadata": {
    "collapsed": false
   },
   "outputs": [
    {
     "data": {
      "text/plain": [
       "array([1, 0], dtype=int64)"
      ]
     },
     "execution_count": 419,
     "metadata": {},
     "output_type": "execute_result"
    }
   ],
   "source": [
    "MaxAcc.SubjType.unique()"
   ]
  },
  {
   "cell_type": "code",
   "execution_count": 420,
   "metadata": {
    "collapsed": false
   },
   "outputs": [
    {
     "name": "stdout",
     "output_type": "stream",
     "text": [
      "[1 0]\n"
     ]
    }
   ],
   "source": [
    "# (MaxAcc['SubjType']==1)\n",
    "print(MaxAcc.FallType.unique())"
   ]
  },
  {
   "cell_type": "code",
   "execution_count": 421,
   "metadata": {
    "collapsed": false
   },
   "outputs": [],
   "source": [
    "MaxAcc.loc[MaxAcc.AccMax > 5] = 5 #saturate the max acceleration"
   ]
  },
  {
   "cell_type": "code",
   "execution_count": 428,
   "metadata": {
    "collapsed": false
   },
   "outputs": [
    {
     "name": "stderr",
     "output_type": "stream",
     "text": [
      "C:\\ProgramData\\Anaconda3\\lib\\site-packages\\statsmodels\\nonparametric\\kdetools.py:20: VisibleDeprecationWarning: using a non-integer number instead of an integer will result in an error in the future\n",
      "  y = X[:m/2+1] + np.r_[0,X[m/2+1:],0]*1j\n"
     ]
    },
    {
     "data": {
      "image/png": "[encoded data removed]",
      "text/plain": [
       "<matplotlib.figure.Figure at 0x16b2e320>"
      ]
     },
     "metadata": {},
     "output_type": "display_data"
    }
   ],
   "source": [
    "sns.set_context('talk',font_scale=1.2)\n",
    "fig = plt.figure(figsize=(16,6))\n",
    "ax1 = fig.add_subplot(121)\n",
    "sns.distplot(MaxAcc[(MaxAcc['FallType']==0) & (MaxAcc['SubjType']==0)]['AccMax'],ax=ax1,label='Non-Fall')\n",
    "sns.distplot(MaxAcc[(MaxAcc['FallType']==1) & (MaxAcc['SubjType']==0)]['AccMax'],ax=ax1,label='Fall')\n",
    "plt.legend(); \n",
    "ax1.set_title('Distribution of clips max acceleration - Healthy'); ax1.set_ylabel('Relative Density')\n",
    "ax2 = fig.add_subplot(122)\n",
    "sns.distplot(MaxAcc[(MaxAcc['FallType']==0) & (MaxAcc['SubjType']==1)]['AccMax'],ax=ax2,label='Non-Fall')\n",
    "sns.distplot(MaxAcc[(MaxAcc['FallType']==1) & (MaxAcc['SubjType']==1)]['AccMax'],ax=ax2,label='Fall')\n",
    "ax2.set_title('Distribution of clips max acceleration - Amputees'); ax1.set_ylabel('Relative Density')\n",
    "plt.legend(); "
   ]
  },
  {
   "cell_type": "markdown",
   "metadata": {},
   "source": [
    "Not surprisingly the majority of daily activities (Non-Fall) show accelerations in the range below 2g."
   ]
  },
  {
   "cell_type": "markdown",
   "metadata": {},
   "source": [
    "# Feature selection on healthy data using Random Forest - can skip if using magnitude features"
   ]
  },
  {
   "cell_type": "code",
   "execution_count": 326,
   "metadata": {
    "collapsed": false
   },
   "outputs": [
    {
     "data": {
      "text/plain": [
       "RandomForestClassifier(bootstrap=True, class_weight=None, criterion='gini',\n",
       "            max_depth=None, max_features='auto', max_leaf_nodes=None,\n",
       "            min_impurity_split=1e-07, min_samples_leaf=1,\n",
       "            min_samples_split=2, min_weight_fraction_leaf=0.0,\n",
       "            n_estimators=50, n_jobs=1, oob_score=False, random_state=10,\n",
       "            verbose=0, warm_start=False)"
      ]
     },
     "execution_count": 326,
     "metadata": {},
     "output_type": "execute_result"
    }
   ],
   "source": [
    "Xtr = Xtr\n",
    "ytr = yH\n",
    "forest = RandomForestClassifier(n_estimators=50,random_state=10)\n",
    "forest.fit(Xtr,ytr)"
   ]
  },
  {
   "cell_type": "code",
   "execution_count": 327,
   "metadata": {
    "collapsed": false
   },
   "outputs": [
    {
     "name": "stdout",
     "output_type": "stream",
     "text": [
      "[ 0.00842699  0.00970347  0.03063639  0.01796929  0.00389231  0.01021539\n",
      "  0.00316211  0.01116656  0.09281146  0.00604401  0.02082166  0.01892445\n",
      "  0.00564867  0.01030916  0.00604394  0.0094645   0.01342422  0.00501402\n",
      "  0.00299435  0.00686044  0.00481095  0.00573198  0.04682573  0.03150434\n",
      "  0.00784868  0.00653291  0.02521322  0.04030856  0.08396298  0.01026869\n",
      "  0.01649145  0.05628597  0.00254894  0.00466929  0.00508508  0.00683203\n",
      "  0.03144613  0.07955147  0.17080175  0.06974647]\n",
      "[ 0.00904798  0.01801803  0.0784154   0.0460332   0.00673355  0.02957804\n",
      "  0.00503278  0.01432807  0.12357761  0.00781417  0.04721902  0.04773512\n",
      "  0.00861164  0.01605358  0.01105458  0.01567662  0.02148245  0.00774455\n",
      "  0.00410832  0.01044391  0.01028026  0.01012088  0.06066333  0.06000121\n",
      "  0.01029504  0.01213434  0.06004547  0.08190864  0.1344753   0.0203543\n",
      "  0.03999176  0.09544524  0.00441778  0.00959774  0.01190804  0.01205213\n",
      "  0.02559398  0.11299223  0.22374549  0.13592866]\n"
     ]
    }
   ],
   "source": [
    "importance = forest.feature_importances_\n",
    "print(importance)\n",
    "indices = np.argsort(importance)\n",
    "importance_std = np.std([tree.feature_importances_ for tree in forest.estimators_],axis=0)\n",
    "print(importance_std)"
   ]
  },
  {
   "cell_type": "code",
   "execution_count": 328,
   "metadata": {
    "collapsed": false
   },
   "outputs": [],
   "source": [
    "importance_norm = importance/np.max(importance)"
   ]
  },
  {
   "cell_type": "code",
   "execution_count": 329,
   "metadata": {
    "collapsed": false
   },
   "outputs": [
    {
     "data": {
      "text/plain": [
       "<matplotlib.figure.Figure at 0xe553d68>"
      ]
     },
     "execution_count": 329,
     "metadata": {},
     "output_type": "execute_result"
    },
    {
     "data": {
      "image/png": "[encoded data removed]",
      "text/plain": [
       "<matplotlib.figure.Figure at 0xe5538d0>"
      ]
     },
     "metadata": {},
     "output_type": "display_data"
    },
    {
     "data": {
      "text/plain": [
       "<matplotlib.figure.Figure at 0xe553d68>"
      ]
     },
     "metadata": {},
     "output_type": "display_data"
    }
   ],
   "source": [
    "#using Seaborn\n",
    "sns.set_context(\"notebook\")\n",
    "ax = sns.barplot(x=indices,y=importance_norm[indices])\n",
    "plt.figure(figsize=(8,6))"
   ]
  },
  {
   "cell_type": "code",
   "execution_count": 330,
   "metadata": {
    "collapsed": false
   },
   "outputs": [
    {
     "data": {
      "text/plain": [
       "<matplotlib.figure.Figure at 0xd4b2828>"
      ]
     },
     "execution_count": 330,
     "metadata": {},
     "output_type": "execute_result"
    },
    {
     "data": {
      "image/png": "[encoded data removed]",
      "text/plain": [
       "<matplotlib.figure.Figure at 0xca379b0>"
      ]
     },
     "metadata": {},
     "output_type": "display_data"
    },
    {
     "data": {
      "text/plain": [
       "<matplotlib.figure.Figure at 0xd4b2828>"
      ]
     },
     "metadata": {},
     "output_type": "display_data"
    }
   ],
   "source": [
    "ax = sns.boxplot(importance_norm)\n",
    "plt.figure(figsize=(8,6))"
   ]
  },
  {
   "cell_type": "code",
   "execution_count": 331,
   "metadata": {
    "collapsed": false
   },
   "outputs": [
    {
     "name": "stdout",
     "output_type": "stream",
     "text": [
      "[ 0.27083004]\n"
     ]
    }
   ],
   "source": [
    "qc = np.percentile(importance_norm,[75])\n",
    "print(1.5*qc)"
   ]
  },
  {
   "cell_type": "code",
   "execution_count": 332,
   "metadata": {
    "collapsed": false
   },
   "outputs": [
    {
     "name": "stdout",
     "output_type": "stream",
     "text": [
      "15\n",
      "[ 2  3  8 10 11 22 23 26 27 28 31 36 37 38 39]\n"
     ]
    }
   ],
   "source": [
    "# indmax = np.argwhere(importance_norm >= 1.5*qc)\n",
    "indmax = np.argwhere(importance_norm >= 0.1)\n",
    "indmax = indmax.reshape(-1)\n",
    "print(len(indmax))\n",
    "print(indmax)\n",
    "\n",
    "#use features subset (optimized on random forest)\n",
    "XH = XH[:,indmax]; XA = XA[:,indmax]"
   ]
  },
  {
   "cell_type": "markdown",
   "metadata": {},
   "source": [
    "# LOSO CV on Healthy\n",
    "We perform Leave One Subject Out (LOSO) Cross validation to test the performance of our model"
   ]
  },
  {
   "cell_type": "code",
   "execution_count": 423,
   "metadata": {
    "collapsed": false
   },
   "outputs": [],
   "source": [
    "models = [RandomForestClassifier(n_estimators=100,random_state=2),\n",
    "          GradientBoostingClassifier(n_estimators=100,max_depth=2,random_state=3),\n",
    "          SVC(kernel='linear',C=1,cache_size=800,probability=True,random_state=3),\n",
    "          XGBClassifier(n_estimators=150,subsample=0.6,learning_rate=0.5,max_depth=2)\n",
    "         ]\n",
    "model_name = ['Random Forest','Gradient Boosting','SVM','XGB']"
   ]
  },
  {
   "cell_type": "code",
   "execution_count": 442,
   "metadata": {
    "collapsed": false,
    "scrolled": true
   },
   "outputs": [
    {
     "name": "stdout",
     "output_type": "stream",
     "text": [
      "Random Forest\n",
      "Gradient Boosting\n",
      "SVM\n",
      "XGB\n",
      "base-level classifiers trained\n",
      "training meta-classifier\n",
      "best base-clf SVM, auc = 1.000, worst base-clf XGB, minauc = 0.998\n",
      "auc meta = 1.000\n",
      "\n",
      "AUC_T = 0.9937, Sens_T = 0.9122, Spec_T = 1.0000\n",
      "AUC = 0.9998, Sens = 0.9955, Spec = 1.0000\n",
      "\n",
      "Random Forest\n",
      "Gradient Boosting\n",
      "SVM\n",
      "XGB\n",
      "base-level classifiers trained\n",
      "training meta-classifier\n",
      "best base-clf SVM, auc = 0.995, worst base-clf Gradient Boosting, minauc = 0.966\n",
      "auc meta = 0.992\n",
      "\n",
      "AUC_T = 0.9925, Sens_T = 0.9658, Spec_T = 1.0000\n",
      "AUC = 0.9921, Sens = 0.9568, Spec = 1.0000\n",
      "\n",
      "Random Forest\n",
      "Gradient Boosting\n",
      "SVM\n",
      "XGB\n",
      "base-level classifiers trained\n",
      "training meta-classifier\n",
      "best base-clf XGB, auc = 0.998, worst base-clf SVM, minauc = 0.978\n",
      "auc meta = 0.996\n",
      "\n",
      "AUC_T = 0.9747, Sens_T = 0.9622, Spec_T = 0.8980\n",
      "AUC = 0.9957, Sens = 0.9622, Spec = 0.9700\n",
      "\n",
      "Random Forest\n",
      "Gradient Boosting\n",
      "SVM\n",
      "XGB\n",
      "base-level classifiers trained\n",
      "training meta-classifier\n",
      "best base-clf Random Forest, auc = 1.000, worst base-clf SVM, minauc = 1.000\n",
      "auc meta = 1.000\n",
      "\n",
      "AUC_T = 0.9752, Sens_T = 0.8810, Spec_T = 1.0000\n",
      "AUC = 1.0000, Sens = 1.0000, Spec = 1.0000\n",
      "\n",
      "Random Forest\n",
      "Gradient Boosting\n",
      "SVM\n",
      "XGB\n",
      "base-level classifiers trained\n",
      "training meta-classifier\n",
      "best base-clf Random Forest, auc = 1.000, worst base-clf Random Forest, minauc = 1.000\n",
      "auc meta = 1.000\n",
      "\n",
      "AUC_T = 0.9647, Sens_T = 0.9431, Spec_T = 0.8980\n",
      "AUC = 1.0000, Sens = 1.0000, Spec = 1.0000\n",
      "\n",
      "Random Forest\n",
      "Gradient Boosting\n",
      "SVM\n",
      "XGB\n",
      "base-level classifiers trained\n",
      "training meta-classifier\n",
      "best base-clf XGB, auc = 1.000, worst base-clf Random Forest, minauc = 0.999\n",
      "auc meta = 1.000\n",
      "\n",
      "AUC_T = 0.8847, Sens_T = 0.7783, Spec_T = 0.8776\n",
      "AUC = 1.0000, Sens = 0.9986, Spec = 1.0000\n",
      "\n",
      "Random Forest\n",
      "Gradient Boosting\n",
      "SVM\n",
      "XGB\n",
      "base-level classifiers trained\n",
      "training meta-classifier\n",
      "best base-clf Random Forest, auc = 1.000, worst base-clf SVM, minauc = 1.000\n",
      "auc meta = 1.000\n",
      "\n",
      "AUC_T = 0.9713, Sens_T = 0.8235, Spec_T = 1.0000\n",
      "AUC = 1.0000, Sens = 1.0000, Spec = 1.0000\n",
      "\n",
      "Random Forest\n",
      "Gradient Boosting\n",
      "SVM\n",
      "XGB\n",
      "base-level classifiers trained\n",
      "training meta-classifier\n",
      "best base-clf SVM, auc = 1.000, worst base-clf Random Forest, minauc = 1.000\n",
      "auc meta = 1.000\n",
      "\n",
      "AUC_T = 0.9800, Sens_T = 0.9831, Spec_T = 0.9592\n",
      "AUC = 1.0000, Sens = 1.0000, Spec = 1.0000\n",
      "\n",
      "Random Forest\n",
      "Gradient Boosting\n",
      "SVM\n",
      "XGB\n",
      "base-level classifiers trained\n",
      "training meta-classifier\n",
      "best base-clf SVM, auc = 0.996, worst base-clf Random Forest, minauc = 0.989\n",
      "auc meta = 0.994\n",
      "\n",
      "AUC_T = 0.9289, Sens_T = 0.9474, Spec_T = 0.8163\n",
      "AUC = 0.9938, Sens = 0.9502, Spec = 0.9700\n",
      "\n",
      "Random Forest\n",
      "Gradient Boosting\n",
      "SVM\n",
      "XGB\n",
      "base-level classifiers trained\n",
      "training meta-classifier\n",
      "best base-clf SVM, auc = 0.998, worst base-clf Random Forest, minauc = 0.994\n",
      "auc meta = 0.997\n",
      "\n",
      "AUC_T = 0.9472, Sens_T = 0.9536, Spec_T = 0.8163\n",
      "AUC = 0.9971, Sens = 0.9957, Spec = 0.9700\n",
      "\n",
      "mean AUC_T = 0.961 (+/- 0.020)\n",
      "mean Sens_T = 0.915 (+/- 0.040)\n",
      "mean Spec_T = 0.927 (+/- 0.045)\n",
      "mean AUC = 0.998 (+/- 0.002)\n",
      "mean Sens = 0.986 (+/- 0.012)\n",
      "mean Spec = 0.991 (+/- 0.009)\n"
     ]
    }
   ],
   "source": [
    "resultsHH_T, resultsHH = LOSOCV(XH,yH,Healthy,groupsH,models,stacking=1)"
   ]
  },
  {
   "cell_type": "code",
   "execution_count": null,
   "metadata": {
    "collapsed": false
   },
   "outputs": [],
   "source": [
    "print(XH.shape)\n",
    "print(yH.shape)\n",
    "print(groupsH.shape)\n",
    "print(np.unique(yH))"
   ]
  },
  {
   "cell_type": "code",
   "execution_count": 451,
   "metadata": {
    "collapsed": false
   },
   "outputs": [
    {
     "data": {
      "text/plain": [
       "<matplotlib.text.Text at 0x16ab72e8>"
      ]
     },
     "execution_count": 451,
     "metadata": {},
     "output_type": "execute_result"
    },
    {
     "data": {
      "image/png": "[encoded data removed]",
      "text/plain": [
       "<matplotlib.figure.Figure at 0x14916400>"
      ]
     },
     "metadata": {},
     "output_type": "display_data"
    }
   ],
   "source": [
    "plt.figure(figsize=(8,6))\n",
    "AX = plot_roc(results_T['TPR'],results_T['FPR'],np.mean(results_T['AUC']),plotname='Threshold')\n",
    "plot_roc(results['TPR'],results['FPR'],np.mean(results['AUC']),ax=AX,plotname='Stacked classifiers',col=current_palette[1])\n",
    "AX.set_title('Healthy-Healthy')"
   ]
  },
  {
   "cell_type": "code",
   "execution_count": 452,
   "metadata": {
    "collapsed": true
   },
   "outputs": [],
   "source": [
    "fig = AX.get_figure()\n",
    "fig.savefig('./Figs/Fig2HH.tif')"
   ]
  },
  {
   "cell_type": "markdown",
   "metadata": {},
   "source": [
    "Compared to a simple threshold approach (i.e. a fall is detected if the max accleration in a clip exceeds a fixed threshold), the ML model performs significantly better, allowing to reduce the False positive rate significantly "
   ]
  },
  {
   "cell_type": "markdown",
   "metadata": {},
   "source": [
    "# LOSO CV on Amputees"
   ]
  },
  {
   "cell_type": "markdown",
   "metadata": {},
   "source": [
    "**Note: SubjID 2 does not have activities**"
   ]
  },
  {
   "cell_type": "code",
   "execution_count": 364,
   "metadata": {
    "collapsed": false
   },
   "outputs": [
    {
     "data": {
      "text/plain": [
       "array([1, 3, 4, 5, 6, 7], dtype=int64)"
      ]
     },
     "execution_count": 364,
     "metadata": {},
     "output_type": "execute_result"
    }
   ],
   "source": [
    "np.unique(groupsA)"
   ]
  },
  {
   "cell_type": "code",
   "execution_count": 443,
   "metadata": {
    "collapsed": false,
    "scrolled": true
   },
   "outputs": [
    {
     "name": "stdout",
     "output_type": "stream",
     "text": [
      "Random Forest\n",
      "Gradient Boosting\n",
      "SVM\n",
      "XGB\n",
      "base-level classifiers trained\n",
      "training meta-classifier\n",
      "best base-clf SVM, auc = 0.996, worst base-clf Gradient Boosting, minauc = 0.993\n",
      "auc meta = 0.998\n",
      "\n",
      "AUC_T = 0.9494, Sens_T = 0.8834, Spec_T = 0.9184\n",
      "AUC = 0.9976, Sens = 0.9507, Spec = 1.0000\n",
      "\n",
      "Random Forest\n",
      "Gradient Boosting\n",
      "SVM\n",
      "XGB\n",
      "base-level classifiers trained\n",
      "training meta-classifier\n",
      "best base-clf Random Forest, auc = 0.997, worst base-clf SVM, minauc = 0.994\n",
      "auc meta = 0.995\n",
      "\n",
      "AUC_T = 0.9994, Sens_T = 1.0000, Spec_T = 0.9796\n",
      "AUC = 0.9948, Sens = 1.0000, Spec = 0.9300\n",
      "\n",
      "Random Forest\n",
      "Gradient Boosting\n",
      "SVM\n",
      "XGB\n",
      "base-level classifiers trained\n",
      "training meta-classifier\n",
      "best base-clf XGB, auc = 1.000, worst base-clf SVM, minauc = 0.997\n",
      "auc meta = 1.000\n",
      "\n",
      "AUC_T = 0.9917, Sens_T = 0.9231, Spec_T = 1.0000\n",
      "AUC = 1.0000, Sens = 1.0000, Spec = 1.0000\n",
      "\n",
      "Random Forest\n",
      "Gradient Boosting\n",
      "SVM\n",
      "XGB\n",
      "base-level classifiers trained\n",
      "training meta-classifier\n",
      "best base-clf Gradient Boosting, auc = 0.992, worst base-clf Random Forest, minauc = 0.976\n",
      "auc meta = 0.987\n",
      "\n",
      "AUC_T = 0.9273, Sens_T = 0.8651, Spec_T = 0.8776\n",
      "AUC = 0.9876, Sens = 0.9907, Spec = 0.9200\n",
      "\n",
      "Random Forest\n",
      "Gradient Boosting\n",
      "SVM\n",
      "XGB\n",
      "base-level classifiers trained\n",
      "training meta-classifier\n",
      "best base-clf SVM, auc = 0.993, worst base-clf Gradient Boosting, minauc = 0.983\n",
      "auc meta = 0.989\n",
      "\n",
      "AUC_T = 0.8246, Sens_T = 0.7714, Spec_T = 0.7347\n",
      "AUC = 0.9891, Sens = 0.9571, Spec = 0.9700\n",
      "\n",
      "Random Forest\n",
      "Gradient Boosting\n",
      "SVM\n",
      "XGB\n",
      "base-level classifiers trained\n",
      "training meta-classifier\n",
      "best base-clf XGB, auc = 1.000, worst base-clf Gradient Boosting, minauc = 0.999\n",
      "auc meta = 1.000\n",
      "\n",
      "AUC_T = 0.9870, Sens_T = 0.9428, Spec_T = 0.9388\n",
      "AUC = 0.9995, Sens = 1.0000, Spec = 0.9800\n",
      "\n",
      "mean AUC_T = 0.947 (+/- 0.049)\n",
      "mean Sens_T = 0.898 (+/- 0.058)\n",
      "mean Spec_T = 0.908 (+/- 0.071)\n",
      "mean AUC = 0.995 (+/- 0.004)\n",
      "mean Sens = 0.983 (+/- 0.017)\n",
      "mean Spec = 0.967 (+/- 0.026)\n"
     ]
    }
   ],
   "source": [
    "resultsAA_T, resultsAA = LOSOCV(XA,yA,Amp,groupsA,models,stacking=1)"
   ]
  },
  {
   "cell_type": "code",
   "execution_count": 453,
   "metadata": {
    "collapsed": false
   },
   "outputs": [
    {
     "data": {
      "text/plain": [
       "<matplotlib.text.Text at 0xd45d438>"
      ]
     },
     "execution_count": 453,
     "metadata": {},
     "output_type": "execute_result"
    },
    {
     "data": {
      "image/png": "[encoded data removed]",
      "text/plain": [
       "<matplotlib.figure.Figure at 0x141076a0>"
      ]
     },
     "metadata": {},
     "output_type": "display_data"
    }
   ],
   "source": [
    "plt.figure(figsize=(8,6))\n",
    "AX = plot_roc(resultsAA_T['TPR'],resultsAA_T['FPR'],np.mean(resultsAA_T['AUC']),plotname='Threshold')\n",
    "plot_roc(resultsAA['TPR'],resultsAA['FPR'],np.mean(resultsAA['AUC']),ax=AX,plotname='Stacked Classifiers',col=current_palette[1])\n",
    "AX.set_title('Amputee-Amputee')"
   ]
  },
  {
   "cell_type": "code",
   "execution_count": 454,
   "metadata": {
    "collapsed": true
   },
   "outputs": [],
   "source": [
    "fig = AX.get_figure()\n",
    "fig.savefig('./Figs/Fig2AA.tif')"
   ]
  },
  {
   "cell_type": "markdown",
   "metadata": {},
   "source": [
    "# Healthy to Amputee w/ folds "
   ]
  },
  {
   "cell_type": "code",
   "execution_count": 367,
   "metadata": {
    "collapsed": false
   },
   "outputs": [
    {
     "data": {
      "text/plain": [
       "(1844, 40)"
      ]
     },
     "execution_count": 367,
     "metadata": {},
     "output_type": "execute_result"
    }
   ],
   "source": [
    "XA.shape"
   ]
  },
  {
   "cell_type": "code",
   "execution_count": 444,
   "metadata": {
    "collapsed": false,
    "scrolled": true
   },
   "outputs": [
    {
     "name": "stdout",
     "output_type": "stream",
     "text": [
      "Random Forest\n",
      "Gradient Boosting\n",
      "SVM\n",
      "XGB\n",
      "base-level classifiers trained\n",
      "training meta-classifier\n",
      "best base-clf Gradient Boosting, auc = 0.999, worst base-clf SVM, minauc = 0.996\n",
      "auc meta = 0.998\n",
      "\n",
      "AUC_T = 0.9494, Sens_T = 0.8834, Spec_T = 0.9184\n",
      "AUC = 0.9981, Sens = 0.9910, Spec = 0.9700\n",
      "\n",
      "best base-clf SVM, auc = 0.999, worst base-clf Random Forest, minauc = 0.998\n",
      "auc meta = 0.998\n",
      "\n",
      "AUC_T = 0.9994, Sens_T = 1.0000, Spec_T = 0.9796\n",
      "AUC = 0.9985, Sens = 0.9971, Spec = 0.9800\n",
      "\n",
      "best base-clf Random Forest, auc = 1.000, worst base-clf Random Forest, minauc = 1.000\n",
      "auc meta = 1.000\n",
      "\n",
      "AUC_T = 0.9917, Sens_T = 0.9231, Spec_T = 1.0000\n",
      "AUC = 1.0000, Sens = 1.0000, Spec = 1.0000\n",
      "\n",
      "best base-clf Gradient Boosting, auc = 0.993, worst base-clf Random Forest, minauc = 0.988\n",
      "auc meta = 0.992\n",
      "\n",
      "AUC_T = 0.9273, Sens_T = 0.8651, Spec_T = 0.8776\n",
      "AUC = 0.9921, Sens = 0.9953, Spec = 0.9200\n",
      "\n",
      "best base-clf SVM, auc = 0.985, worst base-clf Random Forest, minauc = 0.979\n",
      "auc meta = 0.988\n",
      "\n",
      "AUC_T = 0.8246, Sens_T = 0.7714, Spec_T = 0.7347\n",
      "AUC = 0.9884, Sens = 0.9714, Spec = 0.9500\n",
      "\n",
      "best base-clf XGB, auc = 1.000, worst base-clf SVM, minauc = 0.999\n",
      "auc meta = 1.000\n",
      "\n",
      "AUC_T = 0.9870, Sens_T = 0.9428, Spec_T = 0.9388\n",
      "AUC = 0.9999, Sens = 0.9940, Spec = 1.0000\n",
      "\n",
      "mean AUC_T = 0.947 (+/- 0.049)\n",
      "mean Sens_T = 0.898 (+/- 0.058)\n",
      "mean Spec_T = 0.908 (+/- 0.071)\n",
      "mean AUC = 0.996 (+/- 0.004)\n",
      "mean Sens = 0.991 (+/- 0.008)\n",
      "mean Spec = 0.970 (+/- 0.023)\n"
     ]
    }
   ],
   "source": [
    "resultsHA_T, resultsHA = EvaluateBySubject(XH,yH,groupsH,XA,yA,groupsA,Amp,clf=models,stacking=1)"
   ]
  },
  {
   "cell_type": "code",
   "execution_count": 455,
   "metadata": {
    "collapsed": false
   },
   "outputs": [
    {
     "data": {
      "text/plain": [
       "<matplotlib.text.Text at 0xd09aef0>"
      ]
     },
     "execution_count": 455,
     "metadata": {},
     "output_type": "execute_result"
    },
    {
     "data": {
      "image/png": "[encoded data removed]",
      "text/plain": [
       "<matplotlib.figure.Figure at 0xc5a7588>"
      ]
     },
     "metadata": {},
     "output_type": "display_data"
    }
   ],
   "source": [
    "plt.figure(figsize=(8,6))\n",
    "AX = plot_roc(resultsHA_T['TPR'],resultsHA_T['FPR'],np.mean(resultsHA_T['AUC']),plotname='Threshold')\n",
    "plot_roc(resultsHA['TPR'],resultsHA['FPR'],np.mean(resultsHA['AUC']),ax=AX,plotname='Stacked Classifiers',col=current_palette[1])\n",
    "AX.set_title('Healthy-Amputee')"
   ]
  },
  {
   "cell_type": "markdown",
   "metadata": {},
   "source": [
    "In all 3 cases, the machine learning approach yields significantly better results than the threshold method"
   ]
  },
  {
   "cell_type": "code",
   "execution_count": 392,
   "metadata": {
    "collapsed": false
   },
   "outputs": [
    {
     "name": "stdout",
     "output_type": "stream",
     "text": [
      "HA vs. AA 0.176\n",
      "HH vs. HA 0.399\n"
     ]
    }
   ],
   "source": [
    "[t_value, p_value] = stats.ttest_rel(resultsHA['AUC'],resultsAA['AUC'])\n",
    "print('HA vs. AA %0.3f'%(p_value))\n",
    "\n",
    "[t_value, p_value] = stats.ttest_ind(resultsHH['AUC'],resultsHA['AUC'])\n",
    "print('HH vs. HA %0.3f'%(p_value))"
   ]
  },
  {
   "cell_type": "code",
   "execution_count": 433,
   "metadata": {
    "collapsed": false
   },
   "outputs": [
    {
     "name": "stdout",
     "output_type": "stream",
     "text": [
      "HH vs. HH_T 0.007\n",
      "HA vs. HA_T 0.105\n",
      "AA vs. AA_T 0.116\n"
     ]
    }
   ],
   "source": [
    "[t_value, p_value] = stats.ttest_rel(resultsHH['AUC'],resultsHH_T['AUC'])\n",
    "print('HH vs. HH_T %0.3f'%(p_value))\n",
    "\n",
    "[t_value, p_value] = stats.ttest_rel(resultsHA['AUC'],resultsHA_T['AUC'])\n",
    "print('HA vs. HA_T %0.3f'%(p_value))\n",
    "\n",
    "[t_value, p_value] = stats.ttest_rel(resultsAA['AUC'],resultsAA_T['AUC'])\n",
    "print('AA vs. AA_T %0.3f'%(p_value))"
   ]
  },
  {
   "cell_type": "code",
   "execution_count": 456,
   "metadata": {
    "collapsed": true
   },
   "outputs": [],
   "source": [
    "fig = AX.get_figure()\n",
    "fig.savefig('./Figs/Fig2HA.tif')"
   ]
  },
  {
   "cell_type": "markdown",
   "metadata": {},
   "source": [
    "# Make summary figure with 3 subplots"
   ]
  },
  {
   "cell_type": "code",
   "execution_count": 371,
   "metadata": {
    "collapsed": true
   },
   "outputs": [],
   "source": [
    "fig = AX.get_figure()\n",
    "fig.savefig('./Figs/Fig2AA.jpg')"
   ]
  },
  {
   "cell_type": "markdown",
   "metadata": {},
   "source": [
    "# Location Analysis"
   ]
  },
  {
   "cell_type": "markdown",
   "metadata": {},
   "source": [
    "## Train on all locs (Healthy) and test on each location (Waist, Pocket and Hand) for amputees"
   ]
  },
  {
   "cell_type": "code",
   "execution_count": 445,
   "metadata": {
    "collapsed": false,
    "scrolled": true
   },
   "outputs": [
    {
     "name": "stdout",
     "output_type": "stream",
     "text": [
      "Random Forest\n",
      "Gradient Boosting\n",
      "SVM\n",
      "XGB\n",
      "base-level classifiers trained\n",
      "training meta-classifier\n",
      "best base-clf Random Forest, auc = 1.000, worst base-clf Random Forest, minauc = 1.000\n",
      "auc meta = 1.000\n",
      "\n",
      "AUC_T = 1.0000, Sens_T = 1.0000, Spec_T = 1.0000\n",
      "AUC = 1.0000, Sens = 1.0000, Spec = 1.0000\n",
      "\n",
      "best base-clf Random Forest, auc = 1.000, worst base-clf Random Forest, minauc = 1.000\n",
      "auc meta = 1.000\n",
      "\n",
      "AUC_T = 1.0000, Sens_T = 1.0000, Spec_T = 1.0000\n",
      "AUC = 1.0000, Sens = 1.0000, Spec = 1.0000\n",
      "\n",
      "best base-clf Random Forest, auc = 1.000, worst base-clf Random Forest, minauc = 1.000\n",
      "auc meta = 1.000\n",
      "\n",
      "AUC_T = 1.0000, Sens_T = 1.0000, Spec_T = 1.0000\n",
      "AUC = 1.0000, Sens = 1.0000, Spec = 1.0000\n",
      "\n",
      "best base-clf Gradient Boosting, auc = 0.980, worst base-clf SVM, minauc = 0.965\n",
      "auc meta = 0.973\n",
      "\n",
      "AUC_T = 0.8957, Sens_T = 0.8795, Spec_T = 0.8571\n",
      "AUC = 0.9734, Sens = 1.0000, Spec = 0.8900\n",
      "\n",
      "best base-clf Gradient Boosting, auc = 0.993, worst base-clf Random Forest, minauc = 0.982\n",
      "auc meta = 0.993\n",
      "\n",
      "AUC_T = 0.7640, Sens_T = 0.7143, Spec_T = 0.7347\n",
      "AUC = 0.9932, Sens = 0.9286, Spec = 1.0000\n",
      "\n",
      "best base-clf Random Forest, auc = 1.000, worst base-clf Random Forest, minauc = 1.000\n",
      "auc meta = 1.000\n",
      "\n",
      "AUC_T = 1.0000, Sens_T = 1.0000, Spec_T = 1.0000\n",
      "AUC = 1.0000, Sens = 1.0000, Spec = 1.0000\n",
      "\n",
      "mean AUC_T = 0.943 (+/- 0.072)\n",
      "mean Sens_T = 0.932 (+/- 0.087)\n",
      "mean Spec_T = 0.932 (+/- 0.084)\n",
      "mean AUC = 0.994 (+/- 0.008)\n",
      "mean Sens = 0.988 (+/- 0.022)\n",
      "mean Spec = 0.982 (+/- 0.033)\n",
      "Random Forest\n",
      "Gradient Boosting\n",
      "SVM\n",
      "XGB\n",
      "base-level classifiers trained\n",
      "training meta-classifier\n",
      "best base-clf Random Forest, auc = 1.000, worst base-clf Random Forest, minauc = 1.000\n",
      "auc meta = 1.000\n",
      "\n",
      "AUC_T = 1.0000, Sens_T = 1.0000, Spec_T = 1.0000\n",
      "AUC = 1.0000, Sens = 1.0000, Spec = 1.0000\n",
      "\n",
      "best base-clf Random Forest, auc = 1.000, worst base-clf Random Forest, minauc = 1.000\n",
      "auc meta = 1.000\n",
      "\n",
      "AUC_T = 0.9510, Sens_T = 0.9167, Spec_T = 1.0000\n",
      "AUC = 1.0000, Sens = 1.0000, Spec = 1.0000\n",
      "\n",
      "best base-clf Random Forest, auc = 1.000, worst base-clf XGB, minauc = 0.967\n",
      "auc meta = 1.000\n",
      "\n",
      "AUC_T = 0.8406, Sens_T = 1.0000, Spec_T = 0.7347\n",
      "AUC = 1.0000, Sens = 1.0000, Spec = 1.0000\n",
      "\n",
      "best base-clf Random Forest, auc = 1.000, worst base-clf Random Forest, minauc = 1.000\n",
      "auc meta = 1.000\n",
      "\n",
      "AUC_T = 1.0000, Sens_T = 1.0000, Spec_T = 1.0000\n",
      "AUC = 1.0000, Sens = 1.0000, Spec = 1.0000\n",
      "\n",
      "mean AUC_T = 0.948 (+/- 0.065)\n",
      "mean Sens_T = 0.979 (+/- 0.036)\n",
      "mean Spec_T = 0.934 (+/- 0.115)\n",
      "mean AUC = 1.000 (+/- 0.000)\n",
      "mean Sens = 1.000 (+/- 0.000)\n",
      "mean Spec = 1.000 (+/- 0.000)\n",
      "Random Forest\n",
      "Gradient Boosting\n",
      "SVM\n",
      "XGB\n",
      "base-level classifiers trained\n",
      "training meta-classifier\n",
      "best base-clf SVM, auc = 0.996, worst base-clf Random Forest, minauc = 0.994\n",
      "auc meta = 0.997\n",
      "\n",
      "AUC_T = 0.9366, Sens_T = 0.9732, Spec_T = 0.7755\n",
      "AUC = 0.9967, Sens = 0.9643, Spec = 1.0000\n",
      "\n",
      "best base-clf SVM, auc = 1.000, worst base-clf Random Forest, minauc = 0.987\n",
      "auc meta = 0.992\n",
      "\n",
      "AUC_T = 1.0000, Sens_T = 1.0000, Spec_T = 1.0000\n",
      "AUC = 0.9920, Sens = 1.0000, Spec = 0.9200\n",
      "\n",
      "best base-clf Random Forest, auc = 1.000, worst base-clf Random Forest, minauc = 1.000\n",
      "auc meta = 1.000\n",
      "\n",
      "AUC_T = 1.0000, Sens_T = 1.0000, Spec_T = 1.0000\n",
      "AUC = 1.0000, Sens = 1.0000, Spec = 1.0000\n",
      "\n",
      "best base-clf Random Forest, auc = 1.000, worst base-clf Random Forest, minauc = 1.000\n",
      "auc meta = 1.000\n",
      "\n",
      "AUC_T = 1.0000, Sens_T = 1.0000, Spec_T = 1.0000\n",
      "AUC = 1.0000, Sens = 1.0000, Spec = 1.0000\n",
      "\n",
      "best base-clf XGB, auc = 1.000, worst base-clf Random Forest, minauc = 0.997\n",
      "auc meta = 0.999\n",
      "\n",
      "AUC_T = 0.9950, Sens_T = 1.0000, Spec_T = 0.9592\n",
      "AUC = 0.9995, Sens = 0.9783, Spec = 1.0000\n",
      "\n",
      "mean AUC_T = 0.986 (+/- 0.022)\n",
      "mean Sens_T = 0.995 (+/- 0.010)\n",
      "mean Spec_T = 0.947 (+/- 0.078)\n",
      "mean AUC = 0.998 (+/- 0.003)\n",
      "mean Sens = 0.989 (+/- 0.013)\n",
      "mean Spec = 0.984 (+/- 0.029)\n"
     ]
    },
    {
     "data": {
      "text/plain": [
       "<matplotlib.text.Text at 0x16b0e2b0>"
      ]
     },
     "execution_count": 445,
     "metadata": {},
     "output_type": "execute_result"
    },
    {
     "data": {
      "image/png": "[encoded data removed]",
      "text/plain": [
       "<matplotlib.figure.Figure at 0x14fe2390>"
      ]
     },
     "metadata": {},
     "output_type": "display_data"
    }
   ],
   "source": [
    "sns.set_context('talk')\n",
    "locs = [1,2,3]\n",
    "fig = plt.figure(figsize=(16,12))\n",
    "ax1=None\n",
    "\n",
    "#remove subjects with no falls for some locations\n",
    "Amp = Amp[(Amp.SubjID!=1)|(Amp.Loc!=2)]\n",
    "Amp = Amp[(Amp.SubjID!=6)|((Amp.Loc!=2)&(Amp.Loc!=3))]\n",
    "\n",
    "locAUC=[]; locAUC_T=[]\n",
    "\n",
    "for l,name in zip(locs,['Waist','Pocket','Hand']):\n",
    "    \n",
    "    #filter amputees data (test data)\n",
    "    Ampdata = Amp[Amp.Loc==l]\n",
    "    XAloc = Ampdata.iloc[:,4:].as_matrix(); yAloc = Ampdata.Falltype.as_matrix() #this has to be moved inside EvaluateBySubject\n",
    "    XAloc = np.asarray(XAloc); yAloc = np.asarray(yAloc)\n",
    "    groupsAloc = Ampdata.SubjID.as_matrix()\n",
    "    \n",
    "    results_T, results = EvaluateBySubject(XH,yH,groupsH,XAloc,yAloc,groupsAloc,Ampdata,clf=models,stacking=1)\n",
    "        \n",
    "    AX = fig.add_subplot(2,2,l) #uncomment this line to generate subplots\n",
    "    plot_roc(results_T['TPR'],results_T['FPR'],np.mean(results_T['AUC']),plotname='Threshold',ax=AX)\n",
    "    plot_roc(results['TPR'],results['FPR'],np.mean(results['AUC']),ax=AX,plotname='Stacked Classifiers',col=current_palette[1])\n",
    "    AX.set_title('%s'%(name))\n",
    "    \n",
    "    locAUC.append(results)\n",
    "    locAUC_T.append(results_T)\n",
    "\n",
    "AX = fig.add_subplot(2,2,4) #uncomment this line to generate subplots\n",
    "plot_roc(resultsHA_T['TPR'],resultsHA_T['FPR'],np.mean(resultsHA_T['AUC']),ax=AX,plotname='Threshold')\n",
    "plot_roc(resultsHA['TPR'],resultsHA['FPR'],np.mean(resultsHA['AUC']),ax=AX,plotname='Stacked Classifiers',col=current_palette[1])\n",
    "AX.set_title('All Locations')\n",
    "# ax1.set_title('Results by location')\n",
    "# ax1.legend(loc=4,fontsize = 18)"
   ]
  },
  {
   "cell_type": "code",
   "execution_count": 449,
   "metadata": {
    "collapsed": false
   },
   "outputs": [
    {
     "name": "stdout",
     "output_type": "stream",
     "text": [
      "Waist vs. Waist_T 0.234\n",
      "Pocket vs. Pocket_T 0.260\n",
      "Hand vs. Hand_T 0.412\n"
     ]
    }
   ],
   "source": [
    "[t_value, p_value] = stats.ttest_rel(locAUC[0]['AUC'],locAUC_T[0]['AUC'])\n",
    "print('Waist vs. Waist_T %0.3f'%(p_value))\n",
    "\n",
    "[t_value, p_value] = stats.ttest_rel(locAUC[1]['AUC'],locAUC_T[1]['AUC'])\n",
    "print('Pocket vs. Pocket_T %0.3f'%(p_value))\n",
    "\n",
    "[t_value, p_value] = stats.ttest_rel(locAUC[2]['AUC'],locAUC_T[2]['AUC'])\n",
    "print('Hand vs. Hand_T %0.3f'%(p_value))"
   ]
  },
  {
   "cell_type": "code",
   "execution_count": 386,
   "metadata": {
    "collapsed": false
   },
   "outputs": [
    {
     "name": "stdout",
     "output_type": "stream",
     "text": [
      "Waist vs. Pocket 0.257\n",
      "Waist vs. Hand 0.512\n",
      "Pocket vs. Hand 0.197\n"
     ]
    }
   ],
   "source": [
    "[t_value, p_value] = stats.ttest_ind(locAUC[0]['AUC'],locAUC[1]['AUC'],equal_var=False)\n",
    "print('Waist vs. Pocket %0.3f'%(p_value))\n",
    "\n",
    "[t_value, p_value] = stats.ttest_ind(locAUC[0]['AUC'],locAUC[2]['AUC'],equal_var=False)\n",
    "print('Waist vs. Hand %0.3f'%(p_value))\n",
    "\n",
    "[t_value, p_value] = stats.ttest_ind(locAUC[1]['AUC'],locAUC[2]['AUC'],equal_var=False)\n",
    "print('Pocket vs. Hand %0.3f'%(p_value))"
   ]
  },
  {
   "cell_type": "code",
   "execution_count": null,
   "metadata": {
    "collapsed": true
   },
   "outputs": [],
   "source": [
    "fig = ax1.get_figure()\n",
    "fig.savefig('./Figs/Fig3.jpg')\n",
    "fig.savefig('./Figs/Fig3.tif')"
   ]
  },
  {
   "cell_type": "markdown",
   "metadata": {},
   "source": [
    "# Home data analysis\n",
    "Train on healthy and test on 3 amputees who carried the phone for 2 or more days during their daily routine. Activites data is recorded over days subjects carried the phone and filtered as above (only clips with MaxAcc > 2g are included). Falls data is the same as used in the former analysis.\n",
    "\n",
    "**Note: Here I am reloading the dataframe for Amputees. Need to check how to copy recursively (i.e. without making a reference to the object. Need to take care of this later to optimize the code**"
   ]
  },
  {
   "cell_type": "code",
   "execution_count": null,
   "metadata": {
    "collapsed": false
   },
   "outputs": [],
   "source": [
    "Homedata.head()"
   ]
  },
  {
   "cell_type": "code",
   "execution_count": null,
   "metadata": {
    "collapsed": false
   },
   "outputs": [],
   "source": [
    "len(Homedata)"
   ]
  },
  {
   "cell_type": "code",
   "execution_count": 446,
   "metadata": {
    "collapsed": false
   },
   "outputs": [
    {
     "name": "stdout",
     "output_type": "stream",
     "text": [
      "[1 6 7]\n"
     ]
    }
   ],
   "source": [
    "Amp = pd.read_csv('./Data/Amp10.csv',header=None)\n",
    "Amp = Amp.rename(index=int, columns={0:'SubjID',1:'Loc',2:'Subjtype',3:'Falltype',950:'AccMax',951:'AccMin'})\n",
    "Amp = Amp[Amp.SubjID != 2] #drop subj 2 (no activities)\n",
    "Amp.loc[Amp['AccMax']>2500,'AccMax'] = 2500 #saturate max acceleration to 5g (in m/s^2)^2\n",
    "Amp.loc[Amp.Falltype<9,'Falltype'] = 1 #binarize labels\n",
    "Amp.loc[Amp.Falltype==9,'Falltype'] = 0\n",
    "Amp = pd.concat([Amp.iloc[:,0:4],Amp.iloc[:,indmax+4]],axis=1) #selected features\n",
    "XA = Amp.iloc[:,4:].as_matrix()\n",
    "yA = Amp.Falltype.as_matrix()\n",
    "\n",
    "Homedata = pd.read_csv('./Data/HomeData.csv',header=None)\n",
    "Homedata = Homedata.rename(index=int, columns={0:'SubjID',1:'Loc',2:'Subjtype',3:'Falltype',950:'AccMax',951:'AccMin'})\n",
    "Homedata.loc[Homedata['AccMax']>2500,'AccMax'] = 2500 #saturate max acceleration to 5g (in m/s^2)^2\n",
    "Homedata.Falltype = 0\n",
    "Homedata = pd.concat([Homedata.iloc[:,0:4],Homedata.iloc[:,indmax+4]],axis=1) #selected features\n",
    "XAh = Homedata.iloc[:,4:].as_matrix() \n",
    "yAh = Homedata.Falltype.as_matrix()\n",
    "    \n",
    "#standardize data (this could be achieved with .apply method)\n",
    "XA = scaler.transform(XA)\n",
    "XAh = scaler.transform(XAh);\n",
    "Amp.iloc[:,4:] = XA \n",
    "Homedata.iloc[:,4:] = XAh\n",
    "\n",
    "homesubj = Homedata.SubjID.unique() #the subjects with home data\n",
    "print(homesubj)\n",
    "for s in homesubj:\n",
    "    Homedata = pd.concat([Amp[(Amp.SubjID==s) & (Amp.Falltype==1)],Homedata],axis=0)\n",
    "    \n",
    "#the home data to test on\n",
    "groupsHome = Homedata.SubjID\n",
    "XAh = Homedata.iloc[:,4:].as_matrix()\n",
    "yAh = Homedata.Falltype.as_matrix()"
   ]
  },
  {
   "cell_type": "code",
   "execution_count": 447,
   "metadata": {
    "collapsed": false
   },
   "outputs": [
    {
     "name": "stdout",
     "output_type": "stream",
     "text": [
      "Random Forest\n",
      "Gradient Boosting\n",
      "SVM\n",
      "XGB\n",
      "base-level classifiers trained\n",
      "training meta-classifier\n",
      "best base-clf Random Forest, auc = 0.993, worst base-clf XGB, minauc = 0.984\n",
      "auc meta = 0.984\n",
      "\n",
      "AUC_T = 0.9627, Sens_T = 0.9910, Spec_T = 0.8367\n",
      "AUC = 0.9874, Sens = 0.9821, Spec = 0.9300\n",
      "\n",
      "best base-clf SVM, auc = 0.992, worst base-clf Random Forest, minauc = 0.978\n",
      "auc meta = 0.992\n",
      "\n",
      "AUC_T = 0.7434, Sens_T = 0.6286, Spec_T = 0.8367\n",
      "AUC = 0.9915, Sens = 0.9714, Spec = 0.9600\n",
      "\n",
      "best base-clf XGB, auc = 0.996, worst base-clf Random Forest, minauc = 0.988\n",
      "auc meta = 0.993\n",
      "\n",
      "AUC_T = 0.9713, Sens_T = 0.9759, Spec_T = 0.8776\n",
      "AUC = 0.9914, Sens = 0.9940, Spec = 0.9400\n",
      "\n",
      "mean AUC_T = 0.892 (+/- 0.122)\n",
      "mean Sens_T = 0.865 (+/- 0.193)\n",
      "mean Spec_T = 0.850 (+/- 0.022)\n",
      "mean AUC = 0.990 (+/- 0.002)\n",
      "mean Sens = 0.982 (+/- 0.011)\n",
      "mean Spec = 0.943 (+/- 0.014)\n"
     ]
    }
   ],
   "source": [
    "resultsHome_T, resultsHome = EvaluateBySubject(XH,yH,groupsH,XAh,yAh,groupsHome,Homedata,clf=models,stacking=1)\n"
   ]
  },
  {
   "cell_type": "code",
   "execution_count": 382,
   "metadata": {
    "collapsed": false
   },
   "outputs": [
    {
     "data": {
      "text/plain": [
       "<matplotlib.text.Text at 0x141c9320>"
      ]
     },
     "execution_count": 382,
     "metadata": {},
     "output_type": "execute_result"
    },
    {
     "data": {
      "image/png": "[encoded data removed]",
      "text/plain": [
       "<matplotlib.figure.Figure at 0xda47eb8>"
      ]
     },
     "metadata": {},
     "output_type": "display_data"
    }
   ],
   "source": [
    "plt.figure(figsize=(8,6))\n",
    "AX = plot_roc(resultsHome_T['TPR'],resultsHome_T['FPR'],np.mean(resultsHome_T['AUC']),plotname='Threshold')\n",
    "plot_roc(resultsHome['TPR'],resultsHome['FPR'],np.mean(resultsHome['AUC']),ax=AX,plotname='Stacked Classifiers',col=current_palette[1])\n",
    "AX.set_title('Home data')"
   ]
  },
  {
   "cell_type": "code",
   "execution_count": 450,
   "metadata": {
    "collapsed": false
   },
   "outputs": [
    {
     "name": "stdout",
     "output_type": "stream",
     "text": [
      "Hand vs. Hand_T 0.412\n"
     ]
    }
   ],
   "source": [
    "[t_value, p_value] = stats.ttest_rel(results['AUC'],results_T['AUC'])\n",
    "print('Hand vs. Hand_T %0.3f'%(p_value))"
   ]
  },
  {
   "cell_type": "code",
   "execution_count": null,
   "metadata": {
    "collapsed": false
   },
   "outputs": [],
   "source": [
    "resultsHome.keys()"
   ]
  },
  {
   "cell_type": "code",
   "execution_count": null,
   "metadata": {
    "collapsed": false
   },
   "outputs": [],
   "source": [
    "resultsHome['Spec']"
   ]
  },
  {
   "cell_type": "code",
   "execution_count": null,
   "metadata": {
    "collapsed": true
   },
   "outputs": [],
   "source": [
    "fig = ax2.get_figure()\n",
    "fig.savefig('./Figs/Fig4.jpg')\n",
    "fig.savefig('./Figs/Fig4.tif')"
   ]
  },
  {
   "cell_type": "markdown",
   "metadata": {},
   "source": [
    "# Stacking  - Base classifiers Hyperparameter optimization\n",
    "1) Optimize 4 different classifiers (using LOSO CV)\n",
    "\n",
    "2) Use stacking for final prediction"
   ]
  },
  {
   "cell_type": "code",
   "execution_count": 171,
   "metadata": {
    "collapsed": false,
    "scrolled": true
   },
   "outputs": [
    {
     "name": "stdout",
     "output_type": "stream",
     "text": [
      "AUC = 0.979\n",
      "AUC = 0.992\n",
      "AUC = 1.000\n",
      "AUC = 0.983\n",
      "AUC = 0.992\n",
      "AUC = 0.999\n",
      "mean AUC = 0.991 +/- 0.015\n"
     ]
    }
   ],
   "source": [
    "#try SVM\n",
    "auc_all = []\n",
    "clf = SVC(kernel='linear',cache_size=800,probability=True,random_state=3)\n",
    "# clf = GradientBoostingClassifier(n_estimators=100,subsample=0.8)\n",
    "for train_index, test_index in subj.split(X, y, groups):\n",
    "    Xtr, Xte = X[train_index], X[test_index]\n",
    "    ytr, yte = y[train_index], y[test_index]\n",
    "    Xtr, Xte = Xtr[:,indmax], Xte[:,indmax] #selct features\n",
    "\n",
    "    #normalize data\n",
    "    scaler = preprocessing.StandardScaler().fit(Xtr)\n",
    "    scaler.transform(Xte)\n",
    "\n",
    "    #fit svm and compute ROC for each subject\n",
    "    clf.fit(Xtr,ytr)\n",
    "    ypred = clf.predict(Xte)\n",
    "    yscore = clf.predict_proba(Xte)[:,1]\n",
    "    fpr,tpr,thr = roc_curve(yte,yscore,pos_label=1)\n",
    "    roc_auc = auc(fpr, tpr)\n",
    "    auc_all.append(roc_auc)\n",
    "    print 'AUC = %.3f'%roc_auc\n",
    "\n",
    "print 'mean AUC = %.3f +/- %.3f'%(np.mean(auc_all),2*np.std(auc_all))"
   ]
  },
  {
   "cell_type": "code",
   "execution_count": 1203,
   "metadata": {
    "collapsed": false
   },
   "outputs": [
    {
     "name": "stdout",
     "output_type": "stream",
     "text": [
      "AUC = 0.9888, Sens = 1.0000, Spec = 0.9200\n",
      "AUC = 0.9969, Sens = 1.0000, Spec = 0.9600\n",
      "AUC = 0.9999, Sens = 0.9943, Spec = 1.0000\n",
      "AUC = 0.9837, Sens = 0.9442, Spec = 0.9400\n",
      "AUC = 0.9829, Sens = 0.9714, Spec = 0.9500\n",
      "AUC = 0.9980, Sens = 0.9819, Spec = 0.9800\n",
      "mean AUC = 0.992 (+/- 0.014)\n",
      "mean Sens = 0.982 (+/- 0.040)\n",
      "mean Spec = 0.958 (+/- 0.052)\n"
     ]
    },
    {
     "data": {
      "text/plain": [
       "<matplotlib.figure.Figure at 0x17653588>"
      ]
     },
     "metadata": {},
     "output_type": "display_data"
    }
   ],
   "source": [
    "AUC_all_AA, fpr_all_AA, tpr_all_AA, Sens_all_AA, Spec_all_AA, TTPR_allAA, TFPR_allAA = LOSOCV(X,y,Amp)"
   ]
  },
  {
   "cell_type": "code",
   "execution_count": 13,
   "metadata": {
    "collapsed": false
   },
   "outputs": [],
   "source": [
    "#Load and normalize data from healthy and amputees\n",
    "Healthy = pd.read_csv('./Data/Healthy10.csv',header=None)\n",
    "Healthy = Healthy.rename(index=int, columns={0:'SubjID',1:'Loc',2:'Subjtype',3:'Falltype',950:'AccMax',951:'AccMin'})\n",
    "Healthy.loc[Healthy['AccMax']>2500,'AccMax'] = 2500 #saturate max acceleration to 5g (in m/s^2)^2\n",
    "#binarize labels\n",
    "XH = Healthy.iloc[:,4:].as_matrix()\n",
    "yH = Healthy.Falltype.as_matrix()\n",
    "yH[yH < 9] = 1\n",
    "yH[yH == 9] = 0\n",
    "scaler = preprocessing.StandardScaler().fit(XH) #define scaler\n",
    "XH = scaler.transform(XH)\n",
    "groupsH = Healthy.SubjID.as_matrix() #for CV\n",
    "\n",
    "Amp = pd.read_csv('./Data/Amp10.csv',header=None)\n",
    "Amp = Amp.rename(index=int, columns={0:'SubjID',1:'Loc',2:'Subjtype',3:'Falltype', 950:'AccMax',951:'AccMin'})\n",
    "Amp = Amp[Amp.SubjID != 2] #drop subj 2\n",
    "Amp.loc[Amp['AccMax']>2500,'AccMax'] = 2500 #saturate max acceleration to 5g (in m/s^2)^2\n",
    "#binarize labels\n",
    "XA = Amp.iloc[:,4:].as_matrix()\n",
    "yA = Amp.Falltype.as_matrix()\n",
    "yA[yA < 9] = 1\n",
    "yA[yA == 9] = 0\n",
    "XA = scaler.transform(XA)\n",
    "groupsA = Amp.SubjID.as_matrix()\n",
    "\n",
    "#Tot Features - #602 gyro features + 602 accelerometer\n",
    "#use features subset (optimized on random forest)\n",
    "# XH = XH[:,indmax]; XA = XA[:,indmax]\n",
    "\n",
    "#use magnitude features only\n",
    "indmax = np.linspace(336,355,20)\n",
    "indmax = np.hstack([indmax,np.linspace(336,355,20)+602])\n",
    "indmax = indmax.astype(int)\n",
    "XH = XH[:,indmax]; XA = XA[:,indmax]"
   ]
  },
  {
   "cell_type": "code",
   "execution_count": 14,
   "metadata": {
    "collapsed": false
   },
   "outputs": [
    {
     "name": "stdout",
     "output_type": "stream",
     "text": [
      "AUC = 1.000\n",
      "AUC = 0.995\n",
      "AUC = 0.984\n",
      "AUC = 1.000\n",
      "AUC = 1.000\n",
      "AUC = 0.998\n",
      "AUC = 1.000\n",
      "AUC = 1.000\n",
      "AUC = 0.998\n",
      "AUC = 0.998\n",
      "mean AUC = 0.997 +/- 0.009\n"
     ]
    }
   ],
   "source": [
    "#try SVM\n",
    "auc_all = []\n",
    "clf = SVC(kernel='linear',cache_size=800,probability=True,random_state=3,C=1)\n",
    "X = XH; y = yH; groups = groupsH\n",
    "subj = LeaveOneGroupOut()\n",
    "\n",
    "for train_index, test_index in subj.split(X, y, groupsH):\n",
    "    Xtr, Xte = X[train_index], X[test_index]\n",
    "    ytr, yte = y[train_index], y[test_index]\n",
    "#     Xtr, Xte = Xtr[:,indmax], Xte[:,indmax] #selct features\n",
    "\n",
    "    #fit svm and compute ROC for each subject\n",
    "    clf.fit(Xtr,ytr)\n",
    "    ypred = clf.predict(Xte)\n",
    "    yscore = clf.predict_proba(Xte)[:,1]\n",
    "    fpr,tpr,thr = roc_curve(yte,yscore,pos_label=1)\n",
    "#     roc_auc = auc(fpr, tpr)\n",
    "    roc_auc = roc_auc_score(yte,yscore)\n",
    "    auc_all.append(roc_auc)\n",
    "    print('AUC = %.3f'%roc_auc)\n",
    "print('mean AUC = %.3f +/- %.3f'%(np.mean(auc_all),2*np.std(auc_all)))"
   ]
  },
  {
   "cell_type": "code",
   "execution_count": 15,
   "metadata": {
    "collapsed": false
   },
   "outputs": [
    {
     "name": "stdout",
     "output_type": "stream",
     "text": [
      "AUC = 0.999\n",
      "AUC = 1.000\n",
      "AUC = 1.000\n",
      "AUC = 0.993\n",
      "AUC = 0.989\n",
      "AUC = 1.000\n",
      "mean AUC = 0.997 +/- 0.009\n"
     ]
    }
   ],
   "source": [
    "#test SVM on Amputees\n",
    "#try SVM\n",
    "auc_all = []\n",
    "X = XA; y = yA; groups = groupsH\n",
    "subj = LeaveOneGroupOut()\n",
    "\n",
    "for train_index, test_index in subj.split(X, y, groupsA):\n",
    "    Xtr, Xte = X[train_index], X[test_index]\n",
    "    ytr, yte = y[train_index], y[test_index]\n",
    "\n",
    "    #compute ROC for each subject\n",
    "    ypred = clf.predict(Xte)\n",
    "    yscore = clf.predict_proba(Xte)[:,1]\n",
    "    fpr,tpr,thr = roc_curve(yte,yscore,pos_label=1)\n",
    "    roc_auc = roc_auc_score(yte,yscore)\n",
    "    auc_all.append(roc_auc)\n",
    "    print('AUC = %.3f'%roc_auc)\n",
    "\n",
    "print('mean AUC = %.3f +/- %.3f'%(np.mean(auc_all),2*np.std(auc_all)))"
   ]
  },
  {
   "cell_type": "code",
   "execution_count": 16,
   "metadata": {
    "collapsed": true
   },
   "outputs": [],
   "source": [
    "models = [[ RandomForestClassifier(random_state=2), {'n_estimators': [10,50,100]}, \"Random Forest\"]]\n",
    "\n",
    "models.append([GradientBoostingClassifier(random_state=2), {'n_estimators':[10,50,100], 'max_depth':[2,4]}, \"GradientBoost\" ])\n",
    "\n",
    "models.append([SVC(kernel='linear',cache_size=800,random_state=3,probability=True), {'C':[0.1,1,10]}, \"SVM\" ])\n",
    "\n",
    "models.append([XGBClassifier(), {'max_depth':[2,4], 'n_estimators':[50,100,150], 'learning_rate':[0.1,0.5], 'subsample':[0.6,1]},\n",
    "              'XGB'])"
   ]
  },
  {
   "cell_type": "code",
   "execution_count": 54,
   "metadata": {
    "collapsed": false,
    "scrolled": false
   },
   "outputs": [
    {
     "name": "stdout",
     "output_type": "stream",
     "text": [
      "('Best parameters for ', 'Random Forest', ' : ', {'n_estimators': 100})\n",
      "Best score 0.995\n",
      "\n",
      "\n",
      "('Best parameters for ', 'GradientBoost', ' : ', {'n_estimators': 100, 'max_depth': 2})\n",
      "Best score 0.996\n",
      "\n",
      "\n",
      "('Best parameters for ', 'SVM', ' : ', {'C': 1})\n",
      "Best score 0.997\n",
      "\n",
      "\n",
      "('Best parameters for ', 'XGB', ' : ', {'n_estimators': 150, 'subsample': 0.6, 'learning_rate': 0.5, 'max_depth': 2})\n",
      "Best score 0.998\n",
      "\n",
      "\n",
      "91.4519579411\n"
     ]
    }
   ],
   "source": [
    "#optimize parameters of base models using LOSOCV on healthy\n",
    "from sklearn.metrics import make_scorer\n",
    "auc_scorer = make_scorer(roc_auc_score,needs_threshold=True)\n",
    "start_time = time.time()\n",
    "best_estimator = []\n",
    "\n",
    "groups = groupsH\n",
    "X = XH; y = yH\n",
    "\n",
    "for model in models:\n",
    "    clf = GridSearchCV(model[0],model[1],cv=subj.split(X, y, groups),n_jobs=-1,scoring=auc_scorer)\n",
    "    clf.fit(X,y)\n",
    "    best_params = clf.best_params_\n",
    "    best_estimator.append(clf.best_estimator_)\n",
    "    means = clf.cv_results_['mean_test_score']\n",
    "    print(\"Best parameters for \", model[2], \" : \", best_params)\n",
    "    print('Best score %.3f'%(clf.best_score_))\n",
    "    print('\\n')\n",
    "\n",
    "end_time = time.time()\n",
    "print(end_time-start_time)"
   ]
  },
  {
   "cell_type": "code",
   "execution_count": 56,
   "metadata": {
    "collapsed": true
   },
   "outputs": [],
   "source": [
    "#2nd round of optimization\n",
    "models = [[ RandomForestClassifier(random_state=2), {'n_estimators': [100,150]}, \"Random Forest\"]]\n",
    "\n",
    "models.append([GradientBoostingClassifier(random_state=2), {'n_estimators':[100,150,200], 'max_depth':[2,3]}, \"GradientBoost\" ])\n",
    "\n",
    "models.append([SVC(kernel='linear',cache_size=800,random_state=3,probability=True), {'C':[1,2,10]}, \"SVM\" ])\n",
    "\n",
    "models.append([XGBClassifier(subsample=0.6), {'max_depth':[2,3], 'n_estimators':[150,200,250], 'learning_rate':[0.1,0.5]},\n",
    "              'XGB'])"
   ]
  },
  {
   "cell_type": "code",
   "execution_count": 57,
   "metadata": {
    "collapsed": false
   },
   "outputs": [
    {
     "name": "stdout",
     "output_type": "stream",
     "text": [
      "('Best parameters for ', 'Random Forest', ' : ', {'n_estimators': 150})\n",
      "Best score 0.995\n",
      "\n",
      "\n",
      "('Best parameters for ', 'GradientBoost', ' : ', {'n_estimators': 200, 'max_depth': 2})\n",
      "Best score 0.996\n",
      "\n",
      "\n",
      "('Best parameters for ', 'SVM', ' : ', {'C': 10})\n",
      "Best score 0.998\n",
      "\n",
      "\n",
      "('Best parameters for ', 'XGB', ' : ', {'n_estimators': 250, 'learning_rate': 0.1, 'max_depth': 2})\n",
      "Best score 0.998\n",
      "\n",
      "\n",
      "123.893903017\n"
     ]
    }
   ],
   "source": [
    "#optimize parameters of base models using LOSOCV on healthy\n",
    "from sklearn.metrics import make_scorer\n",
    "auc_scorer = make_scorer(roc_auc_score,needs_threshold=True)\n",
    "start_time = time.time()\n",
    "best_estimator = []\n",
    "\n",
    "groups = groupsH\n",
    "X = XH; y = yH\n",
    "\n",
    "for model in models:\n",
    "    clf = GridSearchCV(model[0],model[1],cv=subj.split(X, y, groups),n_jobs=-1,scoring=auc_scorer)\n",
    "    clf.fit(X,y)\n",
    "    best_params = clf.best_params_\n",
    "    best_estimator.append(clf.best_estimator_)\n",
    "    means = clf.cv_results_['mean_test_score']\n",
    "    print(\"Best parameters for \", model[2], \" : \", best_params)\n",
    "    print('Best score %.3f'%(clf.best_score_))\n",
    "    print('\\n')\n",
    "\n",
    "end_time = time.time()\n",
    "print(end_time-start_time)"
   ]
  },
  {
   "cell_type": "code",
   "execution_count": 19,
   "metadata": {
    "collapsed": false
   },
   "outputs": [],
   "source": [
    "models = [RandomForestClassifier(n_estimators=100,random_state=2),\n",
    "          GradientBoostingClassifier(n_estimators=100,max_depth=2,random_state=3),\n",
    "          SVC(kernel='linear',C=10,cache_size=800,probability=True,random_state=3),\n",
    "          XGBClassifier(n_estimators=150,subsample=0.6,learning_rate=0.5,max_depth=2)\n",
    "         ]\n",
    "model_name = ['Random Forest','Gradient Boosting','SVM','XGB']"
   ]
  },
  {
   "cell_type": "code",
   "execution_count": 34,
   "metadata": {
    "collapsed": true
   },
   "outputs": [],
   "source": [
    "#fit base-level and meta-level classifier on healthy and test on amputees\n",
    "def fit_stacking(X_train,y_train,groups): \n",
    "    \n",
    "    base_classifiers = [];     meta_classifier = []\n",
    "\n",
    "    Xtrain_meta = np.zeros((len(y_train),len(models))) #stores the meta-level classifier features (posterior of each base-level classifier)\n",
    "    ytrain_meta = np.array([]) #stores the labels to train meta-classifier\n",
    "    i = 0 #counter for current classifier trained\n",
    "\n",
    "    #CV to train base level clf and obtain train features for meta-level\n",
    "    for clf,name in zip(models,model_name):\n",
    "\n",
    "        print(name)\n",
    "        yscoreCV = np.array([])  #stores the posterior prob of each base-level clf\n",
    "\n",
    "        #CV to obtain posteriors from each clf (meta-features)\n",
    "        for train, test in subj.split(X_train, y_train, groups):\n",
    "            clf.fit(X_train[train,:],y_train[train])\n",
    "            yscore = clf.predict_proba(X_train[test,:]) \n",
    "            yscore = yscore[:,1]\n",
    "            yscoreCV = np.append(yscoreCV,yscore) #concatenate scores for each fold\n",
    "            if i == 0:\n",
    "                #store labels to train metaclassifier ()\n",
    "                ytrain_meta = np.append(ytrain_meta,y_train[test])\n",
    "\n",
    "        Xtrain_meta[:,i] = yscoreCV #store the posterior of current clf\n",
    "        i +=1\n",
    "\n",
    "        #Train base level classifiers on all training data    \n",
    "        clf.fit(X_train,y_train)\n",
    "        base_classifiers.append(clf)\n",
    "        \n",
    "    print('base-level classifiers trained')\n",
    "    print(Xtrain_meta.shape)\n",
    "    print(ytrain_meta.shape)\n",
    "        \n",
    "    #add extra meta-features \n",
    "    metastd = np.std(Xtrain_meta,axis=1)\n",
    "    metastd = np.expand_dims(metastd,axis=0)\n",
    "    Xtrain_meta = np.concatenate((Xtrain_meta,metastd.T),axis=1)\n",
    "    \n",
    "    #train meta-level classifier on posteriors (this needs another CV to optimize parameters)\n",
    "#     meta_scaler = preprocessing.StandardScaler().fit(Xtrain_meta)\n",
    "#     Xtrain_meta = meta_scaler.transform(Xtrain_meta)\n",
    "    print('training meta-classifier')\n",
    "    metaclf = LogisticRegression()\n",
    "    metaclf.fit(Xtrain_meta,ytrain_meta)\n",
    "    ypred_meta = metaclf.predict_proba(Xtrain_meta)\n",
    "    print(Xtrain_meta, ytrain_meta)\n",
    "#     ind = np.where(np.array(ypred_meta) != np.array(ytrain_meta))\n",
    "#     print Xtrain_meta[:10,:]\n",
    "#     plt.figure(figsize=(12,8))\n",
    "#     sns.heatmap(Xtrain_meta[ind,:])\n",
    "\n",
    "    meta_classifier.append(metaclf)\n",
    "    print('meta-classifier trained')\n",
    "\n",
    "    return(base_classifiers, meta_classifier, meta_scaler)"
   ]
  },
  {
   "cell_type": "code",
   "execution_count": 35,
   "metadata": {
    "collapsed": false
   },
   "outputs": [
    {
     "name": "stdout",
     "output_type": "stream",
     "text": [
      "Random Forest\n",
      "Gradient Boosting\n",
      "SVM\n",
      "XGB\n",
      "base-level classifiers trained\n",
      "(3669, 4)\n",
      "(3669,)\n",
      "training meta-classifier\n",
      "[[  1.00000000e+00   9.99135404e-01   1.00000000e+00   9.99996543e-01\n",
      "    3.73884494e-04]\n",
      " [  1.00000000e+00   9.99135404e-01   1.00000000e+00   9.99998212e-01\n",
      "    3.74123496e-04]\n",
      " [  1.00000000e+00   9.99135404e-01   1.00000000e+00   9.99995232e-01\n",
      "    3.73697690e-04]\n",
      " ..., \n",
      " [  1.00000000e-02   8.15135094e-04   2.86100667e-05   6.22246580e-06\n",
      "    4.22003712e-03]\n",
      " [  2.00000000e-02   4.75042756e-04   2.69408266e-07   1.00092052e-06\n",
      "    8.59368689e-03]\n",
      " [  1.80000000e-01   1.14847555e-02   1.34572535e-02   2.99316860e-04\n",
      "    7.44682590e-02]] [ 1.  1.  1. ...,  0.  0.  0.]\n",
      "meta-classifier trained\n"
     ]
    }
   ],
   "source": [
    "base_classifiers, meta_classifier, meta_scaler = fit_stacking(XH,yH,groupsH)\n",
    "meta_classifier = meta_classifier[0]"
   ]
  },
  {
   "cell_type": "code",
   "execution_count": 36,
   "metadata": {
    "collapsed": false
   },
   "outputs": [],
   "source": [
    "def predict_stacking_bysubj(X,y,groups):\n",
    "\n",
    "    \n",
    "    AUC_meta = []; AUC = []; Sens_meta = []; Sens = []; Spec_meta = []; Spec = []\n",
    "    \n",
    "    for train, test in subj.split(X, y, groups):\n",
    "        \n",
    "        X_test = X[test,:]; y_test = y[test]\n",
    "        Xtest_meta = np.zeros((len(y_test),len(models))) #stores the base clf predictions for current subj\n",
    "        auc_base = np.empty( (len(models),1) ) #store auc for each base classifier\n",
    "        Sens_base = np.empty( (len(models),1) )\n",
    "        Spec_base = np.empty( (len(models),1) )\n",
    "        i = 0 #clf index\n",
    "\n",
    "        #1. base-classifiers predictions\n",
    "        for clf,name in zip(base_classifiers,model_name):\n",
    "            Xtest_meta[:,i] = clf.predict_proba(X_test)[:,1]\n",
    "            fpr, tpr, thresholds = metrics.roc_curve(y_test, Xtest_meta[:,i], pos_label=1)\n",
    "            ind = np.argmax(tpr-fpr,axis=0)\n",
    "            Sens_base[i] = tpr[ind]; Spec_base[i] = 1-fpr[ind]\n",
    "            auc_base[i] = auc(fpr, tpr)\n",
    "            i+=1\n",
    "        print('best base-clf %s, auc = %.3f, worst base-clf %s, minauc = %.3f' % (model_name[np.argmax(auc_base)],\n",
    "                                                                           np.max(auc_base),\n",
    "                                                                           model_name[np.argmin(auc_base)],\n",
    "                                                                           np.min(auc_base)))\n",
    "        \n",
    "        #add extra meta features\n",
    "        metastd = np.std(Xtest_meta,axis=1)\n",
    "        metastd = np.expand_dims(metastd,axis=0)\n",
    "        Xtest_meta = np.concatenate((Xtest_meta,metastd.T),axis=1)\n",
    "#         Xtest_meta = np.concatenate((Xtest_meta,X_test),axis=1) #add input features\n",
    "\n",
    "        #2. meta-level clf predictions (final prediction)\n",
    "#         Xtest_meta = meta_scaler.transform(Xtest_meta)\n",
    "        yscore_meta = meta_classifier.predict_proba(Xtest_meta)[:,1]\n",
    "        ypred_meta = meta_classifier.predict(Xtest_meta)\n",
    "        fpr, tpr, thresholds = metrics.roc_curve(y_test, yscore_meta, pos_label=1)\n",
    "        ind = np.argmax(tpr-fpr,axis=0)\n",
    "        Sens_meta = tpr[ind]; Spec_meta = 1-fpr[ind]\n",
    "        print('auc meta = %.3f\\n' % (auc(fpr, tpr)))\n",
    "        AUC_meta.append(auc(fpr, tpr))\n",
    "    \n",
    "    AUC_meta = np.asarray(AUC_meta)\n",
    "    print('mean auc meta = %.3f +/- %.3f'%(np.mean(AUC_meta),2*np.std(AUC_meta)))       \n",
    "#     results_meta = {'AUC':TAUC_all, 'TPR':Ttpr_all, 'FPR':Tfpr_all, 'Sens':TSens_all, 'Spec':TSpec_all}\n",
    "#     results = {'AUC':AUC_all, 'TPR':tpr_all, 'FPR':fpr_all, 'Sens':Sens_all, 'Spec':Spec_all}\n",
    "#     return results_T, results\n",
    "\n"
   ]
  },
  {
   "cell_type": "code",
   "execution_count": 37,
   "metadata": {
    "collapsed": false,
    "scrolled": true
   },
   "outputs": [
    {
     "name": "stdout",
     "output_type": "stream",
     "text": [
      "best base-clf XGB, auc = 0.998, worst base-clf SVM, minauc = 0.990\n",
      "auc meta = 0.997\n",
      "\n",
      "best base-clf SVM, auc = 1.000, worst base-clf Random Forest, minauc = 0.996\n",
      "auc meta = 0.998\n",
      "\n",
      "best base-clf Random Forest, auc = 1.000, worst base-clf SVM, minauc = 1.000\n",
      "auc meta = 1.000\n",
      "\n",
      "best base-clf XGB, auc = 0.992, worst base-clf Random Forest, minauc = 0.984\n",
      "auc meta = 0.985\n",
      "\n",
      "best base-clf SVM, auc = 0.993, worst base-clf Gradient Boosting, minauc = 0.973\n",
      "auc meta = 0.994\n",
      "\n",
      "best base-clf Gradient Boosting, auc = 1.000, worst base-clf Random Forest, minauc = 1.000\n",
      "auc meta = 1.000\n",
      "\n",
      "mean auc meta = 0.996 +/- 0.010\n"
     ]
    }
   ],
   "source": [
    "predict_stacking_bysubj(XA,yA,groupsA)"
   ]
  },
  {
   "cell_type": "code",
   "execution_count": null,
   "metadata": {
    "collapsed": true
   },
   "outputs": [],
   "source": [
    "#fit all classifiers on Healthy data and test on Amputees\n",
    "#prediction is given by classifier with highest score (posterior)\n",
    "def best_clf(X_train,y_train,X_test,y_test,grptst):\n",
    "    \n",
    "    for clf,name in zip(models,model_name):\n",
    "        clf.fit(X_train,y_train)\n",
    "        yscore = clf.predict_proba(X_train)\n",
    "        yscore = yscore[:,1]\n",
    "        yscoreCV = np.append(yscoreCV,yscore) #concatenate scores for each fold\n",
    "            if i == 0:\n",
    "                #store labels to train metaclassifier ()\n",
    "                ytrain_meta = np.append(ytrain_meta,y_train[test])\n",
    "\n",
    "\n",
    "    "
   ]
  }
 ],
 "metadata": {
  "kernelspec": {
   "display_name": "Python 3",
   "language": "python",
   "name": "python3"
  },
  "language_info": {
   "codemirror_mode": {
    "name": "ipython",
    "version": 3
   },
   "file_extension": ".py",
   "mimetype": "text/x-python",
   "name": "python",
   "nbconvert_exporter": "python",
   "pygments_lexer": "ipython3",
   "version": "3.6.0"
  }
 },
 "nbformat": 4,
 "nbformat_minor": 0
}
